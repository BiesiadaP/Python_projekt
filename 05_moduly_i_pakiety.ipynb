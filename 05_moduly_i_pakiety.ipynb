{
  "cells": [
    {
      "cell_type": "markdown",
      "metadata": {
        "id": "view-in-github",
        "colab_type": "text"
      },
      "source": [
        "<a href=\"https://colab.research.google.com/github/chrispi21/python-dataeng/blob/main/05_moduly_i_pakiety.ipynb\" target=\"_parent\"><img src=\"https://colab.research.google.com/assets/colab-badge.svg\" alt=\"Open In Colab\"/></a>"
      ]
    },
    {
      "cell_type": "markdown",
      "source": [
        "# Moduły (ang. `modules`)\n",
        "\n",
        "Docs:\n",
        "1. https://docs.python.org/3/tutorial/modules.html\n",
        "\n",
        "Moduł to plik zawierający definicje funkcji, zmiennych, klas i innych obiektów Python"
      ],
      "metadata": {
        "id": "4r9b-lH81NFc"
      }
    },
    {
      "cell_type": "markdown",
      "source": [
        "# Pakiety (ang. `packages`)\n",
        "\n",
        "Docs:\n",
        "1. https://docs.python.org/3/tutorial/modules.html#packages\n",
        "\n",
        "Pakiety umożliwiają tworzenie hierarchicznych zależności między modułami. Tworzy się je jako katalogi zawierające plik `__init__.py`."
      ],
      "metadata": {
        "id": "ehM09Wkt1M-K"
      }
    },
    {
      "cell_type": "markdown",
      "source": [
        "\n",
        "\n",
        "\n",
        "\n",
        "# Przykład\n",
        "\n",
        "\n",
        "W tej sekcji będzie my pracować z poniższymi materiałami w dowolnym środowisku terminalowym:\n",
        "\n",
        "\n",
        "https://github.com/chrispi21/python-dataeng/tree/main/05_moduly_i_pakiety\n",
        "\n",
        "\n"
      ],
      "metadata": {
        "id": "4y7PwZb31IZC"
      }
    },
    {
      "cell_type": "markdown",
      "source": [
        "Przykład uruchomienia:\n",
        "```sh\n",
        "python 05_moduly_i_pakiety/job/main.py --input_path=\"pracownicy.csv\" --output_path=\"imiona_v7.json\"\n",
        "```"
      ],
      "metadata": {
        "id": "c4A_P2id4R92"
      }
    },
    {
      "cell_type": "markdown",
      "source": [
        "Można nasz kod uruchomić w notebooku (niezalecane):"
      ],
      "metadata": {
        "id": "NPf_Sg_o5uT5"
      }
    },
    {
      "cell_type": "code",
      "source": [
        "!cd python-dataeng/ && python 05_moduly_i_pakiety/job/main.py --input_path=\"pracownicy.csv\" --output_path=\"imiona_v7.json\"\n"
      ],
      "metadata": {
        "id": "Wdz9DGR842jO"
      },
      "execution_count": 17,
      "outputs": []
    },
    {
      "cell_type": "markdown",
      "source": [
        "# Do samodzielnego wykonania\n",
        "\n",
        "Inspirując się powyższym przykładem oraz następującymi definicjami funkcji:"
      ],
      "metadata": {
        "id": "kqJMA07j1Mp4"
      }
    },
    {
      "cell_type": "code",
      "source": [
        "import csv\n",
        "import json\n",
        "\n",
        "def extract(path):\n",
        "  with open(path, newline=\"\") as file_handler:\n",
        "    return list(csv.reader(file_handler, delimiter=\",\"))[1:]\n",
        "\n",
        "def transform(employees):\n",
        "  return {\n",
        "      e[1] for e in employees\n",
        "  }\n",
        "\n",
        "def load(names, path):\n",
        "  with open(path, mode=\"w\") as file_handler:\n",
        "    json_data = [\n",
        "        json.dumps({\"Imię\": name}) + \"\\n\" for name in names\n",
        "    ]\n",
        "    file_handler.writelines(json_data)\n",
        ""
      ],
      "metadata": {
        "id": "CdMH9X8e3uoZ"
      },
      "execution_count": null,
      "outputs": []
    },
    {
      "cell_type": "markdown",
      "source": [
        "Przeprowadź refaktoring analogiczny do przykładu powyżej, w którym kod jest podzielony na moduły i pakiety."
      ],
      "metadata": {
        "id": "VWgJ5TxJ3xJd"
      }
    },
    {
      "cell_type": "markdown",
      "source": [
        "# Publikowanie pakietów - dla chętnych\n",
        "\n",
        "Docs:\n",
        "1. https://packaging.python.org/en/latest/tutorials/packaging-projects/\n",
        "2. https://realpython.com/pypi-publish-python-package/"
      ],
      "metadata": {
        "id": "7tLjHLW36JY3"
      }
    }
  ],
  "metadata": {
    "colab": {
      "provenance": [],
      "authorship_tag": "ABX9TyPZrbOexWeHzElm7EEWOL2c",
      "include_colab_link": true
    },
    "kernelspec": {
      "display_name": "Python 3",
      "name": "python3"
    },
    "language_info": {
      "name": "python"
    }
  },
  "nbformat": 4,
  "nbformat_minor": 0
}