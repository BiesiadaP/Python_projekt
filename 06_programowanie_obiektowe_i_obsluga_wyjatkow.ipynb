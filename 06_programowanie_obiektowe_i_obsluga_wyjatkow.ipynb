{
  "cells": [
    {
      "cell_type": "markdown",
      "metadata": {
        "id": "view-in-github",
        "colab_type": "text"
      },
      "source": [
        "<a href=\"https://colab.research.google.com/github/chrispi21/python-dataeng/blob/main/06_programowanie_obiektowe_i_obsluga_wyjatkow.ipynb\" target=\"_parent\"><img src=\"https://colab.research.google.com/assets/colab-badge.svg\" alt=\"Open In Colab\"/></a>"
      ]
    },
    {
      "cell_type": "markdown",
      "source": [
        "# Programowanie obiektowe\n",
        "\n",
        "Docs:\n",
        "1. https://realpython.com/python3-object-oriented-programming/\n",
        "2. https://realpython.com/python-classes/\n",
        "\n",
        "Dla chętnych:\n",
        "1. [YT: Protocol Or ABC In Python - When to Use Which One?\n",
        "](https://www.youtube.com/watch?v=xvb5hGLoK0A)\n",
        "2. [YT: Protocols vs ABCs in Python - When to Use Which One?](https://www.youtube.com/watch?v=dryNwWvSd4M)\n",
        "3. [YT: Dependency Inversion: Write BETTER PYTHON CODE Part 2](https://www.youtube.com/watch?v=Kv5jhbSkqLE)\n",
        "4. https://realpython.com/python-getter-setter/"
      ],
      "metadata": {
        "id": "Q2YS0IkGPasQ"
      }
    },
    {
      "cell_type": "markdown",
      "source": [
        "## Co to jest klasa (`class`)? Co to jest obiekt (`object`)?\n",
        "\n",
        "Klasa jest szablonem, który opisuje jak tworzyć obiekty (nazywane również instancjami klasy). Nazwa klasa określa byt, który ma reprezentować (rzeczownik). Klasa może zawierać informacje o cechach nazywane atrybutami. Może także zawierać metody, czyli funkcje odpowiedzialne za zachowania klasy.\n",
        "\n",
        "\n"
      ],
      "metadata": {
        "id": "yeZZE59OUvJC"
      }
    },
    {
      "cell_type": "code",
      "source": [
        "# Przykład najprostszej klasy\n",
        "class NajprostszaKlasa:\n",
        "  pass"
      ],
      "metadata": {
        "id": "mj4zFzVMUlRM"
      },
      "execution_count": null,
      "outputs": []
    },
    {
      "cell_type": "code",
      "source": [
        "# instancja najprostszej klasy\n",
        "NajprostszaKlasa()"
      ],
      "metadata": {
        "id": "rnDVVi4zXQvf"
      },
      "execution_count": null,
      "outputs": []
    },
    {
      "cell_type": "markdown",
      "source": [
        "W przypadku tworzenia bardziej złożonych klas wykorzystuje się specjalną metodę `__init__` nazywaną konstruktorem. Dzięki niej możemy tworzyć instancję na podstawie przekazanych argumentów. Zmienna `self` jest instancją tworzonego obiektu - dzięki temu możemy przypisać przekazane argumenty:"
      ],
      "metadata": {
        "id": "jbVFS3eHYPFa"
      }
    },
    {
      "cell_type": "code",
      "source": [
        "class NajprostszaKlasaV2:\n",
        "  def __init__(self, parametr1, parametr2):\n",
        "    self.attr1 = parametr1\n",
        "    self.attr2 = parametr2"
      ],
      "metadata": {
        "id": "qXq6NvI8YOkj"
      },
      "execution_count": null,
      "outputs": []
    },
    {
      "cell_type": "code",
      "source": [
        "instancja_v2 = NajprostszaKlasaV2(\"arg1\", \"arg2\")"
      ],
      "metadata": {
        "id": "TNfnLsQ1Y62v"
      },
      "execution_count": null,
      "outputs": []
    },
    {
      "cell_type": "code",
      "source": [
        "instancja_v2"
      ],
      "metadata": {
        "id": "S7NCX2-yZBSp"
      },
      "execution_count": null,
      "outputs": []
    },
    {
      "cell_type": "code",
      "source": [
        "instancja_v2.attr1"
      ],
      "metadata": {
        "id": "ygx7PdGFZDUq"
      },
      "execution_count": null,
      "outputs": []
    },
    {
      "cell_type": "code",
      "source": [
        "class NajprostszaKlasaV3:\n",
        "  def __init__(self, parametr1, parametr2):\n",
        "    self.attr1 = parametr1\n",
        "    self.attr2 = parametr2\n",
        "\n",
        "  def metoda(self, parametr_metody):\n",
        "    # gdy odwołujemy się do atrybytutów, korzystamu z self\n",
        "    print(\"attr1\", self.attr1)\n",
        "    # nie robimy tego w przypadku parametrów metod\n",
        "    print(\"parametr_metody\", parametr_metody)"
      ],
      "metadata": {
        "id": "dCxi1nW8XMFI"
      },
      "execution_count": null,
      "outputs": []
    },
    {
      "cell_type": "code",
      "source": [
        "instancja = NajprostszaKlasaV3(\"arg1\", \"arg2\")\n",
        "instancja.metoda(\"Prosta metoda\")"
      ],
      "metadata": {
        "id": "0Zu_MX9CXz1A"
      },
      "execution_count": null,
      "outputs": []
    },
    {
      "cell_type": "markdown",
      "source": [
        "Domyślnie modyfikacje są dozwolone:"
      ],
      "metadata": {
        "id": "cL88_2fpcsY3"
      }
    },
    {
      "cell_type": "code",
      "source": [
        "\n",
        "instancja.attr1 = \"zmieniony arg1\""
      ],
      "metadata": {
        "id": "4BwEUcOZcnlM"
      },
      "execution_count": null,
      "outputs": []
    },
    {
      "cell_type": "code",
      "source": [
        "instancja.attr1"
      ],
      "metadata": {
        "id": "sGtBiwhhcpXB"
      },
      "execution_count": null,
      "outputs": []
    },
    {
      "cell_type": "markdown",
      "source": [
        "## Podstawy dziedziczenia\n",
        "\n",
        "Dziedziczenie polega na przekazywaniu cech klas bazowych (klasa-rodzic; `base class`, `parent class`, `superclass`) klasom pochodnym (klasa-dziecko, `derived class`, `child class`, `subclass`)."
      ],
      "metadata": {
        "id": "V1w_IGg2EDa-"
      }
    },
    {
      "cell_type": "markdown",
      "source": [
        "Do przykładu będzie potrzebny nam plik jak na ostatnich zajęciach:"
      ],
      "metadata": {
        "id": "WhGOYpcfKiSW"
      }
    },
    {
      "cell_type": "code",
      "source": [
        "!wget -O pracownicy.csv https://raw.githubusercontent.com/chrispi21/python-dataeng/refs/heads/main/pracownicy.csv"
      ],
      "metadata": {
        "id": "ze9mhUcmHplv"
      },
      "execution_count": null,
      "outputs": []
    },
    {
      "cell_type": "markdown",
      "source": [
        "Utworzymy klasę-rodzica, która służy do odczytania pliku. Nasza klasa jeszcze nie będzie potrafiła odczytywać danych."
      ],
      "metadata": {
        "id": "8BJjuJwJKqul"
      }
    },
    {
      "cell_type": "code",
      "source": [
        "from os.path import exists\n",
        "\n",
        "class FileReader:\n",
        "  def __init__(self, path):\n",
        "    self.path = path\n",
        "\n",
        "  def validate_path(self):\n",
        "    return exists(self.path)\n",
        "\n",
        "  def read(self):\n",
        "    print(\"Nie umiem czytać :( \")"
      ],
      "metadata": {
        "id": "ItybWT0iEC6i"
      },
      "execution_count": null,
      "outputs": []
    },
    {
      "cell_type": "markdown",
      "source": [
        "Zobaczmy jak to działa:"
      ],
      "metadata": {
        "id": "yn9dBRemK66y"
      }
    },
    {
      "cell_type": "code",
      "source": [
        "file_reader = FileReader(\"/content/pracownicy.csv\")"
      ],
      "metadata": {
        "id": "kDfYS1WOGHLl"
      },
      "execution_count": null,
      "outputs": []
    },
    {
      "cell_type": "code",
      "source": [
        "file_reader.validate_path()"
      ],
      "metadata": {
        "id": "xX8yPbuxHWgV"
      },
      "execution_count": null,
      "outputs": []
    },
    {
      "cell_type": "code",
      "source": [
        "file_reader.read()"
      ],
      "metadata": {
        "id": "oM6S4EHWHvaL"
      },
      "execution_count": null,
      "outputs": []
    },
    {
      "cell_type": "markdown",
      "source": [
        "Utworzymy teraz klasę dziecko. Klasa ta będzie odpowiedzialna za odczyta danych w formacie CSV:"
      ],
      "metadata": {
        "id": "7kqxEK1NK-an"
      }
    },
    {
      "cell_type": "code",
      "source": [
        "import pandas as pd\n",
        "\n",
        "class CsvReader(FileReader):\n",
        "  def read(self):\n",
        "    return pd.read_csv(self.path)"
      ],
      "metadata": {
        "id": "dEqANVeaHxyL"
      },
      "execution_count": null,
      "outputs": []
    },
    {
      "cell_type": "markdown",
      "source": [
        "Sprawdźmy jej działanie:"
      ],
      "metadata": {
        "id": "-ckDXCPSLR88"
      }
    },
    {
      "cell_type": "code",
      "source": [
        "csv_reader = CsvReader(\"/content/pracownicy.csv\")"
      ],
      "metadata": {
        "id": "Azog5FzLIBZZ"
      },
      "execution_count": null,
      "outputs": []
    },
    {
      "cell_type": "markdown",
      "source": [
        "Dziecko potrafi to samo co rodzic:"
      ],
      "metadata": {
        "id": "TAChoA_JLVTE"
      }
    },
    {
      "cell_type": "code",
      "source": [
        "csv_reader.validate_path()"
      ],
      "metadata": {
        "id": "wnsxIGx7IZVn"
      },
      "execution_count": null,
      "outputs": []
    },
    {
      "cell_type": "markdown",
      "source": [
        "Potrafi też czytać dane w formacie CSV:"
      ],
      "metadata": {
        "id": "1Z_mMWF3LZ85"
      }
    },
    {
      "cell_type": "code",
      "source": [
        "csv_reader.read()"
      ],
      "metadata": {
        "id": "OGpo_lAQIcAt"
      },
      "execution_count": null,
      "outputs": []
    },
    {
      "cell_type": "markdown",
      "source": [
        "Do następnego przykładu będą nam potrzebne dane z duplikatami. Wygenerujmy plik zawierający duplikaty:"
      ],
      "metadata": {
        "id": "rc6uqhWhLfdn"
      }
    },
    {
      "cell_type": "code",
      "source": [
        "!cat /content/pracownicy.csv >> /content/duplikaty_pracownicy.csv && tail -10 /content/pracownicy.csv >> /content/duplikaty_pracownicy.csv"
      ],
      "metadata": {
        "id": "i7K1AA1CJPEW"
      },
      "execution_count": null,
      "outputs": []
    },
    {
      "cell_type": "markdown",
      "source": [
        "Dodamy kolejną klasę-dziecko, która będzie odpowiedzialna za odczyt CSV i usuwanie duplikatów:"
      ],
      "metadata": {
        "id": "IwKLhGdyLrvc"
      }
    },
    {
      "cell_type": "code",
      "source": [
        "class DistinctCsvReader(CsvReader):\n",
        "  def read(self):\n",
        "    # możemy odwołać się do klasy-rodzica za pomocą super()\n",
        "    return super().read().drop_duplicates()"
      ],
      "metadata": {
        "id": "Ikou6O_eItRF"
      },
      "execution_count": null,
      "outputs": []
    },
    {
      "cell_type": "code",
      "source": [
        "file_reader = DistinctCsvReader(\"/content/duplikaty_pracownicy.csv\")"
      ],
      "metadata": {
        "id": "5fHIlE5fJ3ba"
      },
      "execution_count": null,
      "outputs": []
    },
    {
      "cell_type": "markdown",
      "source": [
        "Metoda zaimplementowana w `FileReader`:"
      ],
      "metadata": {
        "id": "9VrFRCL7MZ53"
      }
    },
    {
      "cell_type": "code",
      "source": [
        "file_reader.validate_path()"
      ],
      "metadata": {
        "id": "zNDXwWZuKAP4"
      },
      "execution_count": null,
      "outputs": []
    },
    {
      "cell_type": "markdown",
      "source": [
        "Nowa implementacja metody `read`:"
      ],
      "metadata": {
        "id": "k0KfNQE2MdXD"
      }
    },
    {
      "cell_type": "code",
      "source": [
        "file_reader.read()"
      ],
      "metadata": {
        "id": "hSSiIYURKC5Z"
      },
      "execution_count": null,
      "outputs": []
    },
    {
      "cell_type": "markdown",
      "source": [
        "Ćwiczenie\n",
        "\n",
        "Korzystając z klasy rodzica `FileReader` utwórz klasę potomną, która służy do odczytu danych w formacie JSON (analogicznie jak `CsvReader` z powyższego przykładu).\n",
        "\n",
        "Wersja dla chętnych:\n",
        "\n",
        "* gdzie rzucać wyjątek `NotImplementedError` w klasie `FileReader`\n",
        "* jak skorzystałbyś z klasy abstrakcyjnej do implementacji `FileReader`?"
      ],
      "metadata": {
        "id": "ycg3sbumMkGP"
      }
    },
    {
      "cell_type": "code",
      "source": [
        "# @title Rozwiązanie"
      ],
      "metadata": {
        "cellView": "form",
        "id": "d2YgS9yPNhUW"
      },
      "execution_count": null,
      "outputs": []
    },
    {
      "cell_type": "code",
      "source": [
        "# @title Podpowiedź\n",
        "\n",
        "import pandas as pd\n",
        "\n",
        "class JsonReader(FileReader):\n",
        "  def read(self):\n",
        "    return pd.read_json(self.path, orient=\"records\", lines=True)\n",
        "\n",
        "# Przykładowe dane:\n",
        "# dane_csv = pd.read_csv(\"/content/pracownicy.csv\")\n",
        "# dane_csv.to_json(\"/content/pracownicy.json\", orient=\"records\", lines=True)\n",
        "\n",
        "JsonReader(\"/content/pracownicy.json\").read()"
      ],
      "metadata": {
        "cellView": "form",
        "id": "kEXdoX_8NlrI"
      },
      "execution_count": null,
      "outputs": []
    },
    {
      "cell_type": "markdown",
      "source": [
        "# Obsługa wyjątków\n",
        "\n",
        "Mechanizm obsługi wyjątków:\n",
        "* chroni przed awariami programów\n",
        "* pozwala na debugowanie i logowanie błędów\n",
        "* umożliwia kontrolę nad wykonywamiem aplikacji w przypadku błędów\n",
        "\n",
        "Docs:\n",
        "1. https://docs.python.org/3.13/tutorial/errors.html"
      ],
      "metadata": {
        "id": "9gT8F0KuDvbI"
      }
    },
    {
      "cell_type": "markdown",
      "source": [
        "## Podstawowa składnia\n",
        "\n",
        "Przeanalizujmy poniższe przykłady:"
      ],
      "metadata": {
        "id": "vCGaTwVODvbJ"
      }
    },
    {
      "cell_type": "code",
      "source": [
        "try: # Kod, który chcemy wykonać w bezpieczny sposób\n",
        "    dzielnik = int(input(\"Podaj dzielnik: \"))\n",
        "    wynik = 10 / dzielnik  # Jeśli dzielnik == 0, to ZeroDivisionError\n",
        "except ValueError: # Kod wykonywany, gdy nastąpi ValueError\n",
        "    print(\"Podaj liczbę!\")\n",
        "except ZeroDivisionError: # Kod wykonywany, gdy nastąpi ZeroDivisionError\n",
        "    print(\"Nie można dzielić przez 0\")\n",
        "else:\n",
        "    print(f\"Wynik: {wynik}\") # Tylko gdy nie ma błędu\n",
        "finally:\n",
        "    print(\"Koniec.\")  # Zawsze\n"
      ],
      "metadata": {
        "id": "Eyc0JmW2DvbJ"
      },
      "execution_count": null,
      "outputs": []
    },
    {
      "cell_type": "markdown",
      "source": [
        "Obsługa wielu wyjątków jednocześnie:"
      ],
      "metadata": {
        "id": "NQMLV6J1DvbK"
      }
    },
    {
      "cell_type": "code",
      "source": [
        "try:\n",
        "    dzielnik = int(input(\"Podaj dzielnik: \"))\n",
        "    wynik = 10 / dzielnik\n",
        "except (ValueError, ZeroDivisionError) as e: # Możemy obsłużyć wiele wyjątków jednocześnie\n",
        "    print(f\"Wyjątek: {e}. Podaj liczbę różną od 0!\")\n",
        "else:\n",
        "    print(f\"Wynik: {wynik}\")\n",
        "finally:\n",
        "    print(\"Koniec.\")"
      ],
      "metadata": {
        "id": "BhwADbzlDvbK"
      },
      "execution_count": null,
      "outputs": []
    },
    {
      "cell_type": "markdown",
      "source": [
        "Rzucanie wyjątków:"
      ],
      "metadata": {
        "id": "_vxGYN01DvbK"
      }
    },
    {
      "cell_type": "code",
      "source": [
        "wiek = int(input(\"Tylko dla pełnoletnich! Ile masz lat? \"))\n",
        "if wiek < 18:\n",
        "  raise ValueError(\"Brak dostępu!\") #\n",
        "print(\"Zapraszamy!\")"
      ],
      "metadata": {
        "id": "8EySpxSpDvbK"
      },
      "execution_count": null,
      "outputs": []
    },
    {
      "cell_type": "markdown",
      "source": [
        "Własne klasy wyjątków:"
      ],
      "metadata": {
        "id": "sSerGnT-DvbK"
      }
    },
    {
      "cell_type": "code",
      "source": [
        "class AgeRestrictedContentException(Exception):\n",
        "  pass\n",
        "\n",
        "wiek = int(input(\"Tylko dla pełnoletnich! Ile masz lat? \"))\n",
        "if wiek < 18:\n",
        "  raise AgeRestrictedContentException(\"Brak dostępu!\")\n",
        "print(\"Zapraszamy!\")"
      ],
      "metadata": {
        "id": "DWVxxEdEDvbK"
      },
      "execution_count": null,
      "outputs": []
    },
    {
      "cell_type": "markdown",
      "source": [
        "Dla chętnych - bardziej zwięzły sposób:"
      ],
      "metadata": {
        "id": "j2-BD8OsDvbL"
      }
    },
    {
      "cell_type": "code",
      "source": [
        "from contextlib import suppress\n",
        "\n",
        "with suppress(ZeroDivisionError):\n",
        "  print(\"Dzielę przez 0!\")\n",
        "  1/0\n",
        "  print(\"Wiem, że to się nie uda :(\")\n",
        "\n",
        "print(\"Koniec!\")"
      ],
      "metadata": {
        "id": "uY8eo91hDvbL"
      },
      "execution_count": null,
      "outputs": []
    },
    {
      "cell_type": "markdown",
      "source": [
        "## Ćwiczenie\n",
        "\n",
        "### Etap I - refaktoring\n",
        "\n",
        "*zadanie będzie traktowane tak samo jak aktywność*\n",
        "\n",
        "Zrób refactoring poniższego kodu:\n",
        "\n",
        "```python\n",
        "import pandas as pd\n",
        "\n",
        "def extract(path):\n",
        "  return pd.read_csv(path)\n",
        "\n",
        "def transform(df):\n",
        "  return df[[\"Imię\"]].drop_duplicates()\n",
        "\n",
        "def load(df, path):\n",
        "  return df.to_json(path, orient=\"records\", index=False, lines=True)\n",
        "\n",
        "\n",
        "def job(input_path, output_path):\n",
        "  source_data = extract(input_path)\n",
        "  transformed_data = transform(source_data)\n",
        "  load(transformed_data, output_path)\n",
        "```\n",
        "\n",
        "1. Utwórz klasę `CsvExtractor` z metodą `extract`. Parametry metody `extract`: `path`.\n",
        "2. Utwórz klasę `Deduplicator` z metodą `transform`. Konstruktor klasy przyjmuje listę pól na bazie, których odbywa się deduplikacja. `transform` nie posiada parametrów.\n",
        "3. Utwórz klasę `JsonLoader` z metodą `load`. Konstruktor przyjmuje parametry: `orient`, `index`, `lines`. Metoda `load` przyjmuje `path`.\n",
        "4. Utwórz klasę `Job`. Parametry konstruktora: `input_path`, `output_path` oraz obiekty typu: `CsvExtractor`, `Deduplicator`, `JsonLoader`. Metoda `run` nie posiada parametrów, ale odpowiada za uruchomienie job'a.\n",
        "5. Utwórz plik `main.py`, który tworzy instancję `Job` i uruchamia metodę `run`.\n",
        "\n",
        "Dobrze korzystać z modułów i pakietów.\n",
        "\n",
        "Rozwiązanie najlepiej umieścić na Github albo w ramach usługi uczelnianej.\n",
        "\n",
        "Linki do rozwiązań proszę wysłać mi na priv na MS Teams. Najlepiej jak będą to Pull Request'y z feature branch'a do branch'a main/master - ułatwi to ew. komentowanie.\n",
        "\n",
        "*pozostała część dla chętnych*\n",
        "\n",
        "### Etap II - zmiana wymagań 1\n",
        "1. Dodaj klasę `ParquetLoader`, która zapisuje dane w formacie parquet.\n",
        "2. Utwórz plik `main_parquet.py`, który tworzy instancję `Job` i uruchamia metodę `run`.\n",
        "\n",
        "Jak pracuje się Tobie z modularnym kodem?\n",
        "\n",
        "### Etap III - zmiana wymagań 2\n",
        "Tym razem potrzebny nam jest nowe przetwarzanie, które zlicza pracowników w poszczególnych departamentach. Postaram się wykorzystać klasy `CsvExtractor`, `ParquetLoader`, `Job`. Utwórz plik  `main_departments.py`.\n",
        "\n",
        "Jak pracuje się Tobie z modularnym kodem?\n",
        "\n",
        "### Etap IV\n",
        "\n",
        "Spróbuj skorzystać z `typing`: https://realpython.com/python-type-checking/\n",
        "\n",
        "### Etap V\n",
        "W zasobach dot. tych zajęć znajdują się filmy dot. klas abstrakcyjnych, protokołów i `dependency inversion`. Zaproponuj hierarchę klas / protokoły (w zależności co wybierzesz), które najlepiej pasowałyby do naszego przypadku.\n",
        "\n",
        "### Etap VI\n",
        "Za pomocą jednego z frameworków do testów:\n",
        "1. https://docs.pytest.org/en/stable/\n",
        "2. https://docs.python.org/3/library/unittest.html\n",
        "\n",
        "Stwórz klasę testową, która zawsze zwraca te wiersze nie odczytując ich z pliku. Wiersze do zwrócenia są argumentami konstruktora. Parametr `path` metody `extract` nie ma wpływu na zwrócony wynik. Utwórz przypadek testowy, który obejmuje:\n",
        "1. Utworzenie instancji nowej klasy\n",
        "2. Utworzenie instancji klasy `Job` bazując na nowej klasie\n",
        "3. Sprawdzeniu, czy dla danych testowych zwracane są dane zgodnie z oczekiwanymi\n",
        "\n",
        "Zakaz korzystania z mock'ów.\n"
      ],
      "metadata": {
        "id": "TAMQbLTjc-UZ"
      }
    }
  ],
  "metadata": {
    "colab": {
      "provenance": [],
      "authorship_tag": "ABX9TyMRyGNDiA3j0jon/+EyzNDW",
      "include_colab_link": true
    },
    "kernelspec": {
      "display_name": "Python 3",
      "name": "python3"
    },
    "language_info": {
      "name": "python"
    }
  },
  "nbformat": 4,
  "nbformat_minor": 0
}