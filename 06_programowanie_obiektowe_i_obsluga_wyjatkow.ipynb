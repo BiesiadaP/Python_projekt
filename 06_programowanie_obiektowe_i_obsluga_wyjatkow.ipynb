{
  "cells": [
    {
      "cell_type": "markdown",
      "metadata": {
        "id": "view-in-github",
        "colab_type": "text"
      },
      "source": [
        "<a href=\"https://colab.research.google.com/github/chrispi21/python-dataeng/blob/main/06_programowanie_obiektowe_i_obsluga_wyjatkow.ipynb\" target=\"_parent\"><img src=\"https://colab.research.google.com/assets/colab-badge.svg\" alt=\"Open In Colab\"/></a>"
      ]
    },
    {
      "cell_type": "markdown",
      "source": [
        "# Programowanie obiektowe\n",
        "\n",
        "Docs:\n",
        "1. https://realpython.com/python3-object-oriented-programming/\n",
        "2. https://realpython.com/python-classes/\n",
        "\n",
        "Dla chętnych:\n",
        "1. [YT: Protocol Or ABC In Python - When to Use Which One?\n",
        "](https://www.youtube.com/watch?v=xvb5hGLoK0A)\n",
        "2. [YT: Protocols vs ABCs in Python - When to Use Which One?](https://www.youtube.com/watch?v=dryNwWvSd4M)\n",
        "3. [YT: Dependency Inversion: Write BETTER PYTHON CODE Part 2](https://www.youtube.com/watch?v=Kv5jhbSkqLE)\n",
        "4. https://realpython.com/python-getter-setter/"
      ],
      "metadata": {
        "id": "Q2YS0IkGPasQ"
      }
    },
    {
      "cell_type": "markdown",
      "source": [
        "## Co to jest klasa (`class`)? Co to jest obiekt (`object`)?\n",
        "\n",
        "Klasa jest szablonem, który opisuje jak tworzyć obiekty (nazywane również instancjami klasy). Nazwa klasa określa byt, który ma reprezentować (rzeczownik). Klasa może zawierać informacje o cechach nazywane atrybutami. Może także zawierać metody, czyli funkcje odpowiedzialne za zachowania klasy.\n",
        "\n",
        "\n"
      ],
      "metadata": {
        "id": "yeZZE59OUvJC"
      }
    },
    {
      "cell_type": "code",
      "source": [
        "# Przykład najprostszej klasy\n",
        "class NajprostszaKlasa:\n",
        "  pass"
      ],
      "metadata": {
        "id": "mj4zFzVMUlRM"
      },
      "execution_count": null,
      "outputs": []
    },
    {
      "cell_type": "code",
      "source": [
        "# instancja najprostszej klasy\n",
        "NajprostszaKlasa()"
      ],
      "metadata": {
        "id": "rnDVVi4zXQvf"
      },
      "execution_count": null,
      "outputs": []
    },
    {
      "cell_type": "markdown",
      "source": [
        "W przypadku tworzenia bardziej złożonych klas wykorzystuje się specjalną metodę `__init__` nazywaną konstruktorem. Dzięki niej możemy tworzyć instancję na podstawie przekazanych argumentów. Zmienna `self` jest instancją tworzonego obiektu - dzięki temu możemy przypisać przekazane argumenty:"
      ],
      "metadata": {
        "id": "jbVFS3eHYPFa"
      }
    },
    {
      "cell_type": "code",
      "source": [
        "class NajprostszaKlasaV2:\n",
        "  def __init__(self, parametr1, parametr2):\n",
        "    self.attr1 = parametr1\n",
        "    self.attr2 = parametr2"
      ],
      "metadata": {
        "id": "qXq6NvI8YOkj"
      },
      "execution_count": null,
      "outputs": []
    },
    {
      "cell_type": "code",
      "source": [
        "instancja_v2 = NajprostszaKlasaV2(\"arg1\", \"arg2\")"
      ],
      "metadata": {
        "id": "TNfnLsQ1Y62v"
      },
      "execution_count": null,
      "outputs": []
    },
    {
      "cell_type": "code",
      "source": [
        "instancja_v2"
      ],
      "metadata": {
        "id": "S7NCX2-yZBSp"
      },
      "execution_count": null,
      "outputs": []
    },
    {
      "cell_type": "code",
      "source": [
        "instancja_v2.attr1"
      ],
      "metadata": {
        "id": "ygx7PdGFZDUq"
      },
      "execution_count": null,
      "outputs": []
    },
    {
      "cell_type": "code",
      "source": [
        "class NajprostszaKlasaV3:\n",
        "  def __init__(self, parametr1, parametr2):\n",
        "    self.attr1 = parametr1\n",
        "    self.attr2 = parametr2\n",
        "\n",
        "  def metoda(self, parametr_metody):\n",
        "    # gdy odwołujemy się do atrybytutów, korzystamu z self\n",
        "    print(\"attr1\", self.attr1)\n",
        "    # nie robimy tego w przypadku parametrów metod\n",
        "    print(\"parametr_metody\", parametr_metody)"
      ],
      "metadata": {
        "id": "dCxi1nW8XMFI"
      },
      "execution_count": null,
      "outputs": []
    },
    {
      "cell_type": "code",
      "source": [
        "instancja = NajprostszaKlasaV3(\"arg1\", \"arg2\")\n",
        "instancja.metoda(\"Prosta metoda\")"
      ],
      "metadata": {
        "id": "0Zu_MX9CXz1A"
      },
      "execution_count": null,
      "outputs": []
    },
    {
      "cell_type": "markdown",
      "source": [
        "Domyślnie modyfikacje są dozwolone:"
      ],
      "metadata": {
        "id": "cL88_2fpcsY3"
      }
    },
    {
      "cell_type": "code",
      "source": [
        "\n",
        "instancja.attr1 = \"zmieniony arg1\""
      ],
      "metadata": {
        "id": "4BwEUcOZcnlM"
      },
      "execution_count": null,
      "outputs": []
    },
    {
      "cell_type": "code",
      "source": [
        "instancja.attr1"
      ],
      "metadata": {
        "id": "sGtBiwhhcpXB"
      },
      "execution_count": null,
      "outputs": []
    },
    {
      "cell_type": "markdown",
      "source": [
        "## Ćwiczenie\n",
        "\n",
        "### Etap I - refaktoring\n",
        "\n",
        "*zadanie będzie traktowane tak samo jak aktywność*\n",
        "\n",
        "Zrób refactoring poniższego kodu:\n",
        "\n",
        "```python\n",
        "import pandas as pd\n",
        "\n",
        "def extract(path):\n",
        "  return pd.read_csv(path)\n",
        "\n",
        "def transform(df):\n",
        "  return df[[\"Imię\"]].drop_duplicates()\n",
        "\n",
        "def load(df, path):\n",
        "  return df.to_json(path, orient=\"records\", index=False, lines=True)\n",
        "\n",
        "\n",
        "def job(input_path, output_path):\n",
        "  source_data = extract(input_path)\n",
        "  transformed_data = transform(source_data)\n",
        "  load(transformed_data, output_path)\n",
        "```\n",
        "\n",
        "1. Utwórz klasę `CsvExtractor` z metodą `extract`. Parametry metody `extract`: `path`.\n",
        "2. Utwórz klasę `Deduplicator` z metodą `transform`. Konstruktor klasy przyjmuje listę pól na bazie, których odbywa się deduplikacja. `transform` nie posiada parametrów.\n",
        "3. Utwórz klasę `JsonLoader` z metodą `load`. Konstruktor przyjmuje parametry: `orient`, `index`, `lines`. Metoda `load` przyjmuje `path`.\n",
        "4. Utwórz klasę `Job`. Parametry konstruktora: `input_path`, `output_path` oraz obiekty typu: `CsvExtractor`, `Deduplicator`, `JsonLoader`. Metoda `run` nie posiada parametrów, ale odpowiada za uruchomienie job'a.\n",
        "5. Utwórz plik `main.py`, który tworzy instancję `Job` i uruchamia metodę `run`.\n",
        "\n",
        "Dobrze korzystać z modułów i pakietów.\n",
        "\n",
        "Rozwiązanie najlepiej umieścić na Github albo w ramach usługi uczelnianej.\n",
        "\n",
        "Linki do rozwiązań proszę wysłać mi na priv na MS Teams. Najlepiej jak będą to Pull Request'y z feature branch'a do branch'a main/master - ułatwi to ew. komentowanie.\n",
        "\n",
        "*pozostała część dla chętnych*\n",
        "\n",
        "### Etap II - zmiana wymagań 1\n",
        "1. Dodaj klasę `ParquetLoader`, która zapisuje dane w formacie parquet.\n",
        "2. Utwórz plik `main_parquet.py`, który tworzy instancję `Job` i uruchamia metodę `run`.\n",
        "\n",
        "Jak pracuje się Tobie z modularnym kodem?\n",
        "\n",
        "### Etap III - zmiana wymagań 2\n",
        "Tym razem potrzebny nam jest nowe przetwarzanie, które zlicza pracowników w poszczególnych departamentach. Postaram się wykorzystać klasy `CsvExtractor`, `ParquetLoader`, `Job`. Utwórz plik  `main_departments.py`.\n",
        "\n",
        "Jak pracuje się Tobie z modularnym kodem?\n",
        "\n",
        "### Etap IV\n",
        "\n",
        "Spróbuj skorzystać z `typing`: https://realpython.com/python-type-checking/\n",
        "\n",
        "### Etap V\n",
        "W zasobach dot. tych zajęć znajdują się filmy dot. klas abstrakcyjnych, protokołów i `dependency inversion`. Zaproponuj hierarchę klas / protokoły (w zależności co wybierzesz), które najlepiej pasowałyby do naszego przypadku.\n",
        "\n",
        "### Etap VI\n",
        "Za pomocą jednego z frameworków do testów:\n",
        "1. https://docs.pytest.org/en/stable/\n",
        "2. https://docs.python.org/3/library/unittest.html\n",
        "\n",
        "Stwórz klasę testową, która zawsze zwraca te wiersze nie odczytując ich z pliku. Wiersze do zwrócenia są argumentami konstruktora. Parametr `path` metody `extract` nie ma wpływu na zwrócony wynik. Utwórz przypadek testowy, który obejmuje:\n",
        "1. Utworzenie instancji nowej klasy\n",
        "2. Utworzenie instancji klasy `Job` bazując na nowej klasie\n",
        "3. Sprawdzeniu, czy dla danych testowych zwracane są dane zgodnie z oczekiwanymi\n",
        "\n",
        "Zakaz korzystania z mock'ów.\n"
      ],
      "metadata": {
        "id": "TAMQbLTjc-UZ"
      }
    },
    {
      "cell_type": "markdown",
      "source": [
        "# Obsługa wyjątków\n",
        "\n",
        "Mechanizm obsługi wyjątków:\n",
        "* chroni przed awariami programów\n",
        "* pozwala na debugowanie i logowanie błędów\n",
        "* umożliwia kontrolę nad wykonywamiem aplikacji w przypadku błędów\n",
        "\n",
        "Docs:\n",
        "1. https://docs.python.org/3.13/tutorial/errors.html"
      ],
      "metadata": {
        "id": "SlQcs9NoQuT7"
      }
    },
    {
      "cell_type": "markdown",
      "source": [
        "## Podstawowa składnia\n",
        "\n",
        "Przeanalizujmy poniższe przykłady:"
      ],
      "metadata": {
        "id": "8m2DLe1TZPK-"
      }
    },
    {
      "cell_type": "code",
      "source": [
        "try: # Kod, który chcemy wykonać w bezpieczny sposób\n",
        "    dzielnik = int(input(\"Podaj dzielnik: \"))\n",
        "    wynik = 10 / dzielnik  # Jeśli dzielnik == 0, to ZeroDivisionError\n",
        "except ValueError: # Kod wykonywany, gdy nastąpi ValueError\n",
        "    print(\"Podaj liczbę!\")\n",
        "except ZeroDivisionError: # Kod wykonywany, gdy nastąpi ZeroDivisionError\n",
        "    print(\"Nie można dzielić przez 0\")\n",
        "else:\n",
        "    print(f\"Wynik: {wynik}\") # Tylko gdy nie ma błędu\n",
        "finally:\n",
        "    print(\"Koniec.\")  # Zawsze\n"
      ],
      "metadata": {
        "id": "xZGKOUsdQt2J"
      },
      "execution_count": null,
      "outputs": []
    },
    {
      "cell_type": "markdown",
      "source": [
        "Obsługa wielu wyjątków jednocześnie:"
      ],
      "metadata": {
        "id": "Mxe0bYyxqWyT"
      }
    },
    {
      "cell_type": "code",
      "source": [
        "try:\n",
        "    dzielnik = int(input(\"Podaj dzielnik: \"))\n",
        "    wynik = 10 / dzielnik\n",
        "except (ValueError, ZeroDivisionError) as e: # Możemy obsłużyć wiele wyjątków jednocześnie\n",
        "    print(f\"Wyjątek: {e}. Podaj liczbę różną od 0!\")\n",
        "else:\n",
        "    print(f\"Wynik: {wynik}\")\n",
        "finally:\n",
        "    print(\"Koniec.\")"
      ],
      "metadata": {
        "id": "Wnv7jy1CZcaD"
      },
      "execution_count": null,
      "outputs": []
    },
    {
      "cell_type": "markdown",
      "source": [
        "Rzucanie wyjątków:"
      ],
      "metadata": {
        "id": "pC_OABaKqeuG"
      }
    },
    {
      "cell_type": "code",
      "source": [
        "wiek = int(input(\"Tylko dla pełnoletnich! Ile masz lat? \"))\n",
        "if wiek < 18:\n",
        "  raise ValueError(\"Brak dostępu!\") #\n",
        "print(\"Zapraszamy!\")"
      ],
      "metadata": {
        "id": "Pz3zySPYaaRS"
      },
      "execution_count": null,
      "outputs": []
    },
    {
      "cell_type": "markdown",
      "source": [
        "Własne klasy wyjątków:"
      ],
      "metadata": {
        "id": "IDDJZmMTq1Nb"
      }
    },
    {
      "cell_type": "code",
      "source": [
        "class AgeRestrictedContentException(Exception):\n",
        "  pass\n",
        "\n",
        "wiek = int(input(\"Tylko dla pełnoletnich! Ile masz lat? \"))\n",
        "if wiek < 18:\n",
        "  raise AgeRestrictedContentException(\"Brak dostępu!\")\n",
        "print(\"Zapraszamy!\")"
      ],
      "metadata": {
        "id": "f2nCpZ33pLUV"
      },
      "execution_count": null,
      "outputs": []
    },
    {
      "cell_type": "markdown",
      "source": [
        "Dla chętnych - bardziej zwięzły sposób:"
      ],
      "metadata": {
        "id": "EjKl-foPrBes"
      }
    },
    {
      "cell_type": "code",
      "source": [
        "from contextlib import suppress\n",
        "\n",
        "with suppress(ZeroDivisionError):\n",
        "  print(\"Dzielę przez 0!\")\n",
        "  1/0\n",
        "  print(\"Wiem, że to się nie uda :(\")\n",
        "\n",
        "print(\"Koniec!\")"
      ],
      "metadata": {
        "id": "XCMR6qAwpppr"
      },
      "execution_count": null,
      "outputs": []
    }
  ],
  "metadata": {
    "colab": {
      "provenance": [],
      "authorship_tag": "ABX9TyP/CQA5hNDROsFTvymqZddI",
      "include_colab_link": true
    },
    "kernelspec": {
      "display_name": "Python 3",
      "name": "python3"
    },
    "language_info": {
      "name": "python"
    }
  },
  "nbformat": 4,
  "nbformat_minor": 0
}