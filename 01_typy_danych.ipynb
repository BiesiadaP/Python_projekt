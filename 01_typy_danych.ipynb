{
  "nbformat": 4,
  "nbformat_minor": 0,
  "metadata": {
    "colab": {
      "provenance": [],
      "authorship_tag": "ABX9TyNsAaxQZl82p4UNG2lfdFx0",
      "include_colab_link": true
    },
    "kernelspec": {
      "name": "python3",
      "display_name": "Python 3"
    },
    "language_info": {
      "name": "python"
    }
  },
  "cells": [
    {
      "cell_type": "markdown",
      "metadata": {
        "id": "view-in-github",
        "colab_type": "text"
      },
      "source": [
        "<a href=\"https://colab.research.google.com/github/chrispi21/python-dataeng/blob/main/01_typy_danych.ipynb\" target=\"_parent\"><img src=\"https://colab.research.google.com/assets/colab-badge.svg\" alt=\"Open In Colab\"/></a>"
      ]
    },
    {
      "cell_type": "markdown",
      "source": [
        "# Deklarowanie zmiennych - przypomnienie"
      ],
      "metadata": {
        "id": "paMoTr5qEqf6"
      }
    },
    {
      "cell_type": "markdown",
      "source": [
        "## Typy numeryczne"
      ],
      "metadata": {
        "id": "Lqf6c2-3uARz"
      }
    },
    {
      "cell_type": "code",
      "source": [
        "# deklaracja zmiennej typu int\n",
        "x = 7"
      ],
      "metadata": {
        "id": "7bGhrKOzFzrf"
      },
      "execution_count": null,
      "outputs": []
    },
    {
      "cell_type": "code",
      "source": [
        "# wyświetlenie zmiennej\n",
        "print(x)"
      ],
      "metadata": {
        "id": "3yJtCLstukrC",
        "outputId": "5597dca5-a026-41ab-bd4b-7105c866de8a",
        "colab": {
          "base_uri": "https://localhost:8080/"
        }
      },
      "execution_count": null,
      "outputs": [
        {
          "output_type": "stream",
          "name": "stdout",
          "text": [
            "7\n"
          ]
        }
      ]
    },
    {
      "cell_type": "code",
      "source": [
        "# sprawdzenie typu zmiennej\n",
        "type(x)"
      ],
      "metadata": {
        "colab": {
          "base_uri": "https://localhost:8080/"
        },
        "id": "RkhLJ7-sGA35",
        "outputId": "86369af7-a41a-4b49-ab76-c69042a97cf0"
      },
      "execution_count": null,
      "outputs": [
        {
          "output_type": "execute_result",
          "data": {
            "text/plain": [
              "int"
            ]
          },
          "metadata": {},
          "execution_count": 2
        }
      ]
    },
    {
      "cell_type": "code",
      "source": [
        "# sprawdzenie, czy x jest instancją int\n",
        "isinstance(x, int)"
      ],
      "metadata": {
        "colab": {
          "base_uri": "https://localhost:8080/"
        },
        "id": "vRevKN62GQGF",
        "outputId": "414e0c39-72f0-4e73-b5a2-455a5eb9dbd6"
      },
      "execution_count": null,
      "outputs": [
        {
          "output_type": "execute_result",
          "data": {
            "text/plain": [
              "True"
            ]
          },
          "metadata": {},
          "execution_count": 4
        }
      ]
    },
    {
      "cell_type": "code",
      "source": [
        "# sprawdzenie adresu zmiennej w pamięci\n",
        "id(x)"
      ],
      "metadata": {
        "colab": {
          "base_uri": "https://localhost:8080/"
        },
        "id": "5sJ25FVjHoH0",
        "outputId": "ff64d74a-b36f-4b1f-b650-2a5c19a8c3f2"
      },
      "execution_count": null,
      "outputs": [
        {
          "output_type": "execute_result",
          "data": {
            "text/plain": [
              "136183585145264"
            ]
          },
          "metadata": {},
          "execution_count": 13
        }
      ]
    },
    {
      "cell_type": "markdown",
      "source": [
        "Ćwiczenie\n",
        "\n",
        "Utwórz zmienną o dowolnej nazwie i wartości `7.0`. Jakiego typu jest ta zmienna? Co zwraca funkcja `id`?"
      ],
      "metadata": {
        "id": "C-wdcsdTHf_K"
      }
    },
    {
      "cell_type": "code",
      "source": [
        "#@title Rozwiązanie\n"
      ],
      "metadata": {
        "id": "Vk0dDCnxslZm"
      },
      "execution_count": null,
      "outputs": []
    },
    {
      "cell_type": "code",
      "source": [
        "#@title Podpowiedź\n",
        "y = 7.0\n",
        "print(type(y))\n",
        "print(id(y))"
      ],
      "metadata": {
        "colab": {
          "base_uri": "https://localhost:8080/"
        },
        "id": "7orW_LzDInOn",
        "outputId": "edcbfc0f-da83-48f5-8c94-fd06ced54521",
        "cellView": "form"
      },
      "execution_count": null,
      "outputs": [
        {
          "output_type": "stream",
          "name": "stdout",
          "text": [
            "<class 'float'>\n",
            "137898858149424\n"
          ]
        }
      ]
    },
    {
      "cell_type": "markdown",
      "source": [
        "## Łańcuchy znaków (string)\n",
        "\n",
        "Teraz utworzymy zmienną `m` z miesiącem naszych urodzin:"
      ],
      "metadata": {
        "id": "imfJTrhXtg2i"
      }
    },
    {
      "cell_type": "code",
      "source": [
        "m = \"nazwa miesiąca\" # należy zamienić tę wartość"
      ],
      "metadata": {
        "id": "uxnmfMGRt72E"
      },
      "execution_count": null,
      "outputs": []
    },
    {
      "cell_type": "markdown",
      "source": [
        "A następnie z numerem dnia miesiąca:"
      ],
      "metadata": {
        "id": "MVLKXjI8u0iS"
      }
    },
    {
      "cell_type": "code",
      "source": [
        "d = 0 # należy zamienić tę wartość"
      ],
      "metadata": {
        "id": "IwmT4Vhnu6UK"
      },
      "execution_count": null,
      "outputs": []
    },
    {
      "cell_type": "markdown",
      "source": [
        "Połączymy dwa łańcuchy znaków (konkatenacja):"
      ],
      "metadata": {
        "id": "_ClCJGryvOH5"
      }
    },
    {
      "cell_type": "code",
      "source": [
        "# sposób nr 1 - operator +\n",
        "\"Urodziłem się w miesiącu: \" + m"
      ],
      "metadata": {
        "id": "zOC2gQgpvGmM",
        "outputId": "00e0ff4d-09f9-462a-9537-2b41b52b8b62",
        "colab": {
          "base_uri": "https://localhost:8080/",
          "height": 36
        }
      },
      "execution_count": null,
      "outputs": [
        {
          "output_type": "execute_result",
          "data": {
            "text/plain": [
              "'Urodziłem się w miesiącu: nazwa miesiąca'"
            ],
            "application/vnd.google.colaboratory.intrinsic+json": {
              "type": "string"
            }
          },
          "metadata": {},
          "execution_count": 18
        }
      ]
    },
    {
      "cell_type": "markdown",
      "source": [
        "Co się stanie, gdy zamiast zmiennej `m` użyjemy `d`? Sprawdźmy!"
      ],
      "metadata": {
        "id": "NyIr5fygyBq0"
      }
    },
    {
      "cell_type": "code",
      "source": [
        "# miejsce na eksperyment\n"
      ],
      "metadata": {
        "id": "qHWmfBYpx_TX"
      },
      "execution_count": null,
      "outputs": []
    },
    {
      "cell_type": "code",
      "source": [
        "# sposób nr 2 - f-string (formatted string)\n",
        "f\"Urodziłem się w miesiącu: {m}\""
      ],
      "metadata": {
        "id": "kFuKcIeEvZ3L",
        "outputId": "5e6081bf-bfcc-413a-d459-fb79e1f8fbf7",
        "colab": {
          "base_uri": "https://localhost:8080/",
          "height": 36
        }
      },
      "execution_count": null,
      "outputs": [
        {
          "output_type": "execute_result",
          "data": {
            "text/plain": [
              "'Urodziłem się w miesiącu: nazwa miesiąca'"
            ],
            "application/vnd.google.colaboratory.intrinsic+json": {
              "type": "string"
            }
          },
          "metadata": {},
          "execution_count": 11
        }
      ]
    },
    {
      "cell_type": "markdown",
      "source": [
        "Ćwiczenie\n",
        "\n",
        "Utwórz jeden łańcuch znaków z dniem miesiąca i nazwą miesiąca urodzin oraz dowolnym innym ciągniem znaków.\n"
      ],
      "metadata": {
        "id": "nAdaTIpJv4vI"
      }
    },
    {
      "cell_type": "code",
      "source": [
        "#@title Rozwiązanie"
      ],
      "metadata": {
        "id": "zEbb1W4vwpEc"
      },
      "execution_count": null,
      "outputs": []
    },
    {
      "cell_type": "code",
      "source": [
        "#@title Podpowiedź\n",
        "\n",
        "f\"Dzień i miesiąc urodzin: {d} {m}\"\n",
        "\"Dzień i miesiąc urodzin: \" + str(d) + \" \" + m"
      ],
      "metadata": {
        "id": "7HRwGZG0wnn3",
        "outputId": "4fe44bca-3254-4a86-a349-1737e5d70617",
        "colab": {
          "base_uri": "https://localhost:8080/",
          "height": 36
        }
      },
      "execution_count": null,
      "outputs": [
        {
          "output_type": "execute_result",
          "data": {
            "text/plain": [
              "'Dzień i miesiąc urodzin: 0 nazwa miesiąca'"
            ],
            "application/vnd.google.colaboratory.intrinsic+json": {
              "type": "string"
            }
          },
          "metadata": {},
          "execution_count": 16
        }
      ]
    },
    {
      "cell_type": "markdown",
      "source": [
        "Sprawdźmy co robi funkcja `len`:"
      ],
      "metadata": {
        "id": "6VqaKwHtzRpa"
      }
    },
    {
      "cell_type": "code",
      "source": [
        "powitanie=\"Dzień dobry!\"\n",
        "len(powitanie)"
      ],
      "metadata": {
        "id": "NstZ9jfWzPFh",
        "outputId": "fba6a14d-95f6-4a51-a4d2-8be400eb97f0",
        "colab": {
          "base_uri": "https://localhost:8080/"
        }
      },
      "execution_count": 1,
      "outputs": [
        {
          "output_type": "execute_result",
          "data": {
            "text/plain": [
              "12"
            ]
          },
          "metadata": {},
          "execution_count": 1
        }
      ]
    },
    {
      "cell_type": "markdown",
      "source": [
        "Python umożliwia wiele operacji na typie `string`:\n",
        "* zwracanie pojedynczych znaków\n",
        "* zwracanie podciągów z danego ciągu\n",
        "* sprawdzanie, czy ciag znaków zawiera inny ciag\n",
        "* zmianę kolejności\n",
        "\n",
        "Analogiczne operacje można również wykonywać na innych kolekcjach (np. listy).\n",
        "\n",
        "Sprawdźmy, co zwraca następujące wyrażenia, dla różnych wartości indeksu:"
      ],
      "metadata": {
        "id": "BrGETJ_wz6ZJ"
      }
    },
    {
      "cell_type": "code",
      "source": [
        "# przetestujmy: 0, 1, 100, -1, -2, itd.\n",
        "powitanie[0]"
      ],
      "metadata": {
        "id": "KpeKMQUNz5bE",
        "outputId": "9685d613-61cf-4af2-9825-ab003f305ca4",
        "colab": {
          "base_uri": "https://localhost:8080/",
          "height": 36
        }
      },
      "execution_count": 7,
      "outputs": [
        {
          "output_type": "execute_result",
          "data": {
            "text/plain": [
              "'D'"
            ],
            "application/vnd.google.colaboratory.intrinsic+json": {
              "type": "string"
            }
          },
          "metadata": {},
          "execution_count": 7
        }
      ]
    },
    {
      "cell_type": "markdown",
      "source": [
        "Wyświetlmy indeksy i kolejne litery zawarte w zmiennej `powitanie`:"
      ],
      "metadata": {
        "id": "gY9yHjGTb3tm"
      }
    },
    {
      "cell_type": "code",
      "source": [
        "for index, litera in enumerate(powitanie):\n",
        "  print(f\"{index}: {litera}\")"
      ],
      "metadata": {
        "id": "AIoB4LitbMyu",
        "outputId": "737cfce0-4855-4919-a2cb-2101448dd1c1",
        "colab": {
          "base_uri": "https://localhost:8080/"
        }
      },
      "execution_count": 22,
      "outputs": [
        {
          "output_type": "stream",
          "name": "stdout",
          "text": [
            "0: D\n",
            "1: z\n",
            "2: i\n",
            "3: e\n",
            "4: ń\n",
            "5:  \n",
            "6: d\n",
            "7: o\n",
            "8: b\n",
            "9: r\n",
            "10: y\n",
            "11: !\n"
          ]
        }
      ]
    },
    {
      "cell_type": "code",
      "source": [
        "# Jeśli potrzebujemy pomocy\n",
        "enumerate?"
      ],
      "metadata": {
        "id": "RYhtGpVgcU--"
      },
      "execution_count": 27,
      "outputs": []
    },
    {
      "cell_type": "code",
      "source": [
        "help(enumerate)"
      ],
      "metadata": {
        "id": "Ym4bfaIyc3rR",
        "outputId": "3b2e200b-6a04-45da-a8e7-2e0e6bd13f40",
        "colab": {
          "base_uri": "https://localhost:8080/"
        }
      },
      "execution_count": 28,
      "outputs": [
        {
          "output_type": "stream",
          "name": "stdout",
          "text": [
            "Help on class enumerate in module builtins:\n",
            "\n",
            "class enumerate(object)\n",
            " |  enumerate(iterable, start=0)\n",
            " |  \n",
            " |  Return an enumerate object.\n",
            " |  \n",
            " |    iterable\n",
            " |      an object supporting iteration\n",
            " |  \n",
            " |  The enumerate object yields pairs containing a count (from start, which\n",
            " |  defaults to zero) and a value yielded by the iterable argument.\n",
            " |  \n",
            " |  enumerate is useful for obtaining an indexed list:\n",
            " |      (0, seq[0]), (1, seq[1]), (2, seq[2]), ...\n",
            " |  \n",
            " |  Methods defined here:\n",
            " |  \n",
            " |  __getattribute__(self, name, /)\n",
            " |      Return getattr(self, name).\n",
            " |  \n",
            " |  __iter__(self, /)\n",
            " |      Implement iter(self).\n",
            " |  \n",
            " |  __next__(self, /)\n",
            " |      Implement next(self).\n",
            " |  \n",
            " |  __reduce__(...)\n",
            " |      Return state information for pickling.\n",
            " |  \n",
            " |  ----------------------------------------------------------------------\n",
            " |  Class methods defined here:\n",
            " |  \n",
            " |  __class_getitem__(...)\n",
            " |      See PEP 585\n",
            " |  \n",
            " |  ----------------------------------------------------------------------\n",
            " |  Static methods defined here:\n",
            " |  \n",
            " |  __new__(*args, **kwargs)\n",
            " |      Create and return a new object.  See help(type) for accurate signature.\n",
            "\n"
          ]
        }
      ]
    },
    {
      "cell_type": "markdown",
      "source": [
        "Możemy również zwracać fragmentu łańcucha znaków:"
      ],
      "metadata": {
        "id": "EZSPB4WLZ76Q"
      }
    },
    {
      "cell_type": "code",
      "source": [
        "powitanie[6:11]"
      ],
      "metadata": {
        "id": "bPasu7nLaEjr",
        "outputId": "63a7b5d9-4932-4127-b1b1-cfbf1cdeff0d",
        "colab": {
          "base_uri": "https://localhost:8080/",
          "height": 36
        }
      },
      "execution_count": 24,
      "outputs": [
        {
          "output_type": "execute_result",
          "data": {
            "text/plain": [
              "'dobry'"
            ],
            "application/vnd.google.colaboratory.intrinsic+json": {
              "type": "string"
            }
          },
          "metadata": {},
          "execution_count": 24
        }
      ]
    },
    {
      "cell_type": "markdown",
      "source": [
        "Kolejne przykłady:"
      ],
      "metadata": {
        "id": "Bs1mbO5Pa9vZ"
      }
    },
    {
      "cell_type": "code",
      "source": [
        "powitanie[11:6]\n",
        "powitanie[-6:-1]\n",
        "powitanie[1:9:3]\n",
        "powitanie[::-1]"
      ],
      "metadata": {
        "id": "2YlzEK0gaEWr",
        "outputId": "305b311c-c05f-489b-921e-45f847d405b8",
        "colab": {
          "base_uri": "https://localhost:8080/",
          "height": 36
        }
      },
      "execution_count": 47,
      "outputs": [
        {
          "output_type": "execute_result",
          "data": {
            "text/plain": [
              "'!yrbod ńeizD'"
            ],
            "application/vnd.google.colaboratory.intrinsic+json": {
              "type": "string"
            }
          },
          "metadata": {},
          "execution_count": 47
        }
      ]
    },
    {
      "cell_type": "markdown",
      "source": [
        "Co się stanie jak pomnożymy `powitanie`?"
      ],
      "metadata": {
        "id": "_Q-wjZKbefMk"
      }
    },
    {
      "cell_type": "code",
      "source": [
        "5*powitanie"
      ],
      "metadata": {
        "id": "VHhcwzHzeec6",
        "outputId": "dfbfa69f-046c-4d1e-e6d9-68078b27261b",
        "colab": {
          "base_uri": "https://localhost:8080/",
          "height": 36
        }
      },
      "execution_count": 41,
      "outputs": [
        {
          "output_type": "execute_result",
          "data": {
            "text/plain": [
              "'Dzień dobry!Dzień dobry!Dzień dobry!Dzień dobry!Dzień dobry!'"
            ],
            "application/vnd.google.colaboratory.intrinsic+json": {
              "type": "string"
            }
          },
          "metadata": {},
          "execution_count": 41
        }
      ]
    },
    {
      "cell_type": "markdown",
      "source": [
        "Jak najprościej zamienić ciąg znaków?"
      ],
      "metadata": {
        "id": "pRO0xQGlfb8I"
      }
    },
    {
      "cell_type": "code",
      "source": [
        "powitanie.replace(\"dobry\", \"babci\")"
      ],
      "metadata": {
        "id": "y8l7M6VpfZPa",
        "outputId": "0ce257e7-5830-49f5-b559-ad11ca7bf4ec",
        "colab": {
          "base_uri": "https://localhost:8080/",
          "height": 36
        }
      },
      "execution_count": 42,
      "outputs": [
        {
          "output_type": "execute_result",
          "data": {
            "text/plain": [
              "'Dzień babci!'"
            ],
            "application/vnd.google.colaboratory.intrinsic+json": {
              "type": "string"
            }
          },
          "metadata": {},
          "execution_count": 42
        }
      ]
    },
    {
      "cell_type": "markdown",
      "source": [
        "Jak sprawdzić, czy ciąg znaków znajduje się w innym ciągu znaków?"
      ],
      "metadata": {
        "id": "UTta8Ce1fuS0"
      }
    },
    {
      "cell_type": "code",
      "source": [
        "\"Dzień\" in powitanie"
      ],
      "metadata": {
        "id": "crIvPPmnftX-",
        "outputId": "10927768-af30-4d66-c2ca-fbcb5fe552eb",
        "colab": {
          "base_uri": "https://localhost:8080/"
        }
      },
      "execution_count": 43,
      "outputs": [
        {
          "output_type": "execute_result",
          "data": {
            "text/plain": [
              "True"
            ]
          },
          "metadata": {},
          "execution_count": 43
        }
      ]
    },
    {
      "cell_type": "markdown",
      "source": [
        "Łańcuchy znaków można porównywać:"
      ],
      "metadata": {
        "id": "ovMCwh3Hj0_C"
      }
    },
    {
      "cell_type": "code",
      "source": [
        "\"Dzień\" == \"dobry\""
      ],
      "metadata": {
        "id": "2kfsZOUmjz8C",
        "outputId": "0c35229d-0450-49fe-ecf6-1f48aed1779c",
        "colab": {
          "base_uri": "https://localhost:8080/"
        }
      },
      "execution_count": 58,
      "outputs": [
        {
          "output_type": "execute_result",
          "data": {
            "text/plain": [
              "False"
            ]
          },
          "metadata": {},
          "execution_count": 58
        }
      ]
    },
    {
      "cell_type": "markdown",
      "source": [
        "Wiele linii - to nie problem:"
      ],
      "metadata": {
        "id": "1J7SWy2YgQhY"
      }
    },
    {
      "cell_type": "code",
      "source": [
        "\"\"\"Bardzo długi tekst.\n",
        "Podzielony na wiele linii.\"\"\""
      ],
      "metadata": {
        "id": "Tba25Oq_gYHd",
        "outputId": "2e987148-5c9b-408c-f001-c15c5182ae52",
        "colab": {
          "base_uri": "https://localhost:8080/",
          "height": 36
        }
      },
      "execution_count": 45,
      "outputs": [
        {
          "output_type": "execute_result",
          "data": {
            "text/plain": [
              "'Bardzo długi tekst.\\nPodzielony na wiele linii.'"
            ],
            "application/vnd.google.colaboratory.intrinsic+json": {
              "type": "string"
            }
          },
          "metadata": {},
          "execution_count": 45
        }
      ]
    },
    {
      "cell_type": "markdown",
      "source": [
        "Ćwiczenie\n",
        "\n",
        "Sprawdź, czy poniższe wyrażenie jest palindromem."
      ],
      "metadata": {
        "id": "oI1vx8k2dVYc"
      }
    },
    {
      "cell_type": "code",
      "source": [
        "czy_palindrom = \"może jutro ta dama da tortu jeżom\""
      ],
      "metadata": {
        "id": "PULPUV4yziJn",
        "outputId": "f9070a4e-b8fc-42d1-807a-a7a872dbb974",
        "colab": {
          "base_uri": "https://localhost:8080/"
        }
      },
      "execution_count": 56,
      "outputs": [
        {
          "output_type": "execute_result",
          "data": {
            "text/plain": [
              "True"
            ]
          },
          "metadata": {},
          "execution_count": 56
        }
      ]
    },
    {
      "cell_type": "code",
      "source": [
        "#@title Rozwiązanie\n",
        "\n"
      ],
      "metadata": {
        "id": "p5hIg-Q8jY1e"
      },
      "execution_count": null,
      "outputs": []
    },
    {
      "cell_type": "code",
      "source": [
        "#@title Podpowiedź\n",
        "\n",
        "czy_palindrom.replace(\" \", \"\") == czy_palindrom.replace(\" \", \"\")[::-1]"
      ],
      "metadata": {
        "id": "qhNAVqETjX_E",
        "outputId": "6123072c-131c-4853-f2f8-8d870fdef505",
        "colab": {
          "base_uri": "https://localhost:8080/"
        }
      },
      "execution_count": 57,
      "outputs": [
        {
          "output_type": "execute_result",
          "data": {
            "text/plain": [
              "True"
            ]
          },
          "metadata": {},
          "execution_count": 57
        }
      ]
    },
    {
      "cell_type": "markdown",
      "source": [
        "Ćwiczenie\n",
        "\n",
        "Co zwracają następujące wyrażania?\n",
        "* funkcja `len` (np. `len(\"Cześć)`\n",
        "* operator indeksujący `[]` (np. `\"Cześć\"[0]`)\n"
      ],
      "metadata": {
        "id": "j8kT9kLKs2En"
      }
    },
    {
      "cell_type": "code",
      "source": [
        "\"Cześć\"[0]"
      ],
      "metadata": {
        "id": "z5NAJCogs3FL",
        "outputId": "7b576ef9-0a04-4a21-c774-cddfab390ede",
        "colab": {
          "base_uri": "https://localhost:8080/",
          "height": 36
        }
      },
      "execution_count": null,
      "outputs": [
        {
          "output_type": "execute_result",
          "data": {
            "text/plain": [
              "'C'"
            ],
            "application/vnd.google.colaboratory.intrinsic+json": {
              "type": "string"
            }
          },
          "metadata": {},
          "execution_count": 20
        }
      ]
    },
    {
      "cell_type": "code",
      "source": [
        "TODO: join na stringu i liście"
      ],
      "metadata": {
        "id": "ObPI5EbZIrU1"
      },
      "execution_count": null,
      "outputs": []
    }
  ]
}