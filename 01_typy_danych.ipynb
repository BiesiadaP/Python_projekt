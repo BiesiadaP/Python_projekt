{
  "nbformat": 4,
  "nbformat_minor": 0,
  "metadata": {
    "colab": {
      "provenance": [],
      "toc_visible": true,
      "authorship_tag": "ABX9TyNcjG5vE1Fqd1ICzQcugeHt",
      "include_colab_link": true
    },
    "kernelspec": {
      "name": "python3",
      "display_name": "Python 3"
    },
    "language_info": {
      "name": "python"
    }
  },
  "cells": [
    {
      "cell_type": "markdown",
      "metadata": {
        "id": "view-in-github",
        "colab_type": "text"
      },
      "source": [
        "<a href=\"https://colab.research.google.com/github/chrispi21/python-dataeng/blob/main/01_typy_danych.ipynb\" target=\"_parent\"><img src=\"https://colab.research.google.com/assets/colab-badge.svg\" alt=\"Open In Colab\"/></a>"
      ]
    },
    {
      "cell_type": "markdown",
      "source": [
        "# Deklarowanie zmiennych - przypomnienie"
      ],
      "metadata": {
        "id": "paMoTr5qEqf6"
      }
    },
    {
      "cell_type": "markdown",
      "source": [
        "## Typy numeryczne"
      ],
      "metadata": {
        "id": "Lqf6c2-3uARz"
      }
    },
    {
      "cell_type": "code",
      "source": [
        "# deklaracja zmiennej typu int\n",
        "x = 7"
      ],
      "metadata": {
        "id": "7bGhrKOzFzrf"
      },
      "execution_count": null,
      "outputs": []
    },
    {
      "cell_type": "code",
      "source": [
        "# wyświetlenie zmiennej\n",
        "print(x)"
      ],
      "metadata": {
        "id": "3yJtCLstukrC",
        "outputId": "5597dca5-a026-41ab-bd4b-7105c866de8a",
        "colab": {
          "base_uri": "https://localhost:8080/"
        }
      },
      "execution_count": null,
      "outputs": [
        {
          "output_type": "stream",
          "name": "stdout",
          "text": [
            "7\n"
          ]
        }
      ]
    },
    {
      "cell_type": "code",
      "source": [
        "# sprawdzenie typu zmiennej\n",
        "type(x)"
      ],
      "metadata": {
        "colab": {
          "base_uri": "https://localhost:8080/"
        },
        "id": "RkhLJ7-sGA35",
        "outputId": "86369af7-a41a-4b49-ab76-c69042a97cf0"
      },
      "execution_count": null,
      "outputs": [
        {
          "output_type": "execute_result",
          "data": {
            "text/plain": [
              "int"
            ]
          },
          "metadata": {},
          "execution_count": 2
        }
      ]
    },
    {
      "cell_type": "code",
      "source": [
        "# sprawdzenie, czy x jest instancją int\n",
        "isinstance(x, int)"
      ],
      "metadata": {
        "colab": {
          "base_uri": "https://localhost:8080/"
        },
        "id": "vRevKN62GQGF",
        "outputId": "414e0c39-72f0-4e73-b5a2-455a5eb9dbd6"
      },
      "execution_count": null,
      "outputs": [
        {
          "output_type": "execute_result",
          "data": {
            "text/plain": [
              "True"
            ]
          },
          "metadata": {},
          "execution_count": 4
        }
      ]
    },
    {
      "cell_type": "code",
      "source": [
        "# sprawdzenie adresu zmiennej w pamięci\n",
        "id(x)"
      ],
      "metadata": {
        "colab": {
          "base_uri": "https://localhost:8080/"
        },
        "id": "5sJ25FVjHoH0",
        "outputId": "ff64d74a-b36f-4b1f-b650-2a5c19a8c3f2"
      },
      "execution_count": null,
      "outputs": [
        {
          "output_type": "execute_result",
          "data": {
            "text/plain": [
              "136183585145264"
            ]
          },
          "metadata": {},
          "execution_count": 13
        }
      ]
    },
    {
      "cell_type": "markdown",
      "source": [
        "Ćwiczenie\n",
        "\n",
        "Utwórz zmienną o dowolnej nazwie i wartości `7.0`. Jakiego typu jest ta zmienna? Co zwraca funkcja `id`?"
      ],
      "metadata": {
        "id": "C-wdcsdTHf_K"
      }
    },
    {
      "cell_type": "code",
      "source": [
        "#@title Rozwiązanie\n"
      ],
      "metadata": {
        "id": "Vk0dDCnxslZm"
      },
      "execution_count": null,
      "outputs": []
    },
    {
      "cell_type": "code",
      "source": [
        "#@title Podpowiedź\n",
        "y = 7.0\n",
        "print(type(y))\n",
        "print(id(y))"
      ],
      "metadata": {
        "colab": {
          "base_uri": "https://localhost:8080/"
        },
        "id": "7orW_LzDInOn",
        "outputId": "edcbfc0f-da83-48f5-8c94-fd06ced54521",
        "cellView": "form"
      },
      "execution_count": null,
      "outputs": [
        {
          "output_type": "stream",
          "name": "stdout",
          "text": [
            "<class 'float'>\n",
            "137898858149424\n"
          ]
        }
      ]
    },
    {
      "cell_type": "markdown",
      "source": [
        "# Typ `None`"
      ],
      "metadata": {
        "id": "mLDc1pPl25kR"
      }
    },
    {
      "cell_type": "code",
      "source": [
        "wartosc_nieokreslona = None\n",
        "wartosc_okreslona = 100"
      ],
      "metadata": {
        "id": "KEcg4xI324eg"
      },
      "execution_count": null,
      "outputs": []
    },
    {
      "cell_type": "code",
      "source": [
        "wartosc_okreslona is None"
      ],
      "metadata": {
        "id": "61fKABsD3YuQ",
        "outputId": "42eb2f8d-30f3-44e1-b877-7be7f24a8f8c",
        "colab": {
          "base_uri": "https://localhost:8080/"
        }
      },
      "execution_count": null,
      "outputs": [
        {
          "output_type": "execute_result",
          "data": {
            "text/plain": [
              "False"
            ]
          },
          "metadata": {},
          "execution_count": 5
        }
      ]
    },
    {
      "cell_type": "code",
      "source": [
        "wartosc_nieokreslona is None"
      ],
      "metadata": {
        "id": "vGCela0i3odg",
        "outputId": "91e93613-893c-4212-c06b-dab45934532e",
        "colab": {
          "base_uri": "https://localhost:8080/"
        }
      },
      "execution_count": null,
      "outputs": [
        {
          "output_type": "execute_result",
          "data": {
            "text/plain": [
              "True"
            ]
          },
          "metadata": {},
          "execution_count": 6
        }
      ]
    },
    {
      "cell_type": "markdown",
      "source": [
        "## Łańcuchy znaków (string)\n",
        "\n",
        "Teraz utworzymy zmienną `m` z miesiącem naszych urodzin:"
      ],
      "metadata": {
        "id": "imfJTrhXtg2i"
      }
    },
    {
      "cell_type": "code",
      "source": [
        "m = \"nazwa miesiąca\" # należy zamienić tę wartość"
      ],
      "metadata": {
        "id": "uxnmfMGRt72E"
      },
      "execution_count": null,
      "outputs": []
    },
    {
      "cell_type": "markdown",
      "source": [
        "A następnie z numerem dnia miesiąca:"
      ],
      "metadata": {
        "id": "MVLKXjI8u0iS"
      }
    },
    {
      "cell_type": "code",
      "source": [
        "d = 0 # należy zamienić tę wartość"
      ],
      "metadata": {
        "id": "IwmT4Vhnu6UK"
      },
      "execution_count": null,
      "outputs": []
    },
    {
      "cell_type": "markdown",
      "source": [
        "Połączymy dwa łańcuchy znaków (konkatenacja):"
      ],
      "metadata": {
        "id": "_ClCJGryvOH5"
      }
    },
    {
      "cell_type": "code",
      "source": [
        "# sposób nr 1 - operator +\n",
        "\"Urodziłem się w miesiącu: \" + m"
      ],
      "metadata": {
        "id": "zOC2gQgpvGmM",
        "outputId": "00e0ff4d-09f9-462a-9537-2b41b52b8b62",
        "colab": {
          "base_uri": "https://localhost:8080/",
          "height": 36
        }
      },
      "execution_count": null,
      "outputs": [
        {
          "output_type": "execute_result",
          "data": {
            "text/plain": [
              "'Urodziłem się w miesiącu: nazwa miesiąca'"
            ],
            "application/vnd.google.colaboratory.intrinsic+json": {
              "type": "string"
            }
          },
          "metadata": {},
          "execution_count": 18
        }
      ]
    },
    {
      "cell_type": "markdown",
      "source": [
        "Co się stanie, gdy zamiast zmiennej `m` użyjemy `d`? Sprawdźmy!"
      ],
      "metadata": {
        "id": "NyIr5fygyBq0"
      }
    },
    {
      "cell_type": "code",
      "source": [
        "# miejsce na eksperyment\n"
      ],
      "metadata": {
        "id": "qHWmfBYpx_TX"
      },
      "execution_count": null,
      "outputs": []
    },
    {
      "cell_type": "code",
      "source": [
        "# sposób nr 2 - f-string (formatted string)\n",
        "f\"Urodziłem się w miesiącu: {m}\""
      ],
      "metadata": {
        "id": "kFuKcIeEvZ3L",
        "outputId": "5e6081bf-bfcc-413a-d459-fb79e1f8fbf7",
        "colab": {
          "base_uri": "https://localhost:8080/",
          "height": 36
        }
      },
      "execution_count": null,
      "outputs": [
        {
          "output_type": "execute_result",
          "data": {
            "text/plain": [
              "'Urodziłem się w miesiącu: nazwa miesiąca'"
            ],
            "application/vnd.google.colaboratory.intrinsic+json": {
              "type": "string"
            }
          },
          "metadata": {},
          "execution_count": 11
        }
      ]
    },
    {
      "cell_type": "markdown",
      "source": [
        "Ćwiczenie\n",
        "\n",
        "Utwórz jeden łańcuch znaków z dniem miesiąca i nazwą miesiąca urodzin oraz dowolnym innym ciągniem znaków.\n"
      ],
      "metadata": {
        "id": "nAdaTIpJv4vI"
      }
    },
    {
      "cell_type": "code",
      "source": [
        "#@title Rozwiązanie"
      ],
      "metadata": {
        "id": "zEbb1W4vwpEc"
      },
      "execution_count": null,
      "outputs": []
    },
    {
      "cell_type": "code",
      "source": [
        "#@title Podpowiedź\n",
        "\n",
        "f\"Dzień i miesiąc urodzin: {d} {m}\"\n",
        "\"Dzień i miesiąc urodzin: \" + str(d) + \" \" + m"
      ],
      "metadata": {
        "id": "7HRwGZG0wnn3",
        "outputId": "4fe44bca-3254-4a86-a349-1737e5d70617",
        "colab": {
          "base_uri": "https://localhost:8080/",
          "height": 36
        }
      },
      "execution_count": null,
      "outputs": [
        {
          "output_type": "execute_result",
          "data": {
            "text/plain": [
              "'Dzień i miesiąc urodzin: 0 nazwa miesiąca'"
            ],
            "application/vnd.google.colaboratory.intrinsic+json": {
              "type": "string"
            }
          },
          "metadata": {},
          "execution_count": 16
        }
      ]
    },
    {
      "cell_type": "markdown",
      "source": [
        "Sprawdźmy co robi funkcja `len`:"
      ],
      "metadata": {
        "id": "6VqaKwHtzRpa"
      }
    },
    {
      "cell_type": "code",
      "source": [
        "powitanie=\"Dzień dobry!\"\n",
        "len(powitanie)"
      ],
      "metadata": {
        "id": "NstZ9jfWzPFh",
        "outputId": "fba6a14d-95f6-4a51-a4d2-8be400eb97f0",
        "colab": {
          "base_uri": "https://localhost:8080/"
        }
      },
      "execution_count": null,
      "outputs": [
        {
          "output_type": "execute_result",
          "data": {
            "text/plain": [
              "12"
            ]
          },
          "metadata": {},
          "execution_count": 1
        }
      ]
    },
    {
      "cell_type": "markdown",
      "source": [
        "Python umożliwia wiele operacji na typie `string`:\n",
        "* zwracanie pojedynczych znaków\n",
        "* zwracanie podciągów z danego ciągu\n",
        "* sprawdzanie, czy ciag znaków zawiera inny ciag\n",
        "* zmianę kolejności\n",
        "\n",
        "Analogiczne operacje można również wykonywać na innych kolekcjach (np. listy).\n",
        "\n",
        "Sprawdźmy, co zwraca następujące wyrażenia, dla różnych wartości indeksu:"
      ],
      "metadata": {
        "id": "BrGETJ_wz6ZJ"
      }
    },
    {
      "cell_type": "code",
      "source": [
        "# przetestujmy: 0, 1, 100, -1, -2, itd.\n",
        "powitanie[0]"
      ],
      "metadata": {
        "id": "KpeKMQUNz5bE",
        "outputId": "9685d613-61cf-4af2-9825-ab003f305ca4",
        "colab": {
          "base_uri": "https://localhost:8080/",
          "height": 36
        }
      },
      "execution_count": null,
      "outputs": [
        {
          "output_type": "execute_result",
          "data": {
            "text/plain": [
              "'D'"
            ],
            "application/vnd.google.colaboratory.intrinsic+json": {
              "type": "string"
            }
          },
          "metadata": {},
          "execution_count": 7
        }
      ]
    },
    {
      "cell_type": "markdown",
      "source": [
        "Wyświetlmy indeksy i kolejne litery zawarte w zmiennej `powitanie`:"
      ],
      "metadata": {
        "id": "gY9yHjGTb3tm"
      }
    },
    {
      "cell_type": "code",
      "source": [
        "for index, litera in enumerate(powitanie):\n",
        "  print(f\"{index}: {litera}\")"
      ],
      "metadata": {
        "id": "AIoB4LitbMyu",
        "outputId": "737cfce0-4855-4919-a2cb-2101448dd1c1",
        "colab": {
          "base_uri": "https://localhost:8080/"
        }
      },
      "execution_count": null,
      "outputs": [
        {
          "output_type": "stream",
          "name": "stdout",
          "text": [
            "0: D\n",
            "1: z\n",
            "2: i\n",
            "3: e\n",
            "4: ń\n",
            "5:  \n",
            "6: d\n",
            "7: o\n",
            "8: b\n",
            "9: r\n",
            "10: y\n",
            "11: !\n"
          ]
        }
      ]
    },
    {
      "cell_type": "code",
      "source": [
        "# Jeśli potrzebujemy pomocy\n",
        "enumerate?"
      ],
      "metadata": {
        "id": "RYhtGpVgcU--"
      },
      "execution_count": null,
      "outputs": []
    },
    {
      "cell_type": "code",
      "source": [
        "help(enumerate)"
      ],
      "metadata": {
        "id": "Ym4bfaIyc3rR",
        "outputId": "3b2e200b-6a04-45da-a8e7-2e0e6bd13f40",
        "colab": {
          "base_uri": "https://localhost:8080/"
        }
      },
      "execution_count": null,
      "outputs": [
        {
          "output_type": "stream",
          "name": "stdout",
          "text": [
            "Help on class enumerate in module builtins:\n",
            "\n",
            "class enumerate(object)\n",
            " |  enumerate(iterable, start=0)\n",
            " |  \n",
            " |  Return an enumerate object.\n",
            " |  \n",
            " |    iterable\n",
            " |      an object supporting iteration\n",
            " |  \n",
            " |  The enumerate object yields pairs containing a count (from start, which\n",
            " |  defaults to zero) and a value yielded by the iterable argument.\n",
            " |  \n",
            " |  enumerate is useful for obtaining an indexed list:\n",
            " |      (0, seq[0]), (1, seq[1]), (2, seq[2]), ...\n",
            " |  \n",
            " |  Methods defined here:\n",
            " |  \n",
            " |  __getattribute__(self, name, /)\n",
            " |      Return getattr(self, name).\n",
            " |  \n",
            " |  __iter__(self, /)\n",
            " |      Implement iter(self).\n",
            " |  \n",
            " |  __next__(self, /)\n",
            " |      Implement next(self).\n",
            " |  \n",
            " |  __reduce__(...)\n",
            " |      Return state information for pickling.\n",
            " |  \n",
            " |  ----------------------------------------------------------------------\n",
            " |  Class methods defined here:\n",
            " |  \n",
            " |  __class_getitem__(...)\n",
            " |      See PEP 585\n",
            " |  \n",
            " |  ----------------------------------------------------------------------\n",
            " |  Static methods defined here:\n",
            " |  \n",
            " |  __new__(*args, **kwargs)\n",
            " |      Create and return a new object.  See help(type) for accurate signature.\n",
            "\n"
          ]
        }
      ]
    },
    {
      "cell_type": "markdown",
      "source": [
        "Możemy również zwracać fragmentu łańcucha znaków:"
      ],
      "metadata": {
        "id": "EZSPB4WLZ76Q"
      }
    },
    {
      "cell_type": "code",
      "source": [
        "powitanie[6:11]"
      ],
      "metadata": {
        "id": "bPasu7nLaEjr",
        "outputId": "63a7b5d9-4932-4127-b1b1-cfbf1cdeff0d",
        "colab": {
          "base_uri": "https://localhost:8080/",
          "height": 36
        }
      },
      "execution_count": null,
      "outputs": [
        {
          "output_type": "execute_result",
          "data": {
            "text/plain": [
              "'dobry'"
            ],
            "application/vnd.google.colaboratory.intrinsic+json": {
              "type": "string"
            }
          },
          "metadata": {},
          "execution_count": 24
        }
      ]
    },
    {
      "cell_type": "markdown",
      "source": [
        "Kolejne przykłady:"
      ],
      "metadata": {
        "id": "Bs1mbO5Pa9vZ"
      }
    },
    {
      "cell_type": "code",
      "source": [
        "powitanie[11:6]\n",
        "powitanie[-6:-1]\n",
        "powitanie[1:9:3]\n",
        "powitanie[::-1]"
      ],
      "metadata": {
        "id": "2YlzEK0gaEWr",
        "outputId": "305b311c-c05f-489b-921e-45f847d405b8",
        "colab": {
          "base_uri": "https://localhost:8080/",
          "height": 36
        }
      },
      "execution_count": null,
      "outputs": [
        {
          "output_type": "execute_result",
          "data": {
            "text/plain": [
              "'!yrbod ńeizD'"
            ],
            "application/vnd.google.colaboratory.intrinsic+json": {
              "type": "string"
            }
          },
          "metadata": {},
          "execution_count": 47
        }
      ]
    },
    {
      "cell_type": "markdown",
      "source": [
        "Co się stanie jak pomnożymy `powitanie`?"
      ],
      "metadata": {
        "id": "_Q-wjZKbefMk"
      }
    },
    {
      "cell_type": "code",
      "source": [
        "5*powitanie"
      ],
      "metadata": {
        "id": "VHhcwzHzeec6",
        "outputId": "dfbfa69f-046c-4d1e-e6d9-68078b27261b",
        "colab": {
          "base_uri": "https://localhost:8080/",
          "height": 36
        }
      },
      "execution_count": null,
      "outputs": [
        {
          "output_type": "execute_result",
          "data": {
            "text/plain": [
              "'Dzień dobry!Dzień dobry!Dzień dobry!Dzień dobry!Dzień dobry!'"
            ],
            "application/vnd.google.colaboratory.intrinsic+json": {
              "type": "string"
            }
          },
          "metadata": {},
          "execution_count": 41
        }
      ]
    },
    {
      "cell_type": "markdown",
      "source": [
        "Jak najprościej zamienić ciąg znaków?"
      ],
      "metadata": {
        "id": "pRO0xQGlfb8I"
      }
    },
    {
      "cell_type": "code",
      "source": [
        "powitanie.replace(\"dobry\", \"babci\")"
      ],
      "metadata": {
        "id": "y8l7M6VpfZPa",
        "outputId": "0ce257e7-5830-49f5-b559-ad11ca7bf4ec",
        "colab": {
          "base_uri": "https://localhost:8080/",
          "height": 36
        }
      },
      "execution_count": null,
      "outputs": [
        {
          "output_type": "execute_result",
          "data": {
            "text/plain": [
              "'Dzień babci!'"
            ],
            "application/vnd.google.colaboratory.intrinsic+json": {
              "type": "string"
            }
          },
          "metadata": {},
          "execution_count": 42
        }
      ]
    },
    {
      "cell_type": "markdown",
      "source": [
        "Jak sprawdzić, czy ciąg znaków znajduje się w innym ciągu znaków?"
      ],
      "metadata": {
        "id": "UTta8Ce1fuS0"
      }
    },
    {
      "cell_type": "code",
      "source": [
        "\"Dzień\" in powitanie"
      ],
      "metadata": {
        "id": "crIvPPmnftX-",
        "outputId": "10927768-af30-4d66-c2ca-fbcb5fe552eb",
        "colab": {
          "base_uri": "https://localhost:8080/"
        }
      },
      "execution_count": null,
      "outputs": [
        {
          "output_type": "execute_result",
          "data": {
            "text/plain": [
              "True"
            ]
          },
          "metadata": {},
          "execution_count": 43
        }
      ]
    },
    {
      "cell_type": "markdown",
      "source": [
        "Łańcuchy znaków można porównywać:"
      ],
      "metadata": {
        "id": "ovMCwh3Hj0_C"
      }
    },
    {
      "cell_type": "code",
      "source": [
        "\"Dzień\" == \"dobry\""
      ],
      "metadata": {
        "id": "2kfsZOUmjz8C",
        "outputId": "0c35229d-0450-49fe-ecf6-1f48aed1779c",
        "colab": {
          "base_uri": "https://localhost:8080/"
        }
      },
      "execution_count": null,
      "outputs": [
        {
          "output_type": "execute_result",
          "data": {
            "text/plain": [
              "False"
            ]
          },
          "metadata": {},
          "execution_count": 58
        }
      ]
    },
    {
      "cell_type": "markdown",
      "source": [
        "Wiele linii - to nie problem:"
      ],
      "metadata": {
        "id": "1J7SWy2YgQhY"
      }
    },
    {
      "cell_type": "code",
      "source": [
        "\"\"\"Bardzo długi tekst.\n",
        "Podzielony na wiele linii.\"\"\""
      ],
      "metadata": {
        "id": "Tba25Oq_gYHd",
        "outputId": "2e987148-5c9b-408c-f001-c15c5182ae52",
        "colab": {
          "base_uri": "https://localhost:8080/",
          "height": 36
        }
      },
      "execution_count": null,
      "outputs": [
        {
          "output_type": "execute_result",
          "data": {
            "text/plain": [
              "'Bardzo długi tekst.\\nPodzielony na wiele linii.'"
            ],
            "application/vnd.google.colaboratory.intrinsic+json": {
              "type": "string"
            }
          },
          "metadata": {},
          "execution_count": 45
        }
      ]
    },
    {
      "cell_type": "markdown",
      "source": [
        "Ćwiczenie\n",
        "\n",
        "Sprawdź, czy poniższe wyrażenie jest palindromem."
      ],
      "metadata": {
        "id": "oI1vx8k2dVYc"
      }
    },
    {
      "cell_type": "code",
      "source": [
        "czy_palindrom = \"może jutro ta dama da tortu jeżom\""
      ],
      "metadata": {
        "id": "PULPUV4yziJn",
        "outputId": "f9070a4e-b8fc-42d1-807a-a7a872dbb974",
        "colab": {
          "base_uri": "https://localhost:8080/"
        }
      },
      "execution_count": null,
      "outputs": [
        {
          "output_type": "execute_result",
          "data": {
            "text/plain": [
              "True"
            ]
          },
          "metadata": {},
          "execution_count": 56
        }
      ]
    },
    {
      "cell_type": "code",
      "source": [
        "#@title Rozwiązanie\n",
        "\n"
      ],
      "metadata": {
        "id": "p5hIg-Q8jY1e"
      },
      "execution_count": null,
      "outputs": []
    },
    {
      "cell_type": "code",
      "source": [
        "#@title Podpowiedź\n",
        "\n",
        "czy_palindrom.replace(\" \", \"\") == czy_palindrom.replace(\" \", \"\")[::-1]"
      ],
      "metadata": {
        "id": "qhNAVqETjX_E",
        "outputId": "6123072c-131c-4853-f2f8-8d870fdef505",
        "colab": {
          "base_uri": "https://localhost:8080/"
        }
      },
      "execution_count": null,
      "outputs": [
        {
          "output_type": "execute_result",
          "data": {
            "text/plain": [
              "True"
            ]
          },
          "metadata": {},
          "execution_count": 57
        }
      ]
    },
    {
      "cell_type": "markdown",
      "source": [
        "# Krotki (tuple)\n",
        "\n",
        "* niemutowalna sekwencja obiektów dowolnego rodzaju\n",
        "* może zawierać różne typy obiektów"
      ],
      "metadata": {
        "id": "ByOfF2gO4KL2"
      }
    },
    {
      "cell_type": "code",
      "source": [
        "# Jak tworzymy?\n",
        "moja_krotka_1 = 1, 2, 3"
      ],
      "metadata": {
        "id": "kHr94UfV4JqR"
      },
      "execution_count": null,
      "outputs": []
    },
    {
      "cell_type": "code",
      "source": [
        "moja_krotka_2 = (5, 6, 7, 8)"
      ],
      "metadata": {
        "id": "0vNUVARp43wR"
      },
      "execution_count": null,
      "outputs": []
    },
    {
      "cell_type": "code",
      "source": [
        "moja_krotka_3 = (None, 7, \"Cześć\")"
      ],
      "metadata": {
        "id": "wDorRt3A48Wd"
      },
      "execution_count": null,
      "outputs": []
    },
    {
      "cell_type": "code",
      "source": [
        "moja_krotka_4 = ((1, 2), (3, 4, 5))"
      ],
      "metadata": {
        "id": "Az7B2LE_5DQM"
      },
      "execution_count": null,
      "outputs": []
    },
    {
      "cell_type": "code",
      "source": [
        "# Dlatego trzeba uważać!!!\n",
        "moja_krotka_5 = 0,"
      ],
      "metadata": {
        "id": "Ueswcsth5Kqn"
      },
      "execution_count": null,
      "outputs": []
    },
    {
      "cell_type": "code",
      "source": [
        "moja_krotka_6 = tuple(\"Cześć!\")"
      ],
      "metadata": {
        "id": "F0ffvIP05W_U"
      },
      "execution_count": null,
      "outputs": []
    },
    {
      "cell_type": "markdown",
      "source": [
        "To nie zadziała:"
      ],
      "metadata": {
        "id": "3_Gq4RjX5yvo"
      }
    },
    {
      "cell_type": "code",
      "source": [
        "moja_krotka_1[0] = 10"
      ],
      "metadata": {
        "id": "uQASV1r65fkj",
        "outputId": "ff1967b8-9ac3-4f9c-d886-ceae485972aa",
        "colab": {
          "base_uri": "https://localhost:8080/",
          "height": 146
        }
      },
      "execution_count": null,
      "outputs": [
        {
          "output_type": "error",
          "ename": "TypeError",
          "evalue": "'tuple' object does not support item assignment",
          "traceback": [
            "\u001b[0;31m---------------------------------------------------------------------------\u001b[0m",
            "\u001b[0;31mTypeError\u001b[0m                                 Traceback (most recent call last)",
            "\u001b[0;32m<ipython-input-19-f887d270d62c>\u001b[0m in \u001b[0;36m<cell line: 0>\u001b[0;34m()\u001b[0m\n\u001b[0;32m----> 1\u001b[0;31m \u001b[0mmoja_krotka_1\u001b[0m\u001b[0;34m[\u001b[0m\u001b[0;36m0\u001b[0m\u001b[0;34m]\u001b[0m \u001b[0;34m=\u001b[0m \u001b[0;36m10\u001b[0m\u001b[0;34m\u001b[0m\u001b[0;34m\u001b[0m\u001b[0m\n\u001b[0m",
            "\u001b[0;31mTypeError\u001b[0m: 'tuple' object does not support item assignment"
          ]
        }
      ]
    },
    {
      "cell_type": "markdown",
      "source": [
        "A to już tak:"
      ],
      "metadata": {
        "id": "GaRNKaRm6UD5"
      }
    },
    {
      "cell_type": "code",
      "source": [
        "moja_krotka_1 = 10, 2, 3"
      ],
      "metadata": {
        "id": "Z-O0IdTs6SvX"
      },
      "execution_count": 1,
      "outputs": []
    },
    {
      "cell_type": "markdown",
      "source": [
        "Sprawdźmy jak działają poznane wcześniej funkcji i operatory, z których korzystaliśmy do manipulowania łańcuchami znaków:"
      ],
      "metadata": {
        "id": "SnkZGrWz6AaB"
      }
    },
    {
      "cell_type": "code",
      "source": [
        "moja_krotka_1 + moja_krotka_2"
      ],
      "metadata": {
        "id": "v4ZMD-9J5_tg",
        "outputId": "cfcf9229-e864-4217-909f-dd220cf8a3da",
        "colab": {
          "base_uri": "https://localhost:8080/"
        }
      },
      "execution_count": null,
      "outputs": [
        {
          "output_type": "execute_result",
          "data": {
            "text/plain": [
              "(10, 2, 3, 5, 6, 7, 8)"
            ]
          },
          "metadata": {},
          "execution_count": 21
        }
      ]
    },
    {
      "cell_type": "code",
      "source": [
        "2*moja_krotka_1"
      ],
      "metadata": {
        "id": "kSaS3kHc8T_E",
        "outputId": "64b4ce8d-6b98-430a-c359-ca1d261e79b4",
        "colab": {
          "base_uri": "https://localhost:8080/"
        }
      },
      "execution_count": null,
      "outputs": [
        {
          "output_type": "execute_result",
          "data": {
            "text/plain": [
              "(10, 2, 3, 10, 2, 3)"
            ]
          },
          "metadata": {},
          "execution_count": 22
        }
      ]
    },
    {
      "cell_type": "code",
      "source": [
        "moja_krotka_1[0]"
      ],
      "metadata": {
        "id": "seyilhvZ8sBD",
        "outputId": "cfd7da03-466b-4f58-de4e-d8c0ba54d3e8",
        "colab": {
          "base_uri": "https://localhost:8080/"
        }
      },
      "execution_count": null,
      "outputs": [
        {
          "output_type": "execute_result",
          "data": {
            "text/plain": [
              "10"
            ]
          },
          "metadata": {},
          "execution_count": 23
        }
      ]
    },
    {
      "cell_type": "code",
      "source": [
        "moja_krotka_1[-1]"
      ],
      "metadata": {
        "id": "yShqUT2L82U5",
        "outputId": "5d291ce2-b9c8-4a43-a133-8f5169cf43a1",
        "colab": {
          "base_uri": "https://localhost:8080/"
        }
      },
      "execution_count": null,
      "outputs": [
        {
          "output_type": "execute_result",
          "data": {
            "text/plain": [
              "3"
            ]
          },
          "metadata": {},
          "execution_count": 24
        }
      ]
    },
    {
      "cell_type": "code",
      "source": [
        "moja_krotka_1[0:2]"
      ],
      "metadata": {
        "id": "pC5BYSRF8_ab",
        "outputId": "f39a2f88-9124-4a7a-c072-a267cf6685fe",
        "colab": {
          "base_uri": "https://localhost:8080/"
        }
      },
      "execution_count": null,
      "outputs": [
        {
          "output_type": "execute_result",
          "data": {
            "text/plain": [
              "(10, 2)"
            ]
          },
          "metadata": {},
          "execution_count": 25
        }
      ]
    },
    {
      "cell_type": "code",
      "source": [
        "moja_krotka_1[-2:-4:-1]"
      ],
      "metadata": {
        "id": "uAGPpMde9F7Z",
        "outputId": "3dc7d7d9-591f-4ebe-f743-747ca49eb18b",
        "colab": {
          "base_uri": "https://localhost:8080/"
        }
      },
      "execution_count": null,
      "outputs": [
        {
          "output_type": "execute_result",
          "data": {
            "text/plain": [
              "(2, 10)"
            ]
          },
          "metadata": {},
          "execution_count": 36
        }
      ]
    },
    {
      "cell_type": "code",
      "source": [
        "len(moja_krotka_1)"
      ],
      "metadata": {
        "id": "4y9TJDwc9vbL",
        "outputId": "066206a1-9f7f-4ea2-b3d7-ddecdeef3613",
        "colab": {
          "base_uri": "https://localhost:8080/",
          "height": 182
        }
      },
      "execution_count": null,
      "outputs": [
        {
          "output_type": "error",
          "ename": "TypeError",
          "evalue": "tuple.count() takes exactly one argument (0 given)",
          "traceback": [
            "\u001b[0;31m---------------------------------------------------------------------------\u001b[0m",
            "\u001b[0;31mTypeError\u001b[0m                                 Traceback (most recent call last)",
            "\u001b[0;32m<ipython-input-50-9950a1aa86db>\u001b[0m in \u001b[0;36m<cell line: 0>\u001b[0;34m()\u001b[0m\n\u001b[1;32m      1\u001b[0m \u001b[0mlen\u001b[0m\u001b[0;34m(\u001b[0m\u001b[0mmoja_krotka_1\u001b[0m\u001b[0;34m)\u001b[0m\u001b[0;34m\u001b[0m\u001b[0;34m\u001b[0m\u001b[0m\n\u001b[1;32m      2\u001b[0m \u001b[0;31m# albo\u001b[0m\u001b[0;34m\u001b[0m\u001b[0;34m\u001b[0m\u001b[0m\n\u001b[0;32m----> 3\u001b[0;31m \u001b[0mmoja_krotka_1\u001b[0m\u001b[0;34m.\u001b[0m\u001b[0mcount\u001b[0m\u001b[0;34m(\u001b[0m\u001b[0;34m)\u001b[0m\u001b[0;34m\u001b[0m\u001b[0;34m\u001b[0m\u001b[0m\n\u001b[0m",
            "\u001b[0;31mTypeError\u001b[0m: tuple.count() takes exactly one argument (0 given)"
          ]
        }
      ]
    },
    {
      "cell_type": "code",
      "source": [
        "tuple(reversed(moja_krotka_1))\n",
        "# albo\n",
        "moja_krotka_1[::-1]"
      ],
      "metadata": {
        "id": "PIjVyAtT90Pi",
        "outputId": "ff0e46ed-0b12-4ed6-edec-454afa64315b",
        "colab": {
          "base_uri": "https://localhost:8080/"
        }
      },
      "execution_count": null,
      "outputs": [
        {
          "output_type": "execute_result",
          "data": {
            "text/plain": [
              "(3, 2, 10)"
            ]
          },
          "metadata": {},
          "execution_count": 41
        }
      ]
    },
    {
      "cell_type": "code",
      "source": [
        "2 in moja_krotka_1"
      ],
      "metadata": {
        "id": "MgGSNTLSENTZ",
        "outputId": "5cec6c97-afa5-44a1-abcb-2646b9b9b3ef",
        "colab": {
          "base_uri": "https://localhost:8080/"
        }
      },
      "execution_count": null,
      "outputs": [
        {
          "output_type": "execute_result",
          "data": {
            "text/plain": [
              "True"
            ]
          },
          "metadata": {},
          "execution_count": 55
        }
      ]
    },
    {
      "cell_type": "markdown",
      "source": [
        "Dodatkowe operacje\n",
        "\n",
        "Rozpakowywanie, czyli przypisanie zawartości krotki do kolejnych zmiennych:"
      ],
      "metadata": {
        "id": "6vyQnpAf-GJL"
      }
    },
    {
      "cell_type": "code",
      "source": [
        "x, y, x = moja_krotka_1"
      ],
      "metadata": {
        "id": "S7QYbxp6-KlW"
      },
      "execution_count": null,
      "outputs": []
    },
    {
      "cell_type": "markdown",
      "source": [
        "Jeśli nie potrzebujemy, wszystkich wartości:"
      ],
      "metadata": {
        "id": "3SFkLMI5-tpP"
      }
    },
    {
      "cell_type": "code",
      "source": [
        "# *_ używamy, gdy nie potrzebujemy kolejnych elementów krotki\n",
        "x, *_ = moja_krotka_1"
      ],
      "metadata": {
        "id": "B2lX9P-a-tQ0"
      },
      "execution_count": null,
      "outputs": []
    },
    {
      "cell_type": "code",
      "source": [
        "# _ używamy, gdy nie potrzebujemy dowolnego elementu\n",
        "x, _, y = moja_krotka_1"
      ],
      "metadata": {
        "id": "rWH80uSN-Fdh"
      },
      "execution_count": null,
      "outputs": []
    },
    {
      "cell_type": "code",
      "source": [
        "# *nazwa_listy używamy, gdy chcemy przypisać pozostałe elementy do listy\n",
        "x, *inne = moja_krotka_1"
      ],
      "metadata": {
        "id": "ZtMTxo73-Dxs"
      },
      "execution_count": null,
      "outputs": []
    },
    {
      "cell_type": "code",
      "source": [
        "inne"
      ],
      "metadata": {
        "id": "4m5O6n49_w17",
        "outputId": "8607eded-abcf-402c-b0f9-c9dafb617c05",
        "colab": {
          "base_uri": "https://localhost:8080/"
        }
      },
      "execution_count": null,
      "outputs": [
        {
          "output_type": "execute_result",
          "data": {
            "text/plain": [
              "[2, 3]"
            ]
          },
          "metadata": {},
          "execution_count": 49
        }
      ]
    },
    {
      "cell_type": "markdown",
      "source": [
        "Zliczanie wystąpień elementów:"
      ],
      "metadata": {
        "id": "ETTeGF-4ALV6"
      }
    },
    {
      "cell_type": "code",
      "source": [
        "(2 * moja_krotka_1 + moja_krotka_2).count(2)"
      ],
      "metadata": {
        "id": "FHc1Fod5AK_M",
        "outputId": "0746bd74-bac2-4ad4-f95e-3bd87ac4b409",
        "colab": {
          "base_uri": "https://localhost:8080/"
        }
      },
      "execution_count": null,
      "outputs": [
        {
          "output_type": "execute_result",
          "data": {
            "text/plain": [
              "2"
            ]
          },
          "metadata": {},
          "execution_count": 53
        }
      ]
    },
    {
      "cell_type": "markdown",
      "source": [
        "Możemy również sortować elementy krotki:"
      ],
      "metadata": {
        "id": "8dAPsB5QI8Zv"
      }
    },
    {
      "cell_type": "code",
      "source": [
        "sorted(moja_krotka_1)"
      ],
      "metadata": {
        "id": "n-F5zr_LI7sz",
        "outputId": "e2fb8b0d-e71a-4b06-f14d-0f948b38fbbb",
        "colab": {
          "base_uri": "https://localhost:8080/"
        }
      },
      "execution_count": 3,
      "outputs": [
        {
          "output_type": "execute_result",
          "data": {
            "text/plain": [
              "[2, 3, 10]"
            ]
          },
          "metadata": {},
          "execution_count": 3
        }
      ]
    },
    {
      "cell_type": "markdown",
      "source": [
        "Możemy iterować po kolejnych elementach korzystając z pętli `for`:"
      ],
      "metadata": {
        "id": "CK5Tw319AgH6"
      }
    },
    {
      "cell_type": "code",
      "source": [
        "for element in moja_krotka_1:\n",
        "  print(element)"
      ],
      "metadata": {
        "id": "IVhUNneSAfnp",
        "outputId": "d86488ef-1a38-40a0-f37d-b502a9afe23e",
        "colab": {
          "base_uri": "https://localhost:8080/"
        }
      },
      "execution_count": null,
      "outputs": [
        {
          "output_type": "stream",
          "name": "stdout",
          "text": [
            "10\n",
            "2\n",
            "3\n"
          ]
        }
      ]
    },
    {
      "cell_type": "markdown",
      "source": [
        "Funkcja `zip` umożliwia łączenie krotek:"
      ],
      "metadata": {
        "id": "xaF7zT7tGORP"
      }
    },
    {
      "cell_type": "code",
      "source": [
        "tuple(zip(moja_krotka_1, moja_krotka_2))"
      ],
      "metadata": {
        "id": "24LigyrMGBig",
        "outputId": "773d672f-f6e8-4712-9706-e01d0dd180aa",
        "colab": {
          "base_uri": "https://localhost:8080/"
        }
      },
      "execution_count": null,
      "outputs": [
        {
          "output_type": "execute_result",
          "data": {
            "text/plain": [
              "((10, 5), (2, 6), (3, 7))"
            ]
          },
          "metadata": {},
          "execution_count": 62
        }
      ]
    },
    {
      "cell_type": "markdown",
      "source": [
        "Kolejne odpowiednie elementu krotek łączone są w pary. Elementy o indeksie 0 z `moja_krotka_1` i `moja_krotka_2` trafiają do 0 elementu nowej krotki itd."
      ],
      "metadata": {
        "id": "qd6oaXtEGkMH"
      }
    },
    {
      "cell_type": "markdown",
      "source": [
        "Następnie możemy w prosty sposób rozpakować kolejne elementy naszej zagnieżdżonej krotki:"
      ],
      "metadata": {
        "id": "pXLueI-7G8f2"
      }
    },
    {
      "cell_type": "code",
      "source": [
        "macierz_krotek = tuple(zip(moja_krotka_1, moja_krotka_2))\n",
        "\n",
        "for element_1, element_2 in macierz_krotek:\n",
        "  print(element_1, element_2)"
      ],
      "metadata": {
        "id": "lHZlIRtUG7qd",
        "outputId": "05ed3acf-246c-4f44-9630-9b3dbbf38665",
        "colab": {
          "base_uri": "https://localhost:8080/"
        }
      },
      "execution_count": null,
      "outputs": [
        {
          "output_type": "stream",
          "name": "stdout",
          "text": [
            "10 5\n",
            "2 6\n",
            "3 7\n"
          ]
        }
      ]
    },
    {
      "cell_type": "markdown",
      "source": [
        "Dwuwymiarowe krotki możemy traktować podobnie jak rekordy w tabeli:"
      ],
      "metadata": {
        "id": "_y_pacoZ9-xH"
      }
    },
    {
      "cell_type": "code",
      "source": [
        "stany_magazynowe = (\n",
        "    # nazwa, ilość, cena jednostkowa\n",
        "    (\"Laptop\", 10, 2999.99),\n",
        "    (\"Smartfon\", 25, 1799.99),\n",
        "    (\"Tablet\", 15, 1499.99),\n",
        "    (\"Słuchawki\", 50, 199.99),\n",
        ")"
      ],
      "metadata": {
        "id": "kDRz6ckVD0Qd"
      },
      "execution_count": null,
      "outputs": []
    },
    {
      "cell_type": "markdown",
      "source": [
        "Cena 1. przedmiotu:"
      ],
      "metadata": {
        "id": "YyY6IBrRDzz0"
      }
    },
    {
      "cell_type": "code",
      "source": [
        "stany_magazynowe[0][2]"
      ],
      "metadata": {
        "id": "1mQhx1-pEgZs",
        "outputId": "10edb6c3-0b53-4839-96b6-ea3b6a431da5",
        "colab": {
          "base_uri": "https://localhost:8080/"
        }
      },
      "execution_count": null,
      "outputs": [
        {
          "output_type": "execute_result",
          "data": {
            "text/plain": [
              "2999.99"
            ]
          },
          "metadata": {},
          "execution_count": 59
        }
      ]
    },
    {
      "cell_type": "markdown",
      "source": [
        "Ćwiczenie\n",
        "\n",
        "Dla każdego rekordu w zmiennej `stany_magazynowe` wyświetl nazwę produktu, ilość i cenę jednostkową za pomocą funkcji `print`."
      ],
      "metadata": {
        "id": "bE7DCs1uFBZl"
      }
    },
    {
      "cell_type": "code",
      "source": [
        "#@title Rozwiązanie"
      ],
      "metadata": {
        "id": "c0ZpcdH4Fm-_"
      },
      "execution_count": null,
      "outputs": []
    },
    {
      "cell_type": "code",
      "source": [
        "#@title Podpowiedź\n",
        "\n",
        "for nazwa, ilosc, cena in stany_magazynowe:\n",
        "  print(f\"{nazwa} - ilość: {ilosc}, cena: {cena}\")"
      ],
      "metadata": {
        "id": "WoIepmGcFrUb",
        "outputId": "ddc19162-ccf6-41c8-8960-936a984ee36e",
        "colab": {
          "base_uri": "https://localhost:8080/"
        }
      },
      "execution_count": null,
      "outputs": [
        {
          "output_type": "stream",
          "name": "stdout",
          "text": [
            "Laptop - ilość: 10, cena: 2999.99\n",
            "Smartfon - ilość: 25, cena: 1799.99\n",
            "Tablet - ilość: 15, cena: 1499.99\n",
            "Słuchawki - ilość: 50, cena: 199.99\n"
          ]
        }
      ]
    },
    {
      "cell_type": "markdown",
      "source": [
        "Ćwiczenie\n",
        "\n",
        "Jaka jest wartość całego stanu magazynowego?\n"
      ],
      "metadata": {
        "id": "uFwLXWD3INMG"
      }
    },
    {
      "cell_type": "code",
      "source": [
        "# @title Rozwiązanie"
      ],
      "metadata": {
        "id": "LyVHtNVcIbe_"
      },
      "execution_count": null,
      "outputs": []
    },
    {
      "cell_type": "code",
      "source": [
        "# @title Podpowiedź\n",
        "\n",
        "suma = 0\n",
        "for _, ilosc, cena in stany_magazynowe:\n",
        "  suma += ilosc * cena\n",
        "print(suma)"
      ],
      "metadata": {
        "id": "tw9tum2HIfWU",
        "outputId": "bb61330e-b556-442a-a4d5-57e21b2e2b65",
        "colab": {
          "base_uri": "https://localhost:8080/"
        }
      },
      "execution_count": null,
      "outputs": [
        {
          "output_type": "stream",
          "name": "stdout",
          "text": [
            "107499.0\n"
          ]
        }
      ]
    },
    {
      "cell_type": "markdown",
      "source": [
        "# Listy\n",
        "\n",
        "* mutowalna sekwencja obiektów dowolnego rodzaju\n",
        "* może zawierać różne typy obiektów"
      ],
      "metadata": {
        "id": "hlq7Pz4BLpTJ"
      }
    },
    {
      "cell_type": "markdown",
      "source": [
        "Jak tworzymy?"
      ],
      "metadata": {
        "id": "301lNsEaMBs2"
      }
    },
    {
      "cell_type": "code",
      "source": [
        "# za pomocą nawiasów kwadratowych\n",
        "moja_lista_1 = [1, 2, 3]"
      ],
      "metadata": {
        "id": "_87n2fu6ME8g"
      },
      "execution_count": 4,
      "outputs": []
    },
    {
      "cell_type": "code",
      "source": [
        "# konwersja krotki na listę\n",
        "moja_lista_2 = list((4, 5, 6))"
      ],
      "metadata": {
        "id": "zTQDnHVoMM_O"
      },
      "execution_count": 6,
      "outputs": []
    },
    {
      "cell_type": "code",
      "source": [
        "# może zawierać obiekty różnych typów\n",
        "moja_roznorodna_lista = [1, None, \"Cześć!\", [1, 2], (3, 4)]"
      ],
      "metadata": {
        "id": "Q9fIrmHVMdGF"
      },
      "execution_count": 7,
      "outputs": []
    },
    {
      "cell_type": "code",
      "source": [
        "pusta_lista = []"
      ],
      "metadata": {
        "id": "gdbGBwGSRddi"
      },
      "execution_count": null,
      "outputs": []
    },
    {
      "cell_type": "markdown",
      "source": [
        "Operacja na listach:\n",
        "* takie same jak na krotkach\n",
        "* dodatkowo operacja modyfikacji"
      ],
      "metadata": {
        "id": "SLF84s65M8ir"
      }
    },
    {
      "cell_type": "code",
      "source": [
        "moja_lista_1 + moja_lista_2"
      ],
      "metadata": {
        "id": "ocY1rWqOM78P",
        "outputId": "9ed4a110-d628-4f46-d067-469f91516b32",
        "colab": {
          "base_uri": "https://localhost:8080/"
        }
      },
      "execution_count": 8,
      "outputs": [
        {
          "output_type": "execute_result",
          "data": {
            "text/plain": [
              "[1, 2, 3, 4, 5, 6]"
            ]
          },
          "metadata": {},
          "execution_count": 8
        }
      ]
    },
    {
      "cell_type": "code",
      "source": [
        "5 * moja_lista_1"
      ],
      "metadata": {
        "id": "foMOHJO4Mvl1",
        "outputId": "8b201c38-a506-4b0e-ec29-8a1e13f3c20f",
        "colab": {
          "base_uri": "https://localhost:8080/"
        }
      },
      "execution_count": 9,
      "outputs": [
        {
          "output_type": "execute_result",
          "data": {
            "text/plain": [
              "[1, 2, 3, 1, 2, 3, 1, 2, 3, 1, 2, 3, 1, 2, 3]"
            ]
          },
          "metadata": {},
          "execution_count": 9
        }
      ]
    },
    {
      "cell_type": "code",
      "source": [
        "moja_lista_1[0]"
      ],
      "metadata": {
        "id": "qtegRZygOEYc",
        "outputId": "08400905-337b-4f45-978b-05f282c696fb",
        "colab": {
          "base_uri": "https://localhost:8080/"
        }
      },
      "execution_count": 10,
      "outputs": [
        {
          "output_type": "execute_result",
          "data": {
            "text/plain": [
              "1"
            ]
          },
          "metadata": {},
          "execution_count": 10
        }
      ]
    },
    {
      "cell_type": "code",
      "source": [
        "moja_lista_1[0:2]"
      ],
      "metadata": {
        "id": "A2NJziHiOJEx",
        "outputId": "24b71dc5-bcb8-4a19-af10-38e78e93a621",
        "colab": {
          "base_uri": "https://localhost:8080/"
        }
      },
      "execution_count": 14,
      "outputs": [
        {
          "output_type": "execute_result",
          "data": {
            "text/plain": [
              "[1, 2]"
            ]
          },
          "metadata": {},
          "execution_count": 14
        }
      ]
    },
    {
      "cell_type": "code",
      "source": [
        "a, b, _, *reszta = 2 *moja_lista_1"
      ],
      "metadata": {
        "id": "pbtTapuKOTIA"
      },
      "execution_count": 24,
      "outputs": []
    },
    {
      "cell_type": "code",
      "source": [
        "reszta"
      ],
      "metadata": {
        "id": "xaZmV317OVoX",
        "outputId": "1caa0770-c840-4b06-8a2b-ed924bc15e33",
        "colab": {
          "base_uri": "https://localhost:8080/"
        }
      },
      "execution_count": 25,
      "outputs": [
        {
          "output_type": "execute_result",
          "data": {
            "text/plain": [
              "[1, 2, 3]"
            ]
          },
          "metadata": {},
          "execution_count": 25
        }
      ]
    },
    {
      "cell_type": "code",
      "source": [
        "2 in moja_lista_1"
      ],
      "metadata": {
        "id": "xWRkCwSbRKCV",
        "outputId": "05ebf8b4-8066-4db3-955c-f0e41d393158",
        "colab": {
          "base_uri": "https://localhost:8080/"
        }
      },
      "execution_count": 35,
      "outputs": [
        {
          "output_type": "execute_result",
          "data": {
            "text/plain": [
              "True"
            ]
          },
          "metadata": {},
          "execution_count": 35
        }
      ]
    },
    {
      "cell_type": "code",
      "source": [
        "# łączenie listy w miejscu (tj. z modyfikacją listy)\n",
        "moja_lista_1.extend(moja_lista_2)"
      ],
      "metadata": {
        "id": "CV9jOcH7RSm6"
      },
      "execution_count": 36,
      "outputs": []
    },
    {
      "cell_type": "code",
      "source": [
        "moja_lista_1"
      ],
      "metadata": {
        "id": "Mmup0B49RbeM",
        "outputId": "1fa5a194-eb5c-45f0-f261-43563830e191",
        "colab": {
          "base_uri": "https://localhost:8080/"
        }
      },
      "execution_count": 37,
      "outputs": [
        {
          "output_type": "execute_result",
          "data": {
            "text/plain": [
              "[1, 2, 3, 4, 5, 6]"
            ]
          },
          "metadata": {},
          "execution_count": 37
        }
      ]
    },
    {
      "cell_type": "markdown",
      "source": [
        "Operacje modyfikacji"
      ],
      "metadata": {
        "id": "Ay2OS59FP6VY"
      }
    },
    {
      "cell_type": "code",
      "source": [
        "# dodawawanie elementów na koniec\n",
        "moja_lista_1.append(10)"
      ],
      "metadata": {
        "id": "TBVSP-5QP51Q"
      },
      "execution_count": 26,
      "outputs": []
    },
    {
      "cell_type": "code",
      "source": [
        "moja_lista_1"
      ],
      "metadata": {
        "id": "ZEmlwJHkQenx",
        "outputId": "1d6dd696-9d8d-4257-ec92-b5f9ae1dfb40",
        "colab": {
          "base_uri": "https://localhost:8080/"
        }
      },
      "execution_count": 27,
      "outputs": [
        {
          "output_type": "execute_result",
          "data": {
            "text/plain": [
              "[1, 2, 3, 10]"
            ]
          },
          "metadata": {},
          "execution_count": 27
        }
      ]
    },
    {
      "cell_type": "code",
      "source": [
        "moja_lista_1.insert(3, \"Niespodzianka!\")"
      ],
      "metadata": {
        "id": "T_phivSRQjAW"
      },
      "execution_count": 28,
      "outputs": []
    },
    {
      "cell_type": "code",
      "source": [
        "moja_lista_1"
      ],
      "metadata": {
        "id": "SUimYlRmQwrL",
        "outputId": "d7d5d36e-62ef-4150-e706-f252c35ec4e5",
        "colab": {
          "base_uri": "https://localhost:8080/"
        }
      },
      "execution_count": 29,
      "outputs": [
        {
          "output_type": "execute_result",
          "data": {
            "text/plain": [
              "[1, 2, 3, 'Niespodzianka!', 10]"
            ]
          },
          "metadata": {},
          "execution_count": 29
        }
      ]
    },
    {
      "cell_type": "code",
      "source": [
        "niespodzianka = moja_lista_1.pop(3)"
      ],
      "metadata": {
        "id": "YIwEp2oGQ2jd"
      },
      "execution_count": 30,
      "outputs": []
    },
    {
      "cell_type": "code",
      "source": [
        "moja_lista_1"
      ],
      "metadata": {
        "id": "IdnBIa3qQ6bx",
        "outputId": "b1392534-f7d2-4d91-fa3d-54a1e454eb68",
        "colab": {
          "base_uri": "https://localhost:8080/"
        }
      },
      "execution_count": 31,
      "outputs": [
        {
          "output_type": "execute_result",
          "data": {
            "text/plain": [
              "[1, 2, 3, 10]"
            ]
          },
          "metadata": {},
          "execution_count": 31
        }
      ]
    },
    {
      "cell_type": "code",
      "source": [
        "niespodzianka"
      ],
      "metadata": {
        "id": "3TR_0xPBQ5I1",
        "outputId": "47f36f65-2971-4e40-c064-c45d198b641a",
        "colab": {
          "base_uri": "https://localhost:8080/",
          "height": 36
        }
      },
      "execution_count": 32,
      "outputs": [
        {
          "output_type": "execute_result",
          "data": {
            "text/plain": [
              "'Niespodzianka!'"
            ],
            "application/vnd.google.colaboratory.intrinsic+json": {
              "type": "string"
            }
          },
          "metadata": {},
          "execution_count": 32
        }
      ]
    },
    {
      "cell_type": "code",
      "source": [
        "moja_lista_1.remove(10)"
      ],
      "metadata": {
        "id": "lEmn6oELRCJu"
      },
      "execution_count": 33,
      "outputs": []
    },
    {
      "cell_type": "code",
      "source": [
        "moja_lista_1"
      ],
      "metadata": {
        "id": "xZLY5PcMRGbp",
        "outputId": "d0c8ff29-0597-47bf-c760-284db11741e9",
        "colab": {
          "base_uri": "https://localhost:8080/"
        }
      },
      "execution_count": 34,
      "outputs": [
        {
          "output_type": "execute_result",
          "data": {
            "text/plain": [
              "[1, 2, 3]"
            ]
          },
          "metadata": {},
          "execution_count": 34
        }
      ]
    },
    {
      "cell_type": "markdown",
      "source": [
        "Ćwiczenie\n",
        "\n",
        "Co zwracają następujące wyrażania?\n",
        "* funkcja `len` (np. `len(\"Cześć)`\n",
        "* operator indeksujący `[]` (np. `\"Cześć\"[0]`)\n"
      ],
      "metadata": {
        "id": "j8kT9kLKs2En"
      }
    },
    {
      "cell_type": "code",
      "source": [
        "\"Cześć\"[0]"
      ],
      "metadata": {
        "id": "z5NAJCogs3FL",
        "outputId": "7b576ef9-0a04-4a21-c774-cddfab390ede",
        "colab": {
          "base_uri": "https://localhost:8080/",
          "height": 36
        }
      },
      "execution_count": null,
      "outputs": [
        {
          "output_type": "execute_result",
          "data": {
            "text/plain": [
              "'C'"
            ],
            "application/vnd.google.colaboratory.intrinsic+json": {
              "type": "string"
            }
          },
          "metadata": {},
          "execution_count": 20
        }
      ]
    },
    {
      "cell_type": "code",
      "source": [
        "TODO: join na stringu i liście"
      ],
      "metadata": {
        "id": "ObPI5EbZIrU1"
      },
      "execution_count": null,
      "outputs": []
    }
  ]
}