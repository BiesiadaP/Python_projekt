{
  "nbformat": 4,
  "nbformat_minor": 0,
  "metadata": {
    "colab": {
      "provenance": [],
      "authorship_tag": "ABX9TyMGfeS7rWj35XoEg4D4vMHK",
      "include_colab_link": true
    },
    "kernelspec": {
      "name": "python3",
      "display_name": "Python 3"
    },
    "language_info": {
      "name": "python"
    }
  },
  "cells": [
    {
      "cell_type": "markdown",
      "metadata": {
        "id": "view-in-github",
        "colab_type": "text"
      },
      "source": [
        "<a href=\"https://colab.research.google.com/github/chrispi21/python-dataeng/blob/main/01_typy_danych.ipynb\" target=\"_parent\"><img src=\"https://colab.research.google.com/assets/colab-badge.svg\" alt=\"Open In Colab\"/></a>"
      ]
    },
    {
      "cell_type": "markdown",
      "source": [
        "# Deklarowanie zmiennych - przypomnienie"
      ],
      "metadata": {
        "id": "paMoTr5qEqf6"
      }
    },
    {
      "cell_type": "code",
      "source": [
        "# deklaracja zmiennej typu int\n",
        "x = 7"
      ],
      "metadata": {
        "id": "7bGhrKOzFzrf"
      },
      "execution_count": 11,
      "outputs": []
    },
    {
      "cell_type": "code",
      "source": [
        "# sprawdzenie typu zmiennej\n",
        "type(x)"
      ],
      "metadata": {
        "colab": {
          "base_uri": "https://localhost:8080/"
        },
        "id": "RkhLJ7-sGA35",
        "outputId": "86369af7-a41a-4b49-ab76-c69042a97cf0"
      },
      "execution_count": 2,
      "outputs": [
        {
          "output_type": "execute_result",
          "data": {
            "text/plain": [
              "int"
            ]
          },
          "metadata": {},
          "execution_count": 2
        }
      ]
    },
    {
      "cell_type": "code",
      "source": [
        "# sprawdzenie, czy x jest instancją int\n",
        "isinstance(x, int)"
      ],
      "metadata": {
        "colab": {
          "base_uri": "https://localhost:8080/"
        },
        "id": "vRevKN62GQGF",
        "outputId": "414e0c39-72f0-4e73-b5a2-455a5eb9dbd6"
      },
      "execution_count": 4,
      "outputs": [
        {
          "output_type": "execute_result",
          "data": {
            "text/plain": [
              "True"
            ]
          },
          "metadata": {},
          "execution_count": 4
        }
      ]
    },
    {
      "cell_type": "code",
      "source": [
        "# sprawdzenie adresu zmiennej w pamięci\n",
        "id(x)"
      ],
      "metadata": {
        "colab": {
          "base_uri": "https://localhost:8080/"
        },
        "id": "5sJ25FVjHoH0",
        "outputId": "ff64d74a-b36f-4b1f-b650-2a5c19a8c3f2"
      },
      "execution_count": 13,
      "outputs": [
        {
          "output_type": "execute_result",
          "data": {
            "text/plain": [
              "136183585145264"
            ]
          },
          "metadata": {},
          "execution_count": 13
        }
      ]
    },
    {
      "cell_type": "markdown",
      "source": [
        "Ćwiczenie\n",
        "\n",
        "Utwórz zmienną o dowolnej nazwie i wartości `7.0`. Jakiego typu jest ta zmienna? Co zwraca funkcja `id`?"
      ],
      "metadata": {
        "id": "C-wdcsdTHf_K"
      }
    },
    {
      "cell_type": "code",
      "source": [
        "y = 7.0\n",
        "print(type(y))\n",
        "print(id(y))"
      ],
      "metadata": {
        "colab": {
          "base_uri": "https://localhost:8080/"
        },
        "id": "7orW_LzDInOn",
        "outputId": "91f3f952-65a1-4e31-a399-8ae041ed934c"
      },
      "execution_count": 16,
      "outputs": [
        {
          "output_type": "stream",
          "name": "stdout",
          "text": [
            "<class 'float'>\n",
            "136183289694928\n"
          ]
        }
      ]
    },
    {
      "cell_type": "code",
      "source": [],
      "metadata": {
        "id": "ObPI5EbZIrU1"
      },
      "execution_count": null,
      "outputs": []
    }
  ]
}