{
  "nbformat": 4,
  "nbformat_minor": 0,
  "metadata": {
    "colab": {
      "provenance": [],
      "toc_visible": true,
      "authorship_tag": "ABX9TyM6MoxYKXgk+hKkzWryu79e",
      "include_colab_link": true
    },
    "kernelspec": {
      "name": "python3",
      "display_name": "Python 3"
    },
    "language_info": {
      "name": "python"
    }
  },
  "cells": [
    {
      "cell_type": "markdown",
      "metadata": {
        "id": "view-in-github",
        "colab_type": "text"
      },
      "source": [
        "<a href=\"https://colab.research.google.com/github/chrispi21/python-dataeng/blob/main/01_typy_danych.ipynb\" target=\"_parent\"><img src=\"https://colab.research.google.com/assets/colab-badge.svg\" alt=\"Open In Colab\"/></a>"
      ]
    },
    {
      "cell_type": "markdown",
      "source": [
        "# Deklarowanie zmiennych - przypomnienie"
      ],
      "metadata": {
        "id": "paMoTr5qEqf6"
      }
    },
    {
      "cell_type": "markdown",
      "source": [
        "## Typy numeryczne"
      ],
      "metadata": {
        "id": "Lqf6c2-3uARz"
      }
    },
    {
      "cell_type": "code",
      "source": [
        "# deklaracja zmiennej typu int\n",
        "x = 7"
      ],
      "metadata": {
        "id": "7bGhrKOzFzrf"
      },
      "execution_count": null,
      "outputs": []
    },
    {
      "cell_type": "code",
      "source": [
        "# wyświetlenie zmiennej\n",
        "print(x)"
      ],
      "metadata": {
        "id": "3yJtCLstukrC",
        "outputId": "5597dca5-a026-41ab-bd4b-7105c866de8a",
        "colab": {
          "base_uri": "https://localhost:8080/"
        }
      },
      "execution_count": null,
      "outputs": [
        {
          "output_type": "stream",
          "name": "stdout",
          "text": [
            "7\n"
          ]
        }
      ]
    },
    {
      "cell_type": "code",
      "source": [
        "# sprawdzenie typu zmiennej\n",
        "type(x)"
      ],
      "metadata": {
        "colab": {
          "base_uri": "https://localhost:8080/"
        },
        "id": "RkhLJ7-sGA35",
        "outputId": "86369af7-a41a-4b49-ab76-c69042a97cf0"
      },
      "execution_count": null,
      "outputs": [
        {
          "output_type": "execute_result",
          "data": {
            "text/plain": [
              "int"
            ]
          },
          "metadata": {},
          "execution_count": 2
        }
      ]
    },
    {
      "cell_type": "code",
      "source": [
        "# sprawdzenie, czy x jest instancją int\n",
        "isinstance(x, int)"
      ],
      "metadata": {
        "colab": {
          "base_uri": "https://localhost:8080/"
        },
        "id": "vRevKN62GQGF",
        "outputId": "414e0c39-72f0-4e73-b5a2-455a5eb9dbd6"
      },
      "execution_count": null,
      "outputs": [
        {
          "output_type": "execute_result",
          "data": {
            "text/plain": [
              "True"
            ]
          },
          "metadata": {},
          "execution_count": 4
        }
      ]
    },
    {
      "cell_type": "code",
      "source": [
        "# sprawdzenie adresu zmiennej w pamięci\n",
        "id(x)"
      ],
      "metadata": {
        "colab": {
          "base_uri": "https://localhost:8080/"
        },
        "id": "5sJ25FVjHoH0",
        "outputId": "ff64d74a-b36f-4b1f-b650-2a5c19a8c3f2"
      },
      "execution_count": null,
      "outputs": [
        {
          "output_type": "execute_result",
          "data": {
            "text/plain": [
              "136183585145264"
            ]
          },
          "metadata": {},
          "execution_count": 13
        }
      ]
    },
    {
      "cell_type": "markdown",
      "source": [
        "Ćwiczenie\n",
        "\n",
        "Utwórz zmienną o dowolnej nazwie i wartości `7.0`. Jakiego typu jest ta zmienna? Co zwraca funkcja `id`?"
      ],
      "metadata": {
        "id": "C-wdcsdTHf_K"
      }
    },
    {
      "cell_type": "code",
      "source": [
        "#@title Rozwiązanie\n"
      ],
      "metadata": {
        "id": "Vk0dDCnxslZm"
      },
      "execution_count": null,
      "outputs": []
    },
    {
      "cell_type": "code",
      "source": [
        "#@title Podpowiedź\n",
        "y = 7.0\n",
        "print(type(y))\n",
        "print(id(y))"
      ],
      "metadata": {
        "colab": {
          "base_uri": "https://localhost:8080/"
        },
        "id": "7orW_LzDInOn",
        "outputId": "edcbfc0f-da83-48f5-8c94-fd06ced54521",
        "cellView": "form"
      },
      "execution_count": null,
      "outputs": [
        {
          "output_type": "stream",
          "name": "stdout",
          "text": [
            "<class 'float'>\n",
            "137898858149424\n"
          ]
        }
      ]
    },
    {
      "cell_type": "markdown",
      "source": [
        "# Typ `None`"
      ],
      "metadata": {
        "id": "mLDc1pPl25kR"
      }
    },
    {
      "cell_type": "code",
      "source": [
        "wartosc_nieokreslona = None\n",
        "wartosc_okreslona = 100"
      ],
      "metadata": {
        "id": "KEcg4xI324eg"
      },
      "execution_count": null,
      "outputs": []
    },
    {
      "cell_type": "code",
      "source": [
        "wartosc_okreslona is None"
      ],
      "metadata": {
        "id": "61fKABsD3YuQ",
        "outputId": "42eb2f8d-30f3-44e1-b877-7be7f24a8f8c",
        "colab": {
          "base_uri": "https://localhost:8080/"
        }
      },
      "execution_count": null,
      "outputs": [
        {
          "output_type": "execute_result",
          "data": {
            "text/plain": [
              "False"
            ]
          },
          "metadata": {},
          "execution_count": 5
        }
      ]
    },
    {
      "cell_type": "code",
      "source": [
        "wartosc_nieokreslona is None"
      ],
      "metadata": {
        "id": "vGCela0i3odg",
        "outputId": "91e93613-893c-4212-c06b-dab45934532e",
        "colab": {
          "base_uri": "https://localhost:8080/"
        }
      },
      "execution_count": null,
      "outputs": [
        {
          "output_type": "execute_result",
          "data": {
            "text/plain": [
              "True"
            ]
          },
          "metadata": {},
          "execution_count": 6
        }
      ]
    },
    {
      "cell_type": "markdown",
      "source": [
        "## Łańcuchy znaków (string)\n",
        "\n",
        "Teraz utworzymy zmienną `m` z miesiącem naszych urodzin:"
      ],
      "metadata": {
        "id": "imfJTrhXtg2i"
      }
    },
    {
      "cell_type": "code",
      "source": [
        "m = \"nazwa miesiąca\" # należy zamienić tę wartość"
      ],
      "metadata": {
        "id": "uxnmfMGRt72E"
      },
      "execution_count": null,
      "outputs": []
    },
    {
      "cell_type": "markdown",
      "source": [
        "A następnie z numerem dnia miesiąca:"
      ],
      "metadata": {
        "id": "MVLKXjI8u0iS"
      }
    },
    {
      "cell_type": "code",
      "source": [
        "d = 0 # należy zamienić tę wartość"
      ],
      "metadata": {
        "id": "IwmT4Vhnu6UK"
      },
      "execution_count": null,
      "outputs": []
    },
    {
      "cell_type": "markdown",
      "source": [
        "Połączymy dwa łańcuchy znaków (konkatenacja):"
      ],
      "metadata": {
        "id": "_ClCJGryvOH5"
      }
    },
    {
      "cell_type": "code",
      "source": [
        "# sposób nr 1 - operator +\n",
        "\"Urodziłem się w miesiącu: \" + m"
      ],
      "metadata": {
        "id": "zOC2gQgpvGmM",
        "outputId": "00e0ff4d-09f9-462a-9537-2b41b52b8b62",
        "colab": {
          "base_uri": "https://localhost:8080/",
          "height": 36
        }
      },
      "execution_count": null,
      "outputs": [
        {
          "output_type": "execute_result",
          "data": {
            "text/plain": [
              "'Urodziłem się w miesiącu: nazwa miesiąca'"
            ],
            "application/vnd.google.colaboratory.intrinsic+json": {
              "type": "string"
            }
          },
          "metadata": {},
          "execution_count": 18
        }
      ]
    },
    {
      "cell_type": "markdown",
      "source": [
        "Co się stanie, gdy zamiast zmiennej `m` użyjemy `d`? Sprawdźmy!"
      ],
      "metadata": {
        "id": "NyIr5fygyBq0"
      }
    },
    {
      "cell_type": "code",
      "source": [
        "# miejsce na eksperyment\n"
      ],
      "metadata": {
        "id": "qHWmfBYpx_TX"
      },
      "execution_count": null,
      "outputs": []
    },
    {
      "cell_type": "code",
      "source": [
        "# sposób nr 2 - f-string (formatted string)\n",
        "f\"Urodziłem się w miesiącu: {m}\""
      ],
      "metadata": {
        "id": "kFuKcIeEvZ3L",
        "outputId": "5e6081bf-bfcc-413a-d459-fb79e1f8fbf7",
        "colab": {
          "base_uri": "https://localhost:8080/",
          "height": 36
        }
      },
      "execution_count": null,
      "outputs": [
        {
          "output_type": "execute_result",
          "data": {
            "text/plain": [
              "'Urodziłem się w miesiącu: nazwa miesiąca'"
            ],
            "application/vnd.google.colaboratory.intrinsic+json": {
              "type": "string"
            }
          },
          "metadata": {},
          "execution_count": 11
        }
      ]
    },
    {
      "cell_type": "markdown",
      "source": [
        "Ćwiczenie\n",
        "\n",
        "Utwórz jeden łańcuch znaków z dniem miesiąca i nazwą miesiąca urodzin oraz dowolnym innym ciągniem znaków.\n"
      ],
      "metadata": {
        "id": "nAdaTIpJv4vI"
      }
    },
    {
      "cell_type": "code",
      "source": [
        "#@title Rozwiązanie"
      ],
      "metadata": {
        "id": "zEbb1W4vwpEc"
      },
      "execution_count": null,
      "outputs": []
    },
    {
      "cell_type": "code",
      "source": [
        "#@title Podpowiedź\n",
        "\n",
        "f\"Dzień i miesiąc urodzin: {d} {m}\"\n",
        "\"Dzień i miesiąc urodzin: \" + str(d) + \" \" + m"
      ],
      "metadata": {
        "id": "7HRwGZG0wnn3",
        "outputId": "4fe44bca-3254-4a86-a349-1737e5d70617",
        "colab": {
          "base_uri": "https://localhost:8080/",
          "height": 36
        }
      },
      "execution_count": null,
      "outputs": [
        {
          "output_type": "execute_result",
          "data": {
            "text/plain": [
              "'Dzień i miesiąc urodzin: 0 nazwa miesiąca'"
            ],
            "application/vnd.google.colaboratory.intrinsic+json": {
              "type": "string"
            }
          },
          "metadata": {},
          "execution_count": 16
        }
      ]
    },
    {
      "cell_type": "markdown",
      "source": [
        "Sprawdźmy co robi funkcja `len`:"
      ],
      "metadata": {
        "id": "6VqaKwHtzRpa"
      }
    },
    {
      "cell_type": "code",
      "source": [
        "powitanie=\"Dzień dobry!\"\n",
        "len(powitanie)"
      ],
      "metadata": {
        "id": "NstZ9jfWzPFh",
        "outputId": "fba6a14d-95f6-4a51-a4d2-8be400eb97f0",
        "colab": {
          "base_uri": "https://localhost:8080/"
        }
      },
      "execution_count": null,
      "outputs": [
        {
          "output_type": "execute_result",
          "data": {
            "text/plain": [
              "12"
            ]
          },
          "metadata": {},
          "execution_count": 1
        }
      ]
    },
    {
      "cell_type": "markdown",
      "source": [
        "Python umożliwia wiele operacji na typie `string`:\n",
        "* zwracanie pojedynczych znaków\n",
        "* zwracanie podciągów z danego ciągu\n",
        "* sprawdzanie, czy ciag znaków zawiera inny ciag\n",
        "* zmianę kolejności\n",
        "\n",
        "Analogiczne operacje można również wykonywać na innych kolekcjach (np. listy).\n",
        "\n",
        "Sprawdźmy, co zwraca następujące wyrażenia, dla różnych wartości indeksu:"
      ],
      "metadata": {
        "id": "BrGETJ_wz6ZJ"
      }
    },
    {
      "cell_type": "code",
      "source": [
        "# przetestujmy: 0, 1, 100, -1, -2, itd.\n",
        "powitanie[0]"
      ],
      "metadata": {
        "id": "KpeKMQUNz5bE",
        "outputId": "9685d613-61cf-4af2-9825-ab003f305ca4",
        "colab": {
          "base_uri": "https://localhost:8080/",
          "height": 36
        }
      },
      "execution_count": null,
      "outputs": [
        {
          "output_type": "execute_result",
          "data": {
            "text/plain": [
              "'D'"
            ],
            "application/vnd.google.colaboratory.intrinsic+json": {
              "type": "string"
            }
          },
          "metadata": {},
          "execution_count": 7
        }
      ]
    },
    {
      "cell_type": "markdown",
      "source": [
        "Wyświetlmy indeksy i kolejne litery zawarte w zmiennej `powitanie`:"
      ],
      "metadata": {
        "id": "gY9yHjGTb3tm"
      }
    },
    {
      "cell_type": "code",
      "source": [
        "for index, litera in enumerate(powitanie):\n",
        "  print(f\"{index}: {litera}\")"
      ],
      "metadata": {
        "id": "AIoB4LitbMyu",
        "outputId": "737cfce0-4855-4919-a2cb-2101448dd1c1",
        "colab": {
          "base_uri": "https://localhost:8080/"
        }
      },
      "execution_count": null,
      "outputs": [
        {
          "output_type": "stream",
          "name": "stdout",
          "text": [
            "0: D\n",
            "1: z\n",
            "2: i\n",
            "3: e\n",
            "4: ń\n",
            "5:  \n",
            "6: d\n",
            "7: o\n",
            "8: b\n",
            "9: r\n",
            "10: y\n",
            "11: !\n"
          ]
        }
      ]
    },
    {
      "cell_type": "code",
      "source": [
        "# Jeśli potrzebujemy pomocy\n",
        "enumerate?"
      ],
      "metadata": {
        "id": "RYhtGpVgcU--"
      },
      "execution_count": null,
      "outputs": []
    },
    {
      "cell_type": "code",
      "source": [
        "help(enumerate)"
      ],
      "metadata": {
        "id": "Ym4bfaIyc3rR",
        "outputId": "3b2e200b-6a04-45da-a8e7-2e0e6bd13f40",
        "colab": {
          "base_uri": "https://localhost:8080/"
        }
      },
      "execution_count": null,
      "outputs": [
        {
          "output_type": "stream",
          "name": "stdout",
          "text": [
            "Help on class enumerate in module builtins:\n",
            "\n",
            "class enumerate(object)\n",
            " |  enumerate(iterable, start=0)\n",
            " |  \n",
            " |  Return an enumerate object.\n",
            " |  \n",
            " |    iterable\n",
            " |      an object supporting iteration\n",
            " |  \n",
            " |  The enumerate object yields pairs containing a count (from start, which\n",
            " |  defaults to zero) and a value yielded by the iterable argument.\n",
            " |  \n",
            " |  enumerate is useful for obtaining an indexed list:\n",
            " |      (0, seq[0]), (1, seq[1]), (2, seq[2]), ...\n",
            " |  \n",
            " |  Methods defined here:\n",
            " |  \n",
            " |  __getattribute__(self, name, /)\n",
            " |      Return getattr(self, name).\n",
            " |  \n",
            " |  __iter__(self, /)\n",
            " |      Implement iter(self).\n",
            " |  \n",
            " |  __next__(self, /)\n",
            " |      Implement next(self).\n",
            " |  \n",
            " |  __reduce__(...)\n",
            " |      Return state information for pickling.\n",
            " |  \n",
            " |  ----------------------------------------------------------------------\n",
            " |  Class methods defined here:\n",
            " |  \n",
            " |  __class_getitem__(...)\n",
            " |      See PEP 585\n",
            " |  \n",
            " |  ----------------------------------------------------------------------\n",
            " |  Static methods defined here:\n",
            " |  \n",
            " |  __new__(*args, **kwargs)\n",
            " |      Create and return a new object.  See help(type) for accurate signature.\n",
            "\n"
          ]
        }
      ]
    },
    {
      "cell_type": "markdown",
      "source": [
        "Możemy również zwracać fragmentu łańcucha znaków:"
      ],
      "metadata": {
        "id": "EZSPB4WLZ76Q"
      }
    },
    {
      "cell_type": "code",
      "source": [
        "powitanie[6:11]"
      ],
      "metadata": {
        "id": "bPasu7nLaEjr",
        "outputId": "63a7b5d9-4932-4127-b1b1-cfbf1cdeff0d",
        "colab": {
          "base_uri": "https://localhost:8080/",
          "height": 36
        }
      },
      "execution_count": null,
      "outputs": [
        {
          "output_type": "execute_result",
          "data": {
            "text/plain": [
              "'dobry'"
            ],
            "application/vnd.google.colaboratory.intrinsic+json": {
              "type": "string"
            }
          },
          "metadata": {},
          "execution_count": 24
        }
      ]
    },
    {
      "cell_type": "markdown",
      "source": [
        "Kolejne przykłady:"
      ],
      "metadata": {
        "id": "Bs1mbO5Pa9vZ"
      }
    },
    {
      "cell_type": "code",
      "source": [
        "powitanie[11:6]\n",
        "powitanie[-6:-1]\n",
        "powitanie[1:9:3]\n",
        "powitanie[::-1]"
      ],
      "metadata": {
        "id": "2YlzEK0gaEWr",
        "outputId": "305b311c-c05f-489b-921e-45f847d405b8",
        "colab": {
          "base_uri": "https://localhost:8080/",
          "height": 36
        }
      },
      "execution_count": null,
      "outputs": [
        {
          "output_type": "execute_result",
          "data": {
            "text/plain": [
              "'!yrbod ńeizD'"
            ],
            "application/vnd.google.colaboratory.intrinsic+json": {
              "type": "string"
            }
          },
          "metadata": {},
          "execution_count": 47
        }
      ]
    },
    {
      "cell_type": "markdown",
      "source": [
        "Co się stanie jak pomnożymy `powitanie`?"
      ],
      "metadata": {
        "id": "_Q-wjZKbefMk"
      }
    },
    {
      "cell_type": "code",
      "source": [
        "5*powitanie"
      ],
      "metadata": {
        "id": "VHhcwzHzeec6",
        "outputId": "dfbfa69f-046c-4d1e-e6d9-68078b27261b",
        "colab": {
          "base_uri": "https://localhost:8080/",
          "height": 36
        }
      },
      "execution_count": null,
      "outputs": [
        {
          "output_type": "execute_result",
          "data": {
            "text/plain": [
              "'Dzień dobry!Dzień dobry!Dzień dobry!Dzień dobry!Dzień dobry!'"
            ],
            "application/vnd.google.colaboratory.intrinsic+json": {
              "type": "string"
            }
          },
          "metadata": {},
          "execution_count": 41
        }
      ]
    },
    {
      "cell_type": "markdown",
      "source": [
        "Jak najprościej zamienić ciąg znaków?"
      ],
      "metadata": {
        "id": "pRO0xQGlfb8I"
      }
    },
    {
      "cell_type": "code",
      "source": [
        "powitanie.replace(\"dobry\", \"babci\")"
      ],
      "metadata": {
        "id": "y8l7M6VpfZPa",
        "outputId": "0ce257e7-5830-49f5-b559-ad11ca7bf4ec",
        "colab": {
          "base_uri": "https://localhost:8080/",
          "height": 36
        }
      },
      "execution_count": null,
      "outputs": [
        {
          "output_type": "execute_result",
          "data": {
            "text/plain": [
              "'Dzień babci!'"
            ],
            "application/vnd.google.colaboratory.intrinsic+json": {
              "type": "string"
            }
          },
          "metadata": {},
          "execution_count": 42
        }
      ]
    },
    {
      "cell_type": "markdown",
      "source": [
        "Jak sprawdzić, czy ciąg znaków znajduje się w innym ciągu znaków?"
      ],
      "metadata": {
        "id": "UTta8Ce1fuS0"
      }
    },
    {
      "cell_type": "code",
      "source": [
        "\"Dzień\" in powitanie"
      ],
      "metadata": {
        "id": "crIvPPmnftX-",
        "outputId": "10927768-af30-4d66-c2ca-fbcb5fe552eb",
        "colab": {
          "base_uri": "https://localhost:8080/"
        }
      },
      "execution_count": null,
      "outputs": [
        {
          "output_type": "execute_result",
          "data": {
            "text/plain": [
              "True"
            ]
          },
          "metadata": {},
          "execution_count": 43
        }
      ]
    },
    {
      "cell_type": "markdown",
      "source": [
        "Łańcuchy znaków można porównywać:"
      ],
      "metadata": {
        "id": "ovMCwh3Hj0_C"
      }
    },
    {
      "cell_type": "code",
      "source": [
        "\"Dzień\" == \"dobry\""
      ],
      "metadata": {
        "id": "2kfsZOUmjz8C",
        "outputId": "0c35229d-0450-49fe-ecf6-1f48aed1779c",
        "colab": {
          "base_uri": "https://localhost:8080/"
        }
      },
      "execution_count": null,
      "outputs": [
        {
          "output_type": "execute_result",
          "data": {
            "text/plain": [
              "False"
            ]
          },
          "metadata": {},
          "execution_count": 58
        }
      ]
    },
    {
      "cell_type": "markdown",
      "source": [
        "Wiele linii - to nie problem:"
      ],
      "metadata": {
        "id": "1J7SWy2YgQhY"
      }
    },
    {
      "cell_type": "code",
      "source": [
        "\"\"\"Bardzo długi tekst.\n",
        "Podzielony na wiele linii.\"\"\""
      ],
      "metadata": {
        "id": "Tba25Oq_gYHd",
        "outputId": "2e987148-5c9b-408c-f001-c15c5182ae52",
        "colab": {
          "base_uri": "https://localhost:8080/",
          "height": 36
        }
      },
      "execution_count": null,
      "outputs": [
        {
          "output_type": "execute_result",
          "data": {
            "text/plain": [
              "'Bardzo długi tekst.\\nPodzielony na wiele linii.'"
            ],
            "application/vnd.google.colaboratory.intrinsic+json": {
              "type": "string"
            }
          },
          "metadata": {},
          "execution_count": 45
        }
      ]
    },
    {
      "cell_type": "markdown",
      "source": [
        "Ćwiczenie\n",
        "\n",
        "Sprawdź, czy poniższe wyrażenie jest palindromem."
      ],
      "metadata": {
        "id": "oI1vx8k2dVYc"
      }
    },
    {
      "cell_type": "code",
      "source": [
        "czy_palindrom = \"może jutro ta dama da tortu jeżom\""
      ],
      "metadata": {
        "id": "PULPUV4yziJn",
        "outputId": "f9070a4e-b8fc-42d1-807a-a7a872dbb974",
        "colab": {
          "base_uri": "https://localhost:8080/"
        }
      },
      "execution_count": null,
      "outputs": [
        {
          "output_type": "execute_result",
          "data": {
            "text/plain": [
              "True"
            ]
          },
          "metadata": {},
          "execution_count": 56
        }
      ]
    },
    {
      "cell_type": "code",
      "source": [
        "#@title Rozwiązanie\n",
        "\n"
      ],
      "metadata": {
        "id": "p5hIg-Q8jY1e"
      },
      "execution_count": null,
      "outputs": []
    },
    {
      "cell_type": "code",
      "source": [
        "#@title Podpowiedź\n",
        "\n",
        "czy_palindrom.replace(\" \", \"\") == czy_palindrom.replace(\" \", \"\")[::-1]"
      ],
      "metadata": {
        "id": "qhNAVqETjX_E",
        "outputId": "6123072c-131c-4853-f2f8-8d870fdef505",
        "colab": {
          "base_uri": "https://localhost:8080/"
        }
      },
      "execution_count": null,
      "outputs": [
        {
          "output_type": "execute_result",
          "data": {
            "text/plain": [
              "True"
            ]
          },
          "metadata": {},
          "execution_count": 57
        }
      ]
    },
    {
      "cell_type": "markdown",
      "source": [
        "# Krotki (tuple)\n",
        "\n",
        "* niemutowalna sekwencja obiektów dowolnego rodzaju\n",
        "* może zawierać różne typy obiektów"
      ],
      "metadata": {
        "id": "ByOfF2gO4KL2"
      }
    },
    {
      "cell_type": "code",
      "source": [
        "# Jak tworzymy?\n",
        "moja_krotka_1 = 1, 2, 3"
      ],
      "metadata": {
        "id": "kHr94UfV4JqR"
      },
      "execution_count": null,
      "outputs": []
    },
    {
      "cell_type": "code",
      "source": [
        "moja_krotka_2 = (5, 6, 7, 8)"
      ],
      "metadata": {
        "id": "0vNUVARp43wR"
      },
      "execution_count": null,
      "outputs": []
    },
    {
      "cell_type": "code",
      "source": [
        "moja_krotka_3 = (None, 7, \"Cześć\")"
      ],
      "metadata": {
        "id": "wDorRt3A48Wd"
      },
      "execution_count": null,
      "outputs": []
    },
    {
      "cell_type": "code",
      "source": [
        "moja_krotka_4 = ((1, 2), (3, 4, 5))"
      ],
      "metadata": {
        "id": "Az7B2LE_5DQM"
      },
      "execution_count": null,
      "outputs": []
    },
    {
      "cell_type": "code",
      "source": [
        "# Dlatego trzeba uważać!!!\n",
        "moja_krotka_5 = 0,"
      ],
      "metadata": {
        "id": "Ueswcsth5Kqn"
      },
      "execution_count": null,
      "outputs": []
    },
    {
      "cell_type": "code",
      "source": [
        "moja_krotka_6 = tuple(\"Cześć!\")"
      ],
      "metadata": {
        "id": "F0ffvIP05W_U"
      },
      "execution_count": null,
      "outputs": []
    },
    {
      "cell_type": "markdown",
      "source": [
        "To nie zadziała:"
      ],
      "metadata": {
        "id": "3_Gq4RjX5yvo"
      }
    },
    {
      "cell_type": "code",
      "source": [
        "moja_krotka_1[0] = 10"
      ],
      "metadata": {
        "id": "uQASV1r65fkj",
        "outputId": "ff1967b8-9ac3-4f9c-d886-ceae485972aa",
        "colab": {
          "base_uri": "https://localhost:8080/",
          "height": 146
        }
      },
      "execution_count": null,
      "outputs": [
        {
          "output_type": "error",
          "ename": "TypeError",
          "evalue": "'tuple' object does not support item assignment",
          "traceback": [
            "\u001b[0;31m---------------------------------------------------------------------------\u001b[0m",
            "\u001b[0;31mTypeError\u001b[0m                                 Traceback (most recent call last)",
            "\u001b[0;32m<ipython-input-19-f887d270d62c>\u001b[0m in \u001b[0;36m<cell line: 0>\u001b[0;34m()\u001b[0m\n\u001b[0;32m----> 1\u001b[0;31m \u001b[0mmoja_krotka_1\u001b[0m\u001b[0;34m[\u001b[0m\u001b[0;36m0\u001b[0m\u001b[0;34m]\u001b[0m \u001b[0;34m=\u001b[0m \u001b[0;36m10\u001b[0m\u001b[0;34m\u001b[0m\u001b[0;34m\u001b[0m\u001b[0m\n\u001b[0m",
            "\u001b[0;31mTypeError\u001b[0m: 'tuple' object does not support item assignment"
          ]
        }
      ]
    },
    {
      "cell_type": "markdown",
      "source": [
        "A to już tak:"
      ],
      "metadata": {
        "id": "GaRNKaRm6UD5"
      }
    },
    {
      "cell_type": "code",
      "source": [
        "moja_krotka_1 = 10, 2, 3"
      ],
      "metadata": {
        "id": "Z-O0IdTs6SvX"
      },
      "execution_count": null,
      "outputs": []
    },
    {
      "cell_type": "markdown",
      "source": [
        "Sprawdźmy jak działają poznane wcześniej funkcji i operatory, z których korzystaliśmy do manipulowania łańcuchami znaków:"
      ],
      "metadata": {
        "id": "SnkZGrWz6AaB"
      }
    },
    {
      "cell_type": "code",
      "source": [
        "moja_krotka_1 + moja_krotka_2"
      ],
      "metadata": {
        "id": "v4ZMD-9J5_tg",
        "outputId": "cfcf9229-e864-4217-909f-dd220cf8a3da",
        "colab": {
          "base_uri": "https://localhost:8080/"
        }
      },
      "execution_count": null,
      "outputs": [
        {
          "output_type": "execute_result",
          "data": {
            "text/plain": [
              "(10, 2, 3, 5, 6, 7, 8)"
            ]
          },
          "metadata": {},
          "execution_count": 21
        }
      ]
    },
    {
      "cell_type": "code",
      "source": [
        "2*moja_krotka_1"
      ],
      "metadata": {
        "id": "kSaS3kHc8T_E",
        "outputId": "64b4ce8d-6b98-430a-c359-ca1d261e79b4",
        "colab": {
          "base_uri": "https://localhost:8080/"
        }
      },
      "execution_count": null,
      "outputs": [
        {
          "output_type": "execute_result",
          "data": {
            "text/plain": [
              "(10, 2, 3, 10, 2, 3)"
            ]
          },
          "metadata": {},
          "execution_count": 22
        }
      ]
    },
    {
      "cell_type": "code",
      "source": [
        "moja_krotka_1[0]"
      ],
      "metadata": {
        "id": "seyilhvZ8sBD",
        "outputId": "cfd7da03-466b-4f58-de4e-d8c0ba54d3e8",
        "colab": {
          "base_uri": "https://localhost:8080/"
        }
      },
      "execution_count": null,
      "outputs": [
        {
          "output_type": "execute_result",
          "data": {
            "text/plain": [
              "10"
            ]
          },
          "metadata": {},
          "execution_count": 23
        }
      ]
    },
    {
      "cell_type": "code",
      "source": [
        "moja_krotka_1[-1]"
      ],
      "metadata": {
        "id": "yShqUT2L82U5",
        "outputId": "5d291ce2-b9c8-4a43-a133-8f5169cf43a1",
        "colab": {
          "base_uri": "https://localhost:8080/"
        }
      },
      "execution_count": null,
      "outputs": [
        {
          "output_type": "execute_result",
          "data": {
            "text/plain": [
              "3"
            ]
          },
          "metadata": {},
          "execution_count": 24
        }
      ]
    },
    {
      "cell_type": "code",
      "source": [
        "moja_krotka_1[0:2]"
      ],
      "metadata": {
        "id": "pC5BYSRF8_ab",
        "outputId": "f39a2f88-9124-4a7a-c072-a267cf6685fe",
        "colab": {
          "base_uri": "https://localhost:8080/"
        }
      },
      "execution_count": null,
      "outputs": [
        {
          "output_type": "execute_result",
          "data": {
            "text/plain": [
              "(10, 2)"
            ]
          },
          "metadata": {},
          "execution_count": 25
        }
      ]
    },
    {
      "cell_type": "code",
      "source": [
        "moja_krotka_1[-2:-4:-1]"
      ],
      "metadata": {
        "id": "uAGPpMde9F7Z",
        "outputId": "3dc7d7d9-591f-4ebe-f743-747ca49eb18b",
        "colab": {
          "base_uri": "https://localhost:8080/"
        }
      },
      "execution_count": null,
      "outputs": [
        {
          "output_type": "execute_result",
          "data": {
            "text/plain": [
              "(2, 10)"
            ]
          },
          "metadata": {},
          "execution_count": 36
        }
      ]
    },
    {
      "cell_type": "code",
      "source": [
        "len(moja_krotka_1)"
      ],
      "metadata": {
        "id": "4y9TJDwc9vbL",
        "outputId": "066206a1-9f7f-4ea2-b3d7-ddecdeef3613",
        "colab": {
          "base_uri": "https://localhost:8080/",
          "height": 182
        }
      },
      "execution_count": null,
      "outputs": [
        {
          "output_type": "error",
          "ename": "TypeError",
          "evalue": "tuple.count() takes exactly one argument (0 given)",
          "traceback": [
            "\u001b[0;31m---------------------------------------------------------------------------\u001b[0m",
            "\u001b[0;31mTypeError\u001b[0m                                 Traceback (most recent call last)",
            "\u001b[0;32m<ipython-input-50-9950a1aa86db>\u001b[0m in \u001b[0;36m<cell line: 0>\u001b[0;34m()\u001b[0m\n\u001b[1;32m      1\u001b[0m \u001b[0mlen\u001b[0m\u001b[0;34m(\u001b[0m\u001b[0mmoja_krotka_1\u001b[0m\u001b[0;34m)\u001b[0m\u001b[0;34m\u001b[0m\u001b[0;34m\u001b[0m\u001b[0m\n\u001b[1;32m      2\u001b[0m \u001b[0;31m# albo\u001b[0m\u001b[0;34m\u001b[0m\u001b[0;34m\u001b[0m\u001b[0m\n\u001b[0;32m----> 3\u001b[0;31m \u001b[0mmoja_krotka_1\u001b[0m\u001b[0;34m.\u001b[0m\u001b[0mcount\u001b[0m\u001b[0;34m(\u001b[0m\u001b[0;34m)\u001b[0m\u001b[0;34m\u001b[0m\u001b[0;34m\u001b[0m\u001b[0m\n\u001b[0m",
            "\u001b[0;31mTypeError\u001b[0m: tuple.count() takes exactly one argument (0 given)"
          ]
        }
      ]
    },
    {
      "cell_type": "code",
      "source": [
        "tuple(reversed(moja_krotka_1))\n",
        "# albo\n",
        "moja_krotka_1[::-1]"
      ],
      "metadata": {
        "id": "PIjVyAtT90Pi",
        "outputId": "ff0e46ed-0b12-4ed6-edec-454afa64315b",
        "colab": {
          "base_uri": "https://localhost:8080/"
        }
      },
      "execution_count": null,
      "outputs": [
        {
          "output_type": "execute_result",
          "data": {
            "text/plain": [
              "(3, 2, 10)"
            ]
          },
          "metadata": {},
          "execution_count": 41
        }
      ]
    },
    {
      "cell_type": "code",
      "source": [
        "2 in moja_krotka_1"
      ],
      "metadata": {
        "id": "MgGSNTLSENTZ",
        "outputId": "5cec6c97-afa5-44a1-abcb-2646b9b9b3ef",
        "colab": {
          "base_uri": "https://localhost:8080/"
        }
      },
      "execution_count": null,
      "outputs": [
        {
          "output_type": "execute_result",
          "data": {
            "text/plain": [
              "True"
            ]
          },
          "metadata": {},
          "execution_count": 55
        }
      ]
    },
    {
      "cell_type": "markdown",
      "source": [
        "Dodatkowe operacje\n",
        "\n",
        "Rozpakowywanie, czyli przypisanie zawartości krotki do kolejnych zmiennych:"
      ],
      "metadata": {
        "id": "6vyQnpAf-GJL"
      }
    },
    {
      "cell_type": "code",
      "source": [
        "x, y, x = moja_krotka_1"
      ],
      "metadata": {
        "id": "S7QYbxp6-KlW"
      },
      "execution_count": null,
      "outputs": []
    },
    {
      "cell_type": "markdown",
      "source": [
        "Jeśli nie potrzebujemy, wszystkich wartości:"
      ],
      "metadata": {
        "id": "3SFkLMI5-tpP"
      }
    },
    {
      "cell_type": "code",
      "source": [
        "# *_ używamy, gdy nie potrzebujemy kolejnych elementów krotki\n",
        "x, *_ = moja_krotka_1"
      ],
      "metadata": {
        "id": "B2lX9P-a-tQ0"
      },
      "execution_count": null,
      "outputs": []
    },
    {
      "cell_type": "code",
      "source": [
        "# _ używamy, gdy nie potrzebujemy dowolnego elementu\n",
        "x, _, y = moja_krotka_1"
      ],
      "metadata": {
        "id": "rWH80uSN-Fdh"
      },
      "execution_count": null,
      "outputs": []
    },
    {
      "cell_type": "code",
      "source": [
        "# *nazwa_listy używamy, gdy chcemy przypisać pozostałe elementy do listy\n",
        "x, *inne = moja_krotka_1"
      ],
      "metadata": {
        "id": "ZtMTxo73-Dxs"
      },
      "execution_count": null,
      "outputs": []
    },
    {
      "cell_type": "code",
      "source": [
        "inne"
      ],
      "metadata": {
        "id": "4m5O6n49_w17",
        "outputId": "8607eded-abcf-402c-b0f9-c9dafb617c05",
        "colab": {
          "base_uri": "https://localhost:8080/"
        }
      },
      "execution_count": null,
      "outputs": [
        {
          "output_type": "execute_result",
          "data": {
            "text/plain": [
              "[2, 3]"
            ]
          },
          "metadata": {},
          "execution_count": 49
        }
      ]
    },
    {
      "cell_type": "markdown",
      "source": [
        "Zliczanie wystąpień elementów:"
      ],
      "metadata": {
        "id": "ETTeGF-4ALV6"
      }
    },
    {
      "cell_type": "code",
      "source": [
        "(2 * moja_krotka_1 + moja_krotka_2).count(2)"
      ],
      "metadata": {
        "id": "FHc1Fod5AK_M",
        "outputId": "0746bd74-bac2-4ad4-f95e-3bd87ac4b409",
        "colab": {
          "base_uri": "https://localhost:8080/"
        }
      },
      "execution_count": null,
      "outputs": [
        {
          "output_type": "execute_result",
          "data": {
            "text/plain": [
              "2"
            ]
          },
          "metadata": {},
          "execution_count": 53
        }
      ]
    },
    {
      "cell_type": "markdown",
      "source": [
        "Możemy również sortować elementy krotki:"
      ],
      "metadata": {
        "id": "8dAPsB5QI8Zv"
      }
    },
    {
      "cell_type": "code",
      "source": [
        "sorted(moja_krotka_1)"
      ],
      "metadata": {
        "colab": {
          "base_uri": "https://localhost:8080/"
        },
        "id": "n-F5zr_LI7sz",
        "outputId": "e2fb8b0d-e71a-4b06-f14d-0f948b38fbbb"
      },
      "execution_count": null,
      "outputs": [
        {
          "output_type": "execute_result",
          "data": {
            "text/plain": [
              "[2, 3, 10]"
            ]
          },
          "metadata": {},
          "execution_count": 3
        }
      ]
    },
    {
      "cell_type": "markdown",
      "source": [
        "Możemy iterować po kolejnych elementach korzystając z pętli `for`:"
      ],
      "metadata": {
        "id": "CK5Tw319AgH6"
      }
    },
    {
      "cell_type": "code",
      "source": [
        "for element in moja_krotka_1:\n",
        "  print(element)"
      ],
      "metadata": {
        "id": "IVhUNneSAfnp",
        "outputId": "d86488ef-1a38-40a0-f37d-b502a9afe23e",
        "colab": {
          "base_uri": "https://localhost:8080/"
        }
      },
      "execution_count": null,
      "outputs": [
        {
          "output_type": "stream",
          "name": "stdout",
          "text": [
            "10\n",
            "2\n",
            "3\n"
          ]
        }
      ]
    },
    {
      "cell_type": "markdown",
      "source": [
        "Funkcja `zip` umożliwia łączenie krotek:"
      ],
      "metadata": {
        "id": "xaF7zT7tGORP"
      }
    },
    {
      "cell_type": "code",
      "source": [
        "tuple(zip(moja_krotka_1, moja_krotka_2))"
      ],
      "metadata": {
        "id": "24LigyrMGBig",
        "outputId": "773d672f-f6e8-4712-9706-e01d0dd180aa",
        "colab": {
          "base_uri": "https://localhost:8080/"
        }
      },
      "execution_count": null,
      "outputs": [
        {
          "output_type": "execute_result",
          "data": {
            "text/plain": [
              "((10, 5), (2, 6), (3, 7))"
            ]
          },
          "metadata": {},
          "execution_count": 62
        }
      ]
    },
    {
      "cell_type": "markdown",
      "source": [
        "Kolejne odpowiednie elementu krotek łączone są w pary. Elementy o indeksie 0 z `moja_krotka_1` i `moja_krotka_2` trafiają do 0 elementu nowej krotki itd."
      ],
      "metadata": {
        "id": "qd6oaXtEGkMH"
      }
    },
    {
      "cell_type": "markdown",
      "source": [
        "Następnie możemy w prosty sposób rozpakować kolejne elementy naszej zagnieżdżonej krotki:"
      ],
      "metadata": {
        "id": "pXLueI-7G8f2"
      }
    },
    {
      "cell_type": "code",
      "source": [
        "macierz_krotek = tuple(zip(moja_krotka_1, moja_krotka_2))\n",
        "\n",
        "for element_1, element_2 in macierz_krotek:\n",
        "  print(element_1, element_2)"
      ],
      "metadata": {
        "id": "lHZlIRtUG7qd",
        "outputId": "05ed3acf-246c-4f44-9630-9b3dbbf38665",
        "colab": {
          "base_uri": "https://localhost:8080/"
        }
      },
      "execution_count": null,
      "outputs": [
        {
          "output_type": "stream",
          "name": "stdout",
          "text": [
            "10 5\n",
            "2 6\n",
            "3 7\n"
          ]
        }
      ]
    },
    {
      "cell_type": "markdown",
      "source": [
        "Dwuwymiarowe krotki możemy traktować podobnie jak rekordy w tabeli:"
      ],
      "metadata": {
        "id": "_y_pacoZ9-xH"
      }
    },
    {
      "cell_type": "code",
      "source": [
        "stany_magazynowe = (\n",
        "    # nazwa, ilość, cena jednostkowa\n",
        "    (\"Laptop\", 10, 2999.99),\n",
        "    (\"Smartfon\", 25, 1799.99),\n",
        "    (\"Tablet\", 15, 1499.99),\n",
        "    (\"Słuchawki\", 50, 199.99),\n",
        ")"
      ],
      "metadata": {
        "id": "kDRz6ckVD0Qd"
      },
      "execution_count": null,
      "outputs": []
    },
    {
      "cell_type": "markdown",
      "source": [
        "Cena 1. przedmiotu:"
      ],
      "metadata": {
        "id": "YyY6IBrRDzz0"
      }
    },
    {
      "cell_type": "code",
      "source": [
        "stany_magazynowe[0][2]"
      ],
      "metadata": {
        "id": "1mQhx1-pEgZs",
        "outputId": "10edb6c3-0b53-4839-96b6-ea3b6a431da5",
        "colab": {
          "base_uri": "https://localhost:8080/"
        }
      },
      "execution_count": null,
      "outputs": [
        {
          "output_type": "execute_result",
          "data": {
            "text/plain": [
              "2999.99"
            ]
          },
          "metadata": {},
          "execution_count": 59
        }
      ]
    },
    {
      "cell_type": "markdown",
      "source": [
        "Ćwiczenie\n",
        "\n",
        "Dla każdego rekordu w zmiennej `stany_magazynowe` wyświetl nazwę produktu, ilość i cenę jednostkową za pomocą funkcji `print`."
      ],
      "metadata": {
        "id": "bE7DCs1uFBZl"
      }
    },
    {
      "cell_type": "code",
      "source": [
        "#@title Rozwiązanie"
      ],
      "metadata": {
        "id": "c0ZpcdH4Fm-_"
      },
      "execution_count": null,
      "outputs": []
    },
    {
      "cell_type": "code",
      "source": [
        "#@title Podpowiedź\n",
        "\n",
        "for nazwa, ilosc, cena in stany_magazynowe:\n",
        "  print(f\"{nazwa} - ilość: {ilosc}, cena: {cena}\")"
      ],
      "metadata": {
        "id": "WoIepmGcFrUb",
        "outputId": "ddc19162-ccf6-41c8-8960-936a984ee36e",
        "colab": {
          "base_uri": "https://localhost:8080/"
        }
      },
      "execution_count": null,
      "outputs": [
        {
          "output_type": "stream",
          "name": "stdout",
          "text": [
            "Laptop - ilość: 10, cena: 2999.99\n",
            "Smartfon - ilość: 25, cena: 1799.99\n",
            "Tablet - ilość: 15, cena: 1499.99\n",
            "Słuchawki - ilość: 50, cena: 199.99\n"
          ]
        }
      ]
    },
    {
      "cell_type": "markdown",
      "source": [
        "Ćwiczenie\n",
        "\n",
        "Jaka jest wartość całego stanu magazynowego?\n"
      ],
      "metadata": {
        "id": "uFwLXWD3INMG"
      }
    },
    {
      "cell_type": "code",
      "source": [
        "# @title Rozwiązanie"
      ],
      "metadata": {
        "id": "LyVHtNVcIbe_"
      },
      "execution_count": null,
      "outputs": []
    },
    {
      "cell_type": "code",
      "source": [
        "# @title Podpowiedź\n",
        "\n",
        "suma = 0\n",
        "for _, ilosc, cena in stany_magazynowe:\n",
        "  suma += ilosc * cena\n",
        "print(suma)"
      ],
      "metadata": {
        "id": "tw9tum2HIfWU",
        "outputId": "bb61330e-b556-442a-a4d5-57e21b2e2b65",
        "colab": {
          "base_uri": "https://localhost:8080/"
        }
      },
      "execution_count": null,
      "outputs": [
        {
          "output_type": "stream",
          "name": "stdout",
          "text": [
            "107499.0\n"
          ]
        }
      ]
    },
    {
      "cell_type": "markdown",
      "source": [
        "# Listy\n",
        "\n",
        "* mutowalna sekwencja obiektów dowolnego rodzaju\n",
        "* może zawierać różne typy obiektów"
      ],
      "metadata": {
        "id": "hlq7Pz4BLpTJ"
      }
    },
    {
      "cell_type": "markdown",
      "source": [
        "Jak tworzymy?"
      ],
      "metadata": {
        "id": "301lNsEaMBs2"
      }
    },
    {
      "cell_type": "code",
      "source": [
        "# za pomocą nawiasów kwadratowych\n",
        "moja_lista_1 = [1, 2, 3]"
      ],
      "metadata": {
        "id": "_87n2fu6ME8g"
      },
      "execution_count": 9,
      "outputs": []
    },
    {
      "cell_type": "code",
      "source": [
        "# konwersja krotki na listę\n",
        "moja_lista_2 = list((4, 5, 6))"
      ],
      "metadata": {
        "id": "zTQDnHVoMM_O"
      },
      "execution_count": 11,
      "outputs": []
    },
    {
      "cell_type": "code",
      "source": [
        "# może zawierać obiekty różnych typów\n",
        "moja_roznorodna_lista = [1, None, \"Cześć!\", [1, 2], (3, 4)]"
      ],
      "metadata": {
        "id": "Q9fIrmHVMdGF"
      },
      "execution_count": null,
      "outputs": []
    },
    {
      "cell_type": "code",
      "source": [
        "# albo jednorodne - np. krotki\n",
        "lista_krotek = [\n",
        "    (\"wartość 0\", 0),\n",
        "    (\"wartość 1\", 1),\n",
        "    (\"wartość 2\", 2),\n",
        "]"
      ],
      "metadata": {
        "id": "c0HFpA7RTdno"
      },
      "execution_count": null,
      "outputs": []
    },
    {
      "cell_type": "code",
      "source": [
        "pusta_lista = []"
      ],
      "metadata": {
        "id": "gdbGBwGSRddi"
      },
      "execution_count": null,
      "outputs": []
    },
    {
      "cell_type": "markdown",
      "source": [
        "Często można lista tworzona jest za pomocą funkcji `range`:"
      ],
      "metadata": {
        "id": "pQqmY2xPGlKR"
      }
    },
    {
      "cell_type": "code",
      "source": [
        "list(range(5))"
      ],
      "metadata": {
        "id": "ffVss_hZGU7t",
        "outputId": "b9857fa4-2dfa-4d71-fd1f-75c35ca745be",
        "colab": {
          "base_uri": "https://localhost:8080/"
        }
      },
      "execution_count": null,
      "outputs": [
        {
          "output_type": "execute_result",
          "data": {
            "text/plain": [
              "(0, 1, 2, 3, 4)"
            ]
          },
          "metadata": {},
          "execution_count": 17
        }
      ]
    },
    {
      "cell_type": "code",
      "source": [
        "list(range(5, 10))"
      ],
      "metadata": {
        "id": "HmuG4KRLGZsB",
        "outputId": "5022cf5e-1e90-41d3-dfa6-249479a8458c",
        "colab": {
          "base_uri": "https://localhost:8080/"
        }
      },
      "execution_count": null,
      "outputs": [
        {
          "output_type": "execute_result",
          "data": {
            "text/plain": [
              "[5, 6, 7, 8, 9]"
            ]
          },
          "metadata": {},
          "execution_count": 15
        }
      ]
    },
    {
      "cell_type": "code",
      "source": [
        "list(range(10, 0, -1))"
      ],
      "metadata": {
        "id": "0MUR1w-oGeJu",
        "outputId": "221c2581-b28c-4e75-f043-22ab11f0e7c1",
        "colab": {
          "base_uri": "https://localhost:8080/"
        }
      },
      "execution_count": null,
      "outputs": [
        {
          "output_type": "execute_result",
          "data": {
            "text/plain": [
              "[10, 9, 8, 7, 6, 5, 4, 3, 2, 1]"
            ]
          },
          "metadata": {},
          "execution_count": 16
        }
      ]
    },
    {
      "cell_type": "markdown",
      "source": [
        "`range` można korzystać również do tworzenia `tuple`"
      ],
      "metadata": {
        "id": "xa5qM-IEGy-M"
      }
    },
    {
      "cell_type": "markdown",
      "source": [
        "Operacja na listach:\n",
        "* takie same jak na krotkach\n",
        "* dodatkowo operacja modyfikacji"
      ],
      "metadata": {
        "id": "SLF84s65M8ir"
      }
    },
    {
      "cell_type": "code",
      "source": [
        "moja_lista_1 + moja_lista_2"
      ],
      "metadata": {
        "colab": {
          "base_uri": "https://localhost:8080/"
        },
        "id": "ocY1rWqOM78P",
        "outputId": "9ed4a110-d628-4f46-d067-469f91516b32"
      },
      "execution_count": null,
      "outputs": [
        {
          "output_type": "execute_result",
          "data": {
            "text/plain": [
              "[1, 2, 3, 4, 5, 6]"
            ]
          },
          "metadata": {},
          "execution_count": 8
        }
      ]
    },
    {
      "cell_type": "code",
      "source": [
        "5 * moja_lista_1"
      ],
      "metadata": {
        "colab": {
          "base_uri": "https://localhost:8080/"
        },
        "id": "foMOHJO4Mvl1",
        "outputId": "8b201c38-a506-4b0e-ec29-8a1e13f3c20f"
      },
      "execution_count": null,
      "outputs": [
        {
          "output_type": "execute_result",
          "data": {
            "text/plain": [
              "[1, 2, 3, 1, 2, 3, 1, 2, 3, 1, 2, 3, 1, 2, 3]"
            ]
          },
          "metadata": {},
          "execution_count": 9
        }
      ]
    },
    {
      "cell_type": "code",
      "source": [
        "moja_lista_1[0]"
      ],
      "metadata": {
        "colab": {
          "base_uri": "https://localhost:8080/"
        },
        "id": "qtegRZygOEYc",
        "outputId": "08400905-337b-4f45-978b-05f282c696fb"
      },
      "execution_count": null,
      "outputs": [
        {
          "output_type": "execute_result",
          "data": {
            "text/plain": [
              "1"
            ]
          },
          "metadata": {},
          "execution_count": 10
        }
      ]
    },
    {
      "cell_type": "code",
      "source": [
        "moja_lista_1[0:2]"
      ],
      "metadata": {
        "colab": {
          "base_uri": "https://localhost:8080/"
        },
        "id": "A2NJziHiOJEx",
        "outputId": "24b71dc5-bcb8-4a19-af10-38e78e93a621"
      },
      "execution_count": null,
      "outputs": [
        {
          "output_type": "execute_result",
          "data": {
            "text/plain": [
              "[1, 2]"
            ]
          },
          "metadata": {},
          "execution_count": 14
        }
      ]
    },
    {
      "cell_type": "code",
      "source": [
        "a, b, _, *reszta = 2 *moja_lista_1"
      ],
      "metadata": {
        "id": "pbtTapuKOTIA"
      },
      "execution_count": null,
      "outputs": []
    },
    {
      "cell_type": "code",
      "source": [
        "reszta"
      ],
      "metadata": {
        "colab": {
          "base_uri": "https://localhost:8080/"
        },
        "id": "xaZmV317OVoX",
        "outputId": "1caa0770-c840-4b06-8a2b-ed924bc15e33"
      },
      "execution_count": null,
      "outputs": [
        {
          "output_type": "execute_result",
          "data": {
            "text/plain": [
              "[1, 2, 3]"
            ]
          },
          "metadata": {},
          "execution_count": 25
        }
      ]
    },
    {
      "cell_type": "code",
      "source": [
        "2 in moja_lista_1"
      ],
      "metadata": {
        "colab": {
          "base_uri": "https://localhost:8080/"
        },
        "id": "xWRkCwSbRKCV",
        "outputId": "05ebf8b4-8066-4db3-955c-f0e41d393158"
      },
      "execution_count": null,
      "outputs": [
        {
          "output_type": "execute_result",
          "data": {
            "text/plain": [
              "True"
            ]
          },
          "metadata": {},
          "execution_count": 35
        }
      ]
    },
    {
      "cell_type": "code",
      "source": [
        "for wartosc_str, wartosc_int in lista_krotek:\n",
        "  print(wartosc_str, \"-\", wartosc_int)"
      ],
      "metadata": {
        "colab": {
          "base_uri": "https://localhost:8080/"
        },
        "id": "pH2mUkU6WnpO",
        "outputId": "fccae734-2b64-4844-e40a-cd794e2a9d78"
      },
      "execution_count": null,
      "outputs": [
        {
          "output_type": "stream",
          "name": "stdout",
          "text": [
            "wartość 0 - 0\n",
            "wartość 1 - 1\n",
            "wartość 2 - 2\n",
            "wartość 100 - 100\n"
          ]
        }
      ]
    },
    {
      "cell_type": "markdown",
      "source": [
        "Operacje modyfikacji"
      ],
      "metadata": {
        "id": "Ay2OS59FP6VY"
      }
    },
    {
      "cell_type": "code",
      "source": [
        "# dodawawanie elementów na koniec\n",
        "moja_lista_1.append(10)"
      ],
      "metadata": {
        "id": "TBVSP-5QP51Q"
      },
      "execution_count": null,
      "outputs": []
    },
    {
      "cell_type": "code",
      "source": [
        "# analogicznie\n",
        "lista_krotek.append((\"wartość 100\", 100))"
      ],
      "metadata": {
        "id": "qqB4jZprVNHU"
      },
      "execution_count": null,
      "outputs": []
    },
    {
      "cell_type": "code",
      "source": [
        "moja_lista_1"
      ],
      "metadata": {
        "colab": {
          "base_uri": "https://localhost:8080/"
        },
        "id": "ZEmlwJHkQenx",
        "outputId": "1d6dd696-9d8d-4257-ec92-b5f9ae1dfb40"
      },
      "execution_count": null,
      "outputs": [
        {
          "output_type": "execute_result",
          "data": {
            "text/plain": [
              "[1, 2, 3, 10]"
            ]
          },
          "metadata": {},
          "execution_count": 27
        }
      ]
    },
    {
      "cell_type": "code",
      "source": [
        "moja_lista_1.insert(3, \"Niespodzianka!\")"
      ],
      "metadata": {
        "id": "T_phivSRQjAW"
      },
      "execution_count": null,
      "outputs": []
    },
    {
      "cell_type": "code",
      "source": [
        "moja_lista_1"
      ],
      "metadata": {
        "colab": {
          "base_uri": "https://localhost:8080/"
        },
        "id": "SUimYlRmQwrL",
        "outputId": "d7d5d36e-62ef-4150-e706-f252c35ec4e5"
      },
      "execution_count": null,
      "outputs": [
        {
          "output_type": "execute_result",
          "data": {
            "text/plain": [
              "[1, 2, 3, 'Niespodzianka!', 10]"
            ]
          },
          "metadata": {},
          "execution_count": 29
        }
      ]
    },
    {
      "cell_type": "code",
      "source": [
        "niespodzianka = moja_lista_1.pop(3)"
      ],
      "metadata": {
        "id": "YIwEp2oGQ2jd"
      },
      "execution_count": null,
      "outputs": []
    },
    {
      "cell_type": "code",
      "source": [
        "moja_lista_1"
      ],
      "metadata": {
        "colab": {
          "base_uri": "https://localhost:8080/"
        },
        "id": "IdnBIa3qQ6bx",
        "outputId": "b1392534-f7d2-4d91-fa3d-54a1e454eb68"
      },
      "execution_count": null,
      "outputs": [
        {
          "output_type": "execute_result",
          "data": {
            "text/plain": [
              "[1, 2, 3, 10]"
            ]
          },
          "metadata": {},
          "execution_count": 31
        }
      ]
    },
    {
      "cell_type": "code",
      "source": [
        "niespodzianka"
      ],
      "metadata": {
        "colab": {
          "base_uri": "https://localhost:8080/",
          "height": 36
        },
        "id": "3TR_0xPBQ5I1",
        "outputId": "47f36f65-2971-4e40-c064-c45d198b641a"
      },
      "execution_count": null,
      "outputs": [
        {
          "output_type": "execute_result",
          "data": {
            "text/plain": [
              "'Niespodzianka!'"
            ],
            "application/vnd.google.colaboratory.intrinsic+json": {
              "type": "string"
            }
          },
          "metadata": {},
          "execution_count": 32
        }
      ]
    },
    {
      "cell_type": "code",
      "source": [
        "moja_lista_1.remove(10)"
      ],
      "metadata": {
        "id": "lEmn6oELRCJu"
      },
      "execution_count": null,
      "outputs": []
    },
    {
      "cell_type": "code",
      "source": [
        "moja_lista_1"
      ],
      "metadata": {
        "colab": {
          "base_uri": "https://localhost:8080/"
        },
        "id": "xZLY5PcMRGbp",
        "outputId": "d0c8ff29-0597-47bf-c760-284db11741e9"
      },
      "execution_count": null,
      "outputs": [
        {
          "output_type": "execute_result",
          "data": {
            "text/plain": [
              "[1, 2, 3]"
            ]
          },
          "metadata": {},
          "execution_count": 34
        }
      ]
    },
    {
      "cell_type": "markdown",
      "source": [
        "Do usuwania elementów listy służy również `del` (możemy usunąć jedną wartość lub zakres)"
      ],
      "metadata": {
        "id": "4rr8CxV4Khng"
      }
    },
    {
      "cell_type": "code",
      "source": [
        "del moja_lista_2[0]"
      ],
      "metadata": {
        "id": "S77hWGJxKI1_"
      },
      "execution_count": 12,
      "outputs": []
    },
    {
      "cell_type": "code",
      "source": [
        "moja_lista_2"
      ],
      "metadata": {
        "id": "GfogNugjKMFy",
        "outputId": "c95f9618-3e39-49e8-8570-d6a074c45470",
        "colab": {
          "base_uri": "https://localhost:8080/"
        }
      },
      "execution_count": 13,
      "outputs": [
        {
          "output_type": "execute_result",
          "data": {
            "text/plain": [
              "[5, 6]"
            ]
          },
          "metadata": {},
          "execution_count": 13
        }
      ]
    },
    {
      "cell_type": "code",
      "source": [
        "del moja_lista_2[0:2]"
      ],
      "metadata": {
        "id": "Won7s28ELINC"
      },
      "execution_count": 14,
      "outputs": []
    },
    {
      "cell_type": "code",
      "source": [
        "moja_lista_2"
      ],
      "metadata": {
        "id": "9fsZe-AJLK2B",
        "outputId": "c47d03c9-1b7b-40a9-8e0e-6be4457363b3",
        "colab": {
          "base_uri": "https://localhost:8080/"
        }
      },
      "execution_count": 15,
      "outputs": [
        {
          "output_type": "execute_result",
          "data": {
            "text/plain": [
              "[]"
            ]
          },
          "metadata": {},
          "execution_count": 15
        }
      ]
    },
    {
      "cell_type": "code",
      "source": [
        "# łączenie listy w miejscu (tj. z modyfikacją listy)\n",
        "moja_lista_2.extend(moja_lista_1)"
      ],
      "metadata": {
        "id": "r8SiAS1zR0sY"
      },
      "execution_count": null,
      "outputs": []
    },
    {
      "cell_type": "code",
      "source": [
        "moja_lista_2"
      ],
      "metadata": {
        "id": "vYjx9trmSHBE"
      },
      "execution_count": null,
      "outputs": []
    },
    {
      "cell_type": "code",
      "source": [
        "# sortowanie listy w miejscu ()\n",
        "moja_lista_2.sort()"
      ],
      "metadata": {
        "id": "T7smB6avR2sA"
      },
      "execution_count": null,
      "outputs": []
    },
    {
      "cell_type": "code",
      "source": [
        "moja_lista_2"
      ],
      "metadata": {
        "colab": {
          "base_uri": "https://localhost:8080/"
        },
        "id": "Ha79SxQVSNky",
        "outputId": "4372fc1c-61de-48ab-c164-508595663405"
      },
      "execution_count": null,
      "outputs": [
        {
          "output_type": "execute_result",
          "data": {
            "text/plain": [
              "[1, 1, 2, 2, 3, 3, 4, 4, 4, 5, 5, 5, 6, 6, 6]"
            ]
          },
          "metadata": {},
          "execution_count": 44
        }
      ]
    },
    {
      "cell_type": "markdown",
      "source": [
        "W prosty sposób możemy znaleźć wartość maksymalną, minimalną oraz sumę elementów listy (działa to analogicznie w przypadku krotek):"
      ],
      "metadata": {
        "id": "-YvvYL8WEO8C"
      }
    },
    {
      "cell_type": "code",
      "source": [
        "max(moja_lista_1)"
      ],
      "metadata": {
        "id": "w_L1srmtD9dC",
        "outputId": "0d367238-874d-46e8-f43d-ed7a5daf0efa",
        "colab": {
          "base_uri": "https://localhost:8080/"
        }
      },
      "execution_count": null,
      "outputs": [
        {
          "output_type": "execute_result",
          "data": {
            "text/plain": [
              "6"
            ]
          },
          "metadata": {},
          "execution_count": 5
        }
      ]
    },
    {
      "cell_type": "code",
      "source": [
        "min(moja_lista_1)"
      ],
      "metadata": {
        "id": "GAIaCzyJEivf",
        "outputId": "c5e07e78-9dcc-4894-b8fe-93c0dc173dd3",
        "colab": {
          "base_uri": "https://localhost:8080/"
        }
      },
      "execution_count": null,
      "outputs": [
        {
          "output_type": "execute_result",
          "data": {
            "text/plain": [
              "1"
            ]
          },
          "metadata": {},
          "execution_count": 7
        }
      ]
    },
    {
      "cell_type": "code",
      "source": [
        "sum(moja_lista_1)"
      ],
      "metadata": {
        "id": "QXZk7hMUEoYv",
        "outputId": "5ad3e250-c395-474f-e628-eb20c6384577",
        "colab": {
          "base_uri": "https://localhost:8080/"
        }
      },
      "execution_count": null,
      "outputs": [
        {
          "output_type": "execute_result",
          "data": {
            "text/plain": [
              "6"
            ]
          },
          "metadata": {},
          "execution_count": 9
        }
      ]
    },
    {
      "cell_type": "markdown",
      "source": [
        "Ćwiczenie\n",
        "\n",
        "Tym razem stany magazynowe będziemy reprezentować jako lista krotek:"
      ],
      "metadata": {
        "id": "q3z9n-fHSyPS"
      }
    },
    {
      "cell_type": "code",
      "source": [
        "stany_magazynowe = [\n",
        "    # nazwa, ilość, cena jednostkowa\n",
        "    (\"Laptop\", 10, 2999.99),\n",
        "    (\"Smartfon\", 25, 1799.99),\n",
        "    (\"Tablet\", 15, 1499.99),\n",
        "    (\"Słuchawki\", 50, 199.99),\n",
        "]"
      ],
      "metadata": {
        "id": "02hHQTedT53R"
      },
      "execution_count": null,
      "outputs": []
    },
    {
      "cell_type": "markdown",
      "source": [
        "Dodaj nowy rekord dot. stanu magazynowego:\n",
        "* Nazwa: Monitor\n",
        "* Ilość: 5\n",
        "* Cena jednostkowa: 899.99"
      ],
      "metadata": {
        "id": "YAZZxLr_Vbm4"
      }
    },
    {
      "cell_type": "code",
      "source": [
        "# @title Rozwiązanie"
      ],
      "metadata": {
        "id": "nRXsvebXVa9K"
      },
      "execution_count": null,
      "outputs": []
    },
    {
      "cell_type": "code",
      "source": [
        "# @title Podpowiedź\n",
        "\n",
        "stany_magazynowe.append((\"Monitor\", 5, 899.99))"
      ],
      "metadata": {
        "id": "yo3_X6iIV6iw"
      },
      "execution_count": null,
      "outputs": []
    },
    {
      "cell_type": "markdown",
      "source": [
        "Ile kosztuje najdroższy produkt?"
      ],
      "metadata": {
        "id": "dyRewbW-E8X3"
      }
    },
    {
      "cell_type": "code",
      "source": [
        "# @title Rozwiązanie"
      ],
      "metadata": {
        "id": "3g9MHJ53FK6h"
      },
      "execution_count": null,
      "outputs": []
    },
    {
      "cell_type": "code",
      "source": [
        "# @title Podpowiedź\n",
        "\n",
        "# Rozwiązanie nie jest idealna - w dalszej części zrobimy to samo w jednej linii kodu :)\n",
        "ceny = []\n",
        "for _, _, cena in stany_magazynowe:\n",
        "  ceny.append(cena)\n",
        "\n",
        "print(max(ceny))"
      ],
      "metadata": {
        "id": "4T0BIkb0FLNG",
        "outputId": "6a2bf792-cb59-4290-d740-5344caee58bb",
        "colab": {
          "base_uri": "https://localhost:8080/"
        }
      },
      "execution_count": null,
      "outputs": [
        {
          "output_type": "stream",
          "name": "stdout",
          "text": [
            "2999.99\n"
          ]
        }
      ]
    },
    {
      "cell_type": "markdown",
      "source": [
        "# Słowniki\n",
        "\n",
        "* Zbiór par klucz-wartość\n",
        "* Wartościami mogą być wszystkie obiekty Pythona\n",
        "* Kluczami mogą być wszystkie hash'owalne obiekty Python (`int`, `float`, `str`, `tuple`, ale nie `list`). W praktyce możemy utożsamiać obiekty hash'owalne z niemutowalnymi\n",
        "* nazywana tablicą asocjacyjną lub mapą"
      ],
      "metadata": {
        "id": "PI6gYPqJHH5j"
      }
    },
    {
      "cell_type": "code",
      "source": [
        "hash?"
      ],
      "metadata": {
        "id": "n_jAgVlNN9CG"
      },
      "execution_count": 21,
      "outputs": []
    },
    {
      "cell_type": "code",
      "source": [
        "hash(\"Cześć\")"
      ],
      "metadata": {
        "id": "O8zMtm9TLm4S",
        "outputId": "8e7801ac-bfdc-4e1d-ea90-7529598f5b53",
        "colab": {
          "base_uri": "https://localhost:8080/"
        }
      },
      "execution_count": 16,
      "outputs": [
        {
          "output_type": "execute_result",
          "data": {
            "text/plain": [
              "-2222502642997411870"
            ]
          },
          "metadata": {},
          "execution_count": 16
        }
      ]
    },
    {
      "cell_type": "code",
      "source": [
        "hash(100)"
      ],
      "metadata": {
        "id": "Rf1wAwoiMz2h",
        "outputId": "65d7f111-7328-48c0-c7c2-adc6cbc2ddf5",
        "colab": {
          "base_uri": "https://localhost:8080/"
        }
      },
      "execution_count": 17,
      "outputs": [
        {
          "output_type": "execute_result",
          "data": {
            "text/plain": [
              "100"
            ]
          },
          "metadata": {},
          "execution_count": 17
        }
      ]
    },
    {
      "cell_type": "code",
      "source": [
        "hash((10, 11))\n"
      ],
      "metadata": {
        "id": "AjtXHIfBM2bX",
        "outputId": "35707815-3247-4cf8-de3b-ecc564d68871",
        "colab": {
          "base_uri": "https://localhost:8080/"
        }
      },
      "execution_count": 19,
      "outputs": [
        {
          "output_type": "execute_result",
          "data": {
            "text/plain": [
              "7295179424490390769"
            ]
          },
          "metadata": {},
          "execution_count": 19
        }
      ]
    },
    {
      "cell_type": "code",
      "source": [
        "# To nie zadziała\n",
        "hash([1, 2])"
      ],
      "metadata": {
        "id": "2INM9w4GM-D9",
        "outputId": "c0104c16-7efa-4ecd-aeb3-f853b83b78d2",
        "colab": {
          "base_uri": "https://localhost:8080/",
          "height": 141
        }
      },
      "execution_count": 20,
      "outputs": [
        {
          "output_type": "error",
          "ename": "TypeError",
          "evalue": "unhashable type: 'list'",
          "traceback": [
            "\u001b[0;31m---------------------------------------------------------------------------\u001b[0m",
            "\u001b[0;31mTypeError\u001b[0m                                 Traceback (most recent call last)",
            "\u001b[0;32m<ipython-input-20-4b420d0158ba>\u001b[0m in \u001b[0;36m<cell line: 0>\u001b[0;34m()\u001b[0m\n\u001b[0;32m----> 1\u001b[0;31m \u001b[0mhash\u001b[0m\u001b[0;34m(\u001b[0m\u001b[0;34m[\u001b[0m\u001b[0;36m1\u001b[0m\u001b[0;34m,\u001b[0m \u001b[0;36m2\u001b[0m\u001b[0;34m]\u001b[0m\u001b[0;34m)\u001b[0m\u001b[0;34m\u001b[0m\u001b[0;34m\u001b[0m\u001b[0m\n\u001b[0m",
            "\u001b[0;31mTypeError\u001b[0m: unhashable type: 'list'"
          ]
        }
      ]
    },
    {
      "cell_type": "code",
      "source": [
        "# To też nie zadziała\n",
        "hash((1, 2, []))"
      ],
      "metadata": {
        "id": "95M-5gdRS9rO",
        "outputId": "42acf958-98ab-4a0d-cc90-0cbe9564b294",
        "colab": {
          "base_uri": "https://localhost:8080/",
          "height": 141
        }
      },
      "execution_count": 23,
      "outputs": [
        {
          "output_type": "error",
          "ename": "TypeError",
          "evalue": "unhashable type: 'list'",
          "traceback": [
            "\u001b[0;31m---------------------------------------------------------------------------\u001b[0m",
            "\u001b[0;31mTypeError\u001b[0m                                 Traceback (most recent call last)",
            "\u001b[0;32m<ipython-input-23-c3a31896385e>\u001b[0m in \u001b[0;36m<cell line: 0>\u001b[0;34m()\u001b[0m\n\u001b[0;32m----> 1\u001b[0;31m \u001b[0mhash\u001b[0m\u001b[0;34m(\u001b[0m\u001b[0;34m(\u001b[0m\u001b[0;36m1\u001b[0m\u001b[0;34m,\u001b[0m \u001b[0;36m2\u001b[0m\u001b[0;34m,\u001b[0m \u001b[0;34m[\u001b[0m\u001b[0;34m]\u001b[0m\u001b[0;34m)\u001b[0m\u001b[0;34m)\u001b[0m\u001b[0;34m\u001b[0m\u001b[0;34m\u001b[0m\u001b[0m\n\u001b[0m",
            "\u001b[0;31mTypeError\u001b[0m: unhashable type: 'list'"
          ]
        }
      ]
    },
    {
      "cell_type": "markdown",
      "source": [
        "Jak tworzymy słowniki?"
      ],
      "metadata": {
        "id": "rJOym3u-SwZ7"
      }
    },
    {
      "cell_type": "code",
      "source": [
        "slownik = {\"klucz1\": \"wartość1\", \"klucz2\": 2, (3, 4): 4, 5: [], 1.0: None}"
      ],
      "metadata": {
        "id": "jEXUMKyLSvuf"
      },
      "execution_count": 3,
      "outputs": []
    },
    {
      "cell_type": "code",
      "source": [
        "slownik_2 = dict([(\"a\", \"b\"), (\"c\", \"d\")])"
      ],
      "metadata": {
        "id": "U63Ctnu1VgYn"
      },
      "execution_count": 36,
      "outputs": []
    },
    {
      "cell_type": "code",
      "source": [
        "slownik_3 = dict(a=None, c=\"coś tam\")"
      ],
      "metadata": {
        "id": "C01AP26EVw0d"
      },
      "execution_count": 39,
      "outputs": []
    },
    {
      "cell_type": "code",
      "source": [
        "pusty_slownik = {}"
      ],
      "metadata": {
        "id": "O7yWQSlnTVQF"
      },
      "execution_count": 27,
      "outputs": []
    },
    {
      "cell_type": "markdown",
      "source": [
        "Dostęp do pojedynczej wartości klucza"
      ],
      "metadata": {
        "id": "maoXnvtcVLH5"
      }
    },
    {
      "cell_type": "code",
      "source": [
        "slownik[\"klucz1\"]"
      ],
      "metadata": {
        "id": "Sz7BrAySVKa6",
        "outputId": "f44db696-581d-403e-c7de-2d14b355d62b",
        "colab": {
          "base_uri": "https://localhost:8080/",
          "height": 35
        }
      },
      "execution_count": 32,
      "outputs": [
        {
          "output_type": "execute_result",
          "data": {
            "text/plain": [
              "'wartość1'"
            ],
            "application/vnd.google.colaboratory.intrinsic+json": {
              "type": "string"
            }
          },
          "metadata": {},
          "execution_count": 32
        }
      ]
    },
    {
      "cell_type": "code",
      "source": [
        "slownik[\"zly_klucz\"]"
      ],
      "metadata": {
        "id": "XGKELu3PVWmC",
        "outputId": "673f4dd0-8e39-4405-90c4-8bce1bcc6e51",
        "colab": {
          "base_uri": "https://localhost:8080/",
          "height": 141
        }
      },
      "execution_count": 33,
      "outputs": [
        {
          "output_type": "error",
          "ename": "KeyError",
          "evalue": "'zly_klucz'",
          "traceback": [
            "\u001b[0;31m---------------------------------------------------------------------------\u001b[0m",
            "\u001b[0;31mKeyError\u001b[0m                                  Traceback (most recent call last)",
            "\u001b[0;32m<ipython-input-33-f014b1547d82>\u001b[0m in \u001b[0;36m<cell line: 0>\u001b[0;34m()\u001b[0m\n\u001b[0;32m----> 1\u001b[0;31m \u001b[0mslownik\u001b[0m\u001b[0;34m[\u001b[0m\u001b[0;34m\"zly_klucz\"\u001b[0m\u001b[0;34m]\u001b[0m\u001b[0;34m\u001b[0m\u001b[0;34m\u001b[0m\u001b[0m\n\u001b[0m",
            "\u001b[0;31mKeyError\u001b[0m: 'zly_klucz'"
          ]
        }
      ]
    },
    {
      "cell_type": "markdown",
      "source": [
        "Możemy skorzystać z metody `get`, która pozwala ustawić wartość domyślną w przypadku braku klucza"
      ],
      "metadata": {
        "id": "XpNRyOpvN1mU"
      }
    },
    {
      "cell_type": "code",
      "source": [
        "slownik.get(\"zly_klucz\", \"wartosc_domyslna\")"
      ],
      "metadata": {
        "id": "t15NzsxwOSA0",
        "outputId": "4dcc67ba-0d90-44be-844d-299f1ae95fbc",
        "colab": {
          "base_uri": "https://localhost:8080/",
          "height": 35
        }
      },
      "execution_count": 15,
      "outputs": [
        {
          "output_type": "execute_result",
          "data": {
            "text/plain": [
              "'wartosc_domyslna'"
            ],
            "application/vnd.google.colaboratory.intrinsic+json": {
              "type": "string"
            }
          },
          "metadata": {},
          "execution_count": 15
        }
      ]
    },
    {
      "cell_type": "markdown",
      "source": [
        "Możemy sprawdzić, czy klucz znajduje się w słowniku"
      ],
      "metadata": {
        "id": "atXPFBWdOX8R"
      }
    },
    {
      "cell_type": "code",
      "source": [
        "\"zly_klucz\" in slownik"
      ],
      "metadata": {
        "id": "KuGORravOW6T",
        "outputId": "84934155-dbd8-4e69-f3d6-a3b757fc52d9",
        "colab": {
          "base_uri": "https://localhost:8080/"
        }
      },
      "execution_count": 16,
      "outputs": [
        {
          "output_type": "execute_result",
          "data": {
            "text/plain": [
              "False"
            ]
          },
          "metadata": {},
          "execution_count": 16
        }
      ]
    },
    {
      "cell_type": "markdown",
      "source": [
        "Dodawanie par klucz-wartość"
      ],
      "metadata": {
        "id": "XztCRV64U1bc"
      }
    },
    {
      "cell_type": "code",
      "source": [
        "slownik[\"kolejny_klucz\"] = \"kolejna wartosc\""
      ],
      "metadata": {
        "id": "TI0UVKQ5URcp"
      },
      "execution_count": 4,
      "outputs": []
    },
    {
      "cell_type": "code",
      "source": [
        "slownik"
      ],
      "metadata": {
        "id": "Jc3_hQm4VBww",
        "outputId": "d908d275-0261-450f-aca0-eca3eb2655fb",
        "colab": {
          "base_uri": "https://localhost:8080/"
        }
      },
      "execution_count": 5,
      "outputs": [
        {
          "output_type": "execute_result",
          "data": {
            "text/plain": [
              "{'klucz1': 'wartość1',\n",
              " 'klucz2': 2,\n",
              " (3, 4): 4,\n",
              " 5: [],\n",
              " 1.0: None,\n",
              " 'kolejny_klucz': 'kolejna wartosc'}"
            ]
          },
          "metadata": {},
          "execution_count": 5
        }
      ]
    },
    {
      "cell_type": "markdown",
      "source": [
        "Aktualizacja wartości pod danym kluczem"
      ],
      "metadata": {
        "id": "NdxHsPaLMaTQ"
      }
    },
    {
      "cell_type": "code",
      "source": [
        "slownik[\"kolejny_klucz\"] = \"nowa kolejna wartosc\""
      ],
      "metadata": {
        "id": "dlCaIZcDMdeZ"
      },
      "execution_count": 6,
      "outputs": []
    },
    {
      "cell_type": "code",
      "source": [
        "slownik"
      ],
      "metadata": {
        "id": "-p6UVzRxMkDW",
        "outputId": "25588057-26e5-4422-db23-506f4521360d",
        "colab": {
          "base_uri": "https://localhost:8080/"
        }
      },
      "execution_count": 7,
      "outputs": [
        {
          "output_type": "execute_result",
          "data": {
            "text/plain": [
              "{'klucz1': 'wartość1',\n",
              " 'klucz2': 2,\n",
              " (3, 4): 4,\n",
              " 5: [],\n",
              " 1.0: None,\n",
              " 'kolejny_klucz': 'nowa kolejna wartosc'}"
            ]
          },
          "metadata": {},
          "execution_count": 7
        }
      ]
    },
    {
      "cell_type": "markdown",
      "source": [
        "Usunięcie pary klucz-wartość"
      ],
      "metadata": {
        "id": "_6Sp657QMzC6"
      }
    },
    {
      "cell_type": "code",
      "source": [
        "del slownik[\"kolejny_klucz\"]"
      ],
      "metadata": {
        "id": "bQOhfg2MMyga"
      },
      "execution_count": 8,
      "outputs": []
    },
    {
      "cell_type": "code",
      "source": [
        "slownik"
      ],
      "metadata": {
        "id": "cuPl2ZaCM5-0",
        "outputId": "104a0d78-b66b-49b2-a39f-40daffd95ef2",
        "colab": {
          "base_uri": "https://localhost:8080/"
        }
      },
      "execution_count": 9,
      "outputs": [
        {
          "output_type": "execute_result",
          "data": {
            "text/plain": [
              "{'klucz1': 'wartość1', 'klucz2': 2, (3, 4): 4, 5: [], 1.0: None}"
            ]
          },
          "metadata": {},
          "execution_count": 9
        }
      ]
    },
    {
      "cell_type": "markdown",
      "source": [
        "Aktualizacja/dodanie wielu kluczy"
      ],
      "metadata": {
        "id": "u3AZ_W6AM8Jj"
      }
    },
    {
      "cell_type": "code",
      "source": [
        "slownik.update({5: [1, 2], 2.0: 22})"
      ],
      "metadata": {
        "id": "5pqRxP7uM93e"
      },
      "execution_count": 11,
      "outputs": []
    },
    {
      "cell_type": "code",
      "source": [
        "slownik"
      ],
      "metadata": {
        "id": "WuufMtJINK7G",
        "outputId": "c5ef7010-697a-4222-b504-2181355dcbcf",
        "colab": {
          "base_uri": "https://localhost:8080/"
        }
      },
      "execution_count": 12,
      "outputs": [
        {
          "output_type": "execute_result",
          "data": {
            "text/plain": [
              "{'klucz1': 'wartość1', 'klucz2': 2, (3, 4): 4, 5: [1, 2], 1.0: None, 2.0: 22}"
            ]
          },
          "metadata": {},
          "execution_count": 12
        }
      ]
    },
    {
      "cell_type": "markdown",
      "source": [
        "Zwrócenie wartości pod danym kluczem i ich usunięcie"
      ],
      "metadata": {
        "id": "qoZcxsoeNeqO"
      }
    },
    {
      "cell_type": "code",
      "source": [
        "slownik.pop(2.0)"
      ],
      "metadata": {
        "id": "WNIf-3iKNmLU",
        "outputId": "93f56bc7-b1cc-4d8c-dad4-74015add87d0",
        "colab": {
          "base_uri": "https://localhost:8080/"
        }
      },
      "execution_count": 13,
      "outputs": [
        {
          "output_type": "execute_result",
          "data": {
            "text/plain": [
              "22"
            ]
          },
          "metadata": {},
          "execution_count": 13
        }
      ]
    },
    {
      "cell_type": "code",
      "source": [
        "slownik"
      ],
      "metadata": {
        "id": "JPri1wgWNujw",
        "outputId": "757891ed-36d1-41c7-b54e-aaa347e7f609",
        "colab": {
          "base_uri": "https://localhost:8080/"
        }
      },
      "execution_count": 14,
      "outputs": [
        {
          "output_type": "execute_result",
          "data": {
            "text/plain": [
              "{'klucz1': 'wartość1', 'klucz2': 2, (3, 4): 4, 5: [1, 2], 1.0: None}"
            ]
          },
          "metadata": {},
          "execution_count": 14
        }
      ]
    },
    {
      "cell_type": "markdown",
      "source": [
        "Przydatne są również metody `keys`, `values` i `items` pozwalające zwracać odpowiednio klucze, wartości oraz krotki z parami klucz-wartośc. Przyjrzyjmy się przykładom ich użycia:"
      ],
      "metadata": {
        "id": "R9PhdffkOqrf"
      }
    },
    {
      "cell_type": "code",
      "source": [
        "slownik.keys()"
      ],
      "metadata": {
        "id": "rJkFxTOrO7_O",
        "outputId": "2b7c274e-767f-4d7d-90c2-b3842c501f6b",
        "colab": {
          "base_uri": "https://localhost:8080/"
        }
      },
      "execution_count": 17,
      "outputs": [
        {
          "output_type": "execute_result",
          "data": {
            "text/plain": [
              "dict_keys(['klucz1', 'klucz2', (3, 4), 5, 1.0])"
            ]
          },
          "metadata": {},
          "execution_count": 17
        }
      ]
    },
    {
      "cell_type": "code",
      "source": [
        "list(slownik.keys())"
      ],
      "metadata": {
        "id": "OAOB8LoqPAbr",
        "outputId": "29b31d01-a505-4e5d-f163-aae06a855f64",
        "colab": {
          "base_uri": "https://localhost:8080/"
        }
      },
      "execution_count": 18,
      "outputs": [
        {
          "output_type": "execute_result",
          "data": {
            "text/plain": [
              "['klucz1', 'klucz2', (3, 4), 5, 1.0]"
            ]
          },
          "metadata": {},
          "execution_count": 18
        }
      ]
    },
    {
      "cell_type": "code",
      "source": [
        "slownik.values()"
      ],
      "metadata": {
        "id": "l2ERBSCUPDo2",
        "outputId": "b6d2c5ec-7475-4836-d5b3-f18be53e65eb",
        "colab": {
          "base_uri": "https://localhost:8080/"
        }
      },
      "execution_count": 19,
      "outputs": [
        {
          "output_type": "execute_result",
          "data": {
            "text/plain": [
              "dict_values(['wartość1', 2, 4, [1, 2], None])"
            ]
          },
          "metadata": {},
          "execution_count": 19
        }
      ]
    },
    {
      "cell_type": "code",
      "source": [
        "slownik.items()"
      ],
      "metadata": {
        "id": "SCXgjXAoPGJA",
        "outputId": "8542599f-eb76-4157-fee0-3a8d6c5566e5",
        "colab": {
          "base_uri": "https://localhost:8080/"
        }
      },
      "execution_count": 20,
      "outputs": [
        {
          "output_type": "execute_result",
          "data": {
            "text/plain": [
              "dict_items([('klucz1', 'wartość1'), ('klucz2', 2), ((3, 4), 4), (5, [1, 2]), (1.0, None)])"
            ]
          },
          "metadata": {},
          "execution_count": 20
        }
      ]
    },
    {
      "cell_type": "markdown",
      "source": [
        "Przydatna może też być operacja odwrotna. Tj. mamy dwie listy, z których chcemy, aby jedna była kluczami a druga wartościami naszego słownika:"
      ],
      "metadata": {
        "id": "3f2vHztJPNSA"
      }
    },
    {
      "cell_type": "code",
      "source": [
        "klucze = list(range(5))\n",
        "wartosci = [\"a\", \"b\", \"c\", \"d\", \"e\"]\n",
        "dict(zip(klucze, wartosci))"
      ],
      "metadata": {
        "id": "eQmnyJxIPK8q",
        "outputId": "631b1308-877a-48f9-c054-ef8120b9f9b9",
        "colab": {
          "base_uri": "https://localhost:8080/"
        }
      },
      "execution_count": 21,
      "outputs": [
        {
          "output_type": "execute_result",
          "data": {
            "text/plain": [
              "{0: 'a', 1: 'b', 2: 'c', 3: 'd', 4: 'e'}"
            ]
          },
          "metadata": {},
          "execution_count": 21
        }
      ]
    },
    {
      "cell_type": "markdown",
      "source": [
        "Metoda `items` jest szczególnie przydatna, gdy chcemy skorzystać z pętli `for`"
      ],
      "metadata": {
        "id": "jFIOWeweQgRJ"
      }
    },
    {
      "cell_type": "code",
      "source": [
        "for klucz, wartosc in slownik.items():\n",
        "  print(klucz, \"-\", wartosc)"
      ],
      "metadata": {
        "id": "9cY927UGQoqZ",
        "outputId": "df4c96da-08c7-41ba-8a6d-1b881247ff27",
        "colab": {
          "base_uri": "https://localhost:8080/"
        }
      },
      "execution_count": 23,
      "outputs": [
        {
          "output_type": "stream",
          "name": "stdout",
          "text": [
            "klucz1 - wartość1\n",
            "klucz2 - 2\n",
            "(3, 4) - 4\n",
            "5 - [1, 2]\n",
            "1.0 - None\n"
          ]
        }
      ]
    },
    {
      "cell_type": "markdown",
      "source": [
        "Ćwiczenie\n",
        "\n",
        "Na bazie słownika `uzytkownicy` utwórz słownik, którego kluczem będzie wiek użytkownika a wartościami lista nazw użytkowników."
      ],
      "metadata": {
        "id": "XqLLWNaxQxAe"
      }
    },
    {
      "cell_type": "code",
      "source": [
        "uzytkownicy = {\n",
        "  \"id_1\": {\"nazwa\": \"Feliks\", \"wiek\": 30},\n",
        "  \"id_2\": {\"nazwa\": \"Obeliks\", \"wiek\": 30},\n",
        "  \"id_3\": {\"nazwa\": \"Zosia\", \"wiek\": 11},\n",
        "  \"id_4\": {\"nazwa\": \"Maja\", \"wiek\": 11},\n",
        "}"
      ],
      "metadata": {
        "id": "v5gGl5SFQwih"
      },
      "execution_count": 25,
      "outputs": []
    },
    {
      "cell_type": "code",
      "source": [
        "# @title Rozwiązanie"
      ],
      "metadata": {
        "id": "_Czdl4IoRibz"
      },
      "execution_count": null,
      "outputs": []
    },
    {
      "cell_type": "code",
      "source": [
        "# @title Podpowiedź\n",
        "wynik = {}\n",
        "for id, dane in uzytkownicy.items():\n",
        "  wynik[dane[\"wiek\"]] = wynik.get(dane[\"wiek\"], []) + [dane[\"nazwa\"]]\n",
        "wynik"
      ],
      "metadata": {
        "id": "-MBBy9DnRlwC",
        "outputId": "35fe2663-ed62-4a1a-8d2d-a014a80fa320",
        "colab": {
          "base_uri": "https://localhost:8080/"
        }
      },
      "execution_count": 26,
      "outputs": [
        {
          "output_type": "execute_result",
          "data": {
            "text/plain": [
              "{30: ['Feliks', 'Obeliks'], 11: ['Zosia', 'Maja']}"
            ]
          },
          "metadata": {},
          "execution_count": 26
        }
      ]
    },
    {
      "cell_type": "markdown",
      "source": [
        "Ćwiczenie\n",
        "\n",
        "Co zwracają następujące wyrażania?\n",
        "* funkcja `len` (np. `len(\"Cześć)`\n",
        "* operator indeksujący `[]` (np. `\"Cześć\"[0]`)\n"
      ],
      "metadata": {
        "id": "j8kT9kLKs2En"
      }
    },
    {
      "cell_type": "code",
      "source": [
        "\"Cześć\"[0]"
      ],
      "metadata": {
        "id": "z5NAJCogs3FL",
        "outputId": "7b576ef9-0a04-4a21-c774-cddfab390ede",
        "colab": {
          "base_uri": "https://localhost:8080/",
          "height": 36
        }
      },
      "execution_count": null,
      "outputs": [
        {
          "output_type": "execute_result",
          "data": {
            "text/plain": [
              "'C'"
            ],
            "application/vnd.google.colaboratory.intrinsic+json": {
              "type": "string"
            }
          },
          "metadata": {},
          "execution_count": 20
        }
      ]
    },
    {
      "cell_type": "code",
      "source": [
        "# TODO: join na stringu i liście"
      ],
      "metadata": {
        "id": "ObPI5EbZIrU1"
      },
      "execution_count": null,
      "outputs": []
    },
    {
      "cell_type": "code",
      "source": [
        "# TODO: listy - działanie jako referencja"
      ],
      "metadata": {
        "id": "5-hf6iEQUmoX"
      },
      "execution_count": null,
      "outputs": []
    }
  ]
}