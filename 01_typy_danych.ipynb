{
  "nbformat": 4,
  "nbformat_minor": 0,
  "metadata": {
    "colab": {
      "provenance": [],
      "authorship_tag": "ABX9TyOAQ4kHuIgn/RPhWAk2sY+X",
      "include_colab_link": true
    },
    "kernelspec": {
      "name": "python3",
      "display_name": "Python 3"
    },
    "language_info": {
      "name": "python"
    }
  },
  "cells": [
    {
      "cell_type": "markdown",
      "metadata": {
        "id": "view-in-github",
        "colab_type": "text"
      },
      "source": [
        "<a href=\"https://colab.research.google.com/github/chrispi21/python-dataeng/blob/main/01_typy_danych.ipynb\" target=\"_parent\"><img src=\"https://colab.research.google.com/assets/colab-badge.svg\" alt=\"Open In Colab\"/></a>"
      ]
    },
    {
      "cell_type": "markdown",
      "source": [
        "# Deklarowanie zmiennych - przypomnienie"
      ],
      "metadata": {
        "id": "paMoTr5qEqf6"
      }
    },
    {
      "cell_type": "markdown",
      "source": [
        "## Typy numeryczne"
      ],
      "metadata": {
        "id": "Lqf6c2-3uARz"
      }
    },
    {
      "cell_type": "code",
      "source": [
        "# deklaracja zmiennej typu int\n",
        "x = 7"
      ],
      "metadata": {
        "id": "7bGhrKOzFzrf"
      },
      "execution_count": 6,
      "outputs": []
    },
    {
      "cell_type": "code",
      "source": [
        "# wyświetlenie zmiennej\n",
        "print(x)"
      ],
      "metadata": {
        "id": "3yJtCLstukrC",
        "outputId": "5597dca5-a026-41ab-bd4b-7105c866de8a",
        "colab": {
          "base_uri": "https://localhost:8080/"
        }
      },
      "execution_count": 7,
      "outputs": [
        {
          "output_type": "stream",
          "name": "stdout",
          "text": [
            "7\n"
          ]
        }
      ]
    },
    {
      "cell_type": "code",
      "source": [
        "# sprawdzenie typu zmiennej\n",
        "type(x)"
      ],
      "metadata": {
        "colab": {
          "base_uri": "https://localhost:8080/"
        },
        "id": "RkhLJ7-sGA35",
        "outputId": "86369af7-a41a-4b49-ab76-c69042a97cf0"
      },
      "execution_count": null,
      "outputs": [
        {
          "output_type": "execute_result",
          "data": {
            "text/plain": [
              "int"
            ]
          },
          "metadata": {},
          "execution_count": 2
        }
      ]
    },
    {
      "cell_type": "code",
      "source": [
        "# sprawdzenie, czy x jest instancją int\n",
        "isinstance(x, int)"
      ],
      "metadata": {
        "colab": {
          "base_uri": "https://localhost:8080/"
        },
        "id": "vRevKN62GQGF",
        "outputId": "414e0c39-72f0-4e73-b5a2-455a5eb9dbd6"
      },
      "execution_count": null,
      "outputs": [
        {
          "output_type": "execute_result",
          "data": {
            "text/plain": [
              "True"
            ]
          },
          "metadata": {},
          "execution_count": 4
        }
      ]
    },
    {
      "cell_type": "code",
      "source": [
        "# sprawdzenie adresu zmiennej w pamięci\n",
        "id(x)"
      ],
      "metadata": {
        "colab": {
          "base_uri": "https://localhost:8080/"
        },
        "id": "5sJ25FVjHoH0",
        "outputId": "ff64d74a-b36f-4b1f-b650-2a5c19a8c3f2"
      },
      "execution_count": null,
      "outputs": [
        {
          "output_type": "execute_result",
          "data": {
            "text/plain": [
              "136183585145264"
            ]
          },
          "metadata": {},
          "execution_count": 13
        }
      ]
    },
    {
      "cell_type": "markdown",
      "source": [
        "Ćwiczenie\n",
        "\n",
        "Utwórz zmienną o dowolnej nazwie i wartości `7.0`. Jakiego typu jest ta zmienna? Co zwraca funkcja `id`?"
      ],
      "metadata": {
        "id": "C-wdcsdTHf_K"
      }
    },
    {
      "cell_type": "code",
      "source": [
        "#@title Rozwiązanie\n"
      ],
      "metadata": {
        "id": "Vk0dDCnxslZm"
      },
      "execution_count": null,
      "outputs": []
    },
    {
      "cell_type": "code",
      "source": [
        "#@title Podpowiedź\n",
        "y = 7.0\n",
        "print(type(y))\n",
        "print(id(y))"
      ],
      "metadata": {
        "colab": {
          "base_uri": "https://localhost:8080/"
        },
        "id": "7orW_LzDInOn",
        "outputId": "edcbfc0f-da83-48f5-8c94-fd06ced54521",
        "cellView": "form"
      },
      "execution_count": 2,
      "outputs": [
        {
          "output_type": "stream",
          "name": "stdout",
          "text": [
            "<class 'float'>\n",
            "137898858149424\n"
          ]
        }
      ]
    },
    {
      "cell_type": "markdown",
      "source": [
        "## Łańcuchy znaków (string)\n",
        "\n",
        "Teraz utworzymy zmienną `m` z miesiącem naszych urodzin:"
      ],
      "metadata": {
        "id": "imfJTrhXtg2i"
      }
    },
    {
      "cell_type": "code",
      "source": [
        "m = \"nazwa miesiąca\" # należy zamienić tę wartość"
      ],
      "metadata": {
        "id": "uxnmfMGRt72E"
      },
      "execution_count": 5,
      "outputs": []
    },
    {
      "cell_type": "markdown",
      "source": [
        "A następnie z numerem dnia miesiąca:"
      ],
      "metadata": {
        "id": "MVLKXjI8u0iS"
      }
    },
    {
      "cell_type": "code",
      "source": [
        "d = 0 # należy zamienić tę wartość"
      ],
      "metadata": {
        "id": "IwmT4Vhnu6UK"
      },
      "execution_count": 13,
      "outputs": []
    },
    {
      "cell_type": "markdown",
      "source": [
        "Połączymy dwa łańcuchy znaków (konkatenacja):"
      ],
      "metadata": {
        "id": "_ClCJGryvOH5"
      }
    },
    {
      "cell_type": "code",
      "source": [
        "# sposób nr 1 - operator +\n",
        "\"Urodziłem się w miesiącu: \" + m"
      ],
      "metadata": {
        "id": "zOC2gQgpvGmM",
        "outputId": "00e0ff4d-09f9-462a-9537-2b41b52b8b62",
        "colab": {
          "base_uri": "https://localhost:8080/",
          "height": 36
        }
      },
      "execution_count": 18,
      "outputs": [
        {
          "output_type": "execute_result",
          "data": {
            "text/plain": [
              "'Urodziłem się w miesiącu: nazwa miesiąca'"
            ],
            "application/vnd.google.colaboratory.intrinsic+json": {
              "type": "string"
            }
          },
          "metadata": {},
          "execution_count": 18
        }
      ]
    },
    {
      "cell_type": "markdown",
      "source": [
        "Co się stanie, gdy zamiast zmiennej `m` użyjemy `d`? Sprawdźmy!"
      ],
      "metadata": {
        "id": "NyIr5fygyBq0"
      }
    },
    {
      "cell_type": "code",
      "source": [
        "# miejsce na eksperyment\n"
      ],
      "metadata": {
        "id": "qHWmfBYpx_TX"
      },
      "execution_count": null,
      "outputs": []
    },
    {
      "cell_type": "code",
      "source": [
        "# sposób nr 2 - f-string (formatted string)\n",
        "f\"Urodziłem się w miesiącu: {m}\""
      ],
      "metadata": {
        "id": "kFuKcIeEvZ3L",
        "outputId": "5e6081bf-bfcc-413a-d459-fb79e1f8fbf7",
        "colab": {
          "base_uri": "https://localhost:8080/",
          "height": 36
        }
      },
      "execution_count": 11,
      "outputs": [
        {
          "output_type": "execute_result",
          "data": {
            "text/plain": [
              "'Urodziłem się w miesiącu: nazwa miesiąca'"
            ],
            "application/vnd.google.colaboratory.intrinsic+json": {
              "type": "string"
            }
          },
          "metadata": {},
          "execution_count": 11
        }
      ]
    },
    {
      "cell_type": "markdown",
      "source": [
        "Ćwiczenie\n",
        "\n",
        "Utwórz jeden łańcuch znaków z dniem miesiąca i nazwą miesiąca urodzin oraz dowolnym innym ciągniem znaków.\n"
      ],
      "metadata": {
        "id": "nAdaTIpJv4vI"
      }
    },
    {
      "cell_type": "code",
      "source": [
        "#@title Rozwiązanie"
      ],
      "metadata": {
        "id": "zEbb1W4vwpEc"
      },
      "execution_count": null,
      "outputs": []
    },
    {
      "cell_type": "code",
      "source": [
        "#@title Podpowiedź\n",
        "\n",
        "f\"Dzień i miesiąc urodzin: {d} {m}\"\n",
        "\"Dzień i miesiąc urodzin: \" + str(d) + \" \" + m"
      ],
      "metadata": {
        "id": "7HRwGZG0wnn3",
        "outputId": "4fe44bca-3254-4a86-a349-1737e5d70617",
        "colab": {
          "base_uri": "https://localhost:8080/",
          "height": 36
        }
      },
      "execution_count": 16,
      "outputs": [
        {
          "output_type": "execute_result",
          "data": {
            "text/plain": [
              "'Dzień i miesiąc urodzin: 0 nazwa miesiąca'"
            ],
            "application/vnd.google.colaboratory.intrinsic+json": {
              "type": "string"
            }
          },
          "metadata": {},
          "execution_count": 16
        }
      ]
    },
    {
      "cell_type": "markdown",
      "source": [
        "Sprawdźmy co robi funkcja `len`:"
      ],
      "metadata": {
        "id": "6VqaKwHtzRpa"
      }
    },
    {
      "cell_type": "code",
      "source": [
        "powitanie=\"Dzień dobry!\"\n",
        "len(powitanie)"
      ],
      "metadata": {
        "id": "NstZ9jfWzPFh",
        "outputId": "f4deddd3-6258-454b-b067-c44cbcfee054",
        "colab": {
          "base_uri": "https://localhost:8080/"
        }
      },
      "execution_count": 22,
      "outputs": [
        {
          "output_type": "execute_result",
          "data": {
            "text/plain": [
              "12"
            ]
          },
          "metadata": {},
          "execution_count": 22
        }
      ]
    },
    {
      "cell_type": "markdown",
      "source": [
        "Python umożliwia wiele operacji na typie `string`:\n",
        "* zwracanie pojedynczych znaków\n",
        "* zwracanie podciągów z danego ciągu\n",
        "* sprawdzanie, czy ciag znaków zawiera inny ciag\n",
        "* zmianę kolejności\n",
        "\n",
        "Analogiczne operacje można również wykonywać na innych kolekcjach (np. listy)."
      ],
      "metadata": {
        "id": "BrGETJ_wz6ZJ"
      }
    },
    {
      "cell_type": "code",
      "source": [],
      "metadata": {
        "id": "KpeKMQUNz5bE"
      },
      "execution_count": null,
      "outputs": []
    },
    {
      "cell_type": "markdown",
      "source": [],
      "metadata": {
        "id": "ad269W3aziyo"
      }
    },
    {
      "cell_type": "code",
      "source": [],
      "metadata": {
        "id": "PULPUV4yziJn"
      },
      "execution_count": null,
      "outputs": []
    },
    {
      "cell_type": "markdown",
      "source": [
        "Ćwiczenie\n",
        "\n",
        "Co zwracają następujące wyrażania?\n",
        "* funkcja `len` (np. `len(\"Cześć)`\n",
        "* operator indeksujący `[]` (np. `\"Cześć\"[0]`)\n"
      ],
      "metadata": {
        "id": "j8kT9kLKs2En"
      }
    },
    {
      "cell_type": "code",
      "source": [
        "\"Cześć\"[0]"
      ],
      "metadata": {
        "id": "z5NAJCogs3FL",
        "outputId": "7b576ef9-0a04-4a21-c774-cddfab390ede",
        "colab": {
          "base_uri": "https://localhost:8080/",
          "height": 36
        }
      },
      "execution_count": 20,
      "outputs": [
        {
          "output_type": "execute_result",
          "data": {
            "text/plain": [
              "'C'"
            ],
            "application/vnd.google.colaboratory.intrinsic+json": {
              "type": "string"
            }
          },
          "metadata": {},
          "execution_count": 20
        }
      ]
    },
    {
      "cell_type": "code",
      "source": [],
      "metadata": {
        "id": "ObPI5EbZIrU1"
      },
      "execution_count": null,
      "outputs": []
    }
  ]
}