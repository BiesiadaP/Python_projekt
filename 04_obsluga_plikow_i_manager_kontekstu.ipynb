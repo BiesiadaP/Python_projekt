{
  "cells": [
    {
      "cell_type": "markdown",
      "metadata": {
        "id": "view-in-github",
        "colab_type": "text"
      },
      "source": [
        "<a href=\"https://colab.research.google.com/github/chrispi21/python-dataeng/blob/main/04_obsluga_plikow_i_manager_kontekstu.ipynb\" target=\"_parent\"><img src=\"https://colab.research.google.com/assets/colab-badge.svg\" alt=\"Open In Colab\"/></a>"
      ]
    },
    {
      "cell_type": "markdown",
      "source": [],
      "metadata": {
        "id": "1mmgZDPbgMu0"
      }
    },
    {
      "cell_type": "code",
      "execution_count": 14,
      "metadata": {
        "id": "szNtE2JwaU-o",
        "outputId": "e57141c1-b9cb-43f0-f0f7-e342c984d469",
        "colab": {
          "base_uri": "https://localhost:8080/"
        }
      },
      "outputs": [
        {
          "output_type": "stream",
          "name": "stdout",
          "text": [
            " car-price-dataset.zip\t\t   'Downloader.aspx?file=pl_uro_2023_00_1.zip'\n",
            "'download?datasetVersionNumber=1'   sample_data\n"
          ]
        }
      ],
      "source": [
        "!ls"
      ]
    },
    {
      "cell_type": "code",
      "source": [
        "!wget -O pracownicy.csv https://raw.githubusercontent.com/chrispi21/python-dataeng/refs/heads/main/pracownicy.csv"
      ],
      "metadata": {
        "id": "Hw-czziUgPa_",
        "outputId": "403d6e33-67db-4949-ed93-9fea2337a771",
        "colab": {
          "base_uri": "https://localhost:8080/"
        }
      },
      "execution_count": 19,
      "outputs": [
        {
          "output_type": "stream",
          "name": "stdout",
          "text": [
            "--2025-02-26 14:14:29--  https://raw.githubusercontent.com/chrispi21/python-dataeng/refs/heads/main/pracownicy.csv\n",
            "Resolving raw.githubusercontent.com (raw.githubusercontent.com)... 185.199.108.133, 185.199.111.133, 185.199.109.133, ...\n",
            "Connecting to raw.githubusercontent.com (raw.githubusercontent.com)|185.199.108.133|:443... connected.\n",
            "HTTP request sent, awaiting response... 200 OK\n",
            "Length: 1526 (1.5K) [text/plain]\n",
            "Saving to: ‘pracownicy.csv’\n",
            "\n",
            "pracownicy.csv      100%[===================>]   1.49K  --.-KB/s    in 0s      \n",
            "\n",
            "2025-02-26 14:14:29 (19.1 MB/s) - ‘pracownicy.csv’ saved [1526/1526]\n",
            "\n"
          ]
        }
      ]
    },
    {
      "cell_type": "code",
      "source": [
        "!ls pracownicy.csv"
      ],
      "metadata": {
        "id": "qF-kBq8LhG0b",
        "outputId": "230a0f6f-2c11-4814-b7a6-897f95feddcb",
        "colab": {
          "base_uri": "https://localhost:8080/"
        }
      },
      "execution_count": 20,
      "outputs": [
        {
          "output_type": "stream",
          "name": "stdout",
          "text": [
            "pracownicy.csv\n"
          ]
        }
      ]
    },
    {
      "cell_type": "code",
      "source": [
        "sciezka = \"pracownicy.csv\"\n",
        "plik = open(sciezka)\n",
        "[\n",
        "    linia\n",
        "    for linia in plik.readlines()\n",
        "]"
      ],
      "metadata": {
        "id": "8TJFQRvthIHG",
        "outputId": "e539de05-3b78-4e35-bbce-8713489e8e28",
        "colab": {
          "base_uri": "https://localhost:8080/"
        }
      },
      "execution_count": 21,
      "outputs": [
        {
          "output_type": "execute_result",
          "data": {
            "text/plain": [
              "['ID,Imię,Nazwisko,Stanowisko,Departament,Staż pracy (lata)\\n',\n",
              " '1,Piotr,Kowalski,Inżynier produkcji,Marketing,21\\n',\n",
              " '2,Ewa,Wiśniewska,Kierownik projektu,Finanse,23\\n',\n",
              " '3,Jan,Kowalski,Kierownik projektu,HR,5\\n',\n",
              " '4,Piotr,Lewandowski,Analityk finansowy,Marketing,12\\n',\n",
              " '5,Piotr,Kamiński,Analityk finansowy,Marketing,23\\n',\n",
              " '6,Adam,Kowalski,Kierownik projektu,Produkcja,29\\n',\n",
              " '7,Adam,Szymański,Analityk finansowy,Zarządzanie,19\\n',\n",
              " '8,Adam,Nowak,Marketing Specialist,HR,15\\n',\n",
              " '9,Anna,Lewandowski,Inżynier produkcji,Zarządzanie,7\\n',\n",
              " '10,Maria,Woźniak,Kierownik projektu,HR,30\\n',\n",
              " '11,Maria,Szymańska,HR Manager,Marketing,12\\n',\n",
              " '12,Tomasz,Wójcik,Inżynier produkcji,Marketing,29\\n',\n",
              " '13,Adam,Dąbrowski,Marketing Specialist,HR,14\\n',\n",
              " '14,Marek,Zieliński,Specjalista ds. IT,IT,13\\n',\n",
              " '15,Agnieszka,Zielińska,Marketing Specialist,Marketing,25\\n',\n",
              " '16,Marek,Zieliński,Marketing Specialist,HR,3\\n',\n",
              " '17,Katarzyna,Nowak,Marketing Specialist,HR,20\\n',\n",
              " '18,Piotr,Szymański,Inżynier produkcji,Zarządzanie,25\\n',\n",
              " '19,Anna,Wójcik,Specjalista ds. IT,Marketing,24\\n',\n",
              " '20,Piotr,Zieliński,HR Manager,Marketing,7\\n',\n",
              " '21,Ewa,Zielińska,Inżynier produkcji,Finanse,2\\n',\n",
              " '22,Marek,Zieliński,Specjalista ds. IT,Finanse,25\\n',\n",
              " '23,Anna,Kamińska,Analityk finansowy,Finanse,11\\n',\n",
              " '24,Jan,Kowalski,Kierownik projektu,Marketing,3\\n',\n",
              " '25,Jan,Zieliński,Analityk finansowy,Marketing,24\\n',\n",
              " '26,Maria,Wójcik,Kierownik projektu,HR,1\\n',\n",
              " '27,Adam,Wójcik,HR Manager,Produkcja,2\\n',\n",
              " '28,Adam,Kowalski,Analityk finansowy,Zarządzanie,9\\n',\n",
              " '29,Tomasz,Wójcik,HR Manager,Zarządzanie,12\\n',\n",
              " '30,Katarzyna,Dąbrowska,Kierownik projektu,Produkcja,28\\n']"
            ]
          },
          "metadata": {},
          "execution_count": 21
        }
      ]
    },
    {
      "cell_type": "code",
      "source": [
        "plik.close()"
      ],
      "metadata": {
        "id": "aFU6FbCfnZL3"
      },
      "execution_count": 23,
      "outputs": []
    },
    {
      "cell_type": "code",
      "source": [],
      "metadata": {
        "id": "ZRfFuL2ynlrR"
      },
      "execution_count": null,
      "outputs": []
    }
  ],
  "metadata": {
    "colab": {
      "provenance": [],
      "authorship_tag": "ABX9TyNI+rAYtS8SEvLwRDUlFbvc",
      "include_colab_link": true
    },
    "kernelspec": {
      "display_name": "Python 3",
      "name": "python3"
    },
    "language_info": {
      "name": "python"
    }
  },
  "nbformat": 4,
  "nbformat_minor": 0
}