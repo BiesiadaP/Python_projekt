{
  "cells": [
    {
      "cell_type": "markdown",
      "metadata": {
        "id": "view-in-github",
        "colab_type": "text"
      },
      "source": [
        "<a href=\"https://colab.research.google.com/github/chrispi21/python-dataeng/blob/main/04_obsluga_plikow_i_manager_kontekstu.ipynb\" target=\"_parent\"><img src=\"https://colab.research.google.com/assets/colab-badge.svg\" alt=\"Open In Colab\"/></a>"
      ]
    },
    {
      "cell_type": "markdown",
      "source": [
        "# Przygotowanie do zajęć\n",
        "\n",
        "Docs:\n",
        "1. https://realpython.com/working-with-files-in-python/\n",
        "2. https://docs.python.org/3/library/filesys.html\n",
        "3. https://docs.python.org/3/library/io.html#io-overview\n",
        "4. https://docs.python.org/3/tutorial/inputoutput.html#reading-and-writing-files\n",
        "\n",
        "\n",
        "Ćwiczenia:\n",
        "1. https://www.w3resource.com/python-exercises/file/\n",
        "\n",
        "Zacznijmy od pobrania plików z danymi:"
      ],
      "metadata": {
        "id": "1mmgZDPbgMu0"
      }
    },
    {
      "cell_type": "code",
      "source": [
        "!wget -O pracownicy.csv https://raw.githubusercontent.com/chrispi21/python-dataeng/refs/heads/main/pracownicy.csv"
      ],
      "metadata": {
        "id": "Hw-czziUgPa_",
        "outputId": "95fa3bde-0095-46a9-e833-e0a43758f8a8",
        "colab": {
          "base_uri": "https://localhost:8080/"
        }
      },
      "execution_count": 1,
      "outputs": [
        {
          "output_type": "stream",
          "name": "stdout",
          "text": [
            "--2025-03-07 13:14:44--  https://raw.githubusercontent.com/chrispi21/python-dataeng/refs/heads/main/pracownicy.csv\n",
            "Resolving raw.githubusercontent.com (raw.githubusercontent.com)... 185.199.108.133, 185.199.109.133, 185.199.110.133, ...\n",
            "Connecting to raw.githubusercontent.com (raw.githubusercontent.com)|185.199.108.133|:443... connected.\n",
            "HTTP request sent, awaiting response... 200 OK\n",
            "Length: 1526 (1.5K) [text/plain]\n",
            "Saving to: ‘pracownicy.csv’\n",
            "\n",
            "pracownicy.csv      100%[===================>]   1.49K  --.-KB/s    in 0s      \n",
            "\n",
            "2025-03-07 13:14:45 (17.3 MB/s) - ‘pracownicy.csv’ saved [1526/1526]\n",
            "\n"
          ]
        }
      ]
    },
    {
      "cell_type": "markdown",
      "source": [
        "`!` służy do wykonywania poleceń powłoki systemowej (ang. `shell`).\n",
        "\n",
        "Sprawdźmy, czy udało się pobieranie naszego pliku i gdzie się znajduje:"
      ],
      "metadata": {
        "id": "Qrqovz63QiEP"
      }
    },
    {
      "cell_type": "code",
      "source": [
        "!ls -la pracownicy.csv"
      ],
      "metadata": {
        "id": "qF-kBq8LhG0b",
        "outputId": "49023759-c6ea-4ccb-c55d-b53750fc6e1f",
        "colab": {
          "base_uri": "https://localhost:8080/"
        }
      },
      "execution_count": 2,
      "outputs": [
        {
          "output_type": "stream",
          "name": "stdout",
          "text": [
            "-rw-r--r-- 1 root root 1526 Mar  7 13:14 pracownicy.csv\n"
          ]
        }
      ]
    },
    {
      "cell_type": "code",
      "source": [
        "!pwd"
      ],
      "metadata": {
        "id": "nlWrptiFQSNP",
        "outputId": "751f4c10-0943-4506-c039-1bde6fe92ce0",
        "colab": {
          "base_uri": "https://localhost:8080/"
        }
      },
      "execution_count": 3,
      "outputs": [
        {
          "output_type": "stream",
          "name": "stdout",
          "text": [
            "/content\n"
          ]
        }
      ]
    },
    {
      "cell_type": "markdown",
      "source": [
        "# Standardowe podejście"
      ],
      "metadata": {
        "id": "jz55LXRRRmAU"
      }
    },
    {
      "cell_type": "markdown",
      "source": [
        "Otwórzmy plik:"
      ],
      "metadata": {
        "id": "881wzww1Q3iK"
      }
    },
    {
      "cell_type": "code",
      "source": [
        "sciezka = \"/content/pracownicy.csv\"\n",
        "plik = open(sciezka)"
      ],
      "metadata": {
        "id": "8TJFQRvthIHG"
      },
      "execution_count": 27,
      "outputs": []
    },
    {
      "cell_type": "markdown",
      "source": [
        "Odczytajmy dane:"
      ],
      "metadata": {
        "id": "qc5fl6EZQ_ff"
      }
    },
    {
      "cell_type": "code",
      "source": [
        "dane = plik.readlines()"
      ],
      "metadata": {
        "id": "xVLolTo4RG4z"
      },
      "execution_count": 28,
      "outputs": []
    },
    {
      "cell_type": "markdown",
      "source": [
        "Dane są w postaci niesparsowanej:"
      ],
      "metadata": {
        "id": "RHzB4nBVRNk9"
      }
    },
    {
      "cell_type": "code",
      "source": [
        "dane"
      ],
      "metadata": {
        "id": "FjHhYWudRKEx",
        "outputId": "6960acb7-7e90-473d-f167-616f2183e698",
        "colab": {
          "base_uri": "https://localhost:8080/"
        }
      },
      "execution_count": 29,
      "outputs": [
        {
          "output_type": "execute_result",
          "data": {
            "text/plain": [
              "['ID,Imię,Nazwisko,Stanowisko,Departament,Staż pracy (lata)\\n',\n",
              " '1,Piotr,Kowalski,Inżynier produkcji,Marketing,21\\n',\n",
              " '2,Ewa,Wiśniewska,Kierownik projektu,Finanse,23\\n',\n",
              " '3,Jan,Kowalski,Kierownik projektu,HR,5\\n',\n",
              " '4,Piotr,Lewandowski,Analityk finansowy,Marketing,12\\n',\n",
              " '5,Piotr,Kamiński,Analityk finansowy,Marketing,23\\n',\n",
              " '6,Adam,Kowalski,Kierownik projektu,Produkcja,29\\n',\n",
              " '7,Adam,Szymański,Analityk finansowy,Zarządzanie,19\\n',\n",
              " '8,Adam,Nowak,Marketing Specialist,HR,15\\n',\n",
              " '9,Anna,Lewandowski,Inżynier produkcji,Zarządzanie,7\\n',\n",
              " '10,Maria,Woźniak,Kierownik projektu,HR,30\\n',\n",
              " '11,Maria,Szymańska,HR Manager,Marketing,12\\n',\n",
              " '12,Tomasz,Wójcik,Inżynier produkcji,Marketing,29\\n',\n",
              " '13,Adam,Dąbrowski,Marketing Specialist,HR,14\\n',\n",
              " '14,Marek,Zieliński,Specjalista ds. IT,IT,13\\n',\n",
              " '15,Agnieszka,Zielińska,Marketing Specialist,Marketing,25\\n',\n",
              " '16,Marek,Zieliński,Marketing Specialist,HR,3\\n',\n",
              " '17,Katarzyna,Nowak,Marketing Specialist,HR,20\\n',\n",
              " '18,Piotr,Szymański,Inżynier produkcji,Zarządzanie,25\\n',\n",
              " '19,Anna,Wójcik,Specjalista ds. IT,Marketing,24\\n',\n",
              " '20,Piotr,Zieliński,HR Manager,Marketing,7\\n',\n",
              " '21,Ewa,Zielińska,Inżynier produkcji,Finanse,2\\n',\n",
              " '22,Marek,Zieliński,Specjalista ds. IT,Finanse,25\\n',\n",
              " '23,Anna,Kamińska,Analityk finansowy,Finanse,11\\n',\n",
              " '24,Jan,Kowalski,Kierownik projektu,Marketing,3\\n',\n",
              " '25,Jan,Zieliński,Analityk finansowy,Marketing,24\\n',\n",
              " '26,Maria,Wójcik,Kierownik projektu,HR,1\\n',\n",
              " '27,Adam,Wójcik,HR Manager,Produkcja,2\\n',\n",
              " '28,Adam,Kowalski,Analityk finansowy,Zarządzanie,9\\n',\n",
              " '29,Tomasz,Wójcik,HR Manager,Zarządzanie,12\\n',\n",
              " '30,Katarzyna,Dąbrowska,Kierownik projektu,Produkcja,28\\n']"
            ]
          },
          "metadata": {},
          "execution_count": 29
        }
      ]
    },
    {
      "cell_type": "markdown",
      "source": [
        "Zamknijmy plik:"
      ],
      "metadata": {
        "id": "wBcoeTzHRSN5"
      }
    },
    {
      "cell_type": "code",
      "source": [
        "plik.close()"
      ],
      "metadata": {
        "id": "aFU6FbCfnZL3"
      },
      "execution_count": 30,
      "outputs": []
    },
    {
      "cell_type": "markdown",
      "source": [
        "Wady powyższego podejścia:\n",
        "\n",
        "* Konieczność parsowania danych\n",
        "* Trzeba zamknąć plik\n",
        "* Musimy zadbać o obsługę wyjątków i wymusić zamknięcie pliku\n",
        "\n",
        "Domyślnie pliki otwierane są w następującym trybie:\n",
        "1. Do odczytu (`read mode`). Można zmienić na `write` albo otworzyć w trybie zapis i odczyt.\n",
        "2. Tekstowym (domyślnie kodowanie zgodne z platformą). Można zmienić kodowanie. Można zmienić na tryb binarny.\n",
        "\n",
        "Później zajmiemy się zapisem danych - spróbujmy znaleźć obejścia dla problemów."
      ],
      "metadata": {
        "id": "1N_D59NuRizP"
      }
    },
    {
      "cell_type": "markdown",
      "source": [
        "# Manager kontekstu (ang. `context manager`)\n",
        "\n",
        "Rozwiążemy problem pamiętania o zamknięciu pliku.\n",
        "\n",
        "Docs:\n",
        "1. https://book.pythontips.com/en/latest/context_managers.html\n",
        "2. https://realpython.com/python-with-statement/#managing-resources-in-python\n",
        "\n",
        "Dla chętnych:\n",
        "1. https://docs.python.org/3/library/contextlib.html + https://realpython.com/python-with-statement/#creating-function-based-context-managers\n"
      ],
      "metadata": {
        "id": "BoQeezOnSgPX"
      }
    },
    {
      "cell_type": "code",
      "source": [
        "with open(sciezka) as plik:\n",
        "  dane_v2 = plik.readlines()"
      ],
      "metadata": {
        "id": "llrVI0soRiSj"
      },
      "execution_count": 20,
      "outputs": []
    },
    {
      "cell_type": "markdown",
      "source": [
        "Manager kontekstu pozwala na bezpieczne otwarcie i zamknięcie pliku (oraz innych zasobów)."
      ],
      "metadata": {
        "id": "-hd0uch_1Uii"
      }
    },
    {
      "cell_type": "markdown",
      "source": [
        "Możemy wyświetlić dane:"
      ],
      "metadata": {
        "id": "9qk9VK1NTDWE"
      }
    },
    {
      "cell_type": "code",
      "source": [
        "dane_v2"
      ],
      "metadata": {
        "id": "ZRfFuL2ynlrR",
        "outputId": "16eb61e7-3b6a-40d4-e64e-070a120af48f",
        "colab": {
          "base_uri": "https://localhost:8080/"
        }
      },
      "execution_count": 21,
      "outputs": [
        {
          "output_type": "execute_result",
          "data": {
            "text/plain": [
              "['ID,Imię,Nazwisko,Stanowisko,Departament,Staż pracy (lata)\\n',\n",
              " '1,Piotr,Kowalski,Inżynier produkcji,Marketing,21\\n',\n",
              " '2,Ewa,Wiśniewska,Kierownik projektu,Finanse,23\\n',\n",
              " '3,Jan,Kowalski,Kierownik projektu,HR,5\\n',\n",
              " '4,Piotr,Lewandowski,Analityk finansowy,Marketing,12\\n',\n",
              " '5,Piotr,Kamiński,Analityk finansowy,Marketing,23\\n',\n",
              " '6,Adam,Kowalski,Kierownik projektu,Produkcja,29\\n',\n",
              " '7,Adam,Szymański,Analityk finansowy,Zarządzanie,19\\n',\n",
              " '8,Adam,Nowak,Marketing Specialist,HR,15\\n',\n",
              " '9,Anna,Lewandowski,Inżynier produkcji,Zarządzanie,7\\n',\n",
              " '10,Maria,Woźniak,Kierownik projektu,HR,30\\n',\n",
              " '11,Maria,Szymańska,HR Manager,Marketing,12\\n',\n",
              " '12,Tomasz,Wójcik,Inżynier produkcji,Marketing,29\\n',\n",
              " '13,Adam,Dąbrowski,Marketing Specialist,HR,14\\n',\n",
              " '14,Marek,Zieliński,Specjalista ds. IT,IT,13\\n',\n",
              " '15,Agnieszka,Zielińska,Marketing Specialist,Marketing,25\\n',\n",
              " '16,Marek,Zieliński,Marketing Specialist,HR,3\\n',\n",
              " '17,Katarzyna,Nowak,Marketing Specialist,HR,20\\n',\n",
              " '18,Piotr,Szymański,Inżynier produkcji,Zarządzanie,25\\n',\n",
              " '19,Anna,Wójcik,Specjalista ds. IT,Marketing,24\\n',\n",
              " '20,Piotr,Zieliński,HR Manager,Marketing,7\\n',\n",
              " '21,Ewa,Zielińska,Inżynier produkcji,Finanse,2\\n',\n",
              " '22,Marek,Zieliński,Specjalista ds. IT,Finanse,25\\n',\n",
              " '23,Anna,Kamińska,Analityk finansowy,Finanse,11\\n',\n",
              " '24,Jan,Kowalski,Kierownik projektu,Marketing,3\\n',\n",
              " '25,Jan,Zieliński,Analityk finansowy,Marketing,24\\n',\n",
              " '26,Maria,Wójcik,Kierownik projektu,HR,1\\n',\n",
              " '27,Adam,Wójcik,HR Manager,Produkcja,2\\n',\n",
              " '28,Adam,Kowalski,Analityk finansowy,Zarządzanie,9\\n',\n",
              " '29,Tomasz,Wójcik,HR Manager,Zarządzanie,12\\n',\n",
              " '30,Katarzyna,Dąbrowska,Kierownik projektu,Produkcja,28\\n']"
            ]
          },
          "metadata": {},
          "execution_count": 21
        }
      ]
    },
    {
      "cell_type": "markdown",
      "source": [
        "Nie możemy już odczytać zamkniętego pliku:"
      ],
      "metadata": {
        "id": "WkzGMUXzTGeb"
      }
    },
    {
      "cell_type": "code",
      "source": [
        "plik.readlines()"
      ],
      "metadata": {
        "id": "XX2rJV6MS74n",
        "outputId": "7cf0421c-1c6f-4beb-f1d5-d39a14fc49f9",
        "colab": {
          "base_uri": "https://localhost:8080/",
          "height": 141
        }
      },
      "execution_count": 23,
      "outputs": [
        {
          "output_type": "error",
          "ename": "ValueError",
          "evalue": "I/O operation on closed file.",
          "traceback": [
            "\u001b[0;31m---------------------------------------------------------------------------\u001b[0m",
            "\u001b[0;31mValueError\u001b[0m                                Traceback (most recent call last)",
            "\u001b[0;32m<ipython-input-23-80ff4b301de7>\u001b[0m in \u001b[0;36m<cell line: 0>\u001b[0;34m()\u001b[0m\n\u001b[0;32m----> 1\u001b[0;31m \u001b[0mplik\u001b[0m\u001b[0;34m.\u001b[0m\u001b[0mreadlines\u001b[0m\u001b[0;34m(\u001b[0m\u001b[0;34m)\u001b[0m\u001b[0;34m\u001b[0m\u001b[0;34m\u001b[0m\u001b[0m\n\u001b[0m",
            "\u001b[0;31mValueError\u001b[0m: I/O operation on closed file."
          ]
        }
      ]
    },
    {
      "cell_type": "markdown",
      "source": [
        "Ćwiczenie\n",
        "\n",
        "Co się stanie w przypadku błędu?"
      ],
      "metadata": {
        "id": "ITQDYoyl2r5T"
      }
    },
    {
      "cell_type": "code",
      "source": [
        "with open(sciezka) as plik2:\n",
        "  # Wymuszamy błąd\n",
        "  1 / 0\n",
        "  plik2.readlines()"
      ],
      "metadata": {
        "id": "t9wZrIf623tK",
        "outputId": "ee1e7b67-7c2d-4ebb-a061-674c9ab889c0",
        "colab": {
          "base_uri": "https://localhost:8080/",
          "height": 193
        }
      },
      "execution_count": 32,
      "outputs": [
        {
          "output_type": "error",
          "ename": "ZeroDivisionError",
          "evalue": "division by zero",
          "traceback": [
            "\u001b[0;31m---------------------------------------------------------------------------\u001b[0m",
            "\u001b[0;31mZeroDivisionError\u001b[0m                         Traceback (most recent call last)",
            "\u001b[0;32m<ipython-input-32-0856c6398f99>\u001b[0m in \u001b[0;36m<cell line: 0>\u001b[0;34m()\u001b[0m\n\u001b[1;32m      1\u001b[0m \u001b[0;32mwith\u001b[0m \u001b[0mopen\u001b[0m\u001b[0;34m(\u001b[0m\u001b[0msciezka\u001b[0m\u001b[0;34m)\u001b[0m \u001b[0;32mas\u001b[0m \u001b[0mplik2\u001b[0m\u001b[0;34m:\u001b[0m\u001b[0;34m\u001b[0m\u001b[0;34m\u001b[0m\u001b[0m\n\u001b[1;32m      2\u001b[0m   \u001b[0;31m# Wymuszamy błąd\u001b[0m\u001b[0;34m\u001b[0m\u001b[0;34m\u001b[0m\u001b[0m\n\u001b[0;32m----> 3\u001b[0;31m   \u001b[0;36m1\u001b[0m \u001b[0;34m/\u001b[0m \u001b[0;36m0\u001b[0m\u001b[0;34m\u001b[0m\u001b[0;34m\u001b[0m\u001b[0m\n\u001b[0m\u001b[1;32m      4\u001b[0m   \u001b[0mplik2\u001b[0m\u001b[0;34m.\u001b[0m\u001b[0mreadlines\u001b[0m\u001b[0;34m(\u001b[0m\u001b[0;34m)\u001b[0m\u001b[0;34m\u001b[0m\u001b[0;34m\u001b[0m\u001b[0m\n",
            "\u001b[0;31mZeroDivisionError\u001b[0m: division by zero"
          ]
        }
      ]
    },
    {
      "cell_type": "code",
      "source": [
        "# czy mogę odczytać dabe\n",
        "plik2.readlines()"
      ],
      "metadata": {
        "id": "ss2KLZyW3fm5",
        "outputId": "99bf17d4-3c2c-4999-ce6b-6aa660d64214",
        "colab": {
          "base_uri": "https://localhost:8080/",
          "height": 158
        }
      },
      "execution_count": 33,
      "outputs": [
        {
          "output_type": "error",
          "ename": "ValueError",
          "evalue": "I/O operation on closed file.",
          "traceback": [
            "\u001b[0;31m---------------------------------------------------------------------------\u001b[0m",
            "\u001b[0;31mValueError\u001b[0m                                Traceback (most recent call last)",
            "\u001b[0;32m<ipython-input-33-307152be7693>\u001b[0m in \u001b[0;36m<cell line: 0>\u001b[0;34m()\u001b[0m\n\u001b[1;32m      1\u001b[0m \u001b[0;31m# czy mogę odczytać dabe\u001b[0m\u001b[0;34m\u001b[0m\u001b[0;34m\u001b[0m\u001b[0m\n\u001b[0;32m----> 2\u001b[0;31m \u001b[0mplik2\u001b[0m\u001b[0;34m.\u001b[0m\u001b[0mreadlines\u001b[0m\u001b[0;34m(\u001b[0m\u001b[0;34m)\u001b[0m\u001b[0;34m\u001b[0m\u001b[0;34m\u001b[0m\u001b[0m\n\u001b[0m",
            "\u001b[0;31mValueError\u001b[0m: I/O operation on closed file."
          ]
        }
      ]
    },
    {
      "cell_type": "markdown",
      "source": [
        "A teraz?"
      ],
      "metadata": {
        "id": "vaOG3hAI3S3W"
      }
    },
    {
      "cell_type": "code",
      "source": [
        "plik3 = open(sciezka)\n",
        "1 / 0\n",
        "plik3.readlines()"
      ],
      "metadata": {
        "id": "n6jVRStV3eVX",
        "outputId": "9b229f6f-2d0c-4cd3-f5f3-4284f3821b44",
        "colab": {
          "base_uri": "https://localhost:8080/",
          "height": 176
        }
      },
      "execution_count": 34,
      "outputs": [
        {
          "output_type": "error",
          "ename": "ZeroDivisionError",
          "evalue": "division by zero",
          "traceback": [
            "\u001b[0;31m---------------------------------------------------------------------------\u001b[0m",
            "\u001b[0;31mZeroDivisionError\u001b[0m                         Traceback (most recent call last)",
            "\u001b[0;32m<ipython-input-34-bc2112fcba48>\u001b[0m in \u001b[0;36m<cell line: 0>\u001b[0;34m()\u001b[0m\n\u001b[1;32m      1\u001b[0m \u001b[0mplik3\u001b[0m \u001b[0;34m=\u001b[0m \u001b[0mopen\u001b[0m\u001b[0;34m(\u001b[0m\u001b[0msciezka\u001b[0m\u001b[0;34m)\u001b[0m\u001b[0;34m\u001b[0m\u001b[0;34m\u001b[0m\u001b[0m\n\u001b[0;32m----> 2\u001b[0;31m \u001b[0;36m1\u001b[0m \u001b[0;34m/\u001b[0m \u001b[0;36m0\u001b[0m\u001b[0;34m\u001b[0m\u001b[0;34m\u001b[0m\u001b[0m\n\u001b[0m\u001b[1;32m      3\u001b[0m \u001b[0mplik3\u001b[0m\u001b[0;34m.\u001b[0m\u001b[0mreadlines\u001b[0m\u001b[0;34m(\u001b[0m\u001b[0;34m)\u001b[0m\u001b[0;34m\u001b[0m\u001b[0;34m\u001b[0m\u001b[0m\n",
            "\u001b[0;31mZeroDivisionError\u001b[0m: division by zero"
          ]
        }
      ]
    },
    {
      "cell_type": "code",
      "source": [
        "plik3.readlines()"
      ],
      "metadata": {
        "id": "YU708u983Hm7",
        "outputId": "86c2b8c9-da34-4405-e77e-30b2d00c3e90",
        "colab": {
          "base_uri": "https://localhost:8080/"
        }
      },
      "execution_count": 35,
      "outputs": [
        {
          "output_type": "execute_result",
          "data": {
            "text/plain": [
              "['ID,Imię,Nazwisko,Stanowisko,Departament,Staż pracy (lata)\\n',\n",
              " '1,Piotr,Kowalski,Inżynier produkcji,Marketing,21\\n',\n",
              " '2,Ewa,Wiśniewska,Kierownik projektu,Finanse,23\\n',\n",
              " '3,Jan,Kowalski,Kierownik projektu,HR,5\\n',\n",
              " '4,Piotr,Lewandowski,Analityk finansowy,Marketing,12\\n',\n",
              " '5,Piotr,Kamiński,Analityk finansowy,Marketing,23\\n',\n",
              " '6,Adam,Kowalski,Kierownik projektu,Produkcja,29\\n',\n",
              " '7,Adam,Szymański,Analityk finansowy,Zarządzanie,19\\n',\n",
              " '8,Adam,Nowak,Marketing Specialist,HR,15\\n',\n",
              " '9,Anna,Lewandowski,Inżynier produkcji,Zarządzanie,7\\n',\n",
              " '10,Maria,Woźniak,Kierownik projektu,HR,30\\n',\n",
              " '11,Maria,Szymańska,HR Manager,Marketing,12\\n',\n",
              " '12,Tomasz,Wójcik,Inżynier produkcji,Marketing,29\\n',\n",
              " '13,Adam,Dąbrowski,Marketing Specialist,HR,14\\n',\n",
              " '14,Marek,Zieliński,Specjalista ds. IT,IT,13\\n',\n",
              " '15,Agnieszka,Zielińska,Marketing Specialist,Marketing,25\\n',\n",
              " '16,Marek,Zieliński,Marketing Specialist,HR,3\\n',\n",
              " '17,Katarzyna,Nowak,Marketing Specialist,HR,20\\n',\n",
              " '18,Piotr,Szymański,Inżynier produkcji,Zarządzanie,25\\n',\n",
              " '19,Anna,Wójcik,Specjalista ds. IT,Marketing,24\\n',\n",
              " '20,Piotr,Zieliński,HR Manager,Marketing,7\\n',\n",
              " '21,Ewa,Zielińska,Inżynier produkcji,Finanse,2\\n',\n",
              " '22,Marek,Zieliński,Specjalista ds. IT,Finanse,25\\n',\n",
              " '23,Anna,Kamińska,Analityk finansowy,Finanse,11\\n',\n",
              " '24,Jan,Kowalski,Kierownik projektu,Marketing,3\\n',\n",
              " '25,Jan,Zieliński,Analityk finansowy,Marketing,24\\n',\n",
              " '26,Maria,Wójcik,Kierownik projektu,HR,1\\n',\n",
              " '27,Adam,Wójcik,HR Manager,Produkcja,2\\n',\n",
              " '28,Adam,Kowalski,Analityk finansowy,Zarządzanie,9\\n',\n",
              " '29,Tomasz,Wójcik,HR Manager,Zarządzanie,12\\n',\n",
              " '30,Katarzyna,Dąbrowska,Kierownik projektu,Produkcja,28\\n']"
            ]
          },
          "metadata": {},
          "execution_count": 35
        }
      ]
    },
    {
      "cell_type": "code",
      "source": [
        "plik3.close()"
      ],
      "metadata": {
        "id": "x1kUVB393mKX"
      },
      "execution_count": 36,
      "outputs": []
    },
    {
      "cell_type": "markdown",
      "source": [
        "Ćwiczenie dla chętnych\n",
        "\n",
        "Zapoznaj się z:\n",
        "1. https://realpython.com/python-with-statement/#creating-function-based-context-managers\n",
        "2. https://docs.python.org/3/library/os.html#os.environ\n",
        "\n",
        "Utwórz manager kontekstu, który będzie inicjalizował zmienne środowiskowe a następnie je czyścił korzystając z `contextlib.contextmanager`.\n",
        "\n",
        "Dla uproszczenie nie przejmujemy się obecnym stanem zmiennych środowiskowych i przywracaniem ich pierwotnych wartości.\n",
        "\n",
        "Przykład:\n",
        "```python\n",
        "# powinno zadziałać wyświetlając kolejno:\n",
        "# moja zmienna 1\n",
        "# moja_zmienna_2\n",
        "with env_var(MY_ENV_1=\"moja zmienna 1\", MY_ENV_2=\"moja_zmienna_2\"):\n",
        "  print(os.environ[\"MY_ENV_1\"])\n",
        "  print(os.environ[\"MY_ENV_2\"])\n",
        "\n",
        "# powinno zakończyć się błędem:\n",
        "print(os.environ[\"MY_ENV_1\"])\n",
        "\n",
        "```"
      ],
      "metadata": {
        "id": "aezKIVvt3p2d"
      }
    },
    {
      "cell_type": "code",
      "source": [
        "# @title Rozwiazanie"
      ],
      "metadata": {
        "cellView": "form",
        "id": "Vk8Ft1nB5ocS"
      },
      "execution_count": null,
      "outputs": []
    },
    {
      "cell_type": "code",
      "source": [
        "# @title Podpowiedź\n",
        "\n",
        "import os\n",
        "import contextlib\n",
        "\n",
        "@contextlib.contextmanager\n",
        "def env_var(**kwargs):\n",
        "  os.environ.update(kwargs)\n",
        "  yield\n",
        "  for k in kwargs.keys():\n",
        "    del os.environ[k]\n",
        "\n",
        "# powinno zadziałać\n",
        "with env_var(MY_ENV_1=\"moja zmienna 1\", MY_ENV_2=\"moja_zmienna_2\"):\n",
        "  print(os.environ[\"MY_ENV_1\"])\n",
        "  print(os.environ[\"MY_ENV_2\"])\n",
        "\n",
        "# powinno zakończyć się błędem:\n",
        "print(os.environ[\"MY_ENV_1\"])"
      ],
      "metadata": {
        "cellView": "form",
        "id": "Bfc6oAZT5sM_",
        "outputId": "c040c985-0713-4076-feb7-50ed262b10ef",
        "colab": {
          "base_uri": "https://localhost:8080/",
          "height": 245
        }
      },
      "execution_count": 41,
      "outputs": [
        {
          "output_type": "stream",
          "name": "stdout",
          "text": [
            "moja zmienna 1\n",
            "moja_zmienna_2\n"
          ]
        },
        {
          "output_type": "error",
          "ename": "KeyError",
          "evalue": "'MY_ENV_1'",
          "traceback": [
            "\u001b[0;31m---------------------------------------------------------------------------\u001b[0m",
            "\u001b[0;31mKeyError\u001b[0m                                  Traceback (most recent call last)",
            "\u001b[0;32m<ipython-input-41-d1eeb6ed51d6>\u001b[0m in \u001b[0;36m<cell line: 0>\u001b[0;34m()\u001b[0m\n\u001b[1;32m     17\u001b[0m \u001b[0;34m\u001b[0m\u001b[0m\n\u001b[1;32m     18\u001b[0m \u001b[0;31m# powinno zakończyć się błędem:\u001b[0m\u001b[0;34m\u001b[0m\u001b[0;34m\u001b[0m\u001b[0m\n\u001b[0;32m---> 19\u001b[0;31m \u001b[0mprint\u001b[0m\u001b[0;34m(\u001b[0m\u001b[0mos\u001b[0m\u001b[0;34m.\u001b[0m\u001b[0menviron\u001b[0m\u001b[0;34m[\u001b[0m\u001b[0;34m\"MY_ENV_1\"\u001b[0m\u001b[0;34m]\u001b[0m\u001b[0;34m)\u001b[0m\u001b[0;34m\u001b[0m\u001b[0;34m\u001b[0m\u001b[0m\n\u001b[0m",
            "\u001b[0;32m/usr/lib/python3.11/os.py\u001b[0m in \u001b[0;36m__getitem__\u001b[0;34m(self, key)\u001b[0m\n",
            "\u001b[0;31mKeyError\u001b[0m: 'MY_ENV_1'"
          ]
        }
      ]
    },
    {
      "cell_type": "markdown",
      "source": [
        "Inne zastosowania:\n",
        "1. Obsługa połączeń (np. do baz danych)\n",
        "2. Obsługa transakcji w bazach danych\n",
        "3. Obsługa plików temporalnych i innych zasobów tymczasowych\n",
        "4. Obsługa innych zasobów, dla których wymagane jest obsłużenie zamknięcia zasobu\n",
        "\n",
        "Do tworzenie własnych managerów kontekstu można wykorzystać bibiotekę `contextlib` ([link](https://docs.python.org/3/library/contextlib.html)). Posiada ona też wiele gotowych managerów kontekstu."
      ],
      "metadata": {
        "id": "iRvgDjGMTLO0"
      }
    },
    {
      "cell_type": "markdown",
      "source": [
        "# Odczyt *csv*\n",
        "\n",
        "Rozwiążemy teraz problem samodzielnego parsowania zawartości pliku *csv*"
      ],
      "metadata": {
        "id": "SoBpPDOMUtLl"
      }
    },
    {
      "cell_type": "code",
      "source": [
        "import csv"
      ],
      "metadata": {
        "id": "DOc_ynaTS_Vx"
      },
      "execution_count": null,
      "outputs": []
    },
    {
      "cell_type": "code",
      "source": [
        "sciezka = \"/content/pracownicy.csv\"\n",
        "with open(sciezka,  newline='') as plik_csv:\n",
        "  dane_csv = list(csv.reader(plik_csv, delimiter=\",\"))"
      ],
      "metadata": {
        "id": "MThOhyc8VAAU"
      },
      "execution_count": null,
      "outputs": []
    },
    {
      "cell_type": "code",
      "source": [
        "dane_csv"
      ],
      "metadata": {
        "id": "eTSl616iVai9",
        "outputId": "7739485b-f035-44c5-fb6e-05957eea6693",
        "colab": {
          "base_uri": "https://localhost:8080/"
        }
      },
      "execution_count": null,
      "outputs": [
        {
          "output_type": "execute_result",
          "data": {
            "text/plain": [
              "[['ID', 'Imię', 'Nazwisko', 'Stanowisko', 'Departament', 'Staż pracy (lata)'],\n",
              " ['1', 'Piotr', 'Kowalski', 'Inżynier produkcji', 'Marketing', '21'],\n",
              " ['2', 'Ewa', 'Wiśniewska', 'Kierownik projektu', 'Finanse', '23'],\n",
              " ['3', 'Jan', 'Kowalski', 'Kierownik projektu', 'HR', '5'],\n",
              " ['4', 'Piotr', 'Lewandowski', 'Analityk finansowy', 'Marketing', '12'],\n",
              " ['5', 'Piotr', 'Kamiński', 'Analityk finansowy', 'Marketing', '23'],\n",
              " ['6', 'Adam', 'Kowalski', 'Kierownik projektu', 'Produkcja', '29'],\n",
              " ['7', 'Adam', 'Szymański', 'Analityk finansowy', 'Zarządzanie', '19'],\n",
              " ['8', 'Adam', 'Nowak', 'Marketing Specialist', 'HR', '15'],\n",
              " ['9', 'Anna', 'Lewandowski', 'Inżynier produkcji', 'Zarządzanie', '7'],\n",
              " ['10', 'Maria', 'Woźniak', 'Kierownik projektu', 'HR', '30'],\n",
              " ['11', 'Maria', 'Szymańska', 'HR Manager', 'Marketing', '12'],\n",
              " ['12', 'Tomasz', 'Wójcik', 'Inżynier produkcji', 'Marketing', '29'],\n",
              " ['13', 'Adam', 'Dąbrowski', 'Marketing Specialist', 'HR', '14'],\n",
              " ['14', 'Marek', 'Zieliński', 'Specjalista ds. IT', 'IT', '13'],\n",
              " ['15', 'Agnieszka', 'Zielińska', 'Marketing Specialist', 'Marketing', '25'],\n",
              " ['16', 'Marek', 'Zieliński', 'Marketing Specialist', 'HR', '3'],\n",
              " ['17', 'Katarzyna', 'Nowak', 'Marketing Specialist', 'HR', '20'],\n",
              " ['18', 'Piotr', 'Szymański', 'Inżynier produkcji', 'Zarządzanie', '25'],\n",
              " ['19', 'Anna', 'Wójcik', 'Specjalista ds. IT', 'Marketing', '24'],\n",
              " ['20', 'Piotr', 'Zieliński', 'HR Manager', 'Marketing', '7'],\n",
              " ['21', 'Ewa', 'Zielińska', 'Inżynier produkcji', 'Finanse', '2'],\n",
              " ['22', 'Marek', 'Zieliński', 'Specjalista ds. IT', 'Finanse', '25'],\n",
              " ['23', 'Anna', 'Kamińska', 'Analityk finansowy', 'Finanse', '11'],\n",
              " ['24', 'Jan', 'Kowalski', 'Kierownik projektu', 'Marketing', '3'],\n",
              " ['25', 'Jan', 'Zieliński', 'Analityk finansowy', 'Marketing', '24'],\n",
              " ['26', 'Maria', 'Wójcik', 'Kierownik projektu', 'HR', '1'],\n",
              " ['27', 'Adam', 'Wójcik', 'HR Manager', 'Produkcja', '2'],\n",
              " ['28', 'Adam', 'Kowalski', 'Analityk finansowy', 'Zarządzanie', '9'],\n",
              " ['29', 'Tomasz', 'Wójcik', 'HR Manager', 'Zarządzanie', '12'],\n",
              " ['30', 'Katarzyna', 'Dąbrowska', 'Kierownik projektu', 'Produkcja', '28']]"
            ]
          },
          "metadata": {},
          "execution_count": 34
        }
      ]
    },
    {
      "cell_type": "markdown",
      "source": [
        "# Odczyt za pomocą generatora"
      ],
      "metadata": {
        "id": "Bz786L1s8sxx"
      }
    },
    {
      "cell_type": "code",
      "source": [],
      "metadata": {
        "id": "N8F_p1WF8sew"
      },
      "execution_count": null,
      "outputs": []
    },
    {
      "cell_type": "code",
      "source": [],
      "metadata": {
        "id": "ZLfBd6sSVbNB"
      },
      "execution_count": null,
      "outputs": []
    }
  ],
  "metadata": {
    "colab": {
      "provenance": [],
      "authorship_tag": "ABX9TyP/M5EpGMBVyvGMaLKLxjlm",
      "include_colab_link": true
    },
    "kernelspec": {
      "display_name": "Python 3",
      "name": "python3"
    },
    "language_info": {
      "name": "python"
    }
  },
  "nbformat": 4,
  "nbformat_minor": 0
}