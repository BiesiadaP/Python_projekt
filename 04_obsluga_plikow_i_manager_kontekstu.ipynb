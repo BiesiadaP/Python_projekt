{
  "cells": [
    {
      "cell_type": "markdown",
      "metadata": {
        "id": "view-in-github",
        "colab_type": "text"
      },
      "source": [
        "<a href=\"https://colab.research.google.com/github/chrispi21/python-dataeng/blob/main/04_obsluga_plikow_i_manager_kontekstu.ipynb\" target=\"_parent\"><img src=\"https://colab.research.google.com/assets/colab-badge.svg\" alt=\"Open In Colab\"/></a>"
      ]
    },
    {
      "cell_type": "markdown",
      "source": [
        "# Przygotowanie do zajęć\n",
        "\n",
        "Zacznijmy od pobrania plików z danymi:"
      ],
      "metadata": {
        "id": "1mmgZDPbgMu0"
      }
    },
    {
      "cell_type": "code",
      "source": [
        "!wget -O pracownicy.csv https://raw.githubusercontent.com/chrispi21/python-dataeng/refs/heads/main/pracownicy.csv"
      ],
      "metadata": {
        "id": "Hw-czziUgPa_",
        "outputId": "a3038774-a778-4920-8060-61e0307e687d",
        "colab": {
          "base_uri": "https://localhost:8080/"
        }
      },
      "execution_count": 3,
      "outputs": [
        {
          "output_type": "stream",
          "name": "stdout",
          "text": [
            "--2025-03-01 10:29:28--  https://raw.githubusercontent.com/chrispi21/python-dataeng/refs/heads/main/pracownicy.csv\n",
            "Resolving raw.githubusercontent.com (raw.githubusercontent.com)... 185.199.109.133, 185.199.111.133, 185.199.108.133, ...\n",
            "Connecting to raw.githubusercontent.com (raw.githubusercontent.com)|185.199.109.133|:443... connected.\n",
            "HTTP request sent, awaiting response... 200 OK\n",
            "Length: 1526 (1.5K) [text/plain]\n",
            "Saving to: ‘pracownicy.csv’\n",
            "\n",
            "pracownicy.csv      100%[===================>]   1.49K  --.-KB/s    in 0s      \n",
            "\n",
            "2025-03-01 10:29:28 (20.4 MB/s) - ‘pracownicy.csv’ saved [1526/1526]\n",
            "\n"
          ]
        }
      ]
    },
    {
      "cell_type": "markdown",
      "source": [
        "Sprawdźmy, czy udało się pobieranie naszego pliku i gdzie się znajduje:"
      ],
      "metadata": {
        "id": "Qrqovz63QiEP"
      }
    },
    {
      "cell_type": "code",
      "source": [
        "!ls -la pracownicy.csv"
      ],
      "metadata": {
        "id": "qF-kBq8LhG0b",
        "outputId": "ab5ce411-6838-49ab-e701-ac227d4eb903",
        "colab": {
          "base_uri": "https://localhost:8080/"
        }
      },
      "execution_count": 7,
      "outputs": [
        {
          "output_type": "stream",
          "name": "stdout",
          "text": [
            "-rw-r--r-- 1 root root 1526 Mar  1 10:29 pracownicy.csv\n"
          ]
        }
      ]
    },
    {
      "cell_type": "code",
      "source": [
        "!pwd"
      ],
      "metadata": {
        "id": "nlWrptiFQSNP",
        "outputId": "323f8180-775b-4d17-9341-93323cc5ccef",
        "colab": {
          "base_uri": "https://localhost:8080/"
        }
      },
      "execution_count": 5,
      "outputs": [
        {
          "output_type": "stream",
          "name": "stdout",
          "text": [
            "/content\n"
          ]
        }
      ]
    },
    {
      "cell_type": "markdown",
      "source": [
        "# Standardowe podejście"
      ],
      "metadata": {
        "id": "jz55LXRRRmAU"
      }
    },
    {
      "cell_type": "markdown",
      "source": [
        "Otwórzmy plik:"
      ],
      "metadata": {
        "id": "881wzww1Q3iK"
      }
    },
    {
      "cell_type": "code",
      "source": [
        "sciezka = \"/content/pracownicy.csv\"\n",
        "plik = open(sciezka)"
      ],
      "metadata": {
        "id": "8TJFQRvthIHG"
      },
      "execution_count": 9,
      "outputs": []
    },
    {
      "cell_type": "markdown",
      "source": [
        "Odczytajmy dane:"
      ],
      "metadata": {
        "id": "qc5fl6EZQ_ff"
      }
    },
    {
      "cell_type": "code",
      "source": [
        "dane = [\n",
        "    linia\n",
        "    for linia in plik.readlines()\n",
        "]"
      ],
      "metadata": {
        "id": "xVLolTo4RG4z"
      },
      "execution_count": 10,
      "outputs": []
    },
    {
      "cell_type": "markdown",
      "source": [
        "Dane są w postaci niesparsowanej:"
      ],
      "metadata": {
        "id": "RHzB4nBVRNk9"
      }
    },
    {
      "cell_type": "code",
      "source": [
        "dane"
      ],
      "metadata": {
        "id": "FjHhYWudRKEx",
        "outputId": "e938776d-37ec-46fb-8d5d-d704dc119fcd",
        "colab": {
          "base_uri": "https://localhost:8080/"
        }
      },
      "execution_count": 11,
      "outputs": [
        {
          "output_type": "execute_result",
          "data": {
            "text/plain": [
              "['ID,Imię,Nazwisko,Stanowisko,Departament,Staż pracy (lata)\\n',\n",
              " '1,Piotr,Kowalski,Inżynier produkcji,Marketing,21\\n',\n",
              " '2,Ewa,Wiśniewska,Kierownik projektu,Finanse,23\\n',\n",
              " '3,Jan,Kowalski,Kierownik projektu,HR,5\\n',\n",
              " '4,Piotr,Lewandowski,Analityk finansowy,Marketing,12\\n',\n",
              " '5,Piotr,Kamiński,Analityk finansowy,Marketing,23\\n',\n",
              " '6,Adam,Kowalski,Kierownik projektu,Produkcja,29\\n',\n",
              " '7,Adam,Szymański,Analityk finansowy,Zarządzanie,19\\n',\n",
              " '8,Adam,Nowak,Marketing Specialist,HR,15\\n',\n",
              " '9,Anna,Lewandowski,Inżynier produkcji,Zarządzanie,7\\n',\n",
              " '10,Maria,Woźniak,Kierownik projektu,HR,30\\n',\n",
              " '11,Maria,Szymańska,HR Manager,Marketing,12\\n',\n",
              " '12,Tomasz,Wójcik,Inżynier produkcji,Marketing,29\\n',\n",
              " '13,Adam,Dąbrowski,Marketing Specialist,HR,14\\n',\n",
              " '14,Marek,Zieliński,Specjalista ds. IT,IT,13\\n',\n",
              " '15,Agnieszka,Zielińska,Marketing Specialist,Marketing,25\\n',\n",
              " '16,Marek,Zieliński,Marketing Specialist,HR,3\\n',\n",
              " '17,Katarzyna,Nowak,Marketing Specialist,HR,20\\n',\n",
              " '18,Piotr,Szymański,Inżynier produkcji,Zarządzanie,25\\n',\n",
              " '19,Anna,Wójcik,Specjalista ds. IT,Marketing,24\\n',\n",
              " '20,Piotr,Zieliński,HR Manager,Marketing,7\\n',\n",
              " '21,Ewa,Zielińska,Inżynier produkcji,Finanse,2\\n',\n",
              " '22,Marek,Zieliński,Specjalista ds. IT,Finanse,25\\n',\n",
              " '23,Anna,Kamińska,Analityk finansowy,Finanse,11\\n',\n",
              " '24,Jan,Kowalski,Kierownik projektu,Marketing,3\\n',\n",
              " '25,Jan,Zieliński,Analityk finansowy,Marketing,24\\n',\n",
              " '26,Maria,Wójcik,Kierownik projektu,HR,1\\n',\n",
              " '27,Adam,Wójcik,HR Manager,Produkcja,2\\n',\n",
              " '28,Adam,Kowalski,Analityk finansowy,Zarządzanie,9\\n',\n",
              " '29,Tomasz,Wójcik,HR Manager,Zarządzanie,12\\n',\n",
              " '30,Katarzyna,Dąbrowska,Kierownik projektu,Produkcja,28\\n']"
            ]
          },
          "metadata": {},
          "execution_count": 11
        }
      ]
    },
    {
      "cell_type": "markdown",
      "source": [
        "Zamknijmy plik:"
      ],
      "metadata": {
        "id": "wBcoeTzHRSN5"
      }
    },
    {
      "cell_type": "code",
      "source": [
        "plik.close()"
      ],
      "metadata": {
        "id": "aFU6FbCfnZL3"
      },
      "execution_count": 12,
      "outputs": []
    },
    {
      "cell_type": "code",
      "source": [
        "# TODO: zapis danych"
      ],
      "metadata": {
        "id": "impcJKYsRqzz"
      },
      "execution_count": 13,
      "outputs": []
    },
    {
      "cell_type": "markdown",
      "source": [
        "Wady powyższego podejścia:\n",
        "1. Konieczność parsowania danych\n",
        "2. Trzeba zamknąć plik"
      ],
      "metadata": {
        "id": "1N_D59NuRizP"
      }
    },
    {
      "cell_type": "markdown",
      "source": [
        "# Manager kontekstu\n",
        "\n",
        "Rozwiążemy problem pamiętania o zamknięciu pliku."
      ],
      "metadata": {
        "id": "BoQeezOnSgPX"
      }
    },
    {
      "cell_type": "code",
      "source": [
        "sciezka = \"/content/pracownicy.csv\"\n",
        "with open(sciezka) as plik:\n",
        "  dane_v2 = [\n",
        "      linia\n",
        "      for linia in plik.readlines()\n",
        "  ]\n"
      ],
      "metadata": {
        "id": "llrVI0soRiSj"
      },
      "execution_count": 16,
      "outputs": []
    },
    {
      "cell_type": "markdown",
      "source": [
        "Możemy wyświetlić dane:"
      ],
      "metadata": {
        "id": "9qk9VK1NTDWE"
      }
    },
    {
      "cell_type": "code",
      "source": [
        "dane_v2"
      ],
      "metadata": {
        "id": "ZRfFuL2ynlrR",
        "outputId": "aece81f4-f9be-4850-86e6-ebeb583d1ac2",
        "colab": {
          "base_uri": "https://localhost:8080/"
        }
      },
      "execution_count": 17,
      "outputs": [
        {
          "output_type": "execute_result",
          "data": {
            "text/plain": [
              "['ID,Imię,Nazwisko,Stanowisko,Departament,Staż pracy (lata)\\n',\n",
              " '1,Piotr,Kowalski,Inżynier produkcji,Marketing,21\\n',\n",
              " '2,Ewa,Wiśniewska,Kierownik projektu,Finanse,23\\n',\n",
              " '3,Jan,Kowalski,Kierownik projektu,HR,5\\n',\n",
              " '4,Piotr,Lewandowski,Analityk finansowy,Marketing,12\\n',\n",
              " '5,Piotr,Kamiński,Analityk finansowy,Marketing,23\\n',\n",
              " '6,Adam,Kowalski,Kierownik projektu,Produkcja,29\\n',\n",
              " '7,Adam,Szymański,Analityk finansowy,Zarządzanie,19\\n',\n",
              " '8,Adam,Nowak,Marketing Specialist,HR,15\\n',\n",
              " '9,Anna,Lewandowski,Inżynier produkcji,Zarządzanie,7\\n',\n",
              " '10,Maria,Woźniak,Kierownik projektu,HR,30\\n',\n",
              " '11,Maria,Szymańska,HR Manager,Marketing,12\\n',\n",
              " '12,Tomasz,Wójcik,Inżynier produkcji,Marketing,29\\n',\n",
              " '13,Adam,Dąbrowski,Marketing Specialist,HR,14\\n',\n",
              " '14,Marek,Zieliński,Specjalista ds. IT,IT,13\\n',\n",
              " '15,Agnieszka,Zielińska,Marketing Specialist,Marketing,25\\n',\n",
              " '16,Marek,Zieliński,Marketing Specialist,HR,3\\n',\n",
              " '17,Katarzyna,Nowak,Marketing Specialist,HR,20\\n',\n",
              " '18,Piotr,Szymański,Inżynier produkcji,Zarządzanie,25\\n',\n",
              " '19,Anna,Wójcik,Specjalista ds. IT,Marketing,24\\n',\n",
              " '20,Piotr,Zieliński,HR Manager,Marketing,7\\n',\n",
              " '21,Ewa,Zielińska,Inżynier produkcji,Finanse,2\\n',\n",
              " '22,Marek,Zieliński,Specjalista ds. IT,Finanse,25\\n',\n",
              " '23,Anna,Kamińska,Analityk finansowy,Finanse,11\\n',\n",
              " '24,Jan,Kowalski,Kierownik projektu,Marketing,3\\n',\n",
              " '25,Jan,Zieliński,Analityk finansowy,Marketing,24\\n',\n",
              " '26,Maria,Wójcik,Kierownik projektu,HR,1\\n',\n",
              " '27,Adam,Wójcik,HR Manager,Produkcja,2\\n',\n",
              " '28,Adam,Kowalski,Analityk finansowy,Zarządzanie,9\\n',\n",
              " '29,Tomasz,Wójcik,HR Manager,Zarządzanie,12\\n',\n",
              " '30,Katarzyna,Dąbrowska,Kierownik projektu,Produkcja,28\\n']"
            ]
          },
          "metadata": {},
          "execution_count": 17
        }
      ]
    },
    {
      "cell_type": "markdown",
      "source": [
        "Nie możemy już odczytać zamkniętego pliku:"
      ],
      "metadata": {
        "id": "WkzGMUXzTGeb"
      }
    },
    {
      "cell_type": "code",
      "source": [
        "plik.readlines()"
      ],
      "metadata": {
        "id": "XX2rJV6MS74n",
        "outputId": "9d3ee8b9-f97a-4fcf-bfb4-48e62791d71b",
        "colab": {
          "base_uri": "https://localhost:8080/",
          "height": 141
        }
      },
      "execution_count": 19,
      "outputs": [
        {
          "output_type": "error",
          "ename": "ValueError",
          "evalue": "I/O operation on closed file.",
          "traceback": [
            "\u001b[0;31m---------------------------------------------------------------------------\u001b[0m",
            "\u001b[0;31mValueError\u001b[0m                                Traceback (most recent call last)",
            "\u001b[0;32m<ipython-input-19-80ff4b301de7>\u001b[0m in \u001b[0;36m<cell line: 0>\u001b[0;34m()\u001b[0m\n\u001b[0;32m----> 1\u001b[0;31m \u001b[0mplik\u001b[0m\u001b[0;34m.\u001b[0m\u001b[0mreadlines\u001b[0m\u001b[0;34m(\u001b[0m\u001b[0;34m)\u001b[0m\u001b[0;34m\u001b[0m\u001b[0;34m\u001b[0m\u001b[0m\n\u001b[0m",
            "\u001b[0;31mValueError\u001b[0m: I/O operation on closed file."
          ]
        }
      ]
    },
    {
      "cell_type": "markdown",
      "source": [
        "Inne zastosowania:\n",
        "1. Obsługa połączeń (np. do baz danych)\n",
        "2. Obsługa transakcji w bazach danych\n",
        "3. Obsługa plików temporalnych i innych zasobów tymczasowych\n",
        "4. Obsługa innych zasobów, dla których wymagane jest obsłużenie zamknięcia zasobu\n",
        "\n",
        "Do tworzenie własnych managerów kontekstu można wykorzystać bibiotekę `contextlib` ([link](https://docs.python.org/3/library/contextlib.html)). Posiada ona też wiele gotowych managerów kontekstu."
      ],
      "metadata": {
        "id": "iRvgDjGMTLO0"
      }
    },
    {
      "cell_type": "markdown",
      "source": [
        "# Odczyt *csv*\n",
        "\n",
        "Rozwiążemy teraz problem samodzielnego parsowania zawartości pliku *csv*"
      ],
      "metadata": {
        "id": "SoBpPDOMUtLl"
      }
    },
    {
      "cell_type": "code",
      "source": [
        "import csv"
      ],
      "metadata": {
        "id": "DOc_ynaTS_Vx"
      },
      "execution_count": 20,
      "outputs": []
    },
    {
      "cell_type": "code",
      "source": [
        "sciezka = \"/content/pracownicy.csv\"\n",
        "with open(sciezka,  newline='') as plik_csv:\n",
        "  dane_csv = list(csv.reader(plik_csv, delimiter=\",\"))"
      ],
      "metadata": {
        "id": "MThOhyc8VAAU"
      },
      "execution_count": 33,
      "outputs": []
    },
    {
      "cell_type": "code",
      "source": [
        "dane_csv"
      ],
      "metadata": {
        "id": "eTSl616iVai9",
        "outputId": "7739485b-f035-44c5-fb6e-05957eea6693",
        "colab": {
          "base_uri": "https://localhost:8080/"
        }
      },
      "execution_count": 34,
      "outputs": [
        {
          "output_type": "execute_result",
          "data": {
            "text/plain": [
              "[['ID', 'Imię', 'Nazwisko', 'Stanowisko', 'Departament', 'Staż pracy (lata)'],\n",
              " ['1', 'Piotr', 'Kowalski', 'Inżynier produkcji', 'Marketing', '21'],\n",
              " ['2', 'Ewa', 'Wiśniewska', 'Kierownik projektu', 'Finanse', '23'],\n",
              " ['3', 'Jan', 'Kowalski', 'Kierownik projektu', 'HR', '5'],\n",
              " ['4', 'Piotr', 'Lewandowski', 'Analityk finansowy', 'Marketing', '12'],\n",
              " ['5', 'Piotr', 'Kamiński', 'Analityk finansowy', 'Marketing', '23'],\n",
              " ['6', 'Adam', 'Kowalski', 'Kierownik projektu', 'Produkcja', '29'],\n",
              " ['7', 'Adam', 'Szymański', 'Analityk finansowy', 'Zarządzanie', '19'],\n",
              " ['8', 'Adam', 'Nowak', 'Marketing Specialist', 'HR', '15'],\n",
              " ['9', 'Anna', 'Lewandowski', 'Inżynier produkcji', 'Zarządzanie', '7'],\n",
              " ['10', 'Maria', 'Woźniak', 'Kierownik projektu', 'HR', '30'],\n",
              " ['11', 'Maria', 'Szymańska', 'HR Manager', 'Marketing', '12'],\n",
              " ['12', 'Tomasz', 'Wójcik', 'Inżynier produkcji', 'Marketing', '29'],\n",
              " ['13', 'Adam', 'Dąbrowski', 'Marketing Specialist', 'HR', '14'],\n",
              " ['14', 'Marek', 'Zieliński', 'Specjalista ds. IT', 'IT', '13'],\n",
              " ['15', 'Agnieszka', 'Zielińska', 'Marketing Specialist', 'Marketing', '25'],\n",
              " ['16', 'Marek', 'Zieliński', 'Marketing Specialist', 'HR', '3'],\n",
              " ['17', 'Katarzyna', 'Nowak', 'Marketing Specialist', 'HR', '20'],\n",
              " ['18', 'Piotr', 'Szymański', 'Inżynier produkcji', 'Zarządzanie', '25'],\n",
              " ['19', 'Anna', 'Wójcik', 'Specjalista ds. IT', 'Marketing', '24'],\n",
              " ['20', 'Piotr', 'Zieliński', 'HR Manager', 'Marketing', '7'],\n",
              " ['21', 'Ewa', 'Zielińska', 'Inżynier produkcji', 'Finanse', '2'],\n",
              " ['22', 'Marek', 'Zieliński', 'Specjalista ds. IT', 'Finanse', '25'],\n",
              " ['23', 'Anna', 'Kamińska', 'Analityk finansowy', 'Finanse', '11'],\n",
              " ['24', 'Jan', 'Kowalski', 'Kierownik projektu', 'Marketing', '3'],\n",
              " ['25', 'Jan', 'Zieliński', 'Analityk finansowy', 'Marketing', '24'],\n",
              " ['26', 'Maria', 'Wójcik', 'Kierownik projektu', 'HR', '1'],\n",
              " ['27', 'Adam', 'Wójcik', 'HR Manager', 'Produkcja', '2'],\n",
              " ['28', 'Adam', 'Kowalski', 'Analityk finansowy', 'Zarządzanie', '9'],\n",
              " ['29', 'Tomasz', 'Wójcik', 'HR Manager', 'Zarządzanie', '12'],\n",
              " ['30', 'Katarzyna', 'Dąbrowska', 'Kierownik projektu', 'Produkcja', '28']]"
            ]
          },
          "metadata": {},
          "execution_count": 34
        }
      ]
    },
    {
      "cell_type": "code",
      "source": [],
      "metadata": {
        "id": "ZLfBd6sSVbNB"
      },
      "execution_count": null,
      "outputs": []
    }
  ],
  "metadata": {
    "colab": {
      "provenance": [],
      "authorship_tag": "ABX9TyPO8sSk5kzDDqftpYKVHP1H",
      "include_colab_link": true
    },
    "kernelspec": {
      "display_name": "Python 3",
      "name": "python3"
    },
    "language_info": {
      "name": "python"
    }
  },
  "nbformat": 4,
  "nbformat_minor": 0
}