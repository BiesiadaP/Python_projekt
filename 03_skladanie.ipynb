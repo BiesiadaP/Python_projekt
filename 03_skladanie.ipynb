{
  "nbformat": 4,
  "nbformat_minor": 0,
  "metadata": {
    "colab": {
      "provenance": [],
      "toc_visible": true,
      "authorship_tag": "ABX9TyPbFCknoOlkIuI/8FqAj2+J",
      "include_colab_link": true
    },
    "kernelspec": {
      "name": "python3",
      "display_name": "Python 3"
    },
    "language_info": {
      "name": "python"
    }
  },
  "cells": [
    {
      "cell_type": "markdown",
      "metadata": {
        "id": "view-in-github",
        "colab_type": "text"
      },
      "source": [
        "<a href=\"https://colab.research.google.com/github/chrispi21/python-dataeng/blob/main/03_skladanie.ipynb\" target=\"_parent\"><img src=\"https://colab.research.google.com/assets/colab-badge.svg\" alt=\"Open In Colab\"/></a>"
      ]
    },
    {
      "cell_type": "markdown",
      "source": [
        "Operacje składania służą do wygodnego tworzenia nowych list, słowników i zbiorów na podstawie już istniejących. Umożliwiają modyfikację istniejących elementów kolekcji oraz ich filtrowanie."
      ],
      "metadata": {
        "id": "W-mTfgNFk_hi"
      }
    },
    {
      "cell_type": "markdown",
      "source": [
        "# Składanie list\n",
        "\n",
        "Prześledźmy operację składania list na przykładzie. Pomnożymy kolejne elementy listy. Zróbmy to za pomocą znanego sposobu z pętlą `for`:"
      ],
      "metadata": {
        "id": "XRFpZxrJmhXh"
      }
    },
    {
      "cell_type": "code",
      "execution_count": null,
      "metadata": {
        "id": "BYAMlDGIkEJC"
      },
      "outputs": [],
      "source": [
        "lista = [0, 5, 2, 10, -1, 3]"
      ]
    },
    {
      "cell_type": "code",
      "source": [
        "nowa_lista = []\n",
        "for elem in lista:\n",
        "  nowa_lista.append(2 * elem)"
      ],
      "metadata": {
        "id": "4-93bHd7nPCi"
      },
      "execution_count": null,
      "outputs": []
    },
    {
      "cell_type": "code",
      "source": [
        "nowa_lista"
      ],
      "metadata": {
        "id": "p2aOhsXundvq"
      },
      "execution_count": null,
      "outputs": []
    },
    {
      "cell_type": "markdown",
      "source": [
        "Python umożliwia wykonanie takiej samej transformacji w bardziej zwięzły sposób:"
      ],
      "metadata": {
        "id": "qCjVKE_xnk0a"
      }
    },
    {
      "cell_type": "code",
      "source": [
        "[2 * elem for elem in lista]"
      ],
      "metadata": {
        "id": "9mwoxvnoneda"
      },
      "execution_count": null,
      "outputs": []
    },
    {
      "cell_type": "markdown",
      "source": [
        "Gdybyśmy chcieli przy okazji odfiltrować elementy większe od 0:"
      ],
      "metadata": {
        "id": "STedIrzvol4_"
      }
    },
    {
      "cell_type": "code",
      "source": [
        "nowa_lista = []\n",
        "for elem in lista:\n",
        "  if elem > 0:\n",
        "    nowa_lista.append(2 * elem)\n",
        "\n",
        "nowa_lista"
      ],
      "metadata": {
        "id": "LddZ0hlRn0Wv"
      },
      "execution_count": null,
      "outputs": []
    },
    {
      "cell_type": "markdown",
      "source": [
        "Bardziej zwięźle możemy zrobić to samo za pomocą operacji składania:"
      ],
      "metadata": {
        "id": "POwD1BrHo1Yx"
      }
    },
    {
      "cell_type": "code",
      "source": [
        "[2 * elem for elem in lista if elem > 0]"
      ],
      "metadata": {
        "id": "NUWh3dN5ozsv"
      },
      "execution_count": null,
      "outputs": []
    },
    {
      "cell_type": "markdown",
      "source": [
        "Przykład\n",
        "\n",
        "Przeliczanie cen z jednej waluty na inną.\n",
        "\n",
        "W liście mogą znajdować się zagnieżdżone słowniki. Przykładowo:"
      ],
      "metadata": {
        "id": "TrjuE3m6qhYX"
      }
    },
    {
      "cell_type": "code",
      "source": [
        "stany_magazynowe = [\n",
        "    {\"nazwa\": \"Samsung\", \"cena\": 700.0, \"ilosc\": 5, \"waluta\": \"EUR\"},\n",
        "    {\"nazwa\": \"IPhone\", \"cena\": 1000.0, \"ilosc\": 3, \"waluta\": \"EUR\"},\n",
        "]"
      ],
      "metadata": {
        "id": "xdneqzTQq48y"
      },
      "execution_count": null,
      "outputs": []
    },
    {
      "cell_type": "markdown",
      "source": [
        "Mamy dany kurs EUR/PLN:"
      ],
      "metadata": {
        "id": "SCdZc8zvreen"
      }
    },
    {
      "cell_type": "code",
      "source": [
        "kurs = 4.21"
      ],
      "metadata": {
        "id": "not1zIHOrd6f"
      },
      "execution_count": null,
      "outputs": []
    },
    {
      "cell_type": "markdown",
      "source": [
        "Na zajęciach o funkcjach pokazywaliśmy jak rozpakować słownik w celu przekazania argumentów w celu utworzenia nowego słownika. Korzystając z operacji składania list możemy w zwięzły sposób przeliczyć ceny po kursie EUR/PLN:"
      ],
      "metadata": {
        "id": "mfB3nifauyQb"
      }
    },
    {
      "cell_type": "code",
      "source": [
        "stany_magazynowe_pln = [\n",
        "    {**stan, **{\"cena\": stan[\"cena\"] * kurs, \"waluta\": \"PLN\"}} for stan in stany_magazynowe\n",
        "]\n",
        "stany_magazynowe_pln"
      ],
      "metadata": {
        "id": "Ur-JPeo8sDay"
      },
      "execution_count": null,
      "outputs": []
    },
    {
      "cell_type": "markdown",
      "source": [
        "Ćwiczenie\n",
        "\n",
        "Jak zmieniłby się łączny przychód dla produktu `TV`, jeśli cena zwiększyłaby się o 10%. Oto lista transakcji:"
      ],
      "metadata": {
        "id": "OGQkSCMKqJOh"
      }
    },
    {
      "cell_type": "code",
      "source": [
        "transakcje = [\n",
        "    {\"id\": 1, \"produkt\": \"TV\", \"ilosc\": 2, \"cena\": 2000.0},\n",
        "    {\"id\": 2, \"produkt\": \"TV\", \"ilosc\": 1, \"cena\": 4000.0},\n",
        "    {\"id\": 3, \"produkt\": \"PC\", \"ilosc\": 3, \"cena\": 2500.0},\n",
        "]"
      ],
      "metadata": {
        "id": "e-jdBy_gb9oW"
      },
      "execution_count": null,
      "outputs": []
    },
    {
      "cell_type": "code",
      "source": [
        "# @title Rozwiązanie"
      ],
      "metadata": {
        "id": "3ysgGx7YpXWO"
      },
      "execution_count": null,
      "outputs": []
    },
    {
      "cell_type": "code",
      "source": [
        "# @title Podpowiedź\n",
        "\n",
        "wartosc_transakcji_tv = [t[\"cena\"] * t[\"ilosc\"] for t in transakcje if t[\"produkt\"] == \"TV\"]\n",
        "przychod_tv = sum(wartosc_transakcji_tv)\n",
        "zmiana = 0.1 * przychod_tv\n",
        "zmiana"
      ],
      "metadata": {
        "id": "Kq6pYEJqpTYn",
        "cellView": "form"
      },
      "execution_count": null,
      "outputs": []
    },
    {
      "cell_type": "markdown",
      "source": [
        "# Składanie słowników\n",
        "\n",
        "Posłużymy się przykładem słownika, który zawiera informacje o temperaturach w różnych miastach w Polsce:"
      ],
      "metadata": {
        "id": "7jM6QFadgL7l"
      }
    },
    {
      "cell_type": "code",
      "source": [
        "temperatury = {\n",
        "    \"Poznań\": 10,\n",
        "    \"Warszawa\": 5,\n",
        "    \"Kraków\": 8,\n",
        "    \"Wrocław\": 12,\n",
        "    \"Gdańsk\": 7,\n",
        "}"
      ],
      "metadata": {
        "id": "m2DQmKtZh5oj"
      },
      "execution_count": null,
      "outputs": []
    },
    {
      "cell_type": "markdown",
      "source": [
        "Przypomnijmy sobie działanie poniższych funkcji:"
      ],
      "metadata": {
        "id": "L4eHb0H5oGU7"
      }
    },
    {
      "cell_type": "code",
      "source": [
        "temperatury.items()"
      ],
      "metadata": {
        "id": "zTxNMFdQkyYr"
      },
      "execution_count": null,
      "outputs": []
    },
    {
      "cell_type": "code",
      "source": [
        "temperatury.keys()"
      ],
      "metadata": {
        "id": "u9tDT5EqlDSQ"
      },
      "execution_count": null,
      "outputs": []
    },
    {
      "cell_type": "code",
      "source": [
        "temperatury.values()"
      ],
      "metadata": {
        "id": "5hVnWyyelEs8"
      },
      "execution_count": null,
      "outputs": []
    },
    {
      "cell_type": "markdown",
      "source": [
        "Chcemy przekształcić `temperatury`, tak aby zawierał informacje o miastach, w których temperatura jest większa niż 7 stopni. Za pomocą pętli `for` zrobilibyśmy to w następujący sposób:"
      ],
      "metadata": {
        "id": "62YLAa9YoWvr"
      }
    },
    {
      "cell_type": "code",
      "source": [
        "wynik = {}\n",
        "for miasto, temp_ in temperatury.items():\n",
        "  if temp_ > 7:\n",
        "    wynik[miasto] = temp_\n",
        "\n",
        "wynik"
      ],
      "metadata": {
        "id": "sbcKsdQaoUP2"
      },
      "execution_count": null,
      "outputs": []
    },
    {
      "cell_type": "markdown",
      "source": [
        "Analogiczny kod dla operacji składania znajduje się poniżej:"
      ],
      "metadata": {
        "id": "RznExMDPpqzs"
      }
    },
    {
      "cell_type": "code",
      "source": [
        "{\n",
        "    miasto: temp_\n",
        "    for miasto, temp_ in temperatury.items()\n",
        "    if temp_ > 7\n",
        "}"
      ],
      "metadata": {
        "id": "UlP_Z-p6jNUj"
      },
      "execution_count": null,
      "outputs": []
    },
    {
      "cell_type": "markdown",
      "source": [
        "W przypadku, gdybyśmy jeszcze chcieli przekształcić temperaturę ze stopni Celsjusza na Fahrenheita za pomocą ponższej funkcji:"
      ],
      "metadata": {
        "id": "_5U3iIHUqCJj"
      }
    },
    {
      "cell_type": "code",
      "source": [
        "def celsius2fahrenheit(c):\n",
        "  return (c * 9/5) + 32"
      ],
      "metadata": {
        "id": "a4BJTNF0ju8I"
      },
      "execution_count": null,
      "outputs": []
    },
    {
      "cell_type": "markdown",
      "source": [
        "Jedyną zmiana będzie wywołanie funkcji `celsius2fahrenheit`, na wartości temperatury:"
      ],
      "metadata": {
        "id": "zc3RtI2WqLDQ"
      }
    },
    {
      "cell_type": "code",
      "source": [
        "{\n",
        "    miasto: celsius2fahrenheit(temp_)\n",
        "    for miasto, temp_ in temperatury.items()\n",
        "    if temp_ > 7\n",
        "}"
      ],
      "metadata": {
        "id": "ZHuh5CD1j6QZ"
      },
      "execution_count": null,
      "outputs": []
    },
    {
      "cell_type": "markdown",
      "source": [
        "UWAGA:\n",
        "\n",
        "Nic nie stoi na przeszkodzie, aby na bazie par klucz-wartość ze słownika tworzyć listy:"
      ],
      "metadata": {
        "id": "dSkMsIzSqcNo"
      }
    },
    {
      "cell_type": "code",
      "source": [
        "temperatury_lista = [(miasto, celsius2fahrenheit(temp_)) for miasto, temp_ in temperatury.items() if temp_ > 7]\n",
        "temperatury_lista"
      ],
      "metadata": {
        "id": "HmxG783AkHnO"
      },
      "execution_count": null,
      "outputs": []
    },
    {
      "cell_type": "markdown",
      "source": [
        "I na odwrót:"
      ],
      "metadata": {
        "id": "kYDy235tqt3Z"
      }
    },
    {
      "cell_type": "code",
      "source": [
        "{\n",
        "    miasto: temp_\n",
        "    for miasto, temp_ in temperatury_lista\n",
        "}"
      ],
      "metadata": {
        "id": "N7dS6qAOkmTW"
      },
      "execution_count": null,
      "outputs": []
    },
    {
      "cell_type": "markdown",
      "source": [
        "Chociaż tak będzie prościej:"
      ],
      "metadata": {
        "id": "6r5zygp1q7--"
      }
    },
    {
      "cell_type": "code",
      "source": [
        "dict(temperatury_lista)"
      ],
      "metadata": {
        "id": "pR6shpQyqz0n"
      },
      "execution_count": null,
      "outputs": []
    },
    {
      "cell_type": "markdown",
      "source": [
        "Ćwiczenie\n",
        "\n",
        "Na podstawie poniższych danych utwórz słownik, którego kluczem będzie imię a wartością pensja. Interesują nas osoby z pensją poniżej 10000."
      ],
      "metadata": {
        "id": "wo-uz97YuHK4"
      }
    },
    {
      "cell_type": "code",
      "source": [
        "dane = [\n",
        "    {\"id\": 1, \"imie\": \"Alicja\", \"pensja\": 7000},\n",
        "    {\"id\": 2, \"imie\": \"Robert\", \"pensja\": 5000},\n",
        "    {\"id\": 3, \"imie\": \"Jerzy\", \"pensja\": 12000}\n",
        "]"
      ],
      "metadata": {
        "id": "yGvFKQ9iu4zx"
      },
      "execution_count": null,
      "outputs": []
    },
    {
      "cell_type": "code",
      "source": [
        "# @title Rozwiązanie"
      ],
      "metadata": {
        "id": "sfkz8wINuGrv"
      },
      "execution_count": null,
      "outputs": []
    },
    {
      "cell_type": "code",
      "source": [
        "# @title Podpowiedź\n",
        "{\n",
        "    rekord[\"imie\"]: rekord[\"pensja\"]\n",
        "    for rekord in dane\n",
        "    if rekord[\"pensja\"] < 10000\n",
        "}\n"
      ],
      "metadata": {
        "cellView": "form",
        "id": "p1sUElCYuLDh"
      },
      "execution_count": null,
      "outputs": []
    },
    {
      "cell_type": "markdown",
      "source": [
        "# Składanie zbiorów\n",
        "\n",
        "Składanie zbiorów wygląda bardzo podobnie do składania słowników. Zamiast pary klucz-wartość zwracamy tylko wartość. Posłużmy się przykładem podobnym do ostatniego. Dodamy rekord z kolejną osobą o imieniu Alicja:"
      ],
      "metadata": {
        "id": "LU7wXgACgRPI"
      }
    },
    {
      "cell_type": "code",
      "source": [
        "dane = [\n",
        "    {\"id\": 1, \"imie\": \"Alicja\", \"pensja\": 7000},\n",
        "    {\"id\": 2, \"imie\": \"Robert\", \"pensja\": 5000},\n",
        "    {\"id\": 3, \"imie\": \"Jerzy\", \"pensja\": 12000},\n",
        "    {\"id\": 4, \"imie\": \"Alicja\", \"pensja\": 8000},\n",
        "]"
      ],
      "metadata": {
        "id": "aTz1HmjLwk8p"
      },
      "execution_count": null,
      "outputs": []
    },
    {
      "cell_type": "markdown",
      "source": [
        "Naszym zadaniem będzie znalezienie osób, których pensja jest poniżej 10000:"
      ],
      "metadata": {
        "id": "I7A0seDNxmQ0"
      }
    },
    {
      "cell_type": "code",
      "source": [
        "{\n",
        "    rekord[\"imie\"]\n",
        "    for rekord in dane\n",
        "    if rekord[\"pensja\"] < 10000\n",
        "}"
      ],
      "metadata": {
        "id": "01V8NQipxl3d"
      },
      "execution_count": null,
      "outputs": []
    },
    {
      "cell_type": "markdown",
      "source": [
        "UWAGA:\n",
        "\n",
        "Nawiązując do poprzedniego ćwiczenia zwróćmy uwagę, że o wartości pensji decyduje ostatni rekord z listy pod tym samym kluczem:"
      ],
      "metadata": {
        "id": "lGVJZfykxbc-"
      }
    },
    {
      "cell_type": "code",
      "source": [
        "{\n",
        "    rekord[\"imie\"]: rekord[\"pensja\"]\n",
        "    for rekord in dane\n",
        "    if rekord[\"pensja\"] < 10000\n",
        "}"
      ],
      "metadata": {
        "id": "xe6RC8zoxWCn"
      },
      "execution_count": null,
      "outputs": []
    },
    {
      "cell_type": "markdown",
      "source": [
        "# Zagnieżdżone operacja składania\n",
        "\n",
        "Posłużmy się przykładem, w który będziemy analizować pomiary temperatur. Każdy wiersz reprezentuje osobne urządzenie pomiarowe. Wartości elementów w wierszach są kolejnymi pomiarami."
      ],
      "metadata": {
        "id": "7QLGtqZggVCu"
      }
    },
    {
      "cell_type": "code",
      "source": [
        "temperatury = [\n",
        "    [-10, 30, 8],\n",
        "    [-50, 0, -20, 10],\n",
        "    [-30, 25],\n",
        "    [5, 40, 22],\n",
        "]"
      ],
      "metadata": {
        "id": "9M8nUC7B1fSR"
      },
      "execution_count": null,
      "outputs": []
    },
    {
      "cell_type": "markdown",
      "source": [
        "W 1. przykładzie chcemy zamienić stopnie Celsjusza na Fahrenheita zostawiając pomiary w stopniach Celsjusza większe od 0. Za pomocą pętli `for` zrobimy to następująco:"
      ],
      "metadata": {
        "id": "DMOxJXHZBLcD"
      }
    },
    {
      "cell_type": "code",
      "source": [
        "def celsius2fahrenheit(c):\n",
        "  return (c * 9/5) + 32"
      ],
      "metadata": {
        "id": "du8UU_aV9BeJ"
      },
      "execution_count": null,
      "outputs": []
    },
    {
      "cell_type": "code",
      "source": [
        "wynik = []\n",
        "for wewn_temp in temperatury:\n",
        "  wynik.append([celsius2fahrenheit(element) for element in wewn_temp if element > 0])\n",
        "\n",
        "wynik"
      ],
      "metadata": {
        "id": "SUrAl52G9Cvl"
      },
      "execution_count": null,
      "outputs": []
    },
    {
      "cell_type": "markdown",
      "source": [
        "W przypadku gdybyśmy chceli skorzystać wyłącznie z operacji składania musimy zagnieżdżać kolejne operacje:"
      ],
      "metadata": {
        "id": "H7AqWmpABvSy"
      }
    },
    {
      "cell_type": "code",
      "source": [
        "[\n",
        "    [celsius2fahrenheit(element) for element in wewn_temp if element > 0]\n",
        "    for wewn_temp in temperatury\n",
        "]"
      ],
      "metadata": {
        "id": "TyHwn3bqB3Co"
      },
      "execution_count": null,
      "outputs": []
    },
    {
      "cell_type": "markdown",
      "source": [
        "A co jeśli chcielibyśmy otrzymać płaską listę temperatur? Zacznijmy od rozwiązania z pętlą:"
      ],
      "metadata": {
        "id": "B8m6-KDBCBpK"
      }
    },
    {
      "cell_type": "code",
      "source": [
        "wynik = []\n",
        "for wewn_temp in temperatury:\n",
        "  wynik += [celsius2fahrenheit(element) for element in wewn_temp if element > 0]\n",
        "\n",
        "wynik"
      ],
      "metadata": {
        "id": "C_6X2mgFCOdz"
      },
      "execution_count": null,
      "outputs": []
    },
    {
      "cell_type": "markdown",
      "source": [
        "Rozwiązanie oparte wyłącznie o operacje składania:"
      ],
      "metadata": {
        "id": "-SMbvG1ECV-y"
      }
    },
    {
      "cell_type": "code",
      "source": [
        "[\n",
        "    celsius2fahrenheit(element)\n",
        "    for wewn_temp in temperatury\n",
        "    for element in wewn_temp if element > 0\n",
        "]"
      ],
      "metadata": {
        "id": "nPEeZe6aC0I4"
      },
      "execution_count": null,
      "outputs": []
    },
    {
      "cell_type": "markdown",
      "source": [
        "UWAGA:\n",
        "\n",
        "Kolejność klauzul `for` jest taka sama w przypadku w przypadku rozwiązania z pętlą i w oparciu o operacje składania.\n",
        "\n",
        "Liczba zagnieżdżeń w operacji składania może być większa. Może to powodować, że nasz kod będzie nieczytelny.\n",
        "\n",
        "W przypadkach, gdy czytelność jest priorytetem możemy najpierw utworzyć płaskę listę, a następnie przekształcić jej elementy ([Artykuł](https://realpython.com/python-flatten-list/)).\n",
        "\n",
        "W przypadku, gdy priorytetem jest optymalizacja przetwarzania, lepszym pomysłem jest skorzystanie z zagnieżdżonych operacji składania i wczesne filtrowanie elementów jak w przykładzie z temperaturą."
      ],
      "metadata": {
        "id": "7b3wmEomDNa3"
      }
    },
    {
      "cell_type": "markdown",
      "source": [
        "# Składanie generatorów\n",
        "\n",
        "Zasada działania jest taka sama jak w przypadku list. Zamiast wyrażenia w `[...]` korzystamy z `(...)`:"
      ],
      "metadata": {
        "id": "RAhrUWpJgfVl"
      }
    },
    {
      "cell_type": "code",
      "source": [
        "(x**2 for x in range(10))"
      ],
      "metadata": {
        "id": "eu-5WGDTLAAm"
      },
      "execution_count": null,
      "outputs": []
    },
    {
      "cell_type": "markdown",
      "source": [
        "Sprawdźmy, czy wynik jest zgodny z oczekiwanym:"
      ],
      "metadata": {
        "id": "Ktl99d7MLR5c"
      }
    },
    {
      "cell_type": "code",
      "source": [
        "list((x**2 for x in range(10)))"
      ],
      "metadata": {
        "id": "whqV0NvFLRgo"
      },
      "execution_count": null,
      "outputs": []
    },
    {
      "cell_type": "markdown",
      "source": [
        "Korzystanie z generatorów można łączyć w ciągi wywołań, które przypominają przepływy danych. W ten sposób nie wywołujemy obliczeń kolejnych zmiennych, a tworzymy \"przepis\" na ich otrzymanie. Przykładowo:"
      ],
      "metadata": {
        "id": "8QZrw_boLb2l"
      }
    },
    {
      "cell_type": "code",
      "source": [
        "kwadraty = (x**2 for x in range(10))"
      ],
      "metadata": {
        "id": "8YsXyy6NLK-E"
      },
      "execution_count": null,
      "outputs": []
    },
    {
      "cell_type": "code",
      "source": [
        "podzielne_przez_3 = (x for x in kwadraty if x % 3 == 0)"
      ],
      "metadata": {
        "id": "jT6vg8pILsyv"
      },
      "execution_count": null,
      "outputs": []
    },
    {
      "cell_type": "markdown",
      "source": [
        "W tym momencie wykonywane są obliczenia:"
      ],
      "metadata": {
        "id": "Q_F6skOwNTM-"
      }
    },
    {
      "cell_type": "code",
      "source": [
        "list(podzielne_przez_3)"
      ],
      "metadata": {
        "id": "S776s0VRMH1Q"
      },
      "execution_count": null,
      "outputs": []
    },
    {
      "cell_type": "markdown",
      "source": [
        "Wróćmy do naszego przykładu z poprzeednich zajęć, gdzie zwracaliśmu losowe pomiary. Utworzyliśmy wtedy funkcję, która losowała n-razy nazwę czujnika i wartość pomiaru:"
      ],
      "metadata": {
        "id": "lbIUskybNZ0D"
      }
    },
    {
      "cell_type": "code",
      "source": [
        "from random import randint, choice\n",
        "\n",
        "CZUJNIKI = [\"CZUJNIK_1\", \"CZUJNIK_2\", \"CZUJNIK_3\", \"CZUJNIK_4\"]\n",
        "\n",
        "def zwroc_pomiary(n):\n",
        "  for _ in range(n):\n",
        "    yield choice(CZUJNIKI), randint(-30, 30)"
      ],
      "metadata": {
        "id": "6BR-FLBKNZhj"
      },
      "execution_count": null,
      "outputs": []
    },
    {
      "cell_type": "markdown",
      "source": [
        "Możemy ją zmienić tak, aby skorzystać z operacji składania:"
      ],
      "metadata": {
        "id": "ddcuIHOVN29P"
      }
    },
    {
      "cell_type": "code",
      "source": [
        "def zwroc_pomiary(n):\n",
        "  return ((choice(CZUJNIKI), randint(-30, 30)) for i in range(n))"
      ],
      "metadata": {
        "id": "r3yU4WvkN2Zh"
      },
      "execution_count": null,
      "outputs": []
    },
    {
      "cell_type": "markdown",
      "source": [
        "UWAGA:\n",
        "1. W tym przypadku zwracamy generator - dlatego korzystamy z `return`\n",
        "2. `yield` wykorzystujemy do zwracania kolejnego elementu generatora"
      ],
      "metadata": {
        "id": "v5qgETiDOcJn"
      }
    },
    {
      "cell_type": "markdown",
      "source": [
        "Analogicznie zmieniamy funkcję filtruj:"
      ],
      "metadata": {
        "id": "uRdV8MVJO4qc"
      }
    },
    {
      "cell_type": "code",
      "source": [
        "def filtruj(pomiary):\n",
        "  for sensor, wartosc in pomiary:\n",
        "    if wartosc > 0:\n",
        "      yield sensor, wartosc"
      ],
      "metadata": {
        "id": "ucBVewYBO-JS"
      },
      "execution_count": null,
      "outputs": []
    },
    {
      "cell_type": "markdown",
      "source": [
        "Po zmianach:"
      ],
      "metadata": {
        "id": "d8DfF64NO_rw"
      }
    },
    {
      "cell_type": "code",
      "source": [
        "def filtruj(pomiary):\n",
        "  return ((sensor, wartosc) for sensor, wartosc in pomiary if wartosc > 0)"
      ],
      "metadata": {
        "id": "bTy5WttWO4Uo"
      },
      "execution_count": null,
      "outputs": []
    },
    {
      "cell_type": "code",
      "source": [
        "pomiary_gen = zwroc_pomiary(20)\n",
        "filtrowane_pomiary_gen = filtruj(pomiary_gen)\n",
        "list(filtrowane_pomiary_gen)"
      ],
      "metadata": {
        "id": "IsiqjvolMJHW"
      },
      "execution_count": null,
      "outputs": []
    },
    {
      "cell_type": "markdown",
      "source": [
        "Ćwiczenia\n",
        "\n",
        "Utwórz generator za pomocą operacji składania, który z `filtrowane_pomiary_gen` pozostawi tylko wartość pomiaru. Oblicz wartość miminalną i maksymalną dla tych pomiarów.\n",
        "\n",
        "Podpowiedź: należy ponownie zainicjalizować wartości generatora. Może to być również potrzebne, gdy wielokrotnie eksperymentujemy z rozwiązaniem."
      ],
      "metadata": {
        "id": "CxNWTd5BRIg6"
      }
    },
    {
      "cell_type": "code",
      "source": [
        "# @title Rozwiązanie\n",
        "\n",
        "pomiary_gen = zwroc_pomiary(20)\n",
        "filtrowane_pomiary_gen = filtruj(pomiary_gen)\n"
      ],
      "metadata": {
        "id": "rCwJS-XQRICG"
      },
      "execution_count": null,
      "outputs": []
    },
    {
      "cell_type": "code",
      "source": [
        "# @title Podpowiedź\n",
        "\n",
        "pomiary_gen = zwroc_pomiary(20)\n",
        "filtrowane_pomiary_gen = filtruj(pomiary_gen)\n",
        "\n",
        "\n",
        "def wartosc_pomiaru(pomiary):\n",
        "  return (p for s, p in pomiary)\n",
        "\n",
        "\n",
        "wartosci_gen = wartosc_pomiaru(filtrowane_pomiary_gen)\n",
        "\n",
        "# Niepoprawne - nie zadziała druga linia po odkomentowaniu - dlaczego?\n",
        "# print(max(wartosci_gen))\n",
        "# print(min(wartosci_gen))\n",
        "\n",
        "# Poprawne - nie można drugi raz wywołać wyczerpanego generatora\n",
        "wartosci = list(wartosci_gen)\n",
        "print(max(wartosci))\n",
        "print(min(wartosci))"
      ],
      "metadata": {
        "cellView": "form",
        "id": "BhR60ekoPnjs"
      },
      "execution_count": null,
      "outputs": []
    },
    {
      "cell_type": "code",
      "source": [],
      "metadata": {
        "id": "A00ANWS7Rvf4"
      },
      "execution_count": null,
      "outputs": []
    }
  ]
}