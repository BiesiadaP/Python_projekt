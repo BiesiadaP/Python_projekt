{
  "nbformat": 4,
  "nbformat_minor": 0,
  "metadata": {
    "colab": {
      "provenance": [],
      "authorship_tag": "ABX9TyOyIlwk5hLfXOqZ0FcJE87i",
      "include_colab_link": true
    },
    "kernelspec": {
      "name": "python3",
      "display_name": "Python 3"
    },
    "language_info": {
      "name": "python"
    }
  },
  "cells": [
    {
      "cell_type": "markdown",
      "metadata": {
        "id": "view-in-github",
        "colab_type": "text"
      },
      "source": [
        "<a href=\"https://colab.research.google.com/github/chrispi21/python-dataeng/blob/main/03_skladanie.ipynb\" target=\"_parent\"><img src=\"https://colab.research.google.com/assets/colab-badge.svg\" alt=\"Open In Colab\"/></a>"
      ]
    },
    {
      "cell_type": "markdown",
      "source": [
        "Operacje składania służą do wygodnego tworzenia nowych list, słowników i zbiorów na podstawie już istniejących. Umożliwiają modyfikację istniejących elementów kolekcji oraz ich filtrowanie."
      ],
      "metadata": {
        "id": "W-mTfgNFk_hi"
      }
    },
    {
      "cell_type": "markdown",
      "source": [
        "# Składanie list\n",
        "\n",
        "Prześledźmy operację składania list na przykładzie. Pomnożymy kolejne elementy listy. Zróbmy to za pomocą znanego sposobu z pętlą `for`:"
      ],
      "metadata": {
        "id": "XRFpZxrJmhXh"
      }
    },
    {
      "cell_type": "code",
      "execution_count": null,
      "metadata": {
        "id": "BYAMlDGIkEJC"
      },
      "outputs": [],
      "source": [
        "lista = [0, 5, 2, 10, -1, 3]"
      ]
    },
    {
      "cell_type": "code",
      "source": [
        "nowa_lista = []\n",
        "for elem in lista:\n",
        "  nowa_lista.append(2 * elem)"
      ],
      "metadata": {
        "id": "4-93bHd7nPCi"
      },
      "execution_count": null,
      "outputs": []
    },
    {
      "cell_type": "code",
      "source": [
        "nowa_lista"
      ],
      "metadata": {
        "colab": {
          "base_uri": "https://localhost:8080/"
        },
        "id": "p2aOhsXundvq",
        "outputId": "9a7b8bd0-a07d-4ca0-8efd-8e91b7569d0d"
      },
      "execution_count": null,
      "outputs": [
        {
          "output_type": "execute_result",
          "data": {
            "text/plain": [
              "[0, 10, 4, 20, -2, 6]"
            ]
          },
          "metadata": {},
          "execution_count": 10
        }
      ]
    },
    {
      "cell_type": "markdown",
      "source": [
        "Python umożliwia wykonanie takiej samej transformacji w bardziej zwięzły sposób:"
      ],
      "metadata": {
        "id": "qCjVKE_xnk0a"
      }
    },
    {
      "cell_type": "code",
      "source": [
        "[2 * elem for elem in lista]"
      ],
      "metadata": {
        "colab": {
          "base_uri": "https://localhost:8080/"
        },
        "id": "9mwoxvnoneda",
        "outputId": "2066b4ae-8e4d-4532-cde0-c27f90caae94"
      },
      "execution_count": null,
      "outputs": [
        {
          "output_type": "execute_result",
          "data": {
            "text/plain": [
              "[0, 10, 4, 20, -2, 6]"
            ]
          },
          "metadata": {},
          "execution_count": 11
        }
      ]
    },
    {
      "cell_type": "markdown",
      "source": [
        "Gdybyśmy chcieli przy okazji odfiltrować elementy większe od 0:"
      ],
      "metadata": {
        "id": "STedIrzvol4_"
      }
    },
    {
      "cell_type": "code",
      "source": [
        "nowa_lista = []\n",
        "for elem in lista:\n",
        "  if elem > 0:\n",
        "    nowa_lista.append(2 * elem)\n",
        "\n",
        "nowa_lista"
      ],
      "metadata": {
        "colab": {
          "base_uri": "https://localhost:8080/"
        },
        "id": "LddZ0hlRn0Wv",
        "outputId": "2e642d66-0ada-41a8-8f76-b679dafa9e35"
      },
      "execution_count": null,
      "outputs": [
        {
          "output_type": "execute_result",
          "data": {
            "text/plain": [
              "[10, 4, 20, 6]"
            ]
          },
          "metadata": {},
          "execution_count": 12
        }
      ]
    },
    {
      "cell_type": "markdown",
      "source": [
        "Bardziej zwięźle możemy zrobić to samo za pomocą operacji składania:"
      ],
      "metadata": {
        "id": "POwD1BrHo1Yx"
      }
    },
    {
      "cell_type": "code",
      "source": [
        "[2 * elem for elem in lista if elem > 0]"
      ],
      "metadata": {
        "colab": {
          "base_uri": "https://localhost:8080/"
        },
        "id": "NUWh3dN5ozsv",
        "outputId": "f351ca52-3feb-4598-a804-919c6168512f"
      },
      "execution_count": null,
      "outputs": [
        {
          "output_type": "execute_result",
          "data": {
            "text/plain": [
              "[10, 4, 20, 6]"
            ]
          },
          "metadata": {},
          "execution_count": 13
        }
      ]
    },
    {
      "cell_type": "markdown",
      "source": [
        "Przykład\n",
        "\n",
        "Przeliczanie cen z jednej waluty na inną.\n",
        "\n",
        "W liście mogą znajdować się zagnieżdżone słowniki. Przykładowo:"
      ],
      "metadata": {
        "id": "TrjuE3m6qhYX"
      }
    },
    {
      "cell_type": "code",
      "source": [
        "stany_magazynowe = [\n",
        "    {\"nazwa\": \"Samsung\", \"cena\": 700.0, \"ilosc\": 5, \"waluta\": \"EUR\"},\n",
        "    {\"nazwa\": \"IPhone\", \"cena\": 1000.0, \"ilosc\": 3, \"waluta\": \"EUR\"},\n",
        "]"
      ],
      "metadata": {
        "id": "xdneqzTQq48y"
      },
      "execution_count": null,
      "outputs": []
    },
    {
      "cell_type": "markdown",
      "source": [
        "Mamy dany kurs EUR/PLN:"
      ],
      "metadata": {
        "id": "SCdZc8zvreen"
      }
    },
    {
      "cell_type": "code",
      "source": [
        "kurs = 4.21"
      ],
      "metadata": {
        "id": "not1zIHOrd6f"
      },
      "execution_count": null,
      "outputs": []
    },
    {
      "cell_type": "markdown",
      "source": [
        "Na zajęciach o funkcjach pokazywaliśmy jak rozpakować słownik w celu przekazania argumentów w celu utworzenia nowego słownika. Korzystając z operacji składania list możemy w zwięzły sposób przeliczyć ceny po kursie EUR/PLN:"
      ],
      "metadata": {
        "id": "mfB3nifauyQb"
      }
    },
    {
      "cell_type": "code",
      "source": [
        "stany_magazynowe_pln = [\n",
        "    {**stan, **{\"cena\": stan[\"cena\"] * kurs, \"waluta\": \"PLN\"}} for stan in stany_magazynowe\n",
        "]\n",
        "stany_magazynowe_pln"
      ],
      "metadata": {
        "colab": {
          "base_uri": "https://localhost:8080/"
        },
        "id": "Ur-JPeo8sDay",
        "outputId": "bfcdf1ba-97d4-4268-b368-5e63be31ab27"
      },
      "execution_count": null,
      "outputs": [
        {
          "output_type": "execute_result",
          "data": {
            "text/plain": [
              "[{'nazwa': 'Samsung', 'cena': 2947.0, 'ilosc': 5, 'waluta': 'PLN'},\n",
              " {'nazwa': 'IPhone', 'cena': 4210.0, 'ilosc': 3, 'waluta': 'PLN'}]"
            ]
          },
          "metadata": {},
          "execution_count": 24
        }
      ]
    },
    {
      "cell_type": "markdown",
      "source": [
        "Ćwiczenie\n",
        "\n",
        "Jak zmieniłby się łączny przychód dla produktu `TV`, jeśli cena zwiększyłaby się o 10%. Oto lista transakcji:"
      ],
      "metadata": {
        "id": "OGQkSCMKqJOh"
      }
    },
    {
      "cell_type": "code",
      "source": [
        "transakcje = [\n",
        "    {\"id\": 1, \"produkt\": \"TV\", \"ilosc\": 2, \"cena\": 2000.0},\n",
        "    {\"id\": 2, \"produkt\": \"TV\", \"ilosc\": 1, \"cena\": 4000.0},\n",
        "    {\"id\": 3, \"produkt\": \"PC\", \"ilosc\": 3, \"cena\": 2500.0},\n",
        "]"
      ],
      "metadata": {
        "id": "e-jdBy_gb9oW"
      },
      "execution_count": 5,
      "outputs": []
    },
    {
      "cell_type": "code",
      "source": [
        "# @title Rozwiązanie"
      ],
      "metadata": {
        "id": "3ysgGx7YpXWO"
      },
      "execution_count": null,
      "outputs": []
    },
    {
      "cell_type": "code",
      "source": [
        "# @title Podpowiedź\n",
        "\n",
        "wartosc_transakcji_tv = [t[\"cena\"] * t[\"ilosc\"] for t in transakcje if t[\"produkt\"] == \"TV\"]\n",
        "przychod_tv = sum(wartosc_transakcji_tv)\n",
        "zmiana = 0.1 * przychod_tv\n",
        "zmiana"
      ],
      "metadata": {
        "id": "Kq6pYEJqpTYn",
        "cellView": "form",
        "outputId": "a7b9e6f7-1f3d-4b74-be0e-865ecf3d324b",
        "colab": {
          "base_uri": "https://localhost:8080/"
        }
      },
      "execution_count": 11,
      "outputs": [
        {
          "output_type": "execute_result",
          "data": {
            "text/plain": [
              "800.0"
            ]
          },
          "metadata": {},
          "execution_count": 11
        }
      ]
    },
    {
      "cell_type": "markdown",
      "source": [
        "# Składanie słowników\n",
        "\n",
        "Posłużymy się przykładem słownika, który zawiera informacje o temperaturach w różnych miastach w Polsce:"
      ],
      "metadata": {
        "id": "7jM6QFadgL7l"
      }
    },
    {
      "cell_type": "code",
      "source": [
        "temperatury = {\n",
        "    \"Poznań\": 10,\n",
        "    \"Warszawa\": 5,\n",
        "    \"Kraków\": 8,\n",
        "    \"Wrocław\": 12,\n",
        "    \"Gdańsk\": 7,\n",
        "}"
      ],
      "metadata": {
        "id": "m2DQmKtZh5oj"
      },
      "execution_count": 31,
      "outputs": []
    },
    {
      "cell_type": "markdown",
      "source": [
        "Przypomnijmy sobie działanie poniższych funkcji:"
      ],
      "metadata": {
        "id": "L4eHb0H5oGU7"
      }
    },
    {
      "cell_type": "code",
      "source": [
        "temperatury.items()"
      ],
      "metadata": {
        "id": "zTxNMFdQkyYr",
        "outputId": "44cb50e9-240f-4a0b-da50-b10329c88112",
        "colab": {
          "base_uri": "https://localhost:8080/"
        }
      },
      "execution_count": 32,
      "outputs": [
        {
          "output_type": "execute_result",
          "data": {
            "text/plain": [
              "dict_items([('Poznań', 10), ('Warszawa', 5), ('Kraków', 8), ('Wrocław', 12), ('Gdańsk', 7)])"
            ]
          },
          "metadata": {},
          "execution_count": 32
        }
      ]
    },
    {
      "cell_type": "code",
      "source": [
        "temperatury.keys()"
      ],
      "metadata": {
        "id": "u9tDT5EqlDSQ",
        "outputId": "48cd02f9-7216-4a37-9b5b-298e3a14338f",
        "colab": {
          "base_uri": "https://localhost:8080/"
        }
      },
      "execution_count": 33,
      "outputs": [
        {
          "output_type": "execute_result",
          "data": {
            "text/plain": [
              "dict_keys(['Poznań', 'Warszawa', 'Kraków', 'Wrocław', 'Gdańsk'])"
            ]
          },
          "metadata": {},
          "execution_count": 33
        }
      ]
    },
    {
      "cell_type": "code",
      "source": [
        "temperatury.values()"
      ],
      "metadata": {
        "id": "5hVnWyyelEs8",
        "outputId": "5aba5ef3-a63d-4caf-9d3f-491989cc9dde",
        "colab": {
          "base_uri": "https://localhost:8080/"
        }
      },
      "execution_count": 34,
      "outputs": [
        {
          "output_type": "execute_result",
          "data": {
            "text/plain": [
              "dict_values([10, 5, 8, 12, 7])"
            ]
          },
          "metadata": {},
          "execution_count": 34
        }
      ]
    },
    {
      "cell_type": "markdown",
      "source": [
        "Chcemy przekształcić `temperatury`, tak aby zawierał informacje o miastach, w których temperatura jest większa niż 7 stopni. Za pomocą pętli `for` zrobilibyśmy to w następujący sposób:"
      ],
      "metadata": {
        "id": "62YLAa9YoWvr"
      }
    },
    {
      "cell_type": "code",
      "source": [
        "wynik = {}\n",
        "for miasto, temp_ in temperatury.items():\n",
        "  if temp_ > 7:\n",
        "    wynik[miasto] = temp_\n",
        "\n",
        "wynik"
      ],
      "metadata": {
        "id": "sbcKsdQaoUP2",
        "outputId": "06e99b7e-f996-4808-be56-5a495ac5b735",
        "colab": {
          "base_uri": "https://localhost:8080/"
        }
      },
      "execution_count": 36,
      "outputs": [
        {
          "output_type": "execute_result",
          "data": {
            "text/plain": [
              "{'Poznań': 10, 'Kraków': 8, 'Wrocław': 12}"
            ]
          },
          "metadata": {},
          "execution_count": 36
        }
      ]
    },
    {
      "cell_type": "markdown",
      "source": [
        "Analogiczny kod dla operacji składania znajduje się poniżej:"
      ],
      "metadata": {
        "id": "RznExMDPpqzs"
      }
    },
    {
      "cell_type": "code",
      "source": [
        "{\n",
        "    miasto: temp_\n",
        "    for miasto, temp_ in temperatury.items()\n",
        "    if temp_ > 7\n",
        "}"
      ],
      "metadata": {
        "id": "UlP_Z-p6jNUj",
        "outputId": "73e53f15-b064-4865-a808-1cec8f1475d1",
        "colab": {
          "base_uri": "https://localhost:8080/"
        }
      },
      "execution_count": 37,
      "outputs": [
        {
          "output_type": "execute_result",
          "data": {
            "text/plain": [
              "{'Poznań': 10, 'Kraków': 8, 'Wrocław': 12}"
            ]
          },
          "metadata": {},
          "execution_count": 37
        }
      ]
    },
    {
      "cell_type": "markdown",
      "source": [
        "W przypadku, gdybyśmy jeszcze chcieli przekształcić temperaturę ze stopni Celsjusza na Fahrenheita za pomocą ponższej funkcji:"
      ],
      "metadata": {
        "id": "_5U3iIHUqCJj"
      }
    },
    {
      "cell_type": "code",
      "source": [
        "def celsius2fahrenheit(c):\n",
        "  return (c * 9/5) + 32"
      ],
      "metadata": {
        "id": "a4BJTNF0ju8I"
      },
      "execution_count": 38,
      "outputs": []
    },
    {
      "cell_type": "markdown",
      "source": [
        "Jedyną zmiana będzie wywołanie funkcji `celsius2fahrenheit`, na wartości temperatury:"
      ],
      "metadata": {
        "id": "zc3RtI2WqLDQ"
      }
    },
    {
      "cell_type": "code",
      "source": [
        "{\n",
        "    miasto: celsius2fahrenheit(temp_)\n",
        "    for miasto, temp_ in temperatury.items()\n",
        "    if temp_ > 7\n",
        "}"
      ],
      "metadata": {
        "id": "ZHuh5CD1j6QZ",
        "outputId": "f9b86330-c9e6-4dbe-c53b-5d1c2f85b785",
        "colab": {
          "base_uri": "https://localhost:8080/"
        }
      },
      "execution_count": 39,
      "outputs": [
        {
          "output_type": "execute_result",
          "data": {
            "text/plain": [
              "{'Poznań': 50.0, 'Kraków': 46.4, 'Wrocław': 53.6}"
            ]
          },
          "metadata": {},
          "execution_count": 39
        }
      ]
    },
    {
      "cell_type": "markdown",
      "source": [
        "UWAGA:\n",
        "\n",
        "Nic nie stoi na przeszkodzie, aby na bazie par klucz-wartość ze słownika tworzyć listy:"
      ],
      "metadata": {
        "id": "dSkMsIzSqcNo"
      }
    },
    {
      "cell_type": "code",
      "source": [
        "temperatury_lista = [(miasto, celsius2fahrenheit(temp_)) for miasto, temp_ in temperatury.items() if temp_ > 7]\n",
        "temperatury_lista"
      ],
      "metadata": {
        "id": "HmxG783AkHnO",
        "outputId": "97cbf007-56ea-482e-9305-70bbc4696d69",
        "colab": {
          "base_uri": "https://localhost:8080/"
        }
      },
      "execution_count": 40,
      "outputs": [
        {
          "output_type": "execute_result",
          "data": {
            "text/plain": [
              "[('Poznań', 50.0), ('Kraków', 46.4), ('Wrocław', 53.6)]"
            ]
          },
          "metadata": {},
          "execution_count": 40
        }
      ]
    },
    {
      "cell_type": "markdown",
      "source": [
        "I na odwrót:"
      ],
      "metadata": {
        "id": "kYDy235tqt3Z"
      }
    },
    {
      "cell_type": "code",
      "source": [
        "{\n",
        "    miasto: temp_\n",
        "    for miasto, temp_ in temperatury_lista\n",
        "}"
      ],
      "metadata": {
        "id": "N7dS6qAOkmTW",
        "outputId": "5f03a494-f062-4448-c78d-9ee9db15ec31",
        "colab": {
          "base_uri": "https://localhost:8080/"
        }
      },
      "execution_count": 41,
      "outputs": [
        {
          "output_type": "execute_result",
          "data": {
            "text/plain": [
              "{'Poznań': 50.0, 'Kraków': 46.4, 'Wrocław': 53.6}"
            ]
          },
          "metadata": {},
          "execution_count": 41
        }
      ]
    },
    {
      "cell_type": "markdown",
      "source": [
        "Chociaż tak będzie prościej:"
      ],
      "metadata": {
        "id": "6r5zygp1q7--"
      }
    },
    {
      "cell_type": "code",
      "source": [
        "dict(temperatury_lista)"
      ],
      "metadata": {
        "id": "pR6shpQyqz0n",
        "outputId": "388d9595-df01-4ee0-a909-372eff41fb04",
        "colab": {
          "base_uri": "https://localhost:8080/"
        }
      },
      "execution_count": 49,
      "outputs": [
        {
          "output_type": "execute_result",
          "data": {
            "text/plain": [
              "{'Poznań': 50.0, 'Kraków': 46.4, 'Wrocław': 53.6}"
            ]
          },
          "metadata": {},
          "execution_count": 49
        }
      ]
    },
    {
      "cell_type": "markdown",
      "source": [
        "Ćwiczenie\n",
        "\n",
        "Na podstawie poniższych danych utwórz słownik, którego kluczem będzie imię a wartością pensja. Interesują nas osoby z pensją poniżej 10000."
      ],
      "metadata": {
        "id": "wo-uz97YuHK4"
      }
    },
    {
      "cell_type": "code",
      "source": [
        "dane = [\n",
        "    {\"id\": 1, \"imie\": \"Alicja\", \"pensja\": 7000},\n",
        "    {\"id\": 2, \"imie\": \"Robert\", \"pensja\": 5000},\n",
        "    {\"id\": 3, \"imie\": \"Jerzy\", \"pensja\": 12000}\n",
        "]"
      ],
      "metadata": {
        "id": "yGvFKQ9iu4zx"
      },
      "execution_count": 51,
      "outputs": []
    },
    {
      "cell_type": "code",
      "source": [
        "# @title Rozwiązanie"
      ],
      "metadata": {
        "id": "sfkz8wINuGrv"
      },
      "execution_count": null,
      "outputs": []
    },
    {
      "cell_type": "code",
      "source": [
        "# @title Podpowiedź\n",
        "{\n",
        "    rekord[\"imie\"]: rekord[\"pensja\"]\n",
        "    for rekord in dane\n",
        "    if rekord[\"pensja\"] < 10000\n",
        "}\n"
      ],
      "metadata": {
        "cellView": "form",
        "id": "p1sUElCYuLDh",
        "outputId": "3a3a4c5c-f70d-47e6-e118-0b552d7be4c6",
        "colab": {
          "base_uri": "https://localhost:8080/"
        }
      },
      "execution_count": 53,
      "outputs": [
        {
          "output_type": "execute_result",
          "data": {
            "text/plain": [
              "{'Alicja': 7000, 'Robert': 5000}"
            ]
          },
          "metadata": {},
          "execution_count": 53
        }
      ]
    },
    {
      "cell_type": "markdown",
      "source": [
        "# Składanie zbiorów\n",
        "\n",
        "Składanie zbiorów wygląda bardzo podobnie do składania słowników. Zamiast pary klucz-wartość zwracamy tylko wartość. Posłużmy się przykładem podobnym do ostatniego. Dodamy rekord z kolejną osobą o imieniu Alicja:"
      ],
      "metadata": {
        "id": "LU7wXgACgRPI"
      }
    },
    {
      "cell_type": "code",
      "source": [
        "dane = [\n",
        "    {\"id\": 1, \"imie\": \"Alicja\", \"pensja\": 7000},\n",
        "    {\"id\": 2, \"imie\": \"Robert\", \"pensja\": 5000},\n",
        "    {\"id\": 3, \"imie\": \"Jerzy\", \"pensja\": 12000},\n",
        "    {\"id\": 4, \"imie\": \"Alicja\", \"pensja\": 8000},\n",
        "]"
      ],
      "metadata": {
        "id": "aTz1HmjLwk8p"
      },
      "execution_count": 55,
      "outputs": []
    },
    {
      "cell_type": "markdown",
      "source": [
        "Naszym zadaniem będzie znalezienie osób, których pensja jest poniżej 10000:"
      ],
      "metadata": {
        "id": "I7A0seDNxmQ0"
      }
    },
    {
      "cell_type": "code",
      "source": [
        "{\n",
        "    rekord[\"imie\"]\n",
        "    for rekord in dane\n",
        "    if rekord[\"pensja\"] < 10000\n",
        "}"
      ],
      "metadata": {
        "id": "01V8NQipxl3d",
        "outputId": "6327fc7b-9dce-486c-c0d9-4e2a760a2b96",
        "colab": {
          "base_uri": "https://localhost:8080/"
        }
      },
      "execution_count": 58,
      "outputs": [
        {
          "output_type": "execute_result",
          "data": {
            "text/plain": [
              "{'Alicja', 'Robert'}"
            ]
          },
          "metadata": {},
          "execution_count": 58
        }
      ]
    },
    {
      "cell_type": "markdown",
      "source": [
        "UWAGA:\n",
        "\n",
        "Nawiązując do poprzedniego ćwiczenia zwróćmy uwagę, że o wartości pensji decyduje ostatni rekord z listy pod tym samym kluczem:"
      ],
      "metadata": {
        "id": "lGVJZfykxbc-"
      }
    },
    {
      "cell_type": "code",
      "source": [
        "{\n",
        "    rekord[\"imie\"]: rekord[\"pensja\"]\n",
        "    for rekord in dane\n",
        "    if rekord[\"pensja\"] < 10000\n",
        "}"
      ],
      "metadata": {
        "id": "xe6RC8zoxWCn",
        "outputId": "9050a83f-f6f4-469e-b012-fef78de68ec6",
        "colab": {
          "base_uri": "https://localhost:8080/"
        }
      },
      "execution_count": 59,
      "outputs": [
        {
          "output_type": "execute_result",
          "data": {
            "text/plain": [
              "{'Alicja': 8000, 'Robert': 5000}"
            ]
          },
          "metadata": {},
          "execution_count": 59
        }
      ]
    },
    {
      "cell_type": "markdown",
      "source": [
        "# Zagnieżdżone operacja składania"
      ],
      "metadata": {
        "id": "7QLGtqZggVCu"
      }
    },
    {
      "cell_type": "markdown",
      "source": [
        "# Składanie generatorów"
      ],
      "metadata": {
        "id": "RAhrUWpJgfVl"
      }
    }
  ]
}