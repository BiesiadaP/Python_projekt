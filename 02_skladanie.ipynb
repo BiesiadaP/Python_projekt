{
  "nbformat": 4,
  "nbformat_minor": 0,
  "metadata": {
    "colab": {
      "provenance": [],
      "authorship_tag": "ABX9TyNlbfFTxSJqzTLbV3gvPNIh",
      "include_colab_link": true
    },
    "kernelspec": {
      "name": "python3",
      "display_name": "Python 3"
    },
    "language_info": {
      "name": "python"
    }
  },
  "cells": [
    {
      "cell_type": "markdown",
      "metadata": {
        "id": "view-in-github",
        "colab_type": "text"
      },
      "source": [
        "<a href=\"https://colab.research.google.com/github/chrispi21/python-dataeng/blob/main/02_skladanie.ipynb\" target=\"_parent\"><img src=\"https://colab.research.google.com/assets/colab-badge.svg\" alt=\"Open In Colab\"/></a>"
      ]
    },
    {
      "cell_type": "markdown",
      "source": [
        "Operacje składania służą do wygodnego tworzenia nowych list, słowników i zbiorów na podstawie już istniejących. Umożliwiają modyfikację istniejących elementów kolekcji oraz ich filtrowanie."
      ],
      "metadata": {
        "id": "W-mTfgNFk_hi"
      }
    },
    {
      "cell_type": "markdown",
      "source": [
        "# Składanie list\n",
        "\n",
        "Prześledźmy operację składania list na przykładzie. Pomnożymy kolejne elementy listy. Zróbmy to za pomocą znanego sposobu z pętlą `for`:"
      ],
      "metadata": {
        "id": "XRFpZxrJmhXh"
      }
    },
    {
      "cell_type": "code",
      "execution_count": 6,
      "metadata": {
        "id": "BYAMlDGIkEJC"
      },
      "outputs": [],
      "source": [
        "lista = [0, 5, 2, 10, -1, 3]"
      ]
    },
    {
      "cell_type": "code",
      "source": [
        "nowa_lista = []\n",
        "for elem in lista:\n",
        "  nowa_lista.append(2 * elem)"
      ],
      "metadata": {
        "id": "4-93bHd7nPCi"
      },
      "execution_count": 9,
      "outputs": []
    },
    {
      "cell_type": "code",
      "source": [
        "nowa_lista"
      ],
      "metadata": {
        "colab": {
          "base_uri": "https://localhost:8080/"
        },
        "id": "p2aOhsXundvq",
        "outputId": "9a7b8bd0-a07d-4ca0-8efd-8e91b7569d0d"
      },
      "execution_count": 10,
      "outputs": [
        {
          "output_type": "execute_result",
          "data": {
            "text/plain": [
              "[0, 10, 4, 20, -2, 6]"
            ]
          },
          "metadata": {},
          "execution_count": 10
        }
      ]
    },
    {
      "cell_type": "markdown",
      "source": [
        "Python umożliwia wykonanie takiej samej transformacji w bardziej zwięzły sposób:"
      ],
      "metadata": {
        "id": "qCjVKE_xnk0a"
      }
    },
    {
      "cell_type": "code",
      "source": [
        "[2 * elem for elem in lista]"
      ],
      "metadata": {
        "colab": {
          "base_uri": "https://localhost:8080/"
        },
        "id": "9mwoxvnoneda",
        "outputId": "2066b4ae-8e4d-4532-cde0-c27f90caae94"
      },
      "execution_count": 11,
      "outputs": [
        {
          "output_type": "execute_result",
          "data": {
            "text/plain": [
              "[0, 10, 4, 20, -2, 6]"
            ]
          },
          "metadata": {},
          "execution_count": 11
        }
      ]
    },
    {
      "cell_type": "markdown",
      "source": [
        "Gdybyśmy chcieli przy okazji odfiltrować elementy większe od 0:"
      ],
      "metadata": {
        "id": "STedIrzvol4_"
      }
    },
    {
      "cell_type": "code",
      "source": [
        "nowa_lista = []\n",
        "for elem in lista:\n",
        "  if elem > 0:\n",
        "    nowa_lista.append(2 * elem)\n",
        "\n",
        "nowa_lista"
      ],
      "metadata": {
        "colab": {
          "base_uri": "https://localhost:8080/"
        },
        "id": "LddZ0hlRn0Wv",
        "outputId": "2e642d66-0ada-41a8-8f76-b679dafa9e35"
      },
      "execution_count": 12,
      "outputs": [
        {
          "output_type": "execute_result",
          "data": {
            "text/plain": [
              "[10, 4, 20, 6]"
            ]
          },
          "metadata": {},
          "execution_count": 12
        }
      ]
    },
    {
      "cell_type": "markdown",
      "source": [
        "Bardziej zwięźle możemy zrobić to samo za pomocą operacji składania:"
      ],
      "metadata": {
        "id": "POwD1BrHo1Yx"
      }
    },
    {
      "cell_type": "code",
      "source": [
        "[2 * elem for elem in lista if elem > 0]"
      ],
      "metadata": {
        "colab": {
          "base_uri": "https://localhost:8080/"
        },
        "id": "NUWh3dN5ozsv",
        "outputId": "f351ca52-3feb-4598-a804-919c6168512f"
      },
      "execution_count": 13,
      "outputs": [
        {
          "output_type": "execute_result",
          "data": {
            "text/plain": [
              "[10, 4, 20, 6]"
            ]
          },
          "metadata": {},
          "execution_count": 13
        }
      ]
    },
    {
      "cell_type": "markdown",
      "source": [
        "W liście mogą znajdować się zagnieżdżone słowniki. Przykładowo:"
      ],
      "metadata": {
        "id": "TrjuE3m6qhYX"
      }
    },
    {
      "cell_type": "code",
      "source": [
        "stany_magazynowe = [\n",
        "    {\"nazwa\": \"Samsung\", \"cena\": 700.0, \"ilosc\": 5, \"waluta\": \"EUR\"},\n",
        "    {\"nazwa\": \"IPhone\", \"cena\": 1000.0, \"ilosc\": 3, \"waluta\": \"EUR\"},\n",
        "]"
      ],
      "metadata": {
        "id": "xdneqzTQq48y"
      },
      "execution_count": 22,
      "outputs": []
    },
    {
      "cell_type": "markdown",
      "source": [
        "Mając dany kurs walutowy EUR/PLN możemy w prosty sposób przeliczyć cenę na PLN:"
      ],
      "metadata": {
        "id": "SCdZc8zvreen"
      }
    },
    {
      "cell_type": "code",
      "source": [
        "kurs = 4.21"
      ],
      "metadata": {
        "id": "not1zIHOrd6f"
      },
      "execution_count": 23,
      "outputs": []
    },
    {
      "cell_type": "markdown",
      "source": [
        "TODO: dict unpacking, list unpacking"
      ],
      "metadata": {
        "id": "mfB3nifauyQb"
      }
    },
    {
      "cell_type": "code",
      "source": [
        "stany_magazynowe_pln = [\n",
        "    {**stan, **{\"cena\": stan[\"cena\"] * kurs, \"waluta\": \"PLN\"}} for stan in stany_magazynowe\n",
        "]\n",
        "stany_magazynowe_pln"
      ],
      "metadata": {
        "colab": {
          "base_uri": "https://localhost:8080/"
        },
        "id": "Ur-JPeo8sDay",
        "outputId": "bfcdf1ba-97d4-4268-b368-5e63be31ab27"
      },
      "execution_count": 24,
      "outputs": [
        {
          "output_type": "execute_result",
          "data": {
            "text/plain": [
              "[{'nazwa': 'Samsung', 'cena': 2947.0, 'ilosc': 5, 'waluta': 'PLN'},\n",
              " {'nazwa': 'IPhone', 'cena': 4210.0, 'ilosc': 3, 'waluta': 'PLN'}]"
            ]
          },
          "metadata": {},
          "execution_count": 24
        }
      ]
    },
    {
      "cell_type": "markdown",
      "source": [
        "Ćwiczenie\n",
        "\n",
        "Zmienna transakcje"
      ],
      "metadata": {
        "id": "OGQkSCMKqJOh"
      }
    },
    {
      "cell_type": "code",
      "source": [
        "# @title Rozwiązanie"
      ],
      "metadata": {
        "id": "3ysgGx7YpXWO"
      },
      "execution_count": null,
      "outputs": []
    },
    {
      "cell_type": "code",
      "source": [
        "# @title Podpowiedź"
      ],
      "metadata": {
        "id": "Kq6pYEJqpTYn"
      },
      "execution_count": null,
      "outputs": []
    }
  ]
}