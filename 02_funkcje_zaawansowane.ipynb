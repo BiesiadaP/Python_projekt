{
  "nbformat": 4,
  "nbformat_minor": 0,
  "metadata": {
    "colab": {
      "provenance": [],
      "toc_visible": true,
      "authorship_tag": "ABX9TyPpM4dloVWk3hSMAuX8Piio",
      "include_colab_link": true
    },
    "kernelspec": {
      "name": "python3",
      "display_name": "Python 3"
    },
    "language_info": {
      "name": "python"
    }
  },
  "cells": [
    {
      "cell_type": "markdown",
      "metadata": {
        "id": "view-in-github",
        "colab_type": "text"
      },
      "source": [
        "<a href=\"https://colab.research.google.com/github/chrispi21/python-dataeng/blob/main/02_funkcje_zaawansowane.ipynb\" target=\"_parent\"><img src=\"https://colab.research.google.com/assets/colab-badge.svg\" alt=\"Open In Colab\"/></a>"
      ]
    },
    {
      "cell_type": "code",
      "execution_count": null,
      "metadata": {
        "id": "Pj_Y46HVkK0c"
      },
      "outputs": [],
      "source": [
        "# lambda\n",
        "# dekoratory\n",
        "# currying jako ciekawostka"
      ]
    },
    {
      "cell_type": "markdown",
      "source": [
        "# Funkcje - przypomnienie"
      ],
      "metadata": {
        "id": "rrhHCZP0ly6X"
      }
    },
    {
      "cell_type": "code",
      "source": [
        "def dodaj_jeden(x):\n",
        "  return x + 1"
      ],
      "metadata": {
        "id": "yD5pZPImp3bL"
      },
      "execution_count": null,
      "outputs": []
    },
    {
      "cell_type": "code",
      "source": [
        "dodaj_jeden(10)"
      ],
      "metadata": {
        "colab": {
          "base_uri": "https://localhost:8080/"
        },
        "id": "jxKO9KNHp4Pt",
        "outputId": "516b69b6-d7d0-4b82-a87d-1488fb08f9a9"
      },
      "execution_count": null,
      "outputs": [
        {
          "output_type": "execute_result",
          "data": {
            "text/plain": [
              "11"
            ]
          },
          "metadata": {},
          "execution_count": 2
        }
      ]
    },
    {
      "cell_type": "markdown",
      "source": [
        "Możemy również tworzyć funkcje z wartością domyślną:"
      ],
      "metadata": {
        "id": "Kq8hA6Y0qDJN"
      }
    },
    {
      "cell_type": "code",
      "source": [
        "def dodaj_n(x, n=5):\n",
        "  return x + n"
      ],
      "metadata": {
        "id": "m4RzLy8ap9e2"
      },
      "execution_count": null,
      "outputs": []
    },
    {
      "cell_type": "code",
      "source": [
        "dodaj_n(2)"
      ],
      "metadata": {
        "colab": {
          "base_uri": "https://localhost:8080/"
        },
        "id": "tVBSRJOHqOTA",
        "outputId": "6cfdf4b1-47ae-437a-96e8-7b4dbb63f2bd"
      },
      "execution_count": null,
      "outputs": [
        {
          "output_type": "execute_result",
          "data": {
            "text/plain": [
              "7"
            ]
          },
          "metadata": {},
          "execution_count": 4
        }
      ]
    },
    {
      "cell_type": "markdown",
      "source": [
        "Możemy również korzystać z argumentów nazwanych:"
      ],
      "metadata": {
        "id": "oh-HGcjGqTxo"
      }
    },
    {
      "cell_type": "code",
      "source": [
        "dodaj_n(x=1, n=100)"
      ],
      "metadata": {
        "colab": {
          "base_uri": "https://localhost:8080/"
        },
        "id": "t3D-h_jHqS-n",
        "outputId": "75e38d04-27dc-4779-fbdb-3f96e4929a66"
      },
      "execution_count": null,
      "outputs": [
        {
          "output_type": "execute_result",
          "data": {
            "text/plain": [
              "101"
            ]
          },
          "metadata": {},
          "execution_count": 5
        }
      ]
    },
    {
      "cell_type": "markdown",
      "source": [
        "Umożliwia nam to zamianę kolejności przekazywania argumentów:"
      ],
      "metadata": {
        "id": "ViwOR5bbqe6E"
      }
    },
    {
      "cell_type": "code",
      "source": [
        "dodaj_n(n=100, x=1)"
      ],
      "metadata": {
        "colab": {
          "base_uri": "https://localhost:8080/"
        },
        "id": "3Uu5m7iAqeKY",
        "outputId": "b6e452ae-2973-4d8c-bb2b-5fdd67d900b7"
      },
      "execution_count": null,
      "outputs": [
        {
          "output_type": "execute_result",
          "data": {
            "text/plain": [
              "101"
            ]
          },
          "metadata": {},
          "execution_count": 6
        }
      ]
    },
    {
      "cell_type": "markdown",
      "source": [
        "# Rozpakowanie list, krotek i słowników jako argumentów funkcji"
      ],
      "metadata": {
        "id": "6Ci9ygLdsilL"
      }
    },
    {
      "cell_type": "markdown",
      "source": [
        "Python umożliwia również rozpakowanie listy, krotki albo słownika argumentów podczas wywoływania funkcji:"
      ],
      "metadata": {
        "id": "L2hvp4Paqujb"
      }
    },
    {
      "cell_type": "code",
      "source": [
        "# Używamy * do rozpakowania elementów\n",
        "lista_argumentow = [1, 100]\n",
        "dodaj_n(*lista_argumentow)"
      ],
      "metadata": {
        "colab": {
          "base_uri": "https://localhost:8080/"
        },
        "id": "8kEG5098q8e8",
        "outputId": "7ba7b92d-12a9-486c-f2e6-8ca7fa8bd2c7"
      },
      "execution_count": null,
      "outputs": [
        {
          "output_type": "execute_result",
          "data": {
            "text/plain": [
              "101"
            ]
          },
          "metadata": {},
          "execution_count": 7
        }
      ]
    },
    {
      "cell_type": "code",
      "source": [
        "krotka_argumentow = (1, 100)\n",
        "dodaj_n(*krotka_argumentow)"
      ],
      "metadata": {
        "colab": {
          "base_uri": "https://localhost:8080/"
        },
        "id": "u7wSWrQPqR4w",
        "outputId": "2c4be1d5-3fac-4b14-f5fe-f62850f62aa5"
      },
      "execution_count": null,
      "outputs": [
        {
          "output_type": "execute_result",
          "data": {
            "text/plain": [
              "101"
            ]
          },
          "metadata": {},
          "execution_count": 8
        }
      ]
    },
    {
      "cell_type": "code",
      "source": [
        "# Korzystamy z ** do rozpakowania par klucz-wartość w przypadku słowników\n",
        "slownik_argumentow = {\"x\": 1, \"n\": 100}\n",
        "dodaj_n(**slownik_argumentow)"
      ],
      "metadata": {
        "colab": {
          "base_uri": "https://localhost:8080/"
        },
        "id": "MifXxj5zrGrV",
        "outputId": "3b5b8f3d-5066-4b35-ddb8-5075660c00bf"
      },
      "execution_count": null,
      "outputs": [
        {
          "output_type": "execute_result",
          "data": {
            "text/plain": [
              "101"
            ]
          },
          "metadata": {},
          "execution_count": 9
        }
      ]
    },
    {
      "cell_type": "markdown",
      "source": [
        "# Funkcje przyjmujące dowolną liczbę elementów\n",
        "\n",
        "W przypadku, gdy nazwa argumentu jest poprzedzona `*`, możemy przekazać dowolną krotkę zawierającą nienazwane argumenty. Możemy przykładowo utworzyć funkcję, która sumuje dowolne elementy:"
      ],
      "metadata": {
        "id": "8p-sbBc7s1yl"
      }
    },
    {
      "cell_type": "code",
      "source": [
        "def dodaj_elementy(*args):\n",
        "  suma = 0\n",
        "  for arg in args:\n",
        "    suma += arg\n",
        "  return suma"
      ],
      "metadata": {
        "id": "rN11iVcKrLsX"
      },
      "execution_count": null,
      "outputs": []
    },
    {
      "cell_type": "code",
      "source": [
        "dodaj_elementy(1, 2, 4)"
      ],
      "metadata": {
        "colab": {
          "base_uri": "https://localhost:8080/"
        },
        "id": "RjXF-UJws3oK",
        "outputId": "8d9a42b6-a560-4aa3-bc8b-312582d181b2"
      },
      "execution_count": null,
      "outputs": [
        {
          "output_type": "execute_result",
          "data": {
            "text/plain": [
              "7"
            ]
          },
          "metadata": {},
          "execution_count": 17
        }
      ]
    },
    {
      "cell_type": "markdown",
      "source": [
        "Nazwa argumentu `*args` jest konwencją nazewniczą - dobrze jest jej przestrzegać."
      ],
      "metadata": {
        "id": "osg-XQ1FufXk"
      }
    },
    {
      "cell_type": "markdown",
      "source": [
        "W podobny sposób możemy przekazywać nazwane argumenty jako słownik. Skorzystamy z `**` przed nazwą argumentu. Dla przykładu utworzymy funkcję, która zwróci minimum:"
      ],
      "metadata": {
        "id": "KmBjHNtPvSpn"
      }
    },
    {
      "cell_type": "code",
      "source": [
        "def minimum(**kwargs):\n",
        "  if len(kwargs) == 0:\n",
        "    return None\n",
        "  minimum = float(\"inf\")\n",
        "  for value in kwargs.values():\n",
        "    if value < minimum:\n",
        "      minimum = value\n",
        "  return minimum"
      ],
      "metadata": {
        "id": "2ub7tGr2ue1T"
      },
      "execution_count": null,
      "outputs": []
    },
    {
      "cell_type": "code",
      "source": [
        "minimum(a=1, b=10, c=-5)"
      ],
      "metadata": {
        "colab": {
          "base_uri": "https://localhost:8080/"
        },
        "id": "u7x22m-itcbk",
        "outputId": "cb576e22-2fc8-40b3-94aa-fe011115d608"
      },
      "execution_count": null,
      "outputs": [
        {
          "output_type": "execute_result",
          "data": {
            "text/plain": [
              "-5"
            ]
          },
          "metadata": {},
          "execution_count": 20
        }
      ]
    },
    {
      "cell_type": "markdown",
      "source": [
        "Konwencja nazewnicza zaleca stosowanie `**kwargs` w tym przypadku."
      ],
      "metadata": {
        "id": "isNJgbnqwUhp"
      }
    },
    {
      "cell_type": "markdown",
      "source": [
        "Możemy tworzyć funkcje, które będą wykorzystywały `*args`, `**kwargs` oraz inne argumenty. Przykładowo:"
      ],
      "metadata": {
        "id": "j__QaYTRwd_1"
      }
    },
    {
      "cell_type": "code",
      "source": [
        "def minimum(x=0, *args, **kwargs):\n",
        "  minimum = x\n",
        "  all_args = args + tuple(kwargs.values())\n",
        "  for value in all_args:\n",
        "    if value < minimum:\n",
        "      minimum = value\n",
        "  return minimum"
      ],
      "metadata": {
        "id": "Ps18trP1wNwD"
      },
      "execution_count": null,
      "outputs": []
    },
    {
      "cell_type": "code",
      "source": [
        "minimum(1, 22, 2, a=3, b=15)"
      ],
      "metadata": {
        "colab": {
          "base_uri": "https://localhost:8080/"
        },
        "id": "ZlocL19Nxbnq",
        "outputId": "647303a2-4fbf-4fb5-c408-429a8882e516"
      },
      "execution_count": null,
      "outputs": [
        {
          "output_type": "execute_result",
          "data": {
            "text/plain": [
              "1"
            ]
          },
          "metadata": {},
          "execution_count": 43
        }
      ]
    },
    {
      "cell_type": "code",
      "source": [
        "# To nie zadziała!\n",
        "minimum(a=3, 1, 22, 2, b=15)"
      ],
      "metadata": {
        "colab": {
          "base_uri": "https://localhost:8080/",
          "height": 106
        },
        "id": "cme3ftaMxhuB",
        "outputId": "806d7991-3c02-4925-d485-f5a8a2a4a104"
      },
      "execution_count": null,
      "outputs": [
        {
          "output_type": "error",
          "ename": "SyntaxError",
          "evalue": "positional argument follows keyword argument (<ipython-input-44-8b029782ece6>, line 1)",
          "traceback": [
            "\u001b[0;36m  File \u001b[0;32m\"<ipython-input-44-8b029782ece6>\"\u001b[0;36m, line \u001b[0;32m1\u001b[0m\n\u001b[0;31m    minimum(a=3, 1, 22, 2, b=15)\u001b[0m\n\u001b[0m                               ^\u001b[0m\n\u001b[0;31mSyntaxError\u001b[0m\u001b[0;31m:\u001b[0m positional argument follows keyword argument\n"
          ]
        }
      ]
    },
    {
      "cell_type": "markdown",
      "source": [
        "## Ciekawostka - łączenie słowników\n",
        "\n",
        "Sprawdźmy sygnaturę funkcji `dict`, która tworzy słownik:"
      ],
      "metadata": {
        "id": "jX_zatKTzG7Q"
      }
    },
    {
      "cell_type": "code",
      "source": [
        "dict?"
      ],
      "metadata": {
        "id": "U2DnswzfzFbA"
      },
      "execution_count": null,
      "outputs": []
    },
    {
      "cell_type": "markdown",
      "source": [
        "Za pomocą poznanej przed chwilą techniki możemy połączyć dwa słowniki:"
      ],
      "metadata": {
        "id": "BkPkY-Hgz4Og"
      }
    },
    {
      "cell_type": "code",
      "source": [
        "d1 = {\"a\": 1, \"b\": 2}\n",
        "d2 = {\"abc\": -1}\n",
        "d3 = {\"b\": 13, \"abc\": -1}"
      ],
      "metadata": {
        "id": "SDrPwDROz3zY"
      },
      "execution_count": null,
      "outputs": []
    },
    {
      "cell_type": "code",
      "source": [
        "dict(**d1, **d2)"
      ],
      "metadata": {
        "colab": {
          "base_uri": "https://localhost:8080/"
        },
        "id": "uLyj-vAnxv_r",
        "outputId": "315611b6-72e3-4bb7-95d5-e2068da8c379"
      },
      "execution_count": null,
      "outputs": [
        {
          "output_type": "execute_result",
          "data": {
            "text/plain": [
              "{'a': 1, 'b': 2, 'abc': -1}"
            ]
          },
          "metadata": {},
          "execution_count": 52
        }
      ]
    },
    {
      "cell_type": "code",
      "source": [
        "# Nie zadziała\n",
        "dict(**d1, **d3)"
      ],
      "metadata": {
        "colab": {
          "base_uri": "https://localhost:8080/",
          "height": 159
        },
        "id": "GK_UzGaE0NOv",
        "outputId": "84b104df-dbe1-499d-f56d-c11f7395dae7"
      },
      "execution_count": null,
      "outputs": [
        {
          "output_type": "error",
          "ename": "TypeError",
          "evalue": "dict() got multiple values for keyword argument 'b'",
          "traceback": [
            "\u001b[0;31m---------------------------------------------------------------------------\u001b[0m",
            "\u001b[0;31mTypeError\u001b[0m                                 Traceback (most recent call last)",
            "\u001b[0;32m<ipython-input-54-3ffab4ab0483>\u001b[0m in \u001b[0;36m<cell line: 0>\u001b[0;34m()\u001b[0m\n\u001b[1;32m      1\u001b[0m \u001b[0;31m# Nie zadziała\u001b[0m\u001b[0;34m\u001b[0m\u001b[0;34m\u001b[0m\u001b[0m\n\u001b[0;32m----> 2\u001b[0;31m \u001b[0mdict\u001b[0m\u001b[0;34m(\u001b[0m\u001b[0;34m**\u001b[0m\u001b[0md1\u001b[0m\u001b[0;34m,\u001b[0m \u001b[0;34m**\u001b[0m\u001b[0md3\u001b[0m\u001b[0;34m)\u001b[0m\u001b[0;34m\u001b[0m\u001b[0;34m\u001b[0m\u001b[0m\n\u001b[0m",
            "\u001b[0;31mTypeError\u001b[0m: dict() got multiple values for keyword argument 'b'"
          ]
        }
      ]
    },
    {
      "cell_type": "code",
      "source": [
        "# Na szczęście to zadziała\n",
        "{**d1, **d3}"
      ],
      "metadata": {
        "colab": {
          "base_uri": "https://localhost:8080/"
        },
        "id": "lVvvrtnh0hcD",
        "outputId": "b9cf5e5c-e645-489c-9b0c-9cc7a65367ad"
      },
      "execution_count": null,
      "outputs": [
        {
          "output_type": "execute_result",
          "data": {
            "text/plain": [
              "{'a': 1, 'b': 13, 'abc': -1}"
            ]
          },
          "metadata": {},
          "execution_count": 55
        }
      ]
    },
    {
      "cell_type": "code",
      "source": [
        "# Kolejność ma znaczenie\n",
        "{**d3, **d1}"
      ],
      "metadata": {
        "colab": {
          "base_uri": "https://localhost:8080/"
        },
        "id": "ER8h-Q7R0pLn",
        "outputId": "10d29d02-a7ee-4a27-e34c-bb05f2be1263"
      },
      "execution_count": null,
      "outputs": [
        {
          "output_type": "execute_result",
          "data": {
            "text/plain": [
              "{'b': 2, 'abc': -1, 'a': 1}"
            ]
          },
          "metadata": {},
          "execution_count": 56
        }
      ]
    },
    {
      "cell_type": "markdown",
      "source": [
        "Ćwiczenie\n",
        "\n",
        "\n",
        "Utwórz funkcję `filtruj`, która będzie filtrowała rekordy w tabeli z pracownikami na podstawie przekazanych warunków."
      ],
      "metadata": {
        "id": "Ha_TMD4k3g5B"
      }
    },
    {
      "cell_type": "code",
      "source": [
        "pracownicy = [\n",
        "    {\"imie\": \"Jan\", \"nazwisko\": \"Kowalski\", \"stanowisko\": \"Inżynier Danych\"},\n",
        "    {\"imie\": \"Jan\", \"nazwisko\": \"Nowak\", \"stanowisko\": \"Analityk Danych\"},\n",
        "    {\"imie\": \"Janina\", \"nazwisko\": \"Nowak\", \"stanowisko\": \"Inżynier Danych\"},\n",
        "]"
      ],
      "metadata": {
        "id": "ImqX5iI70s_4"
      },
      "execution_count": null,
      "outputs": []
    },
    {
      "cell_type": "markdown",
      "source": [
        "Przykładowo:\n",
        "\n",
        "`filtruj(pracownicy, imie=\"Jan\", nazwisko=\"Nowak\")`\n",
        "\n",
        "zwróci:\n",
        "\n",
        "`[{\"imie\": \"Jan\", \"nazwisko\": \"Nowak\", \"stanowisko\": \"Analityk Danych\"}]`\n",
        "\n",
        "\n"
      ],
      "metadata": {
        "id": "6KEcTUJC6l8A"
      }
    },
    {
      "cell_type": "code",
      "source": [
        "# @title Rozwiązanie"
      ],
      "metadata": {
        "id": "dlEsQwsn7E0G"
      },
      "execution_count": null,
      "outputs": []
    },
    {
      "cell_type": "code",
      "source": [
        "# @title Podpowiedź\n",
        "\n",
        "def filtruj(pracownicy, **kwargs):\n",
        "  wynik = []\n",
        "  for pracownik in pracownicy:\n",
        "    for nazwa_kolumny, wartosc in kwargs.items():\n",
        "      if pracownik[nazwa_kolumny] != wartosc:\n",
        "        break\n",
        "    else:\n",
        "      wynik.append(pracownik)\n",
        "  return wynik"
      ],
      "metadata": {
        "cellView": "form",
        "id": "3NTeM1XB7Ih8"
      },
      "execution_count": null,
      "outputs": []
    },
    {
      "cell_type": "code",
      "source": [
        "filtruj(pracownicy, imie=\"Jan\", nazwisko=\"Nowak\")"
      ],
      "metadata": {
        "colab": {
          "base_uri": "https://localhost:8080/"
        },
        "id": "KFGljSgA7KjJ",
        "outputId": "ef756f4e-0ec5-4e98-bddf-f3c62ebb8c86"
      },
      "execution_count": null,
      "outputs": [
        {
          "output_type": "execute_result",
          "data": {
            "text/plain": [
              "[{'imie': 'Jan', 'nazwisko': 'Nowak', 'stanowisko': 'Analityk Danych'}]"
            ]
          },
          "metadata": {},
          "execution_count": 74
        }
      ]
    },
    {
      "cell_type": "markdown",
      "source": [
        "# Funkcje zwracające wiele wartości"
      ],
      "metadata": {
        "id": "Cd37O_QG_RC4"
      }
    },
    {
      "cell_type": "markdown",
      "source": [
        "Utworzymy funkcję, która zwraca minimum i maksimum dla danych argumentów wejściowych:"
      ],
      "metadata": {
        "id": "aX_BDtgaBa5g"
      }
    },
    {
      "cell_type": "code",
      "source": [
        "def min_max(*args):\n",
        "  return min(args), max(args)"
      ],
      "metadata": {
        "id": "lYk2O4OB8ot5"
      },
      "execution_count": null,
      "outputs": []
    },
    {
      "cell_type": "code",
      "source": [
        "min_, max_ = min_max(1, 2, 3, 4, 5)"
      ],
      "metadata": {
        "id": "RW4zETP9_XKk"
      },
      "execution_count": null,
      "outputs": []
    },
    {
      "cell_type": "code",
      "source": [
        "min_, max_"
      ],
      "metadata": {
        "colab": {
          "base_uri": "https://localhost:8080/"
        },
        "id": "I3qclnmpB4Za",
        "outputId": "699115ac-9403-452f-f89b-d0449935c0f8"
      },
      "execution_count": null,
      "outputs": [
        {
          "output_type": "execute_result",
          "data": {
            "text/plain": [
              "(1, 5)"
            ]
          },
          "metadata": {},
          "execution_count": 3
        }
      ]
    },
    {
      "cell_type": "markdown",
      "source": [
        "Ćwiczenie\n",
        "\n",
        "Utwórz funkcję, która dla dowolnych nazwanych argumentów zwróci nazwę argumentu i wartość, dla argumentu którego wartość jest najniższa"
      ],
      "metadata": {
        "id": "aXNwCr40DQHZ"
      }
    },
    {
      "cell_type": "code",
      "source": [
        "# @title Rozwiązanie"
      ],
      "metadata": {
        "id": "rFqI5MYJ_aDS"
      },
      "execution_count": null,
      "outputs": []
    },
    {
      "cell_type": "code",
      "source": [
        "# @title Podpowiedź\n",
        "def minimum(**kwargs):\n",
        "  if len(kwargs) == 0:\n",
        "    return None\n",
        "  minimum = float(\"inf\")\n",
        "  for nazwa, wartosc in kwargs.items():\n",
        "    if wartosc < minimum:\n",
        "      minimum = wartosc\n",
        "      nazwa_min = nazwa\n",
        "  return nazwa_min, minimum"
      ],
      "metadata": {
        "cellView": "form",
        "id": "K3mcW0dgDmv6"
      },
      "execution_count": null,
      "outputs": []
    },
    {
      "cell_type": "code",
      "source": [
        "minimum(a=1, b=25, c=-1)"
      ],
      "metadata": {
        "colab": {
          "base_uri": "https://localhost:8080/"
        },
        "id": "1PokQbyGD_4E",
        "outputId": "339756b7-8383-4a96-ed7a-0b5e0620ec3c"
      },
      "execution_count": null,
      "outputs": [
        {
          "output_type": "execute_result",
          "data": {
            "text/plain": [
              "('c', -1)"
            ]
          },
          "metadata": {},
          "execution_count": 5
        }
      ]
    },
    {
      "cell_type": "markdown",
      "source": [
        "# Wymuszanie użycia nienazwanych i nazwanych argumentów funkcji"
      ],
      "metadata": {
        "id": "e0ZpCvPvGwpA"
      }
    },
    {
      "cell_type": "markdown",
      "source": [
        "Przeanalizujmy następującą definicję funkcji:"
      ],
      "metadata": {
        "id": "0p4G2FFxHAcf"
      }
    },
    {
      "cell_type": "code",
      "source": [
        "def funkcja(imie, nazwisko, /, stanowisko, *, firma):\n",
        "  print(imie, nazwisko, stanowisko, firma)"
      ],
      "metadata": {
        "id": "WdW8bIEKGwKa"
      },
      "execution_count": null,
      "outputs": []
    },
    {
      "cell_type": "markdown",
      "source": [
        "W jaki sposób wywołać tę funkcję? Spróbujmy kilku sposobów:"
      ],
      "metadata": {
        "id": "6y_DVM7VHdOS"
      }
    },
    {
      "cell_type": "code",
      "source": [
        "# nienazwane argumenty\n",
        "funkcja(\"Janina\", \"Nowak\", \"Inżynier Danych\", \"Big Data Sp. z o.o.\")"
      ],
      "metadata": {
        "colab": {
          "base_uri": "https://localhost:8080/",
          "height": 141
        },
        "id": "HVcevoHiED4Z",
        "outputId": "2122da66-2bb2-4455-f806-82445c389711"
      },
      "execution_count": null,
      "outputs": [
        {
          "output_type": "error",
          "ename": "TypeError",
          "evalue": "funkcja() takes 3 positional arguments but 4 were given",
          "traceback": [
            "\u001b[0;31m---------------------------------------------------------------------------\u001b[0m",
            "\u001b[0;31mTypeError\u001b[0m                                 Traceback (most recent call last)",
            "\u001b[0;32m<ipython-input-7-586adcd75a09>\u001b[0m in \u001b[0;36m<cell line: 0>\u001b[0;34m()\u001b[0m\n\u001b[0;32m----> 1\u001b[0;31m \u001b[0mfunkcja\u001b[0m\u001b[0;34m(\u001b[0m\u001b[0;34m\"Janina\"\u001b[0m\u001b[0;34m,\u001b[0m \u001b[0;34m\"Nowak\"\u001b[0m\u001b[0;34m,\u001b[0m \u001b[0;34m\"Inżynier Danych\"\u001b[0m\u001b[0;34m,\u001b[0m \u001b[0;34m\"Big Data Sp. z o.o.\"\u001b[0m\u001b[0;34m)\u001b[0m\u001b[0;34m\u001b[0m\u001b[0;34m\u001b[0m\u001b[0m\n\u001b[0m",
            "\u001b[0;31mTypeError\u001b[0m: funkcja() takes 3 positional arguments but 4 were given"
          ]
        }
      ]
    },
    {
      "cell_type": "code",
      "source": [
        "# nazwane argumenty\n",
        "funkcja(imie=\"Janina\", nazwisko=\"Nowak\", stanowisko=\"Inżynier Danych\", firma=\"Big Data Sp. z o.o.\")"
      ],
      "metadata": {
        "colab": {
          "base_uri": "https://localhost:8080/",
          "height": 193
        },
        "id": "2Vu5xmDaH0I4",
        "outputId": "9a035534-f4b1-481e-a08f-2d4a03b11e4b"
      },
      "execution_count": null,
      "outputs": [
        {
          "output_type": "error",
          "ename": "TypeError",
          "evalue": "funkcja() got some positional-only arguments passed as keyword arguments: 'imie, nazwisko'",
          "traceback": [
            "\u001b[0;31m---------------------------------------------------------------------------\u001b[0m",
            "\u001b[0;31mTypeError\u001b[0m                                 Traceback (most recent call last)",
            "\u001b[0;32m<ipython-input-8-4e58ad41905e>\u001b[0m in \u001b[0;36m<cell line: 0>\u001b[0;34m()\u001b[0m\n\u001b[1;32m      1\u001b[0m \u001b[0;31m# nazwane argumenty\u001b[0m\u001b[0;34m\u001b[0m\u001b[0;34m\u001b[0m\u001b[0m\n\u001b[0;32m----> 2\u001b[0;31m \u001b[0mfunkcja\u001b[0m\u001b[0;34m(\u001b[0m\u001b[0mimie\u001b[0m\u001b[0;34m=\u001b[0m\u001b[0;34m\"Janina\"\u001b[0m\u001b[0;34m,\u001b[0m \u001b[0mnazwisko\u001b[0m\u001b[0;34m=\u001b[0m\u001b[0;34m\"Nowak\"\u001b[0m\u001b[0;34m,\u001b[0m \u001b[0mstanowisko\u001b[0m\u001b[0;34m=\u001b[0m\u001b[0;34m\"Inżynier Danych\"\u001b[0m\u001b[0;34m,\u001b[0m \u001b[0mfirma\u001b[0m\u001b[0;34m=\u001b[0m\u001b[0;34m\"Big Data Sp. z o.o.\"\u001b[0m\u001b[0;34m)\u001b[0m\u001b[0;34m\u001b[0m\u001b[0;34m\u001b[0m\u001b[0m\n\u001b[0m",
            "\u001b[0;31mTypeError\u001b[0m: funkcja() got some positional-only arguments passed as keyword arguments: 'imie, nazwisko'"
          ]
        }
      ]
    },
    {
      "cell_type": "code",
      "source": [
        "# argumenty przed / muszą być nienazwane\n",
        "# argumenty po * muszą być nazwane\n",
        "# argumenty pomiędzy mogą być przekazywane w dowolny sposób\n",
        "funkcja(\"Janina\", \"Nowak\", stanowisko=\"Inżynier Danych\", firma=\"Big Data Sp. z o.o.\")"
      ],
      "metadata": {
        "colab": {
          "base_uri": "https://localhost:8080/"
        },
        "id": "KBZS4qcZIHPt",
        "outputId": "c8142c95-08ad-43ed-83ef-e1c4622c3d4c"
      },
      "execution_count": null,
      "outputs": [
        {
          "output_type": "stream",
          "name": "stdout",
          "text": [
            "Janina Nowak Inżynier Danych Big Data Sp. z o.o.\n"
          ]
        }
      ]
    },
    {
      "cell_type": "code",
      "source": [
        "# również działa:\n",
        "funkcja(\"Janina\", \"Nowak\", \"Inżynier Danych\", firma=\"Big Data Sp. z o.o.\")"
      ],
      "metadata": {
        "colab": {
          "base_uri": "https://localhost:8080/"
        },
        "id": "FJi79_pxId12",
        "outputId": "0d959333-8134-4157-dbf7-04fb9734516b"
      },
      "execution_count": null,
      "outputs": [
        {
          "output_type": "stream",
          "name": "stdout",
          "text": [
            "Janina Nowak Inżynier Danych Big Data Sp. z o.o.\n"
          ]
        }
      ]
    },
    {
      "cell_type": "markdown",
      "source": [
        "Uwaga:\n",
        "\n",
        "`/` oraz `*` mogą nie muszą być użyte razem. Tzn. poniższe definicje są również poprawne (ale działają inaczej):"
      ],
      "metadata": {
        "id": "V5FbT4tQI2Wg"
      }
    },
    {
      "cell_type": "code",
      "source": [
        "# imie, nazwisko muszą być przekazane jako argumenty nienazwane\n",
        "def funkcja(imie, nazwisko, /, stanowisko, firma):\n",
        "  print(imie, nazwisko, stanowisko, firma)"
      ],
      "metadata": {
        "id": "iMhEVcfQIiun"
      },
      "execution_count": null,
      "outputs": []
    },
    {
      "cell_type": "code",
      "source": [
        "# stanowisko, firma muszą być przekazane jako argumenty nazwane\n",
        "def funkcja(imie, nazwisko, *, stanowisko, firma):\n",
        "  print(imie, nazwisko, stanowisko, firma)"
      ],
      "metadata": {
        "id": "Q0TtUyAjJplf"
      },
      "execution_count": null,
      "outputs": []
    },
    {
      "cell_type": "markdown",
      "source": [
        "# Przestrzeń nazw i zagnieżdżanie funkcji"
      ],
      "metadata": {
        "id": "chyw2elcKaAw"
      }
    },
    {
      "cell_type": "markdown",
      "source": [
        "## Lokalna przestrzeń nazw\n",
        "\n",
        "Aby wyjaśnić to pojęcie posłużymy się przykładem:"
      ],
      "metadata": {
        "id": "C94nGeHYMEky"
      }
    },
    {
      "cell_type": "code",
      "source": [
        "zmienna_wejsciowa = 1\n",
        "zmienna_poza_zakresem_funkcji = 2\n",
        "def funkcja(parametr):\n",
        "  zmienna_lokalna = parametr\n",
        "  print(\"zmienna_poza_zakresem_funkcji\", zmienna_poza_zakresem_funkcji)\n",
        "  print(\"zmienna_lokalna\", zmienna_lokalna)\n",
        "  # ! To nie zadziała po odkomentowaniu\n",
        "  # zmienna_poza_zakresem_funkcji += 1"
      ],
      "metadata": {
        "id": "l5c_5z8HKZku"
      },
      "execution_count": null,
      "outputs": []
    },
    {
      "cell_type": "code",
      "source": [
        "# wywołanie funkcji\n",
        "funkcja(zmienna_wejsciowa)"
      ],
      "metadata": {
        "colab": {
          "base_uri": "https://localhost:8080/"
        },
        "id": "Pal2UzWcMklO",
        "outputId": "27536818-a516-4fa2-d7fe-d48d78447625"
      },
      "execution_count": null,
      "outputs": [
        {
          "output_type": "stream",
          "name": "stdout",
          "text": [
            "zmienna_poza_zakresem_funkcji 2\n",
            "zmienna_lokalna 1\n"
          ]
        }
      ]
    },
    {
      "cell_type": "code",
      "source": [
        "# próba odwołania się do zakresu lokalnego funkcji\n",
        "zmienna_lokalna"
      ],
      "metadata": {
        "colab": {
          "base_uri": "https://localhost:8080/",
          "height": 159
        },
        "id": "JckY0cBpM0Ro",
        "outputId": "ed3d3226-840b-4c7f-b313-0feaf0caf0cf"
      },
      "execution_count": null,
      "outputs": [
        {
          "output_type": "error",
          "ename": "NameError",
          "evalue": "name 'zmienna_lokalna' is not defined",
          "traceback": [
            "\u001b[0;31m---------------------------------------------------------------------------\u001b[0m",
            "\u001b[0;31mNameError\u001b[0m                                 Traceback (most recent call last)",
            "\u001b[0;32m<ipython-input-16-3d5893def8f2>\u001b[0m in \u001b[0;36m<cell line: 0>\u001b[0;34m()\u001b[0m\n\u001b[1;32m      1\u001b[0m \u001b[0;31m# próba odwołania się do zakresu lokalnego funkcji\u001b[0m\u001b[0;34m\u001b[0m\u001b[0;34m\u001b[0m\u001b[0m\n\u001b[0;32m----> 2\u001b[0;31m \u001b[0mzmienna_lokalna\u001b[0m\u001b[0;34m\u001b[0m\u001b[0;34m\u001b[0m\u001b[0m\n\u001b[0m",
            "\u001b[0;31mNameError\u001b[0m: name 'zmienna_lokalna' is not defined"
          ]
        }
      ]
    },
    {
      "cell_type": "code",
      "source": [
        "zmienna_poza_zakresem_funkcji"
      ],
      "metadata": {
        "colab": {
          "base_uri": "https://localhost:8080/"
        },
        "id": "pGEh8IZndK4K",
        "outputId": "cdbbff0f-1e9e-40f7-b3cf-2090f92e7db0"
      },
      "execution_count": null,
      "outputs": [
        {
          "output_type": "execute_result",
          "data": {
            "text/plain": [
              "2"
            ]
          },
          "metadata": {},
          "execution_count": 17
        }
      ]
    },
    {
      "cell_type": "markdown",
      "source": [
        "## Globalna przestrzeń nazw\n",
        "\n",
        "Możemy zadeklarować zmienną globalną, która jest tworzona w globalnej przestrzeni nazw. Sprawdźmy jej działanie na przykładzie:"
      ],
      "metadata": {
        "id": "wT9IAP4OMGn3"
      }
    },
    {
      "cell_type": "code",
      "source": [
        "def funkcja():\n",
        "  global x\n",
        "  x = 10\n",
        "  print(x)"
      ],
      "metadata": {
        "id": "6VR8bAJ9JrtT"
      },
      "execution_count": null,
      "outputs": []
    },
    {
      "cell_type": "code",
      "source": [
        "funkcja()"
      ],
      "metadata": {
        "colab": {
          "base_uri": "https://localhost:8080/"
        },
        "id": "fxsz8KmMd_t1",
        "outputId": "403b25a8-0b50-45f5-dc00-9054c233f05b"
      },
      "execution_count": null,
      "outputs": [
        {
          "output_type": "stream",
          "name": "stdout",
          "text": [
            "10\n"
          ]
        }
      ]
    },
    {
      "cell_type": "code",
      "source": [
        "x"
      ],
      "metadata": {
        "colab": {
          "base_uri": "https://localhost:8080/"
        },
        "id": "8W5r7Re-d9SL",
        "outputId": "bf31e778-f17e-4409-c664-d310abd70618"
      },
      "execution_count": null,
      "outputs": [
        {
          "output_type": "execute_result",
          "data": {
            "text/plain": [
              "10"
            ]
          },
          "metadata": {},
          "execution_count": 38
        }
      ]
    },
    {
      "cell_type": "markdown",
      "source": [
        "Korzystanie ze zmiennych globalnych jest niezalecane!"
      ],
      "metadata": {
        "id": "lTkHQZNGe8LE"
      }
    },
    {
      "cell_type": "markdown",
      "source": [
        "## Funkcje zagnieżdżone\n",
        "\n",
        "Możemy deklarować funkcje zagnieżdżone w funkcjach.\n",
        "\n",
        "Posłużymy się przykładem - zadeklarujemy funkcję, która wylicza premię w oparciu o ocenę roczną pracownika, aktualne wynagrodzenie oraz o kategorię zaszeregowania:"
      ],
      "metadata": {
        "id": "P67wYMURMLiX"
      }
    },
    {
      "cell_type": "code",
      "source": [
        "def oblicz_premie(ocena_roczna, wynagroczenie_roczne, kategoria):\n",
        "  wspolczynnik_premii = 1 / 20\n",
        "  def podstawa_premii():\n",
        "    return wynagroczenie_roczne * kategoria * wspolczynnik_premii\n",
        "\n",
        "  def wspolczynnik_za_ocene():\n",
        "    return 2 if ocena_roczna == 5 else 1\n",
        "\n",
        "  return podstawa_premii() * wspolczynnik_za_ocene()\n",
        "\n"
      ],
      "metadata": {
        "id": "b_WiM33qfJI3"
      },
      "execution_count": null,
      "outputs": []
    },
    {
      "cell_type": "code",
      "source": [
        "oblicz_premie(4, 12 * 10000, 2)"
      ],
      "metadata": {
        "colab": {
          "base_uri": "https://localhost:8080/"
        },
        "id": "ME6jtDCPMKoR",
        "outputId": "1fa9a833-bc56-41fb-c67e-4c5b4f44d076"
      },
      "execution_count": null,
      "outputs": [
        {
          "output_type": "execute_result",
          "data": {
            "text/plain": [
              "12000.0"
            ]
          },
          "metadata": {},
          "execution_count": 48
        }
      ]
    },
    {
      "cell_type": "markdown",
      "source": [
        "Zakres lokalny zmiennych obowiązuje osobno na każdym poziomie zagnieżdżenia funkcji.\n",
        "\n",
        "Możemy skorzystać ze słowa kluczowego `nonlocal`, aby nadpisać zmienną z zewnętrznego zakresu nazw (nie będziemy się tym zajmować)."
      ],
      "metadata": {
        "id": "Ylt5W3bfie7r"
      }
    },
    {
      "cell_type": "markdown",
      "source": [
        "# Obiekty mutowalne jako argumenty funkcji\n",
        "\n",
        "Tym razem również posłużymy się przykładem:"
      ],
      "metadata": {
        "id": "Cs7853yajt-X"
      }
    },
    {
      "cell_type": "code",
      "source": [
        "nazwisko = \"Nowak\"\n",
        "\n",
        "def zmien_nazwisko(nazwisko):\n",
        "  nazwisko = \"Kowalski\"\n",
        "  return nazwisko"
      ],
      "metadata": {
        "id": "QRjNNp0ujtej"
      },
      "execution_count": null,
      "outputs": []
    },
    {
      "cell_type": "code",
      "source": [
        "zmien_nazwisko(nazwisko)"
      ],
      "metadata": {
        "colab": {
          "base_uri": "https://localhost:8080/",
          "height": 35
        },
        "id": "KOogjOE4iFTc",
        "outputId": "8ed5ac4b-0fc3-41f8-fdff-172064cdc84e"
      },
      "execution_count": null,
      "outputs": [
        {
          "output_type": "execute_result",
          "data": {
            "text/plain": [
              "'Kowalski'"
            ],
            "application/vnd.google.colaboratory.intrinsic+json": {
              "type": "string"
            }
          },
          "metadata": {},
          "execution_count": 53
        }
      ]
    },
    {
      "cell_type": "code",
      "source": [
        "nazwisko"
      ],
      "metadata": {
        "colab": {
          "base_uri": "https://localhost:8080/",
          "height": 35
        },
        "id": "H4DOdG4fkRBN",
        "outputId": "0660a039-4748-4141-b9eb-33a9ce9c01e2"
      },
      "execution_count": null,
      "outputs": [
        {
          "output_type": "execute_result",
          "data": {
            "text/plain": [
              "'Nowak'"
            ],
            "application/vnd.google.colaboratory.intrinsic+json": {
              "type": "string"
            }
          },
          "metadata": {},
          "execution_count": 54
        }
      ]
    },
    {
      "cell_type": "markdown",
      "source": [
        "Tym razem zamienimy `string` na słownik:"
      ],
      "metadata": {
        "id": "mthoEt8SkvZ5"
      }
    },
    {
      "cell_type": "code",
      "source": [
        "dane_pracownika = {\"imie\": \"Jan\", \"nazwisko\": \"Nowak\"}\n",
        "\n",
        "def zmien_nazwisko_2(dane):\n",
        "  # aktualizujemy słownik\n",
        "  dane[\"nazwisko\"] = \"Kowalski\"\n",
        "  return dane"
      ],
      "metadata": {
        "id": "3pCw1wGfku-r"
      },
      "execution_count": null,
      "outputs": []
    },
    {
      "cell_type": "code",
      "source": [
        "dane_pracownika"
      ],
      "metadata": {
        "colab": {
          "base_uri": "https://localhost:8080/"
        },
        "id": "6g_vBoGZkaj5",
        "outputId": "0e96e02f-a8ed-48ff-d7c5-d157496b4a47"
      },
      "execution_count": null,
      "outputs": [
        {
          "output_type": "execute_result",
          "data": {
            "text/plain": [
              "{'imie': 'Jan', 'nazwisko': 'Nowak'}"
            ]
          },
          "metadata": {},
          "execution_count": 69
        }
      ]
    },
    {
      "cell_type": "code",
      "source": [
        "zmien_nazwisko_2(dane_pracownika)"
      ],
      "metadata": {
        "colab": {
          "base_uri": "https://localhost:8080/"
        },
        "id": "4io-cat0lTzB",
        "outputId": "614060d3-18dd-4dd2-a7d3-93d36de2c1b0"
      },
      "execution_count": null,
      "outputs": [
        {
          "output_type": "execute_result",
          "data": {
            "text/plain": [
              "{'imie': 'Jan', 'nazwisko': 'Kowalski'}"
            ]
          },
          "metadata": {},
          "execution_count": 70
        }
      ]
    },
    {
      "cell_type": "code",
      "source": [
        "dane_pracownika"
      ],
      "metadata": {
        "colab": {
          "base_uri": "https://localhost:8080/"
        },
        "id": "43pR4XgTlYHq",
        "outputId": "a7370b85-a187-4331-b9d4-06000e7ba751"
      },
      "execution_count": null,
      "outputs": [
        {
          "output_type": "execute_result",
          "data": {
            "text/plain": [
              "{'imie': 'Jan', 'nazwisko': 'Kowalski'}"
            ]
          },
          "metadata": {},
          "execution_count": 71
        }
      ]
    },
    {
      "cell_type": "markdown",
      "source": [
        "Co się stanie, gdy zamiast aktualizować słownik utworzymy nowy?"
      ],
      "metadata": {
        "id": "1GOJ8zcMnBP8"
      }
    },
    {
      "cell_type": "code",
      "source": [
        "dane_pracownika = {\"imie\": \"Jan\", \"nazwisko\": \"Nowak\"}\n",
        "\n",
        "def zmien_nazwisko_2(dane):\n",
        "  # tworzymy nowy słownik\n",
        "  dane = {\"imie\": \"Jan\", \"nazwisko\": \"Kowalski\"}\n",
        "  return dane"
      ],
      "metadata": {
        "id": "q9-bDezFnAOL"
      },
      "execution_count": null,
      "outputs": []
    },
    {
      "cell_type": "code",
      "source": [
        "zmien_nazwisko_2(dane_pracownika)"
      ],
      "metadata": {
        "colab": {
          "base_uri": "https://localhost:8080/"
        },
        "id": "USE2zGoenXRX",
        "outputId": "cd9808f0-06c6-4ac2-f25d-e3b896428411"
      },
      "execution_count": null,
      "outputs": [
        {
          "output_type": "execute_result",
          "data": {
            "text/plain": [
              "{'imie': 'Jan', 'nazwisko': 'Kowalski'}"
            ]
          },
          "metadata": {},
          "execution_count": 73
        }
      ]
    },
    {
      "cell_type": "code",
      "source": [
        "dane_pracownika"
      ],
      "metadata": {
        "colab": {
          "base_uri": "https://localhost:8080/"
        },
        "id": "u-bBWL7bnSOV",
        "outputId": "d54efcb8-ea53-492e-8190-5adb259a84d1"
      },
      "execution_count": null,
      "outputs": [
        {
          "output_type": "execute_result",
          "data": {
            "text/plain": [
              "{'imie': 'Jan', 'nazwisko': 'Nowak'}"
            ]
          },
          "metadata": {},
          "execution_count": 74
        }
      ]
    },
    {
      "cell_type": "markdown",
      "source": [
        "W Pythonie działa mechanizm przekazywania argumentów opisywany jest jako przekazywanie przez referencję obiektów (ang. *Pass By Object Reference*). Oznacza to, że referencja do obiektu jest przekazywana przez wartość. Dla typów niemutowalnych (np. `int`) modyfikacja jest tak naprawdę utworzeniem nowego obiektu. Dla obiektów mutowalnych nie jest tworzony nowy obiekt. Możemy jednak utworzyć nowy obiekt (wykorzystanie tej samej nazwy nie ma znaczenia). Wtedy działamy na odrębnych obiektach niezależnie.\n",
        "\n",
        "Dodatkowe wyjaśnienie:\n",
        "\n",
        "https://python.plainenglish.io/pass-by-object-reference-in-python-79a8d92dc493"
      ],
      "metadata": {
        "id": "I-O69QId-F6o"
      }
    },
    {
      "cell_type": "markdown",
      "source": [
        "Ćwiczenie\n",
        "\n",
        "Napisz funkcję, która będzie miała dwa argumenty wejściowe:\n",
        "1. Lista pracowników\n",
        "2. Nowy pracownik\n",
        "\n",
        "Bez używania instrukcji `return` utwórz funkcję, która doda nowego pracownika."
      ],
      "metadata": {
        "id": "ovBxOvlT_7mG"
      }
    },
    {
      "cell_type": "code",
      "source": [
        "pracownicy = [\n",
        "    (\"Jan\", \"Kowalski\", \"Inżynier Danych\"),\n",
        "    (\"Janina\", \"Nowak\", \"Analityk Danych\"),\n",
        "]\n",
        "nowy_pracownik = (\"Katarzyna\", \"Nowak\", \"Inżynier Danych\")"
      ],
      "metadata": {
        "id": "ehFDm4JMAWAo"
      },
      "execution_count": 2,
      "outputs": []
    },
    {
      "cell_type": "code",
      "source": [
        "# @title Rozwiązanie"
      ],
      "metadata": {
        "id": "qvlLnwbV_2ue"
      },
      "execution_count": null,
      "outputs": []
    },
    {
      "cell_type": "code",
      "source": [
        "# @title Podpowiedź\n",
        "\n",
        "def dodaj_pracownika(pracownicy, nowy_pracownik):\n",
        "  pracownicy.append(nowy_pracownik)\n",
        "\n",
        "dodaj_pracownika(pracownicy, nowy_pracownik)\n",
        "pracownicy"
      ],
      "metadata": {
        "cellView": "form",
        "id": "EM2Y5lyP-FWo"
      },
      "execution_count": 1,
      "outputs": []
    },
    {
      "cell_type": "markdown",
      "source": [
        "## Dygresja o mutowalności"
      ],
      "metadata": {
        "id": "RKIn9p3TGRc9"
      }
    },
    {
      "cell_type": "markdown",
      "source": [
        "Rebus :)\n",
        "\n",
        "Jaka będzie zawartość listy `koszyk_a`? Jaka będzie zawartość listy `koszyk_b`?"
      ],
      "metadata": {
        "id": "SAMocOolBLPg"
      }
    },
    {
      "cell_type": "code",
      "source": [
        "koszyk_a = []\n",
        "koszyk_b = []\n",
        "\n",
        "koszyk_a = koszyk_b\n",
        "\n",
        "koszyk_a.extend([\"Bułka\", \"Masło\", \"Ser\"])\n",
        "koszyk_b.extend([\"Piwo\", \"Zupka chińska\"])"
      ],
      "metadata": {
        "id": "vhM-3-R6Bupm"
      },
      "execution_count": 11,
      "outputs": []
    },
    {
      "cell_type": "code",
      "source": [
        "# @title Spoiler\n",
        "print(koszyk_a)\n",
        "print(koszyk_b)"
      ],
      "metadata": {
        "colab": {
          "base_uri": "https://localhost:8080/"
        },
        "cellView": "form",
        "id": "tk5qx21KA9FG",
        "outputId": "73b4088d-773d-4dc5-d76b-3c9d14d60f33"
      },
      "execution_count": 12,
      "outputs": [
        {
          "output_type": "stream",
          "name": "stdout",
          "text": [
            "['Bułka', 'Masło', 'Ser', 'Piwo', 'Zupka chińska']\n",
            "['Bułka', 'Masło', 'Ser', 'Piwo', 'Zupka chińska']\n"
          ]
        }
      ]
    },
    {
      "cell_type": "markdown",
      "source": [
        "Chcemy to naprawić!\n",
        "\n",
        "Rebus 2 :)"
      ],
      "metadata": {
        "id": "jCpahah0C1mR"
      }
    },
    {
      "cell_type": "code",
      "source": [
        "from copy import copy\n",
        "\n",
        "koszyk_a = []\n",
        "koszyk_b = []\n",
        "\n",
        "koszyk_a = copy(koszyk_b)\n",
        "\n",
        "koszyk_a.extend([\"Bułka\", \"Masło\", \"Ser\"])\n",
        "koszyk_b.extend([\"Piwo\", \"Zupka chińska\"])"
      ],
      "metadata": {
        "id": "onAmn9a1DFKk"
      },
      "execution_count": 13,
      "outputs": []
    },
    {
      "cell_type": "code",
      "source": [
        "# @title Spoiler\n",
        "\n",
        "print(koszyk_a)\n",
        "print(koszyk_b)"
      ],
      "metadata": {
        "colab": {
          "base_uri": "https://localhost:8080/"
        },
        "cellView": "form",
        "id": "f1ePmZ0DDTFT",
        "outputId": "da202b9c-17d1-4bbc-f1ab-55e4107a0d62"
      },
      "execution_count": 14,
      "outputs": [
        {
          "output_type": "stream",
          "name": "stdout",
          "text": [
            "['Bułka', 'Masło', 'Ser']\n",
            "['Piwo', 'Zupka chińska']\n"
          ]
        }
      ]
    },
    {
      "cell_type": "markdown",
      "source": [
        "Rebus 3\n",
        "\n",
        "Mamy koszyk produktów:"
      ],
      "metadata": {
        "id": "HF72Mn7KEc_b"
      }
    },
    {
      "cell_type": "code",
      "source": [
        "koszyk_a = [\n",
        "    {\"nazwa\": \"Bułka\", \"cena\": 1.69},\n",
        "    {\"nazwa\": \"Zupka chińska\", \"cena\": 3.99},\n",
        "]\n",
        "\n",
        "koszyk_b = copy(koszyk_a)\n",
        "\n",
        "# Aktualizujemy cenę bułki:\n",
        "koszyk_a[0][\"cena\"] = 2.99"
      ],
      "metadata": {
        "id": "8V4XoaVmEoBX"
      },
      "execution_count": 19,
      "outputs": []
    },
    {
      "cell_type": "markdown",
      "source": [
        "Co zawiera `koszyk_b[0][\"cena\"]`?"
      ],
      "metadata": {
        "id": "--M_pz9TFLFU"
      }
    },
    {
      "cell_type": "code",
      "source": [
        "# @title Spoiler\n",
        "\n",
        "koszyk_b[0][\"cena\"]"
      ],
      "metadata": {
        "colab": {
          "base_uri": "https://localhost:8080/"
        },
        "cellView": "form",
        "id": "H5ayNX0aFPiC",
        "outputId": "be19c0e1-71a9-4b15-c19c-63af369bed98"
      },
      "execution_count": 20,
      "outputs": [
        {
          "output_type": "execute_result",
          "data": {
            "text/plain": [
              "2.99"
            ]
          },
          "metadata": {},
          "execution_count": 20
        }
      ]
    },
    {
      "cell_type": "markdown",
      "source": [
        "Jak sobie z tym poradzić?"
      ],
      "metadata": {
        "id": "NDOXKUKAF65k"
      }
    },
    {
      "cell_type": "code",
      "source": [
        "from copy import deepcopy\n",
        "\n",
        "koszyk_a = [\n",
        "    {\"nazwa\": \"Bułka\", \"cena\": 1.69},\n",
        "    {\"nazwa\": \"Zupka chińska\", \"cena\": 3.99},\n",
        "]\n",
        "\n",
        "koszyk_b = deepcopy(koszyk_a)\n",
        "\n",
        "# Aktualizujemy cenę bułki:\n",
        "koszyk_a[0][\"cena\"] = 0.99"
      ],
      "metadata": {
        "id": "PiqpPMxdFkXJ"
      },
      "execution_count": 22,
      "outputs": []
    },
    {
      "cell_type": "code",
      "source": [
        "koszyk_b[0][\"cena\"]"
      ],
      "metadata": {
        "colab": {
          "base_uri": "https://localhost:8080/"
        },
        "id": "lagZczV4Ft8P",
        "outputId": "9630e6ca-9351-4c1f-b65c-9998b4e562e4"
      },
      "execution_count": 23,
      "outputs": [
        {
          "output_type": "execute_result",
          "data": {
            "text/plain": [
              "1.69"
            ]
          },
          "metadata": {},
          "execution_count": 23
        }
      ]
    },
    {
      "cell_type": "markdown",
      "source": [
        "## Dobre praktyki dot. wartości domyślnych dla obiektów mutowalnych"
      ],
      "metadata": {
        "id": "HM3PR-aMGk5i"
      }
    },
    {
      "cell_type": "code",
      "source": [
        "pracownicy = []"
      ],
      "metadata": {
        "id": "h25A_iHaJm4r"
      },
      "execution_count": 37,
      "outputs": []
    },
    {
      "cell_type": "code",
      "source": [
        "# UWAGA: antyprzykład!\n",
        "def dodaj_pracownika(nowy_pracownik, pracownicy=[]):\n",
        "  pracownicy.append(nowy_pracownik)\n",
        "  return pracownicy"
      ],
      "metadata": {
        "id": "4d3wDP3yGkqq"
      },
      "execution_count": 38,
      "outputs": []
    },
    {
      "cell_type": "code",
      "source": [
        "dodaj_pracownika((\"Jan\", \"Kowalski\", \"Inżynier Danych\"))"
      ],
      "metadata": {
        "colab": {
          "base_uri": "https://localhost:8080/"
        },
        "id": "n2U7VMlyI3FB",
        "outputId": "bb78a019-b8e3-42fb-902a-d207c8f32859"
      },
      "execution_count": 39,
      "outputs": [
        {
          "output_type": "execute_result",
          "data": {
            "text/plain": [
              "[('Jan', 'Kowalski', 'Inżynier Danych')]"
            ]
          },
          "metadata": {},
          "execution_count": 39
        }
      ]
    },
    {
      "cell_type": "code",
      "source": [
        "dodaj_pracownika((\"Janina\", \"Kowalska\", \"Inżynier Danych\"))"
      ],
      "metadata": {
        "colab": {
          "base_uri": "https://localhost:8080/"
        },
        "id": "dzMw2PrlI4ub",
        "outputId": "03e5f253-ae1e-4068-e00a-24c2bebce0d9"
      },
      "execution_count": 40,
      "outputs": [
        {
          "output_type": "execute_result",
          "data": {
            "text/plain": [
              "[('Jan', 'Kowalski', 'Inżynier Danych'),\n",
              " ('Janina', 'Kowalska', 'Inżynier Danych')]"
            ]
          },
          "metadata": {},
          "execution_count": 40
        }
      ]
    },
    {
      "cell_type": "code",
      "source": [
        "dodaj_pracownika((\"Jan\", \"Nowak\", \"Analityk Danych\"), [\n",
        "    (\"Paweł\", \"Nowak\", \"Inżynier Danych\"),\n",
        "    (\"Paulina\", \"Nowak\", \"Inżynier Danych\"),\n",
        "])"
      ],
      "metadata": {
        "colab": {
          "base_uri": "https://localhost:8080/"
        },
        "id": "t7Uogx0QI85q",
        "outputId": "c599bd5f-943a-4c55-f37b-05e72600e7bf"
      },
      "execution_count": 41,
      "outputs": [
        {
          "output_type": "execute_result",
          "data": {
            "text/plain": [
              "[('Paweł', 'Nowak', 'Inżynier Danych'),\n",
              " ('Paulina', 'Nowak', 'Inżynier Danych'),\n",
              " ('Jan', 'Nowak', 'Analityk Danych')]"
            ]
          },
          "metadata": {},
          "execution_count": 41
        }
      ]
    },
    {
      "cell_type": "code",
      "source": [
        "dodaj_pracownika((\"Zofia\", \"Mickiewicz\", \"Manager\"))"
      ],
      "metadata": {
        "id": "NetWKsOHlZ0i",
        "colab": {
          "base_uri": "https://localhost:8080/"
        },
        "outputId": "18ae41f1-1dbb-4186-e43e-eefa4787e1ab"
      },
      "execution_count": 42,
      "outputs": [
        {
          "output_type": "execute_result",
          "data": {
            "text/plain": [
              "[('Jan', 'Kowalski', 'Inżynier Danych'),\n",
              " ('Janina', 'Kowalska', 'Inżynier Danych'),\n",
              " ('Zofia', 'Mickiewicz', 'Manager')]"
            ]
          },
          "metadata": {},
          "execution_count": 42
        }
      ]
    },
    {
      "cell_type": "code",
      "source": [],
      "metadata": {
        "id": "ZpHUyjn_IsbR"
      },
      "execution_count": null,
      "outputs": []
    }
  ]
}