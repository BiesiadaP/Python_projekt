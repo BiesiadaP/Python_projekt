{
  "nbformat": 4,
  "nbformat_minor": 0,
  "metadata": {
    "colab": {
      "provenance": [],
      "toc_visible": true,
      "authorship_tag": "ABX9TyO4lxzrDCQlxzRVR+d71CPC",
      "include_colab_link": true
    },
    "kernelspec": {
      "name": "python3",
      "display_name": "Python 3"
    },
    "language_info": {
      "name": "python"
    }
  },
  "cells": [
    {
      "cell_type": "markdown",
      "metadata": {
        "id": "view-in-github",
        "colab_type": "text"
      },
      "source": [
        "<a href=\"https://colab.research.google.com/github/chrispi21/python-dataeng/blob/main/02_funkcje_zaawansowane.ipynb\" target=\"_parent\"><img src=\"https://colab.research.google.com/assets/colab-badge.svg\" alt=\"Open In Colab\"/></a>"
      ]
    },
    {
      "cell_type": "code",
      "execution_count": null,
      "metadata": {
        "id": "Pj_Y46HVkK0c"
      },
      "outputs": [],
      "source": [
        "# TODO: mutowalność vs niemutowalność\n",
        "# lambda\n",
        "# funkcje lokalne\n",
        "# zwracanie wielu wartości\n",
        "# currying"
      ]
    },
    {
      "cell_type": "markdown",
      "source": [
        "# Funkcje - przypomnienie"
      ],
      "metadata": {
        "id": "rrhHCZP0ly6X"
      }
    },
    {
      "cell_type": "code",
      "source": [
        "def dodaj_jeden(x):\n",
        "  return x + 1"
      ],
      "metadata": {
        "id": "yD5pZPImp3bL"
      },
      "execution_count": 1,
      "outputs": []
    },
    {
      "cell_type": "code",
      "source": [
        "dodaj_jeden(10)"
      ],
      "metadata": {
        "colab": {
          "base_uri": "https://localhost:8080/"
        },
        "id": "jxKO9KNHp4Pt",
        "outputId": "516b69b6-d7d0-4b82-a87d-1488fb08f9a9"
      },
      "execution_count": 2,
      "outputs": [
        {
          "output_type": "execute_result",
          "data": {
            "text/plain": [
              "11"
            ]
          },
          "metadata": {},
          "execution_count": 2
        }
      ]
    },
    {
      "cell_type": "markdown",
      "source": [
        "Możemy również tworzyć funkcje z wartością domyślną:"
      ],
      "metadata": {
        "id": "Kq8hA6Y0qDJN"
      }
    },
    {
      "cell_type": "code",
      "source": [
        "def dodaj_n(x, n=5):\n",
        "  return x + n"
      ],
      "metadata": {
        "id": "m4RzLy8ap9e2"
      },
      "execution_count": 3,
      "outputs": []
    },
    {
      "cell_type": "code",
      "source": [
        "dodaj_n(2)"
      ],
      "metadata": {
        "colab": {
          "base_uri": "https://localhost:8080/"
        },
        "id": "tVBSRJOHqOTA",
        "outputId": "6cfdf4b1-47ae-437a-96e8-7b4dbb63f2bd"
      },
      "execution_count": 4,
      "outputs": [
        {
          "output_type": "execute_result",
          "data": {
            "text/plain": [
              "7"
            ]
          },
          "metadata": {},
          "execution_count": 4
        }
      ]
    },
    {
      "cell_type": "markdown",
      "source": [
        "Możemy również korzystać z argumentów nazwanych:"
      ],
      "metadata": {
        "id": "oh-HGcjGqTxo"
      }
    },
    {
      "cell_type": "code",
      "source": [
        "dodaj_n(x=1, n=100)"
      ],
      "metadata": {
        "colab": {
          "base_uri": "https://localhost:8080/"
        },
        "id": "t3D-h_jHqS-n",
        "outputId": "75e38d04-27dc-4779-fbdb-3f96e4929a66"
      },
      "execution_count": 5,
      "outputs": [
        {
          "output_type": "execute_result",
          "data": {
            "text/plain": [
              "101"
            ]
          },
          "metadata": {},
          "execution_count": 5
        }
      ]
    },
    {
      "cell_type": "markdown",
      "source": [
        "Umożliwia nam to zamianę kolejności przekazywania argumentów:"
      ],
      "metadata": {
        "id": "ViwOR5bbqe6E"
      }
    },
    {
      "cell_type": "code",
      "source": [
        "dodaj_n(n=100, x=1)"
      ],
      "metadata": {
        "colab": {
          "base_uri": "https://localhost:8080/"
        },
        "id": "3Uu5m7iAqeKY",
        "outputId": "b6e452ae-2973-4d8c-bb2b-5fdd67d900b7"
      },
      "execution_count": 6,
      "outputs": [
        {
          "output_type": "execute_result",
          "data": {
            "text/plain": [
              "101"
            ]
          },
          "metadata": {},
          "execution_count": 6
        }
      ]
    },
    {
      "cell_type": "markdown",
      "source": [
        "# Rozpakowanie list, krotek i słowników jako argumentów funkcji"
      ],
      "metadata": {
        "id": "6Ci9ygLdsilL"
      }
    },
    {
      "cell_type": "markdown",
      "source": [
        "Python umożliwia również rozpakowanie listy, krotki albo słownika argumentów podczas wywoływania funkcji:"
      ],
      "metadata": {
        "id": "L2hvp4Paqujb"
      }
    },
    {
      "cell_type": "code",
      "source": [
        "# Używamy * do rozpakowania elementów\n",
        "lista_argumentow = [1, 100]\n",
        "dodaj_n(*lista_argumentow)"
      ],
      "metadata": {
        "colab": {
          "base_uri": "https://localhost:8080/"
        },
        "id": "8kEG5098q8e8",
        "outputId": "7ba7b92d-12a9-486c-f2e6-8ca7fa8bd2c7"
      },
      "execution_count": 7,
      "outputs": [
        {
          "output_type": "execute_result",
          "data": {
            "text/plain": [
              "101"
            ]
          },
          "metadata": {},
          "execution_count": 7
        }
      ]
    },
    {
      "cell_type": "code",
      "source": [
        "krotka_argumentow = (1, 100)\n",
        "dodaj_n(*krotka_argumentow)"
      ],
      "metadata": {
        "colab": {
          "base_uri": "https://localhost:8080/"
        },
        "id": "u7wSWrQPqR4w",
        "outputId": "2c4be1d5-3fac-4b14-f5fe-f62850f62aa5"
      },
      "execution_count": 8,
      "outputs": [
        {
          "output_type": "execute_result",
          "data": {
            "text/plain": [
              "101"
            ]
          },
          "metadata": {},
          "execution_count": 8
        }
      ]
    },
    {
      "cell_type": "code",
      "source": [
        "# Korzystamy z ** do rozpakowania par klucz-wartość w przypadku słowników\n",
        "slownik_argumentow = {\"x\": 1, \"n\": 100}\n",
        "dodaj_n(**slownik_argumentow)"
      ],
      "metadata": {
        "colab": {
          "base_uri": "https://localhost:8080/"
        },
        "id": "MifXxj5zrGrV",
        "outputId": "3b5b8f3d-5066-4b35-ddb8-5075660c00bf"
      },
      "execution_count": 9,
      "outputs": [
        {
          "output_type": "execute_result",
          "data": {
            "text/plain": [
              "101"
            ]
          },
          "metadata": {},
          "execution_count": 9
        }
      ]
    },
    {
      "cell_type": "markdown",
      "source": [
        "# Funkcje przyjmujące dowolną liczbę elementów\n",
        "\n",
        "W przypadku, gdy nazwa argumentu jest poprzedzona `*`, możemy przekazać dowolną krotkę zawierającą nienazwane argumenty. Możemy przykładowo utworzyć funkcję, która sumuje dowolne elementy:"
      ],
      "metadata": {
        "id": "8p-sbBc7s1yl"
      }
    },
    {
      "cell_type": "code",
      "source": [
        "def dodaj_elementy(*args):\n",
        "  suma = 0\n",
        "  for arg in args:\n",
        "    suma += arg\n",
        "  return suma"
      ],
      "metadata": {
        "id": "rN11iVcKrLsX"
      },
      "execution_count": 16,
      "outputs": []
    },
    {
      "cell_type": "code",
      "source": [
        "dodaj_elementy(1, 2, 4)"
      ],
      "metadata": {
        "colab": {
          "base_uri": "https://localhost:8080/"
        },
        "id": "RjXF-UJws3oK",
        "outputId": "8d9a42b6-a560-4aa3-bc8b-312582d181b2"
      },
      "execution_count": 17,
      "outputs": [
        {
          "output_type": "execute_result",
          "data": {
            "text/plain": [
              "7"
            ]
          },
          "metadata": {},
          "execution_count": 17
        }
      ]
    },
    {
      "cell_type": "markdown",
      "source": [
        "Nazwa argumentu `*args` jest konwencją nazewniczą - dobrze jest jej przestrzegać."
      ],
      "metadata": {
        "id": "osg-XQ1FufXk"
      }
    },
    {
      "cell_type": "markdown",
      "source": [
        "W podobny sposób możemy przekazywać nazwane argumenty jako słownik. Skorzystamy z `**` przed nazwą argumentu. Dla przykładu utworzymy funkcję, która zwróci minimum:"
      ],
      "metadata": {
        "id": "KmBjHNtPvSpn"
      }
    },
    {
      "cell_type": "code",
      "source": [
        "def minimum(**kwargs):\n",
        "  if len(kwargs) == 0:\n",
        "    return None\n",
        "  minimum = float(\"inf\")\n",
        "  for value in kwargs.values():\n",
        "    if value < minimum:\n",
        "      minimum = value\n",
        "  return minimum"
      ],
      "metadata": {
        "id": "2ub7tGr2ue1T"
      },
      "execution_count": 19,
      "outputs": []
    },
    {
      "cell_type": "code",
      "source": [
        "minimum(a=1, b=10, c=-5)"
      ],
      "metadata": {
        "colab": {
          "base_uri": "https://localhost:8080/"
        },
        "id": "u7x22m-itcbk",
        "outputId": "cb576e22-2fc8-40b3-94aa-fe011115d608"
      },
      "execution_count": 20,
      "outputs": [
        {
          "output_type": "execute_result",
          "data": {
            "text/plain": [
              "-5"
            ]
          },
          "metadata": {},
          "execution_count": 20
        }
      ]
    },
    {
      "cell_type": "markdown",
      "source": [
        "Konwencja nazewnicza zaleca stosowanie `**kwargs` w tym przypadku."
      ],
      "metadata": {
        "id": "isNJgbnqwUhp"
      }
    },
    {
      "cell_type": "markdown",
      "source": [
        "Możemy tworzyć funkcje, które będą wykorzystywały `*args`, `**kwargs` oraz inne argumenty. Przykładowo:"
      ],
      "metadata": {
        "id": "j__QaYTRwd_1"
      }
    },
    {
      "cell_type": "code",
      "source": [
        "def minimum(x=0, *args, **kwargs):\n",
        "  minimum = x\n",
        "  all_args = args + tuple(kwargs.values())\n",
        "  for value in all_args:\n",
        "    if value < minimum:\n",
        "      minimum = value\n",
        "  return minimum"
      ],
      "metadata": {
        "id": "Ps18trP1wNwD"
      },
      "execution_count": 42,
      "outputs": []
    },
    {
      "cell_type": "code",
      "source": [
        "minimum(1, 22, 2, a=3, b=15)"
      ],
      "metadata": {
        "colab": {
          "base_uri": "https://localhost:8080/"
        },
        "id": "ZlocL19Nxbnq",
        "outputId": "647303a2-4fbf-4fb5-c408-429a8882e516"
      },
      "execution_count": 43,
      "outputs": [
        {
          "output_type": "execute_result",
          "data": {
            "text/plain": [
              "1"
            ]
          },
          "metadata": {},
          "execution_count": 43
        }
      ]
    },
    {
      "cell_type": "code",
      "source": [
        "# To nie zadziała!\n",
        "minimum(a=3, 1, 22, 2, b=15)"
      ],
      "metadata": {
        "colab": {
          "base_uri": "https://localhost:8080/",
          "height": 106
        },
        "id": "cme3ftaMxhuB",
        "outputId": "806d7991-3c02-4925-d485-f5a8a2a4a104"
      },
      "execution_count": 44,
      "outputs": [
        {
          "output_type": "error",
          "ename": "SyntaxError",
          "evalue": "positional argument follows keyword argument (<ipython-input-44-8b029782ece6>, line 1)",
          "traceback": [
            "\u001b[0;36m  File \u001b[0;32m\"<ipython-input-44-8b029782ece6>\"\u001b[0;36m, line \u001b[0;32m1\u001b[0m\n\u001b[0;31m    minimum(a=3, 1, 22, 2, b=15)\u001b[0m\n\u001b[0m                               ^\u001b[0m\n\u001b[0;31mSyntaxError\u001b[0m\u001b[0;31m:\u001b[0m positional argument follows keyword argument\n"
          ]
        }
      ]
    },
    {
      "cell_type": "markdown",
      "source": [
        "## Ciekawostka - łączenie słowników\n",
        "\n",
        "Sprawdźmy sygnaturę funkcji `dict`, która tworzy słownik:"
      ],
      "metadata": {
        "id": "jX_zatKTzG7Q"
      }
    },
    {
      "cell_type": "code",
      "source": [
        "dict?"
      ],
      "metadata": {
        "id": "U2DnswzfzFbA"
      },
      "execution_count": 45,
      "outputs": []
    },
    {
      "cell_type": "markdown",
      "source": [
        "Za pomocą poznanej przed chwilą techniki możemy połączyć dwa słowniki:"
      ],
      "metadata": {
        "id": "BkPkY-Hgz4Og"
      }
    },
    {
      "cell_type": "code",
      "source": [
        "d1 = {\"a\": 1, \"b\": 2}\n",
        "d2 = {\"abc\": -1}\n",
        "d3 = {\"b\": 13, \"abc\": -1}"
      ],
      "metadata": {
        "id": "SDrPwDROz3zY"
      },
      "execution_count": 51,
      "outputs": []
    },
    {
      "cell_type": "code",
      "source": [
        "dict(**d1, **d2)"
      ],
      "metadata": {
        "colab": {
          "base_uri": "https://localhost:8080/"
        },
        "id": "uLyj-vAnxv_r",
        "outputId": "315611b6-72e3-4bb7-95d5-e2068da8c379"
      },
      "execution_count": 52,
      "outputs": [
        {
          "output_type": "execute_result",
          "data": {
            "text/plain": [
              "{'a': 1, 'b': 2, 'abc': -1}"
            ]
          },
          "metadata": {},
          "execution_count": 52
        }
      ]
    },
    {
      "cell_type": "code",
      "source": [
        "# Nie zadziała\n",
        "dict(**d1, **d3)"
      ],
      "metadata": {
        "colab": {
          "base_uri": "https://localhost:8080/",
          "height": 159
        },
        "id": "GK_UzGaE0NOv",
        "outputId": "84b104df-dbe1-499d-f56d-c11f7395dae7"
      },
      "execution_count": 54,
      "outputs": [
        {
          "output_type": "error",
          "ename": "TypeError",
          "evalue": "dict() got multiple values for keyword argument 'b'",
          "traceback": [
            "\u001b[0;31m---------------------------------------------------------------------------\u001b[0m",
            "\u001b[0;31mTypeError\u001b[0m                                 Traceback (most recent call last)",
            "\u001b[0;32m<ipython-input-54-3ffab4ab0483>\u001b[0m in \u001b[0;36m<cell line: 0>\u001b[0;34m()\u001b[0m\n\u001b[1;32m      1\u001b[0m \u001b[0;31m# Nie zadziała\u001b[0m\u001b[0;34m\u001b[0m\u001b[0;34m\u001b[0m\u001b[0m\n\u001b[0;32m----> 2\u001b[0;31m \u001b[0mdict\u001b[0m\u001b[0;34m(\u001b[0m\u001b[0;34m**\u001b[0m\u001b[0md1\u001b[0m\u001b[0;34m,\u001b[0m \u001b[0;34m**\u001b[0m\u001b[0md3\u001b[0m\u001b[0;34m)\u001b[0m\u001b[0;34m\u001b[0m\u001b[0;34m\u001b[0m\u001b[0m\n\u001b[0m",
            "\u001b[0;31mTypeError\u001b[0m: dict() got multiple values for keyword argument 'b'"
          ]
        }
      ]
    },
    {
      "cell_type": "code",
      "source": [
        "# Na szczęście to zadziała\n",
        "{**d1, **d3}"
      ],
      "metadata": {
        "colab": {
          "base_uri": "https://localhost:8080/"
        },
        "id": "lVvvrtnh0hcD",
        "outputId": "b9cf5e5c-e645-489c-9b0c-9cc7a65367ad"
      },
      "execution_count": 55,
      "outputs": [
        {
          "output_type": "execute_result",
          "data": {
            "text/plain": [
              "{'a': 1, 'b': 13, 'abc': -1}"
            ]
          },
          "metadata": {},
          "execution_count": 55
        }
      ]
    },
    {
      "cell_type": "code",
      "source": [
        "# Kolejność ma znaczenie\n",
        "{**d3, **d1}"
      ],
      "metadata": {
        "colab": {
          "base_uri": "https://localhost:8080/"
        },
        "id": "ER8h-Q7R0pLn",
        "outputId": "10d29d02-a7ee-4a27-e34c-bb05f2be1263"
      },
      "execution_count": 56,
      "outputs": [
        {
          "output_type": "execute_result",
          "data": {
            "text/plain": [
              "{'b': 2, 'abc': -1, 'a': 1}"
            ]
          },
          "metadata": {},
          "execution_count": 56
        }
      ]
    },
    {
      "cell_type": "markdown",
      "source": [
        "Ćwiczenie\n",
        "\n",
        "\n",
        "Utwórz funkcję `filtruj`, która będzie filtrowała rekordy w tabeli z pracownikami na podstawie przekazanych warunków."
      ],
      "metadata": {
        "id": "Ha_TMD4k3g5B"
      }
    },
    {
      "cell_type": "code",
      "source": [
        "pracownicy = [\n",
        "    {\"imie\": \"Jan\", \"nazwisko\": \"Kowalski\", \"stanowisko\": \"Inżynier Danych\"},\n",
        "    {\"imie\": \"Jan\", \"nazwisko\": \"Nowak\", \"stanowisko\": \"Analityk Danych\"},\n",
        "    {\"imie\": \"Janina\", \"nazwisko\": \"Nowak\", \"stanowisko\": \"Inżynier Danych\"},\n",
        "]"
      ],
      "metadata": {
        "id": "ImqX5iI70s_4"
      },
      "execution_count": 62,
      "outputs": []
    },
    {
      "cell_type": "markdown",
      "source": [
        "Przykładowo:\n",
        "\n",
        "`filtruj(pracownicy, imie=\"Jan\", nazwisko=\"Nowak\")`\n",
        "\n",
        "zwróci:\n",
        "\n",
        "`[{\"imie\": \"Jan\", \"nazwisko\": \"Nowak\", \"stanowisko\": \"Analityk Danych\"}]`\n",
        "\n",
        "\n"
      ],
      "metadata": {
        "id": "6KEcTUJC6l8A"
      }
    },
    {
      "cell_type": "code",
      "source": [
        "# @title Rozwiązanie"
      ],
      "metadata": {
        "id": "dlEsQwsn7E0G"
      },
      "execution_count": 57,
      "outputs": []
    },
    {
      "cell_type": "code",
      "source": [
        "# @title Podpowiedź\n",
        "\n",
        "def filtruj(pracownicy, **kwargs):\n",
        "  wynik = []\n",
        "  for pracownik in pracownicy:\n",
        "    for nazwa_kolumny, wartosc in kwargs.items():\n",
        "      if pracownik[nazwa_kolumny] != wartosc:\n",
        "        break\n",
        "    else:\n",
        "      wynik.append(pracownik)\n",
        "  return wynik"
      ],
      "metadata": {
        "cellView": "form",
        "id": "3NTeM1XB7Ih8"
      },
      "execution_count": 71,
      "outputs": []
    },
    {
      "cell_type": "code",
      "source": [
        "filtruj(pracownicy, imie=\"Jan\", nazwisko=\"Nowak\")"
      ],
      "metadata": {
        "colab": {
          "base_uri": "https://localhost:8080/"
        },
        "id": "KFGljSgA7KjJ",
        "outputId": "ef756f4e-0ec5-4e98-bddf-f3c62ebb8c86"
      },
      "execution_count": 74,
      "outputs": [
        {
          "output_type": "execute_result",
          "data": {
            "text/plain": [
              "[{'imie': 'Jan', 'nazwisko': 'Nowak', 'stanowisko': 'Analityk Danych'}]"
            ]
          },
          "metadata": {},
          "execution_count": 74
        }
      ]
    },
    {
      "cell_type": "markdown",
      "source": [
        "# Funkcje zwracające wiele wartości"
      ],
      "metadata": {
        "id": "Cd37O_QG_RC4"
      }
    },
    {
      "cell_type": "code",
      "source": [
        "def funkcja_zwracajaca_wiele_wartosci():\n",
        "  return 1, 2, 3"
      ],
      "metadata": {
        "id": "lYk2O4OB8ot5"
      },
      "execution_count": 75,
      "outputs": []
    },
    {
      "cell_type": "code",
      "source": [
        "a, b, c = funkcja_zwracajaca_wiele_wartosci()"
      ],
      "metadata": {
        "id": "RW4zETP9_XKk"
      },
      "execution_count": 76,
      "outputs": []
    },
    {
      "cell_type": "markdown",
      "source": [
        "TODO: zadanie minimum z nazwą arg\n",
        "\n",
        "TODO: argumenty *, /"
      ],
      "metadata": {
        "id": "iTSeyH1m_g_w"
      }
    },
    {
      "cell_type": "code",
      "source": [],
      "metadata": {
        "id": "rFqI5MYJ_aDS"
      },
      "execution_count": null,
      "outputs": []
    }
  ]
}